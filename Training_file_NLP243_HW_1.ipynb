{
  "cells": [
    {
      "cell_type": "markdown",
      "id": "-VFI9LWPk5yo",
      "metadata": {
        "id": "-VFI9LWPk5yo"
      },
      "source": [
        "# **Relation Extraction using Multi-Label Classification** "
      ]
    },
    {
      "cell_type": "markdown",
      "id": "cVWQJUtglPxL",
      "metadata": {
        "id": "cVWQJUtglPxL"
      },
      "source": [
        "Load train and test data"
      ]
    },
    {
      "cell_type": "code",
      "execution_count": null,
      "id": "CMgeSAQ9k3PP",
      "metadata": {
        "id": "CMgeSAQ9k3PP",
        "colab": {
          "base_uri": "https://localhost:8080/"
        },
        "outputId": "5c8f7636-af51-4bf8-f506-ba2ad944e445"
      },
      "outputs": [
        {
          "output_type": "stream",
          "name": "stdout",
          "text": [
            "fatal: destination path 'Relation-Extraction-using-multi-Label-classification-' already exists and is not an empty directory.\n"
          ]
        }
      ],
      "source": [
        "!git clone https://github.com/pranjali97/Relation-Extraction-using-multi-Label-classification-.git"
      ]
    },
    {
      "cell_type": "markdown",
      "id": "EHoHiGuDk1jg",
      "metadata": {
        "id": "EHoHiGuDk1jg"
      },
      "source": [
        "Import required libraries"
      ]
    },
    {
      "cell_type": "code",
      "execution_count": null,
      "id": "4e02ed8d-2b4d-429c-82f5-eac8ad0c39bf",
      "metadata": {
        "colab": {
          "base_uri": "https://localhost:8080/"
        },
        "id": "4e02ed8d-2b4d-429c-82f5-eac8ad0c39bf",
        "outputId": "3f775195-6279-4d14-89e7-11b4fd33c21a"
      },
      "outputs": [
        {
          "output_type": "stream",
          "name": "stdout",
          "text": [
            "Looking in indexes: https://pypi.org/simple, https://us-python.pkg.dev/colab-wheels/public/simple/\n",
            "Requirement already satisfied: nltk in /usr/local/lib/python3.7/dist-packages (3.7)\n",
            "Requirement already satisfied: tqdm in /usr/local/lib/python3.7/dist-packages (from nltk) (4.64.1)\n",
            "Requirement already satisfied: click in /usr/local/lib/python3.7/dist-packages (from nltk) (7.1.2)\n",
            "Requirement already satisfied: regex>=2021.8.3 in /usr/local/lib/python3.7/dist-packages (from nltk) (2022.6.2)\n",
            "Requirement already satisfied: joblib in /usr/local/lib/python3.7/dist-packages (from nltk) (1.2.0)\n",
            "Looking in indexes: https://pypi.org/simple, https://us-python.pkg.dev/colab-wheels/public/simple/\n",
            "Requirement already satisfied: torch in /usr/local/lib/python3.7/dist-packages (1.12.1+cu113)\n",
            "Requirement already satisfied: typing-extensions in /usr/local/lib/python3.7/dist-packages (from torch) (4.1.1)\n",
            "Looking in indexes: https://pypi.org/simple, https://us-python.pkg.dev/colab-wheels/public/simple/\n",
            "Requirement already satisfied: nose in /usr/local/lib/python3.7/dist-packages (1.3.7)\n"
          ]
        }
      ],
      "source": [
        "!pip install nltk\n",
        "!pip install torch\n",
        "!pip install nose"
      ]
    },
    {
      "cell_type": "code",
      "execution_count": null,
      "id": "t1d5qc4TYks4",
      "metadata": {
        "colab": {
          "base_uri": "https://localhost:8080/"
        },
        "id": "t1d5qc4TYks4",
        "outputId": "8a7ec247-ffe4-44d6-9880-78c3994bec27"
      },
      "outputs": [
        {
          "output_type": "stream",
          "name": "stderr",
          "text": [
            "[nltk_data] Downloading package stopwords to /root/nltk_data...\n",
            "[nltk_data]   Package stopwords is already up-to-date!\n",
            "[nltk_data] Downloading package omw-1.4 to /root/nltk_data...\n",
            "[nltk_data]   Package omw-1.4 is already up-to-date!\n",
            "[nltk_data] Downloading package wordnet to /root/nltk_data...\n",
            "[nltk_data]   Package wordnet is already up-to-date!\n"
          ]
        }
      ],
      "source": [
        "import torch\n",
        "from torch import nn\n",
        "\n",
        "import pandas as pd\n",
        "import numpy as np\n",
        "\n",
        "import nltk\n",
        "from nltk.corpus import stopwords\n",
        "nltk.download('stopwords')\n",
        "stop = stopwords.words('english')\n",
        "nltk.download('omw-1.4')\n",
        "nltk.download('wordnet')\n",
        "\n",
        "from sklearn.metrics import accuracy_score, f1_score\n",
        "from sklearn.preprocessing import MultiLabelBinarizer\n",
        "from sklearn.model_selection import train_test_split\n",
        "from sklearn.feature_extraction.text import TfidfVectorizer\n",
        "import scipy\n",
        "\n",
        "from nose.tools import assert_equal, assert_true, assert_false\n",
        "from collections import Counter\n",
        "import pickle\n",
        "\n",
        "import matplotlib.pyplot as plt\n"
      ]
    },
    {
      "cell_type": "markdown",
      "id": "09G79GOwlZIv",
      "metadata": {
        "id": "09G79GOwlZIv"
      },
      "source": [
        "Set-up to utilize GPU resources"
      ]
    },
    {
      "cell_type": "code",
      "execution_count": null,
      "id": "usBl0HjcUwhh",
      "metadata": {
        "colab": {
          "base_uri": "https://localhost:8080/"
        },
        "id": "usBl0HjcUwhh",
        "outputId": "d1539b5c-17c3-48ed-e229-54bf8be66ff2"
      },
      "outputs": [
        {
          "output_type": "stream",
          "name": "stdout",
          "text": [
            "cuda\n"
          ]
        }
      ],
      "source": [
        "device = 'cuda' if torch.cuda.is_available() else 'cpu'\n",
        "print(device)"
      ]
    },
    {
      "cell_type": "markdown",
      "id": "_K2doex3lfiE",
      "metadata": {
        "id": "_K2doex3lfiE"
      },
      "source": [
        "## **Data Loading and Exploratary Data Analysis**"
      ]
    },
    {
      "cell_type": "code",
      "execution_count": null,
      "id": "ae238603-eb78-498d-8881-ea79b8a0a3b7",
      "metadata": {
        "colab": {
          "base_uri": "https://localhost:8080/"
        },
        "id": "ae238603-eb78-498d-8881-ea79b8a0a3b7",
        "outputId": "bc9acc91-b41c-49ed-f8e8-7d3876a5a332"
      },
      "outputs": [
        {
          "output_type": "stream",
          "name": "stdout",
          "text": [
            "Training Samples:  2312\n"
          ]
        }
      ],
      "source": [
        "train = pd.read_csv('Relation-Extraction-using-multi-Label-classification-/hw1_train-1.csv')\n",
        "print('Training Samples: ',train.shape[0])"
      ]
    },
    {
      "cell_type": "code",
      "execution_count": null,
      "id": "1fc78aa9-4897-4a81-a06c-8735d717914a",
      "metadata": {
        "colab": {
          "base_uri": "https://localhost:8080/",
          "height": 204
        },
        "id": "1fc78aa9-4897-4a81-a06c-8735d717914a",
        "outputId": "8aaac8a8-ba8c-48f1-f351-3896bc96a9d5"
      },
      "outputs": [
        {
          "output_type": "execute_result",
          "data": {
            "text/plain": [
              "   ID                                         UTTERANCES  \\\n",
              "0   0               who plays luke on star wars new hope   \n",
              "1   1                     show credits for the godfather   \n",
              "2   2             who was the main actor in the exorcist   \n",
              "3   3  find the female actress from the movie she's t...   \n",
              "4   4                    who played dory on finding nemo   \n",
              "\n",
              "                                  CORE RELATIONS  \n",
              "0  movie.starring.actor movie.starring.character  \n",
              "1                           movie.starring.actor  \n",
              "2                           movie.starring.actor  \n",
              "3              movie.starring.actor actor.gender  \n",
              "4  movie.starring.actor movie.starring.character  "
            ],
            "text/html": [
              "\n",
              "  <div id=\"df-de79d3f1-cea0-4e28-87fb-bd5e52b84883\">\n",
              "    <div class=\"colab-df-container\">\n",
              "      <div>\n",
              "<style scoped>\n",
              "    .dataframe tbody tr th:only-of-type {\n",
              "        vertical-align: middle;\n",
              "    }\n",
              "\n",
              "    .dataframe tbody tr th {\n",
              "        vertical-align: top;\n",
              "    }\n",
              "\n",
              "    .dataframe thead th {\n",
              "        text-align: right;\n",
              "    }\n",
              "</style>\n",
              "<table border=\"1\" class=\"dataframe\">\n",
              "  <thead>\n",
              "    <tr style=\"text-align: right;\">\n",
              "      <th></th>\n",
              "      <th>ID</th>\n",
              "      <th>UTTERANCES</th>\n",
              "      <th>CORE RELATIONS</th>\n",
              "    </tr>\n",
              "  </thead>\n",
              "  <tbody>\n",
              "    <tr>\n",
              "      <th>0</th>\n",
              "      <td>0</td>\n",
              "      <td>who plays luke on star wars new hope</td>\n",
              "      <td>movie.starring.actor movie.starring.character</td>\n",
              "    </tr>\n",
              "    <tr>\n",
              "      <th>1</th>\n",
              "      <td>1</td>\n",
              "      <td>show credits for the godfather</td>\n",
              "      <td>movie.starring.actor</td>\n",
              "    </tr>\n",
              "    <tr>\n",
              "      <th>2</th>\n",
              "      <td>2</td>\n",
              "      <td>who was the main actor in the exorcist</td>\n",
              "      <td>movie.starring.actor</td>\n",
              "    </tr>\n",
              "    <tr>\n",
              "      <th>3</th>\n",
              "      <td>3</td>\n",
              "      <td>find the female actress from the movie she's t...</td>\n",
              "      <td>movie.starring.actor actor.gender</td>\n",
              "    </tr>\n",
              "    <tr>\n",
              "      <th>4</th>\n",
              "      <td>4</td>\n",
              "      <td>who played dory on finding nemo</td>\n",
              "      <td>movie.starring.actor movie.starring.character</td>\n",
              "    </tr>\n",
              "  </tbody>\n",
              "</table>\n",
              "</div>\n",
              "      <button class=\"colab-df-convert\" onclick=\"convertToInteractive('df-de79d3f1-cea0-4e28-87fb-bd5e52b84883')\"\n",
              "              title=\"Convert this dataframe to an interactive table.\"\n",
              "              style=\"display:none;\">\n",
              "        \n",
              "  <svg xmlns=\"http://www.w3.org/2000/svg\" height=\"24px\"viewBox=\"0 0 24 24\"\n",
              "       width=\"24px\">\n",
              "    <path d=\"M0 0h24v24H0V0z\" fill=\"none\"/>\n",
              "    <path d=\"M18.56 5.44l.94 2.06.94-2.06 2.06-.94-2.06-.94-.94-2.06-.94 2.06-2.06.94zm-11 1L8.5 8.5l.94-2.06 2.06-.94-2.06-.94L8.5 2.5l-.94 2.06-2.06.94zm10 10l.94 2.06.94-2.06 2.06-.94-2.06-.94-.94-2.06-.94 2.06-2.06.94z\"/><path d=\"M17.41 7.96l-1.37-1.37c-.4-.4-.92-.59-1.43-.59-.52 0-1.04.2-1.43.59L10.3 9.45l-7.72 7.72c-.78.78-.78 2.05 0 2.83L4 21.41c.39.39.9.59 1.41.59.51 0 1.02-.2 1.41-.59l7.78-7.78 2.81-2.81c.8-.78.8-2.07 0-2.86zM5.41 20L4 18.59l7.72-7.72 1.47 1.35L5.41 20z\"/>\n",
              "  </svg>\n",
              "      </button>\n",
              "      \n",
              "  <style>\n",
              "    .colab-df-container {\n",
              "      display:flex;\n",
              "      flex-wrap:wrap;\n",
              "      gap: 12px;\n",
              "    }\n",
              "\n",
              "    .colab-df-convert {\n",
              "      background-color: #E8F0FE;\n",
              "      border: none;\n",
              "      border-radius: 50%;\n",
              "      cursor: pointer;\n",
              "      display: none;\n",
              "      fill: #1967D2;\n",
              "      height: 32px;\n",
              "      padding: 0 0 0 0;\n",
              "      width: 32px;\n",
              "    }\n",
              "\n",
              "    .colab-df-convert:hover {\n",
              "      background-color: #E2EBFA;\n",
              "      box-shadow: 0px 1px 2px rgba(60, 64, 67, 0.3), 0px 1px 3px 1px rgba(60, 64, 67, 0.15);\n",
              "      fill: #174EA6;\n",
              "    }\n",
              "\n",
              "    [theme=dark] .colab-df-convert {\n",
              "      background-color: #3B4455;\n",
              "      fill: #D2E3FC;\n",
              "    }\n",
              "\n",
              "    [theme=dark] .colab-df-convert:hover {\n",
              "      background-color: #434B5C;\n",
              "      box-shadow: 0px 1px 3px 1px rgba(0, 0, 0, 0.15);\n",
              "      filter: drop-shadow(0px 1px 2px rgba(0, 0, 0, 0.3));\n",
              "      fill: #FFFFFF;\n",
              "    }\n",
              "  </style>\n",
              "\n",
              "      <script>\n",
              "        const buttonEl =\n",
              "          document.querySelector('#df-de79d3f1-cea0-4e28-87fb-bd5e52b84883 button.colab-df-convert');\n",
              "        buttonEl.style.display =\n",
              "          google.colab.kernel.accessAllowed ? 'block' : 'none';\n",
              "\n",
              "        async function convertToInteractive(key) {\n",
              "          const element = document.querySelector('#df-de79d3f1-cea0-4e28-87fb-bd5e52b84883');\n",
              "          const dataTable =\n",
              "            await google.colab.kernel.invokeFunction('convertToInteractive',\n",
              "                                                     [key], {});\n",
              "          if (!dataTable) return;\n",
              "\n",
              "          const docLinkHtml = 'Like what you see? Visit the ' +\n",
              "            '<a target=\"_blank\" href=https://colab.research.google.com/notebooks/data_table.ipynb>data table notebook</a>'\n",
              "            + ' to learn more about interactive tables.';\n",
              "          element.innerHTML = '';\n",
              "          dataTable['output_type'] = 'display_data';\n",
              "          await google.colab.output.renderOutput(dataTable, element);\n",
              "          const docLink = document.createElement('div');\n",
              "          docLink.innerHTML = docLinkHtml;\n",
              "          element.appendChild(docLink);\n",
              "        }\n",
              "      </script>\n",
              "    </div>\n",
              "  </div>\n",
              "  "
            ]
          },
          "metadata": {},
          "execution_count": 41
        }
      ],
      "source": [
        "train.head()"
      ]
    },
    {
      "cell_type": "markdown",
      "id": "44d208dd-5a7b-4127-8bdc-3eb36c06507f",
      "metadata": {
        "id": "44d208dd-5a7b-4127-8bdc-3eb36c06507f"
      },
      "source": [
        "Handle nan values in Train file"
      ]
    },
    {
      "cell_type": "code",
      "execution_count": null,
      "id": "15c6181a-0cc3-4b7d-84d5-4a5831f38373",
      "metadata": {
        "id": "15c6181a-0cc3-4b7d-84d5-4a5831f38373"
      },
      "outputs": [],
      "source": [
        "train.fillna('none', inplace=True)"
      ]
    },
    {
      "cell_type": "markdown",
      "id": "9d951afc-0dfd-499c-892c-d45604a421b5",
      "metadata": {
        "id": "9d951afc-0dfd-499c-892c-d45604a421b5"
      },
      "source": [
        "### **Traget Processing**"
      ]
    },
    {
      "cell_type": "code",
      "execution_count": null,
      "id": "f4159d69-495e-4259-9c50-cea8f8348f3a",
      "metadata": {
        "colab": {
          "base_uri": "https://localhost:8080/"
        },
        "id": "f4159d69-495e-4259-9c50-cea8f8348f3a",
        "outputId": "ff8d6204-5343-4c13-c8aa-cb336430243e"
      },
      "outputs": [
        {
          "output_type": "execute_result",
          "data": {
            "text/plain": [
              "Counter({'movie.starring.actor': 355,\n",
              "         'movie.starring.character': 22,\n",
              "         'actor.gender': 9,\n",
              "         'person.date_of_birth': 6,\n",
              "         'movie.estimated_budget': 79,\n",
              "         'movie.directed_by': 346,\n",
              "         'movie.music': 3,\n",
              "         'movie.initial_release_date': 189,\n",
              "         'movie.locations': 3,\n",
              "         'movie.produced_by': 175,\n",
              "         'movie.production_companies': 93,\n",
              "         'movie.country': 223,\n",
              "         'movie.subjects': 94,\n",
              "         'movie.genre': 129,\n",
              "         'movie.language': 220,\n",
              "         'none': 319,\n",
              "         'movie.rating': 211,\n",
              "         'movie.gross_revenue': 34,\n",
              "         'gr.amount': 5})"
            ]
          },
          "metadata": {},
          "execution_count": 43
        }
      ],
      "source": [
        "labels_all = []\n",
        "for i in range(train.shape[0]):\n",
        "    if train['CORE RELATIONS'][i]:\n",
        "        labels_all.extend(train['CORE RELATIONS'][i].split(' '))\n",
        "        \n",
        "label_count = Counter(labels_all)\n",
        "label_count"
      ]
    },
    {
      "cell_type": "code",
      "execution_count": null,
      "id": "308705d5-28b3-4d6f-b0b8-e260b6d67514",
      "metadata": {
        "colab": {
          "base_uri": "https://localhost:8080/",
          "height": 419
        },
        "id": "308705d5-28b3-4d6f-b0b8-e260b6d67514",
        "outputId": "4cc6c80c-43c2-40ef-bd58-bec24a805518"
      },
      "outputs": [
        {
          "output_type": "execute_result",
          "data": {
            "text/plain": [
              "<matplotlib.axes._subplots.AxesSubplot at 0x7fd2cffd5ed0>"
            ]
          },
          "metadata": {},
          "execution_count": 44
        },
        {
          "output_type": "display_data",
          "data": {
            "text/plain": [
              "<Figure size 432x288 with 1 Axes>"
            ],
            "image/png": "[encoded data removed]"
          },
          "metadata": {
            "needs_background": "light"
          }
        }
      ],
      "source": [
        "df = pd.DataFrame.from_dict(label_count, orient='index')\n",
        "df.plot(kind='bar')"
      ]
    },
    {
      "cell_type": "code",
      "execution_count": null,
      "id": "c501b900-3530-4ff6-99ac-55a0f2bc8ccb",
      "metadata": {
        "colab": {
          "base_uri": "https://localhost:8080/"
        },
        "id": "c501b900-3530-4ff6-99ac-55a0f2bc8ccb",
        "outputId": "2fba0b3f-ac5c-432d-f39c-01a8d93ff83f"
      },
      "outputs": [
        {
          "output_type": "execute_result",
          "data": {
            "text/plain": [
              "{'actor.gender',\n",
              " 'gr.amount',\n",
              " 'movie.country',\n",
              " 'movie.directed_by',\n",
              " 'movie.estimated_budget',\n",
              " 'movie.genre',\n",
              " 'movie.gross_revenue',\n",
              " 'movie.initial_release_date',\n",
              " 'movie.language',\n",
              " 'movie.locations',\n",
              " 'movie.music',\n",
              " 'movie.produced_by',\n",
              " 'movie.production_companies',\n",
              " 'movie.rating',\n",
              " 'movie.starring.actor',\n",
              " 'movie.starring.character',\n",
              " 'movie.subjects',\n",
              " 'none',\n",
              " 'person.date_of_birth'}"
            ]
          },
          "metadata": {},
          "execution_count": 45
        }
      ],
      "source": [
        "unique_labels = set(labels_all)\n",
        "unique_labels"
      ]
    },
    {
      "cell_type": "code",
      "execution_count": null,
      "id": "29224b96-bd87-4f87-822d-0f029ac6fe10",
      "metadata": {
        "colab": {
          "base_uri": "https://localhost:8080/",
          "height": 419
        },
        "id": "29224b96-bd87-4f87-822d-0f029ac6fe10",
        "outputId": "9238a99c-d858-4b0a-bb5f-48f4570b9531"
      },
      "outputs": [
        {
          "output_type": "execute_result",
          "data": {
            "text/plain": [
              "        ID                                         UTTERANCES  \\\n",
              "0        0               who plays luke on star wars new hope   \n",
              "1        1                     show credits for the godfather   \n",
              "2        2             who was the main actor in the exorcist   \n",
              "3        3  find the female actress from the movie she's t...   \n",
              "4        4                    who played dory on finding nemo   \n",
              "...    ...                                                ...   \n",
              "2307  2307               what was the revenue for toy story 3   \n",
              "2308  2308                                dark knight revenue   \n",
              "2309  2309               how much did the dark night generate   \n",
              "2310  2310                  can i see the lion king's revenue   \n",
              "2311  2311         can i see what the lion king's revenue was   \n",
              "\n",
              "                                     CORE RELATIONS  \n",
              "0     movie.starring.actor movie.starring.character  \n",
              "1                              movie.starring.actor  \n",
              "2                              movie.starring.actor  \n",
              "3                 movie.starring.actor actor.gender  \n",
              "4     movie.starring.actor movie.starring.character  \n",
              "...                                             ...  \n",
              "2307                            movie.gross_revenue  \n",
              "2308                            movie.gross_revenue  \n",
              "2309                            movie.gross_revenue  \n",
              "2310                            movie.gross_revenue  \n",
              "2311                            movie.gross_revenue  \n",
              "\n",
              "[2312 rows x 3 columns]"
            ],
            "text/html": [
              "\n",
              "  <div id=\"df-66dff649-60f2-434f-bde7-dc52075c9b87\">\n",
              "    <div class=\"colab-df-container\">\n",
              "      <div>\n",
              "<style scoped>\n",
              "    .dataframe tbody tr th:only-of-type {\n",
              "        vertical-align: middle;\n",
              "    }\n",
              "\n",
              "    .dataframe tbody tr th {\n",
              "        vertical-align: top;\n",
              "    }\n",
              "\n",
              "    .dataframe thead th {\n",
              "        text-align: right;\n",
              "    }\n",
              "</style>\n",
              "<table border=\"1\" class=\"dataframe\">\n",
              "  <thead>\n",
              "    <tr style=\"text-align: right;\">\n",
              "      <th></th>\n",
              "      <th>ID</th>\n",
              "      <th>UTTERANCES</th>\n",
              "      <th>CORE RELATIONS</th>\n",
              "    </tr>\n",
              "  </thead>\n",
              "  <tbody>\n",
              "    <tr>\n",
              "      <th>0</th>\n",
              "      <td>0</td>\n",
              "      <td>who plays luke on star wars new hope</td>\n",
              "      <td>movie.starring.actor movie.starring.character</td>\n",
              "    </tr>\n",
              "    <tr>\n",
              "      <th>1</th>\n",
              "      <td>1</td>\n",
              "      <td>show credits for the godfather</td>\n",
              "      <td>movie.starring.actor</td>\n",
              "    </tr>\n",
              "    <tr>\n",
              "      <th>2</th>\n",
              "      <td>2</td>\n",
              "      <td>who was the main actor in the exorcist</td>\n",
              "      <td>movie.starring.actor</td>\n",
              "    </tr>\n",
              "    <tr>\n",
              "      <th>3</th>\n",
              "      <td>3</td>\n",
              "      <td>find the female actress from the movie she's t...</td>\n",
              "      <td>movie.starring.actor actor.gender</td>\n",
              "    </tr>\n",
              "    <tr>\n",
              "      <th>4</th>\n",
              "      <td>4</td>\n",
              "      <td>who played dory on finding nemo</td>\n",
              "      <td>movie.starring.actor movie.starring.character</td>\n",
              "    </tr>\n",
              "    <tr>\n",
              "      <th>...</th>\n",
              "      <td>...</td>\n",
              "      <td>...</td>\n",
              "      <td>...</td>\n",
              "    </tr>\n",
              "    <tr>\n",
              "      <th>2307</th>\n",
              "      <td>2307</td>\n",
              "      <td>what was the revenue for toy story 3</td>\n",
              "      <td>movie.gross_revenue</td>\n",
              "    </tr>\n",
              "    <tr>\n",
              "      <th>2308</th>\n",
              "      <td>2308</td>\n",
              "      <td>dark knight revenue</td>\n",
              "      <td>movie.gross_revenue</td>\n",
              "    </tr>\n",
              "    <tr>\n",
              "      <th>2309</th>\n",
              "      <td>2309</td>\n",
              "      <td>how much did the dark night generate</td>\n",
              "      <td>movie.gross_revenue</td>\n",
              "    </tr>\n",
              "    <tr>\n",
              "      <th>2310</th>\n",
              "      <td>2310</td>\n",
              "      <td>can i see the lion king's revenue</td>\n",
              "      <td>movie.gross_revenue</td>\n",
              "    </tr>\n",
              "    <tr>\n",
              "      <th>2311</th>\n",
              "      <td>2311</td>\n",
              "      <td>can i see what the lion king's revenue was</td>\n",
              "      <td>movie.gross_revenue</td>\n",
              "    </tr>\n",
              "  </tbody>\n",
              "</table>\n",
              "<p>2312 rows × 3 columns</p>\n",
              "</div>\n",
              "      <button class=\"colab-df-convert\" onclick=\"convertToInteractive('df-66dff649-60f2-434f-bde7-dc52075c9b87')\"\n",
              "              title=\"Convert this dataframe to an interactive table.\"\n",
              "              style=\"display:none;\">\n",
              "        \n",
              "  <svg xmlns=\"http://www.w3.org/2000/svg\" height=\"24px\"viewBox=\"0 0 24 24\"\n",
              "       width=\"24px\">\n",
              "    <path d=\"M0 0h24v24H0V0z\" fill=\"none\"/>\n",
              "    <path d=\"M18.56 5.44l.94 2.06.94-2.06 2.06-.94-2.06-.94-.94-2.06-.94 2.06-2.06.94zm-11 1L8.5 8.5l.94-2.06 2.06-.94-2.06-.94L8.5 2.5l-.94 2.06-2.06.94zm10 10l.94 2.06.94-2.06 2.06-.94-2.06-.94-.94-2.06-.94 2.06-2.06.94z\"/><path d=\"M17.41 7.96l-1.37-1.37c-.4-.4-.92-.59-1.43-.59-.52 0-1.04.2-1.43.59L10.3 9.45l-7.72 7.72c-.78.78-.78 2.05 0 2.83L4 21.41c.39.39.9.59 1.41.59.51 0 1.02-.2 1.41-.59l7.78-7.78 2.81-2.81c.8-.78.8-2.07 0-2.86zM5.41 20L4 18.59l7.72-7.72 1.47 1.35L5.41 20z\"/>\n",
              "  </svg>\n",
              "      </button>\n",
              "      \n",
              "  <style>\n",
              "    .colab-df-container {\n",
              "      display:flex;\n",
              "      flex-wrap:wrap;\n",
              "      gap: 12px;\n",
              "    }\n",
              "\n",
              "    .colab-df-convert {\n",
              "      background-color: #E8F0FE;\n",
              "      border: none;\n",
              "      border-radius: 50%;\n",
              "      cursor: pointer;\n",
              "      display: none;\n",
              "      fill: #1967D2;\n",
              "      height: 32px;\n",
              "      padding: 0 0 0 0;\n",
              "      width: 32px;\n",
              "    }\n",
              "\n",
              "    .colab-df-convert:hover {\n",
              "      background-color: #E2EBFA;\n",
              "      box-shadow: 0px 1px 2px rgba(60, 64, 67, 0.3), 0px 1px 3px 1px rgba(60, 64, 67, 0.15);\n",
              "      fill: #174EA6;\n",
              "    }\n",
              "\n",
              "    [theme=dark] .colab-df-convert {\n",
              "      background-color: #3B4455;\n",
              "      fill: #D2E3FC;\n",
              "    }\n",
              "\n",
              "    [theme=dark] .colab-df-convert:hover {\n",
              "      background-color: #434B5C;\n",
              "      box-shadow: 0px 1px 3px 1px rgba(0, 0, 0, 0.15);\n",
              "      filter: drop-shadow(0px 1px 2px rgba(0, 0, 0, 0.3));\n",
              "      fill: #FFFFFF;\n",
              "    }\n",
              "  </style>\n",
              "\n",
              "      <script>\n",
              "        const buttonEl =\n",
              "          document.querySelector('#df-66dff649-60f2-434f-bde7-dc52075c9b87 button.colab-df-convert');\n",
              "        buttonEl.style.display =\n",
              "          google.colab.kernel.accessAllowed ? 'block' : 'none';\n",
              "\n",
              "        async function convertToInteractive(key) {\n",
              "          const element = document.querySelector('#df-66dff649-60f2-434f-bde7-dc52075c9b87');\n",
              "          const dataTable =\n",
              "            await google.colab.kernel.invokeFunction('convertToInteractive',\n",
              "                                                     [key], {});\n",
              "          if (!dataTable) return;\n",
              "\n",
              "          const docLinkHtml = 'Like what you see? Visit the ' +\n",
              "            '<a target=\"_blank\" href=https://colab.research.google.com/notebooks/data_table.ipynb>data table notebook</a>'\n",
              "            + ' to learn more about interactive tables.';\n",
              "          element.innerHTML = '';\n",
              "          dataTable['output_type'] = 'display_data';\n",
              "          await google.colab.output.renderOutput(dataTable, element);\n",
              "          const docLink = document.createElement('div');\n",
              "          docLink.innerHTML = docLinkHtml;\n",
              "          element.appendChild(docLink);\n",
              "        }\n",
              "      </script>\n",
              "    </div>\n",
              "  </div>\n",
              "  "
            ]
          },
          "metadata": {},
          "execution_count": 46
        }
      ],
      "source": [
        "train"
      ]
    },
    {
      "cell_type": "code",
      "execution_count": null,
      "id": "08650289-b901-495c-a645-3672802b1a40",
      "metadata": {
        "colab": {
          "base_uri": "https://localhost:8080/",
          "height": 419
        },
        "id": "08650289-b901-495c-a645-3672802b1a40",
        "outputId": "5e206296-6e4a-4972-a3d6-bf5366357b5a"
      },
      "outputs": [
        {
          "output_type": "execute_result",
          "data": {
            "text/plain": [
              "        ID                                         UTTERANCES  \\\n",
              "0        0               who plays luke on star wars new hope   \n",
              "1        1                     show credits for the godfather   \n",
              "2        2             who was the main actor in the exorcist   \n",
              "3        3  find the female actress from the movie she's t...   \n",
              "4        4                    who played dory on finding nemo   \n",
              "...    ...                                                ...   \n",
              "2307  2307               what was the revenue for toy story 3   \n",
              "2308  2308                                dark knight revenue   \n",
              "2309  2309               how much did the dark night generate   \n",
              "2310  2310                  can i see the lion king's revenue   \n",
              "2311  2311         can i see what the lion king's revenue was   \n",
              "\n",
              "                                     CORE RELATIONS  \\\n",
              "0     movie.starring.actor movie.starring.character   \n",
              "1                              movie.starring.actor   \n",
              "2                              movie.starring.actor   \n",
              "3                 movie.starring.actor actor.gender   \n",
              "4     movie.starring.actor movie.starring.character   \n",
              "...                                             ...   \n",
              "2307                            movie.gross_revenue   \n",
              "2308                            movie.gross_revenue   \n",
              "2309                            movie.gross_revenue   \n",
              "2310                            movie.gross_revenue   \n",
              "2311                            movie.gross_revenue   \n",
              "\n",
              "                              processed_core_relations  \n",
              "0     [movie.starring.actor, movie.starring.character]  \n",
              "1                               [movie.starring.actor]  \n",
              "2                               [movie.starring.actor]  \n",
              "3                 [movie.starring.actor, actor.gender]  \n",
              "4     [movie.starring.actor, movie.starring.character]  \n",
              "...                                                ...  \n",
              "2307                             [movie.gross_revenue]  \n",
              "2308                             [movie.gross_revenue]  \n",
              "2309                             [movie.gross_revenue]  \n",
              "2310                             [movie.gross_revenue]  \n",
              "2311                             [movie.gross_revenue]  \n",
              "\n",
              "[2312 rows x 4 columns]"
            ],
            "text/html": [
              "\n",
              "  <div id=\"df-b0cd7df2-60db-401a-b70c-fdf241db978c\">\n",
              "    <div class=\"colab-df-container\">\n",
              "      <div>\n",
              "<style scoped>\n",
              "    .dataframe tbody tr th:only-of-type {\n",
              "        vertical-align: middle;\n",
              "    }\n",
              "\n",
              "    .dataframe tbody tr th {\n",
              "        vertical-align: top;\n",
              "    }\n",
              "\n",
              "    .dataframe thead th {\n",
              "        text-align: right;\n",
              "    }\n",
              "</style>\n",
              "<table border=\"1\" class=\"dataframe\">\n",
              "  <thead>\n",
              "    <tr style=\"text-align: right;\">\n",
              "      <th></th>\n",
              "      <th>ID</th>\n",
              "      <th>UTTERANCES</th>\n",
              "      <th>CORE RELATIONS</th>\n",
              "      <th>processed_core_relations</th>\n",
              "    </tr>\n",
              "  </thead>\n",
              "  <tbody>\n",
              "    <tr>\n",
              "      <th>0</th>\n",
              "      <td>0</td>\n",
              "      <td>who plays luke on star wars new hope</td>\n",
              "      <td>movie.starring.actor movie.starring.character</td>\n",
              "      <td>[movie.starring.actor, movie.starring.character]</td>\n",
              "    </tr>\n",
              "    <tr>\n",
              "      <th>1</th>\n",
              "      <td>1</td>\n",
              "      <td>show credits for the godfather</td>\n",
              "      <td>movie.starring.actor</td>\n",
              "      <td>[movie.starring.actor]</td>\n",
              "    </tr>\n",
              "    <tr>\n",
              "      <th>2</th>\n",
              "      <td>2</td>\n",
              "      <td>who was the main actor in the exorcist</td>\n",
              "      <td>movie.starring.actor</td>\n",
              "      <td>[movie.starring.actor]</td>\n",
              "    </tr>\n",
              "    <tr>\n",
              "      <th>3</th>\n",
              "      <td>3</td>\n",
              "      <td>find the female actress from the movie she's t...</td>\n",
              "      <td>movie.starring.actor actor.gender</td>\n",
              "      <td>[movie.starring.actor, actor.gender]</td>\n",
              "    </tr>\n",
              "    <tr>\n",
              "      <th>4</th>\n",
              "      <td>4</td>\n",
              "      <td>who played dory on finding nemo</td>\n",
              "      <td>movie.starring.actor movie.starring.character</td>\n",
              "      <td>[movie.starring.actor, movie.starring.character]</td>\n",
              "    </tr>\n",
              "    <tr>\n",
              "      <th>...</th>\n",
              "      <td>...</td>\n",
              "      <td>...</td>\n",
              "      <td>...</td>\n",
              "      <td>...</td>\n",
              "    </tr>\n",
              "    <tr>\n",
              "      <th>2307</th>\n",
              "      <td>2307</td>\n",
              "      <td>what was the revenue for toy story 3</td>\n",
              "      <td>movie.gross_revenue</td>\n",
              "      <td>[movie.gross_revenue]</td>\n",
              "    </tr>\n",
              "    <tr>\n",
              "      <th>2308</th>\n",
              "      <td>2308</td>\n",
              "      <td>dark knight revenue</td>\n",
              "      <td>movie.gross_revenue</td>\n",
              "      <td>[movie.gross_revenue]</td>\n",
              "    </tr>\n",
              "    <tr>\n",
              "      <th>2309</th>\n",
              "      <td>2309</td>\n",
              "      <td>how much did the dark night generate</td>\n",
              "      <td>movie.gross_revenue</td>\n",
              "      <td>[movie.gross_revenue]</td>\n",
              "    </tr>\n",
              "    <tr>\n",
              "      <th>2310</th>\n",
              "      <td>2310</td>\n",
              "      <td>can i see the lion king's revenue</td>\n",
              "      <td>movie.gross_revenue</td>\n",
              "      <td>[movie.gross_revenue]</td>\n",
              "    </tr>\n",
              "    <tr>\n",
              "      <th>2311</th>\n",
              "      <td>2311</td>\n",
              "      <td>can i see what the lion king's revenue was</td>\n",
              "      <td>movie.gross_revenue</td>\n",
              "      <td>[movie.gross_revenue]</td>\n",
              "    </tr>\n",
              "  </tbody>\n",
              "</table>\n",
              "<p>2312 rows × 4 columns</p>\n",
              "</div>\n",
              "      <button class=\"colab-df-convert\" onclick=\"convertToInteractive('df-b0cd7df2-60db-401a-b70c-fdf241db978c')\"\n",
              "              title=\"Convert this dataframe to an interactive table.\"\n",
              "              style=\"display:none;\">\n",
              "        \n",
              "  <svg xmlns=\"http://www.w3.org/2000/svg\" height=\"24px\"viewBox=\"0 0 24 24\"\n",
              "       width=\"24px\">\n",
              "    <path d=\"M0 0h24v24H0V0z\" fill=\"none\"/>\n",
              "    <path d=\"M18.56 5.44l.94 2.06.94-2.06 2.06-.94-2.06-.94-.94-2.06-.94 2.06-2.06.94zm-11 1L8.5 8.5l.94-2.06 2.06-.94-2.06-.94L8.5 2.5l-.94 2.06-2.06.94zm10 10l.94 2.06.94-2.06 2.06-.94-2.06-.94-.94-2.06-.94 2.06-2.06.94z\"/><path d=\"M17.41 7.96l-1.37-1.37c-.4-.4-.92-.59-1.43-.59-.52 0-1.04.2-1.43.59L10.3 9.45l-7.72 7.72c-.78.78-.78 2.05 0 2.83L4 21.41c.39.39.9.59 1.41.59.51 0 1.02-.2 1.41-.59l7.78-7.78 2.81-2.81c.8-.78.8-2.07 0-2.86zM5.41 20L4 18.59l7.72-7.72 1.47 1.35L5.41 20z\"/>\n",
              "  </svg>\n",
              "      </button>\n",
              "      \n",
              "  <style>\n",
              "    .colab-df-container {\n",
              "      display:flex;\n",
              "      flex-wrap:wrap;\n",
              "      gap: 12px;\n",
              "    }\n",
              "\n",
              "    .colab-df-convert {\n",
              "      background-color: #E8F0FE;\n",
              "      border: none;\n",
              "      border-radius: 50%;\n",
              "      cursor: pointer;\n",
              "      display: none;\n",
              "      fill: #1967D2;\n",
              "      height: 32px;\n",
              "      padding: 0 0 0 0;\n",
              "      width: 32px;\n",
              "    }\n",
              "\n",
              "    .colab-df-convert:hover {\n",
              "      background-color: #E2EBFA;\n",
              "      box-shadow: 0px 1px 2px rgba(60, 64, 67, 0.3), 0px 1px 3px 1px rgba(60, 64, 67, 0.15);\n",
              "      fill: #174EA6;\n",
              "    }\n",
              "\n",
              "    [theme=dark] .colab-df-convert {\n",
              "      background-color: #3B4455;\n",
              "      fill: #D2E3FC;\n",
              "    }\n",
              "\n",
              "    [theme=dark] .colab-df-convert:hover {\n",
              "      background-color: #434B5C;\n",
              "      box-shadow: 0px 1px 3px 1px rgba(0, 0, 0, 0.15);\n",
              "      filter: drop-shadow(0px 1px 2px rgba(0, 0, 0, 0.3));\n",
              "      fill: #FFFFFF;\n",
              "    }\n",
              "  </style>\n",
              "\n",
              "      <script>\n",
              "        const buttonEl =\n",
              "          document.querySelector('#df-b0cd7df2-60db-401a-b70c-fdf241db978c button.colab-df-convert');\n",
              "        buttonEl.style.display =\n",
              "          google.colab.kernel.accessAllowed ? 'block' : 'none';\n",
              "\n",
              "        async function convertToInteractive(key) {\n",
              "          const element = document.querySelector('#df-b0cd7df2-60db-401a-b70c-fdf241db978c');\n",
              "          const dataTable =\n",
              "            await google.colab.kernel.invokeFunction('convertToInteractive',\n",
              "                                                     [key], {});\n",
              "          if (!dataTable) return;\n",
              "\n",
              "          const docLinkHtml = 'Like what you see? Visit the ' +\n",
              "            '<a target=\"_blank\" href=https://colab.research.google.com/notebooks/data_table.ipynb>data table notebook</a>'\n",
              "            + ' to learn more about interactive tables.';\n",
              "          element.innerHTML = '';\n",
              "          dataTable['output_type'] = 'display_data';\n",
              "          await google.colab.output.renderOutput(dataTable, element);\n",
              "          const docLink = document.createElement('div');\n",
              "          docLink.innerHTML = docLinkHtml;\n",
              "          element.appendChild(docLink);\n",
              "        }\n",
              "      </script>\n",
              "    </div>\n",
              "  </div>\n",
              "  "
            ]
          },
          "metadata": {},
          "execution_count": 47
        }
      ],
      "source": [
        "train['processed_core_relations'] = train['CORE RELATIONS'].str.split(' ')\n",
        "train"
      ]
    },
    {
      "cell_type": "code",
      "execution_count": null,
      "id": "1122d65f-8745-428c-b08a-9b32700ae259",
      "metadata": {
        "colab": {
          "base_uri": "https://localhost:8080/"
        },
        "id": "1122d65f-8745-428c-b08a-9b32700ae259",
        "outputId": "0ce017d1-c3df-4b3e-c2e5-18ab239fc1e5"
      },
      "outputs": [
        {
          "output_type": "execute_result",
          "data": {
            "text/plain": [
              "0       [movie.starring.actor, movie.starring.character]\n",
              "1                                 [movie.starring.actor]\n",
              "2                                 [movie.starring.actor]\n",
              "3                   [movie.starring.actor, actor.gender]\n",
              "4       [movie.starring.actor, movie.starring.character]\n",
              "                              ...                       \n",
              "2307                               [movie.gross_revenue]\n",
              "2308                               [movie.gross_revenue]\n",
              "2309                               [movie.gross_revenue]\n",
              "2310                               [movie.gross_revenue]\n",
              "2311                               [movie.gross_revenue]\n",
              "Name: processed_core_relations, Length: 2312, dtype: object"
            ]
          },
          "metadata": {},
          "execution_count": 48
        }
      ],
      "source": [
        "train['processed_core_relations']"
      ]
    },
    {
      "cell_type": "markdown",
      "id": "ea5c0bf7-4b77-442f-9f84-b2b761c68e1c",
      "metadata": {
        "id": "ea5c0bf7-4b77-442f-9f84-b2b761c68e1c"
      },
      "source": [
        "### **Observation Processing**"
      ]
    },
    {
      "cell_type": "code",
      "execution_count": null,
      "id": "23dd93fc-95f8-48d1-980f-62126fc078d5",
      "metadata": {
        "colab": {
          "base_uri": "https://localhost:8080/",
          "height": 514
        },
        "id": "23dd93fc-95f8-48d1-980f-62126fc078d5",
        "outputId": "299e801e-25f1-44a0-90fe-7bf80b5eddfa"
      },
      "outputs": [
        {
          "output_type": "execute_result",
          "data": {
            "text/plain": [
              "        ID                                         UTTERANCES  \\\n",
              "0        0               who plays luke on star wars new hope   \n",
              "1        1                     show credits for the godfather   \n",
              "2        2             who was the main actor in the exorcist   \n",
              "3        3  find the female actress from the movie she's t...   \n",
              "4        4                    who played dory on finding nemo   \n",
              "...    ...                                                ...   \n",
              "2307  2307               what was the revenue for toy story 3   \n",
              "2308  2308                                dark knight revenue   \n",
              "2309  2309               how much did the dark night generate   \n",
              "2310  2310                  can i see the lion king's revenue   \n",
              "2311  2311         can i see what the lion king's revenue was   \n",
              "\n",
              "                                     CORE RELATIONS  \\\n",
              "0     movie.starring.actor movie.starring.character   \n",
              "1                              movie.starring.actor   \n",
              "2                              movie.starring.actor   \n",
              "3                 movie.starring.actor actor.gender   \n",
              "4     movie.starring.actor movie.starring.character   \n",
              "...                                             ...   \n",
              "2307                            movie.gross_revenue   \n",
              "2308                            movie.gross_revenue   \n",
              "2309                            movie.gross_revenue   \n",
              "2310                            movie.gross_revenue   \n",
              "2311                            movie.gross_revenue   \n",
              "\n",
              "                              processed_core_relations  word_count  \n",
              "0     [movie.starring.actor, movie.starring.character]           8  \n",
              "1                               [movie.starring.actor]           5  \n",
              "2                               [movie.starring.actor]           8  \n",
              "3                 [movie.starring.actor, actor.gender]          10  \n",
              "4     [movie.starring.actor, movie.starring.character]           6  \n",
              "...                                                ...         ...  \n",
              "2307                             [movie.gross_revenue]           8  \n",
              "2308                             [movie.gross_revenue]           3  \n",
              "2309                             [movie.gross_revenue]           7  \n",
              "2310                             [movie.gross_revenue]           7  \n",
              "2311                             [movie.gross_revenue]           9  \n",
              "\n",
              "[2312 rows x 5 columns]"
            ],
            "text/html": [
              "\n",
              "  <div id=\"df-df02a593-6945-42cc-859b-fac3edfa63d6\">\n",
              "    <div class=\"colab-df-container\">\n",
              "      <div>\n",
              "<style scoped>\n",
              "    .dataframe tbody tr th:only-of-type {\n",
              "        vertical-align: middle;\n",
              "    }\n",
              "\n",
              "    .dataframe tbody tr th {\n",
              "        vertical-align: top;\n",
              "    }\n",
              "\n",
              "    .dataframe thead th {\n",
              "        text-align: right;\n",
              "    }\n",
              "</style>\n",
              "<table border=\"1\" class=\"dataframe\">\n",
              "  <thead>\n",
              "    <tr style=\"text-align: right;\">\n",
              "      <th></th>\n",
              "      <th>ID</th>\n",
              "      <th>UTTERANCES</th>\n",
              "      <th>CORE RELATIONS</th>\n",
              "      <th>processed_core_relations</th>\n",
              "      <th>word_count</th>\n",
              "    </tr>\n",
              "  </thead>\n",
              "  <tbody>\n",
              "    <tr>\n",
              "      <th>0</th>\n",
              "      <td>0</td>\n",
              "      <td>who plays luke on star wars new hope</td>\n",
              "      <td>movie.starring.actor movie.starring.character</td>\n",
              "      <td>[movie.starring.actor, movie.starring.character]</td>\n",
              "      <td>8</td>\n",
              "    </tr>\n",
              "    <tr>\n",
              "      <th>1</th>\n",
              "      <td>1</td>\n",
              "      <td>show credits for the godfather</td>\n",
              "      <td>movie.starring.actor</td>\n",
              "      <td>[movie.starring.actor]</td>\n",
              "      <td>5</td>\n",
              "    </tr>\n",
              "    <tr>\n",
              "      <th>2</th>\n",
              "      <td>2</td>\n",
              "      <td>who was the main actor in the exorcist</td>\n",
              "      <td>movie.starring.actor</td>\n",
              "      <td>[movie.starring.actor]</td>\n",
              "      <td>8</td>\n",
              "    </tr>\n",
              "    <tr>\n",
              "      <th>3</th>\n",
              "      <td>3</td>\n",
              "      <td>find the female actress from the movie she's t...</td>\n",
              "      <td>movie.starring.actor actor.gender</td>\n",
              "      <td>[movie.starring.actor, actor.gender]</td>\n",
              "      <td>10</td>\n",
              "    </tr>\n",
              "    <tr>\n",
              "      <th>4</th>\n",
              "      <td>4</td>\n",
              "      <td>who played dory on finding nemo</td>\n",
              "      <td>movie.starring.actor movie.starring.character</td>\n",
              "      <td>[movie.starring.actor, movie.starring.character]</td>\n",
              "      <td>6</td>\n",
              "    </tr>\n",
              "    <tr>\n",
              "      <th>...</th>\n",
              "      <td>...</td>\n",
              "      <td>...</td>\n",
              "      <td>...</td>\n",
              "      <td>...</td>\n",
              "      <td>...</td>\n",
              "    </tr>\n",
              "    <tr>\n",
              "      <th>2307</th>\n",
              "      <td>2307</td>\n",
              "      <td>what was the revenue for toy story 3</td>\n",
              "      <td>movie.gross_revenue</td>\n",
              "      <td>[movie.gross_revenue]</td>\n",
              "      <td>8</td>\n",
              "    </tr>\n",
              "    <tr>\n",
              "      <th>2308</th>\n",
              "      <td>2308</td>\n",
              "      <td>dark knight revenue</td>\n",
              "      <td>movie.gross_revenue</td>\n",
              "      <td>[movie.gross_revenue]</td>\n",
              "      <td>3</td>\n",
              "    </tr>\n",
              "    <tr>\n",
              "      <th>2309</th>\n",
              "      <td>2309</td>\n",
              "      <td>how much did the dark night generate</td>\n",
              "      <td>movie.gross_revenue</td>\n",
              "      <td>[movie.gross_revenue]</td>\n",
              "      <td>7</td>\n",
              "    </tr>\n",
              "    <tr>\n",
              "      <th>2310</th>\n",
              "      <td>2310</td>\n",
              "      <td>can i see the lion king's revenue</td>\n",
              "      <td>movie.gross_revenue</td>\n",
              "      <td>[movie.gross_revenue]</td>\n",
              "      <td>7</td>\n",
              "    </tr>\n",
              "    <tr>\n",
              "      <th>2311</th>\n",
              "      <td>2311</td>\n",
              "      <td>can i see what the lion king's revenue was</td>\n",
              "      <td>movie.gross_revenue</td>\n",
              "      <td>[movie.gross_revenue]</td>\n",
              "      <td>9</td>\n",
              "    </tr>\n",
              "  </tbody>\n",
              "</table>\n",
              "<p>2312 rows × 5 columns</p>\n",
              "</div>\n",
              "      <button class=\"colab-df-convert\" onclick=\"convertToInteractive('df-df02a593-6945-42cc-859b-fac3edfa63d6')\"\n",
              "              title=\"Convert this dataframe to an interactive table.\"\n",
              "              style=\"display:none;\">\n",
              "        \n",
              "  <svg xmlns=\"http://www.w3.org/2000/svg\" height=\"24px\"viewBox=\"0 0 24 24\"\n",
              "       width=\"24px\">\n",
              "    <path d=\"M0 0h24v24H0V0z\" fill=\"none\"/>\n",
              "    <path d=\"M18.56 5.44l.94 2.06.94-2.06 2.06-.94-2.06-.94-.94-2.06-.94 2.06-2.06.94zm-11 1L8.5 8.5l.94-2.06 2.06-.94-2.06-.94L8.5 2.5l-.94 2.06-2.06.94zm10 10l.94 2.06.94-2.06 2.06-.94-2.06-.94-.94-2.06-.94 2.06-2.06.94z\"/><path d=\"M17.41 7.96l-1.37-1.37c-.4-.4-.92-.59-1.43-.59-.52 0-1.04.2-1.43.59L10.3 9.45l-7.72 7.72c-.78.78-.78 2.05 0 2.83L4 21.41c.39.39.9.59 1.41.59.51 0 1.02-.2 1.41-.59l7.78-7.78 2.81-2.81c.8-.78.8-2.07 0-2.86zM5.41 20L4 18.59l7.72-7.72 1.47 1.35L5.41 20z\"/>\n",
              "  </svg>\n",
              "      </button>\n",
              "      \n",
              "  <style>\n",
              "    .colab-df-container {\n",
              "      display:flex;\n",
              "      flex-wrap:wrap;\n",
              "      gap: 12px;\n",
              "    }\n",
              "\n",
              "    .colab-df-convert {\n",
              "      background-color: #E8F0FE;\n",
              "      border: none;\n",
              "      border-radius: 50%;\n",
              "      cursor: pointer;\n",
              "      display: none;\n",
              "      fill: #1967D2;\n",
              "      height: 32px;\n",
              "      padding: 0 0 0 0;\n",
              "      width: 32px;\n",
              "    }\n",
              "\n",
              "    .colab-df-convert:hover {\n",
              "      background-color: #E2EBFA;\n",
              "      box-shadow: 0px 1px 2px rgba(60, 64, 67, 0.3), 0px 1px 3px 1px rgba(60, 64, 67, 0.15);\n",
              "      fill: #174EA6;\n",
              "    }\n",
              "\n",
              "    [theme=dark] .colab-df-convert {\n",
              "      background-color: #3B4455;\n",
              "      fill: #D2E3FC;\n",
              "    }\n",
              "\n",
              "    [theme=dark] .colab-df-convert:hover {\n",
              "      background-color: #434B5C;\n",
              "      box-shadow: 0px 1px 3px 1px rgba(0, 0, 0, 0.15);\n",
              "      filter: drop-shadow(0px 1px 2px rgba(0, 0, 0, 0.3));\n",
              "      fill: #FFFFFF;\n",
              "    }\n",
              "  </style>\n",
              "\n",
              "      <script>\n",
              "        const buttonEl =\n",
              "          document.querySelector('#df-df02a593-6945-42cc-859b-fac3edfa63d6 button.colab-df-convert');\n",
              "        buttonEl.style.display =\n",
              "          google.colab.kernel.accessAllowed ? 'block' : 'none';\n",
              "\n",
              "        async function convertToInteractive(key) {\n",
              "          const element = document.querySelector('#df-df02a593-6945-42cc-859b-fac3edfa63d6');\n",
              "          const dataTable =\n",
              "            await google.colab.kernel.invokeFunction('convertToInteractive',\n",
              "                                                     [key], {});\n",
              "          if (!dataTable) return;\n",
              "\n",
              "          const docLinkHtml = 'Like what you see? Visit the ' +\n",
              "            '<a target=\"_blank\" href=https://colab.research.google.com/notebooks/data_table.ipynb>data table notebook</a>'\n",
              "            + ' to learn more about interactive tables.';\n",
              "          element.innerHTML = '';\n",
              "          dataTable['output_type'] = 'display_data';\n",
              "          await google.colab.output.renderOutput(dataTable, element);\n",
              "          const docLink = document.createElement('div');\n",
              "          docLink.innerHTML = docLinkHtml;\n",
              "          element.appendChild(docLink);\n",
              "        }\n",
              "      </script>\n",
              "    </div>\n",
              "  </div>\n",
              "  "
            ]
          },
          "metadata": {},
          "execution_count": 49
        }
      ],
      "source": [
        "train['word_count'] = train['UTTERANCES'].str.count(' ') + 1\n",
        "train"
      ]
    },
    {
      "cell_type": "code",
      "execution_count": null,
      "id": "0566af12-73f5-4b72-bf13-a03eaeae0504",
      "metadata": {
        "colab": {
          "base_uri": "https://localhost:8080/"
        },
        "id": "0566af12-73f5-4b72-bf13-a03eaeae0504",
        "outputId": "d4720a2d-5613-4bc3-b466-71b63ecd1ce1"
      },
      "outputs": [
        {
          "output_type": "execute_result",
          "data": {
            "text/plain": [
              "count    2312.000000\n",
              "mean        6.276384\n",
              "std         2.589998\n",
              "min         1.000000\n",
              "25%         4.000000\n",
              "50%         6.000000\n",
              "75%         8.000000\n",
              "max        21.000000\n",
              "Name: word_count, dtype: float64"
            ]
          },
          "metadata": {},
          "execution_count": 50
        }
      ],
      "source": [
        "train['word_count'].describe()"
      ]
    },
    {
      "cell_type": "code",
      "execution_count": null,
      "id": "8392802e-cf20-46e5-91e8-8fed92a0903a",
      "metadata": {
        "colab": {
          "base_uri": "https://localhost:8080/"
        },
        "id": "8392802e-cf20-46e5-91e8-8fed92a0903a",
        "outputId": "35e72df8-547e-495e-a4f3-e30af64f3809"
      },
      "outputs": [
        {
          "output_type": "execute_result",
          "data": {
            "text/plain": [
              "(2235, 5)"
            ]
          },
          "metadata": {},
          "execution_count": 51
        }
      ],
      "source": [
        "# Drop rows with word count less than 3 and greater than 15\n",
        "\n",
        "train = train[(train['word_count'] > 2) & (train['word_count'] < 15)]\n",
        "train.shape"
      ]
    },
    {
      "cell_type": "code",
      "execution_count": null,
      "id": "7f723c86-3c4a-4d01-9507-27308b5d8e01",
      "metadata": {
        "colab": {
          "base_uri": "https://localhost:8080/"
        },
        "id": "7f723c86-3c4a-4d01-9507-27308b5d8e01",
        "outputId": "49e0ad67-b51e-48a1-ff19-a1646fe05ad8"
      },
      "outputs": [
        {
          "output_type": "stream",
          "name": "stderr",
          "text": [
            "/usr/local/lib/python3.7/dist-packages/ipykernel_launcher.py:2: SettingWithCopyWarning: \n",
            "A value is trying to be set on a copy of a slice from a DataFrame.\n",
            "Try using .loc[row_indexer,col_indexer] = value instead\n",
            "\n",
            "See the caveats in the documentation: https://pandas.pydata.org/pandas-docs/stable/user_guide/indexing.html#returning-a-view-versus-a-copy\n",
            "  \n",
            "/usr/local/lib/python3.7/dist-packages/ipykernel_launcher.py:4: SettingWithCopyWarning: \n",
            "A value is trying to be set on a copy of a slice from a DataFrame.\n",
            "Try using .loc[row_indexer,col_indexer] = value instead\n",
            "\n",
            "See the caveats in the documentation: https://pandas.pydata.org/pandas-docs/stable/user_guide/indexing.html#returning-a-view-versus-a-copy\n",
            "  after removing the cwd from sys.path.\n",
            "/usr/local/lib/python3.7/dist-packages/ipykernel_launcher.py:7: SettingWithCopyWarning: \n",
            "A value is trying to be set on a copy of a slice from a DataFrame.\n",
            "Try using .loc[row_indexer,col_indexer] = value instead\n",
            "\n",
            "See the caveats in the documentation: https://pandas.pydata.org/pandas-docs/stable/user_guide/indexing.html#returning-a-view-versus-a-copy\n",
            "  import sys\n",
            "/usr/local/lib/python3.7/dist-packages/ipykernel_launcher.py:16: SettingWithCopyWarning: \n",
            "A value is trying to be set on a copy of a slice from a DataFrame.\n",
            "Try using .loc[row_indexer,col_indexer] = value instead\n",
            "\n",
            "See the caveats in the documentation: https://pandas.pydata.org/pandas-docs/stable/user_guide/indexing.html#returning-a-view-versus-a-copy\n",
            "  app.launch_new_instance()\n"
          ]
        }
      ],
      "source": [
        "# strip extra spaces\n",
        "train['processed_text'] = train.UTTERANCES.str.strip()\n",
        "#lower case data\n",
        "train['processed_text'] = train.processed_text.str.lower()\n",
        "\n",
        "# Remove stopwords\n",
        "train['processed_text'] = train['processed_text'].apply(lambda x: ' '.join([word for word in x.split() if word not in (stop)]))\n",
        "\n",
        "w_tokenizer = nltk.tokenize.WhitespaceTokenizer()\n",
        "lemmatizer = nltk.stem.WordNetLemmatizer()\n",
        "\n",
        "def lemmatize_text(text):\n",
        "    return \" \".join([lemmatizer.lemmatize(w, 'v') for w in w_tokenizer.tokenize(text)])\n",
        "\n",
        "\n",
        "train['processed_text'] = train.processed_text.apply(lemmatize_text)"
      ]
    },
    {
      "cell_type": "code",
      "execution_count": null,
      "id": "e5e0bef4-a79e-47e8-9283-0b09597afe3b",
      "metadata": {
        "colab": {
          "base_uri": "https://localhost:8080/",
          "height": 599
        },
        "id": "e5e0bef4-a79e-47e8-9283-0b09597afe3b",
        "outputId": "a0bd3b6d-bc89-49ca-e2cc-1b15c3fd2fd7"
      },
      "outputs": [
        {
          "output_type": "execute_result",
          "data": {
            "text/plain": [
              "        ID                                         UTTERANCES  \\\n",
              "0        0               who plays luke on star wars new hope   \n",
              "1        1                     show credits for the godfather   \n",
              "2        2             who was the main actor in the exorcist   \n",
              "3        3  find the female actress from the movie she's t...   \n",
              "4        4                    who played dory on finding nemo   \n",
              "...    ...                                                ...   \n",
              "2307  2307               what was the revenue for toy story 3   \n",
              "2308  2308                                dark knight revenue   \n",
              "2309  2309               how much did the dark night generate   \n",
              "2310  2310                  can i see the lion king's revenue   \n",
              "2311  2311         can i see what the lion king's revenue was   \n",
              "\n",
              "                                     CORE RELATIONS  \\\n",
              "0     movie.starring.actor movie.starring.character   \n",
              "1                              movie.starring.actor   \n",
              "2                              movie.starring.actor   \n",
              "3                 movie.starring.actor actor.gender   \n",
              "4     movie.starring.actor movie.starring.character   \n",
              "...                                             ...   \n",
              "2307                            movie.gross_revenue   \n",
              "2308                            movie.gross_revenue   \n",
              "2309                            movie.gross_revenue   \n",
              "2310                            movie.gross_revenue   \n",
              "2311                            movie.gross_revenue   \n",
              "\n",
              "                              processed_core_relations  word_count  \\\n",
              "0     [movie.starring.actor, movie.starring.character]           8   \n",
              "1                               [movie.starring.actor]           5   \n",
              "2                               [movie.starring.actor]           8   \n",
              "3                 [movie.starring.actor, actor.gender]          10   \n",
              "4     [movie.starring.actor, movie.starring.character]           6   \n",
              "...                                                ...         ...   \n",
              "2307                             [movie.gross_revenue]           8   \n",
              "2308                             [movie.gross_revenue]           3   \n",
              "2309                             [movie.gross_revenue]           7   \n",
              "2310                             [movie.gross_revenue]           7   \n",
              "2311                             [movie.gross_revenue]           9   \n",
              "\n",
              "                     processed_text  \n",
              "0       play luke star war new hope  \n",
              "1             show credit godfather  \n",
              "2               main actor exorcist  \n",
              "3     find female actress movie man  \n",
              "4               play dory find nemo  \n",
              "...                             ...  \n",
              "2307            revenue toy story 3  \n",
              "2308            dark knight revenue  \n",
              "2309       much dark night generate  \n",
              "2310        see lion king's revenue  \n",
              "2311        see lion king's revenue  \n",
              "\n",
              "[2235 rows x 6 columns]"
            ],
            "text/html": [
              "\n",
              "  <div id=\"df-2a490e37-9df0-4b4c-8b1f-897b06d14d36\">\n",
              "    <div class=\"colab-df-container\">\n",
              "      <div>\n",
              "<style scoped>\n",
              "    .dataframe tbody tr th:only-of-type {\n",
              "        vertical-align: middle;\n",
              "    }\n",
              "\n",
              "    .dataframe tbody tr th {\n",
              "        vertical-align: top;\n",
              "    }\n",
              "\n",
              "    .dataframe thead th {\n",
              "        text-align: right;\n",
              "    }\n",
              "</style>\n",
              "<table border=\"1\" class=\"dataframe\">\n",
              "  <thead>\n",
              "    <tr style=\"text-align: right;\">\n",
              "      <th></th>\n",
              "      <th>ID</th>\n",
              "      <th>UTTERANCES</th>\n",
              "      <th>CORE RELATIONS</th>\n",
              "      <th>processed_core_relations</th>\n",
              "      <th>word_count</th>\n",
              "      <th>processed_text</th>\n",
              "    </tr>\n",
              "  </thead>\n",
              "  <tbody>\n",
              "    <tr>\n",
              "      <th>0</th>\n",
              "      <td>0</td>\n",
              "      <td>who plays luke on star wars new hope</td>\n",
              "      <td>movie.starring.actor movie.starring.character</td>\n",
              "      <td>[movie.starring.actor, movie.starring.character]</td>\n",
              "      <td>8</td>\n",
              "      <td>play luke star war new hope</td>\n",
              "    </tr>\n",
              "    <tr>\n",
              "      <th>1</th>\n",
              "      <td>1</td>\n",
              "      <td>show credits for the godfather</td>\n",
              "      <td>movie.starring.actor</td>\n",
              "      <td>[movie.starring.actor]</td>\n",
              "      <td>5</td>\n",
              "      <td>show credit godfather</td>\n",
              "    </tr>\n",
              "    <tr>\n",
              "      <th>2</th>\n",
              "      <td>2</td>\n",
              "      <td>who was the main actor in the exorcist</td>\n",
              "      <td>movie.starring.actor</td>\n",
              "      <td>[movie.starring.actor]</td>\n",
              "      <td>8</td>\n",
              "      <td>main actor exorcist</td>\n",
              "    </tr>\n",
              "    <tr>\n",
              "      <th>3</th>\n",
              "      <td>3</td>\n",
              "      <td>find the female actress from the movie she's t...</td>\n",
              "      <td>movie.starring.actor actor.gender</td>\n",
              "      <td>[movie.starring.actor, actor.gender]</td>\n",
              "      <td>10</td>\n",
              "      <td>find female actress movie man</td>\n",
              "    </tr>\n",
              "    <tr>\n",
              "      <th>4</th>\n",
              "      <td>4</td>\n",
              "      <td>who played dory on finding nemo</td>\n",
              "      <td>movie.starring.actor movie.starring.character</td>\n",
              "      <td>[movie.starring.actor, movie.starring.character]</td>\n",
              "      <td>6</td>\n",
              "      <td>play dory find nemo</td>\n",
              "    </tr>\n",
              "    <tr>\n",
              "      <th>...</th>\n",
              "      <td>...</td>\n",
              "      <td>...</td>\n",
              "      <td>...</td>\n",
              "      <td>...</td>\n",
              "      <td>...</td>\n",
              "      <td>...</td>\n",
              "    </tr>\n",
              "    <tr>\n",
              "      <th>2307</th>\n",
              "      <td>2307</td>\n",
              "      <td>what was the revenue for toy story 3</td>\n",
              "      <td>movie.gross_revenue</td>\n",
              "      <td>[movie.gross_revenue]</td>\n",
              "      <td>8</td>\n",
              "      <td>revenue toy story 3</td>\n",
              "    </tr>\n",
              "    <tr>\n",
              "      <th>2308</th>\n",
              "      <td>2308</td>\n",
              "      <td>dark knight revenue</td>\n",
              "      <td>movie.gross_revenue</td>\n",
              "      <td>[movie.gross_revenue]</td>\n",
              "      <td>3</td>\n",
              "      <td>dark knight revenue</td>\n",
              "    </tr>\n",
              "    <tr>\n",
              "      <th>2309</th>\n",
              "      <td>2309</td>\n",
              "      <td>how much did the dark night generate</td>\n",
              "      <td>movie.gross_revenue</td>\n",
              "      <td>[movie.gross_revenue]</td>\n",
              "      <td>7</td>\n",
              "      <td>much dark night generate</td>\n",
              "    </tr>\n",
              "    <tr>\n",
              "      <th>2310</th>\n",
              "      <td>2310</td>\n",
              "      <td>can i see the lion king's revenue</td>\n",
              "      <td>movie.gross_revenue</td>\n",
              "      <td>[movie.gross_revenue]</td>\n",
              "      <td>7</td>\n",
              "      <td>see lion king's revenue</td>\n",
              "    </tr>\n",
              "    <tr>\n",
              "      <th>2311</th>\n",
              "      <td>2311</td>\n",
              "      <td>can i see what the lion king's revenue was</td>\n",
              "      <td>movie.gross_revenue</td>\n",
              "      <td>[movie.gross_revenue]</td>\n",
              "      <td>9</td>\n",
              "      <td>see lion king's revenue</td>\n",
              "    </tr>\n",
              "  </tbody>\n",
              "</table>\n",
              "<p>2235 rows × 6 columns</p>\n",
              "</div>\n",
              "      <button class=\"colab-df-convert\" onclick=\"convertToInteractive('df-2a490e37-9df0-4b4c-8b1f-897b06d14d36')\"\n",
              "              title=\"Convert this dataframe to an interactive table.\"\n",
              "              style=\"display:none;\">\n",
              "        \n",
              "  <svg xmlns=\"http://www.w3.org/2000/svg\" height=\"24px\"viewBox=\"0 0 24 24\"\n",
              "       width=\"24px\">\n",
              "    <path d=\"M0 0h24v24H0V0z\" fill=\"none\"/>\n",
              "    <path d=\"M18.56 5.44l.94 2.06.94-2.06 2.06-.94-2.06-.94-.94-2.06-.94 2.06-2.06.94zm-11 1L8.5 8.5l.94-2.06 2.06-.94-2.06-.94L8.5 2.5l-.94 2.06-2.06.94zm10 10l.94 2.06.94-2.06 2.06-.94-2.06-.94-.94-2.06-.94 2.06-2.06.94z\"/><path d=\"M17.41 7.96l-1.37-1.37c-.4-.4-.92-.59-1.43-.59-.52 0-1.04.2-1.43.59L10.3 9.45l-7.72 7.72c-.78.78-.78 2.05 0 2.83L4 21.41c.39.39.9.59 1.41.59.51 0 1.02-.2 1.41-.59l7.78-7.78 2.81-2.81c.8-.78.8-2.07 0-2.86zM5.41 20L4 18.59l7.72-7.72 1.47 1.35L5.41 20z\"/>\n",
              "  </svg>\n",
              "      </button>\n",
              "      \n",
              "  <style>\n",
              "    .colab-df-container {\n",
              "      display:flex;\n",
              "      flex-wrap:wrap;\n",
              "      gap: 12px;\n",
              "    }\n",
              "\n",
              "    .colab-df-convert {\n",
              "      background-color: #E8F0FE;\n",
              "      border: none;\n",
              "      border-radius: 50%;\n",
              "      cursor: pointer;\n",
              "      display: none;\n",
              "      fill: #1967D2;\n",
              "      height: 32px;\n",
              "      padding: 0 0 0 0;\n",
              "      width: 32px;\n",
              "    }\n",
              "\n",
              "    .colab-df-convert:hover {\n",
              "      background-color: #E2EBFA;\n",
              "      box-shadow: 0px 1px 2px rgba(60, 64, 67, 0.3), 0px 1px 3px 1px rgba(60, 64, 67, 0.15);\n",
              "      fill: #174EA6;\n",
              "    }\n",
              "\n",
              "    [theme=dark] .colab-df-convert {\n",
              "      background-color: #3B4455;\n",
              "      fill: #D2E3FC;\n",
              "    }\n",
              "\n",
              "    [theme=dark] .colab-df-convert:hover {\n",
              "      background-color: #434B5C;\n",
              "      box-shadow: 0px 1px 3px 1px rgba(0, 0, 0, 0.15);\n",
              "      filter: drop-shadow(0px 1px 2px rgba(0, 0, 0, 0.3));\n",
              "      fill: #FFFFFF;\n",
              "    }\n",
              "  </style>\n",
              "\n",
              "      <script>\n",
              "        const buttonEl =\n",
              "          document.querySelector('#df-2a490e37-9df0-4b4c-8b1f-897b06d14d36 button.colab-df-convert');\n",
              "        buttonEl.style.display =\n",
              "          google.colab.kernel.accessAllowed ? 'block' : 'none';\n",
              "\n",
              "        async function convertToInteractive(key) {\n",
              "          const element = document.querySelector('#df-2a490e37-9df0-4b4c-8b1f-897b06d14d36');\n",
              "          const dataTable =\n",
              "            await google.colab.kernel.invokeFunction('convertToInteractive',\n",
              "                                                     [key], {});\n",
              "          if (!dataTable) return;\n",
              "\n",
              "          const docLinkHtml = 'Like what you see? Visit the ' +\n",
              "            '<a target=\"_blank\" href=https://colab.research.google.com/notebooks/data_table.ipynb>data table notebook</a>'\n",
              "            + ' to learn more about interactive tables.';\n",
              "          element.innerHTML = '';\n",
              "          dataTable['output_type'] = 'display_data';\n",
              "          await google.colab.output.renderOutput(dataTable, element);\n",
              "          const docLink = document.createElement('div');\n",
              "          docLink.innerHTML = docLinkHtml;\n",
              "          element.appendChild(docLink);\n",
              "        }\n",
              "      </script>\n",
              "    </div>\n",
              "  </div>\n",
              "  "
            ]
          },
          "metadata": {},
          "execution_count": 53
        }
      ],
      "source": [
        "train"
      ]
    },
    {
      "cell_type": "markdown",
      "id": "6DV_d40JpG9j",
      "metadata": {
        "id": "6DV_d40JpG9j"
      },
      "source": [
        "### **Create Train and Validation sets**"
      ]
    },
    {
      "cell_type": "code",
      "execution_count": null,
      "id": "3609ee17-78d5-4172-82f1-76967dcd7382",
      "metadata": {
        "colab": {
          "base_uri": "https://localhost:8080/"
        },
        "id": "3609ee17-78d5-4172-82f1-76967dcd7382",
        "outputId": "cba42597-1190-4ad7-ed3c-9549845ce57f"
      },
      "outputs": [
        {
          "output_type": "stream",
          "name": "stdout",
          "text": [
            "(1788,) (447,) (1788,) (447,)\n"
          ]
        }
      ],
      "source": [
        "# Create train, validation and test sets\n",
        "\n",
        "x_train, x_val, y_train, y_val = train_test_split(train['processed_text'], train['processed_core_relations'], test_size=.2, random_state=42)\n",
        "print(x_train.shape, x_val.shape, y_train.shape, y_val.shape)"
      ]
    },
    {
      "cell_type": "markdown",
      "id": "gBFh1xm7pThn",
      "metadata": {
        "id": "gBFh1xm7pThn"
      },
      "source": [
        "### **Encode Data**"
      ]
    },
    {
      "cell_type": "code",
      "execution_count": null,
      "id": "822ceccf-4d04-46f8-b661-663edfa8b73e",
      "metadata": {
        "id": "822ceccf-4d04-46f8-b661-663edfa8b73e",
        "colab": {
          "base_uri": "https://localhost:8080/"
        },
        "outputId": "3a0c0455-8526-4f7b-ba00-5c585e0f06d4"
      },
      "outputs": [
        {
          "output_type": "stream",
          "name": "stdout",
          "text": [
            "(1788, 889) (447, 889)\n"
          ]
        }
      ],
      "source": [
        "# Encode Observations\n",
        "\n",
        "vectorizer = TfidfVectorizer()\n",
        "\n",
        "x_train_transformed = vectorizer.fit_transform(x_train)\n",
        "x_val_transformed = vectorizer.transform(x_val)\n",
        "print(x_train_transformed.shape,x_val_transformed.shape )"
      ]
    },
    {
      "cell_type": "code",
      "execution_count": null,
      "id": "S701A4W9WmOm",
      "metadata": {
        "id": "S701A4W9WmOm"
      },
      "outputs": [],
      "source": [
        "# Save tfidfvectorizer object\n",
        "\n",
        "with open('vectorizer.pk', 'wb') as op:\n",
        "    pickle.dump(vectorizer, op)"
      ]
    },
    {
      "cell_type": "code",
      "execution_count": null,
      "id": "0HoL01QWo9w7",
      "metadata": {
        "id": "0HoL01QWo9w7",
        "colab": {
          "base_uri": "https://localhost:8080/"
        },
        "outputId": "7eff554e-64dd-41d9-8d00-e30132260daa"
      },
      "outputs": [
        {
          "output_type": "stream",
          "name": "stdout",
          "text": [
            "(1788, 19) (447, 19)\n"
          ]
        }
      ],
      "source": [
        "# Encode Labels\n",
        "\n",
        "binarizer = MultiLabelBinarizer()\n",
        "\n",
        "binarizer.fit([list(unique_labels)])\n",
        "\n",
        "y_train_transformed = binarizer.transform(y_train.tolist())\n",
        "y_val_transformed = binarizer.transform(y_val.tolist())\n",
        "\n",
        "print(y_train_transformed.shape, y_val_transformed.shape)"
      ]
    },
    {
      "cell_type": "code",
      "execution_count": null,
      "id": "IYYj3Qyco92c",
      "metadata": {
        "id": "IYYj3Qyco92c"
      },
      "outputs": [],
      "source": [
        "# Save Multi-label binarizer object\n",
        "\n",
        "output = open('binarizer.pkl', 'wb')\n",
        "pickle.dump(binarizer, output)\n",
        "output.close()"
      ]
    },
    {
      "cell_type": "code",
      "execution_count": null,
      "id": "U4un4HsKsCzq",
      "metadata": {
        "id": "U4un4HsKsCzq"
      },
      "outputs": [],
      "source": [
        "# tfidf matrix to pytorch tensor\n",
        "\n",
        "x_train = torch.tensor(scipy.sparse.csr_matrix.todense(x_train_transformed)).float()\n",
        "x_val = torch.tensor(scipy.sparse.csr_matrix.todense(x_val_transformed)).float()"
      ]
    },
    {
      "cell_type": "code",
      "execution_count": null,
      "id": "59149a5b-c4b0-41bb-9bc1-88e2c34de3d0",
      "metadata": {
        "id": "59149a5b-c4b0-41bb-9bc1-88e2c34de3d0"
      },
      "outputs": [],
      "source": [
        "# Multi-hot vector to pytorch tensor\n",
        "\n",
        "y_train = torch.tensor(y_train_transformed)\n",
        "y_val = torch.tensor(y_val_transformed)"
      ]
    },
    {
      "cell_type": "markdown",
      "id": "4e9b8417-9706-47f3-9fe2-09bb79d4c911",
      "metadata": {
        "id": "4e9b8417-9706-47f3-9fe2-09bb79d4c911"
      },
      "source": [
        "### **Model setup**"
      ]
    },
    {
      "cell_type": "code",
      "execution_count": null,
      "id": "9e0aeb09-0cb4-4f0d-9fc5-90f943581a3b",
      "metadata": {
        "colab": {
          "base_uri": "https://localhost:8080/"
        },
        "id": "9e0aeb09-0cb4-4f0d-9fc5-90f943581a3b",
        "outputId": "c95063ba-c115-44b3-8054-75c19fc1ea27"
      },
      "outputs": [
        {
          "output_type": "execute_result",
          "data": {
            "text/plain": [
              "889"
            ]
          },
          "metadata": {},
          "execution_count": 61
        }
      ],
      "source": [
        "vocab = len(vectorizer.vocabulary_)\n",
        "vocab"
      ]
    },
    {
      "cell_type": "code",
      "execution_count": null,
      "id": "1f3e97e4-3d62-4598-96c8-65186ed64a2d",
      "metadata": {
        "id": "1f3e97e4-3d62-4598-96c8-65186ed64a2d"
      },
      "outputs": [],
      "source": [
        "from torch import nn\n",
        "\n",
        "model = nn.Sequential(\n",
        "             nn.Linear(vocab, 512),\n",
        "             nn.ReLU(),\n",
        "             nn.Linear(512, 19))\n",
        "\n",
        "\n",
        "# Define the loss\n",
        "criterion = nn.BCEWithLogitsLoss()\n",
        "\n",
        "# Forward pass, log  \n",
        "logps = model(x_train)\n",
        "\n",
        "# Calculate the loss with the logits and the labels\n",
        "loss = criterion(logps, y_train.float())\n",
        "loss.backward()\n",
        "\n",
        "# Optimizers need parameters to optimize and a learning rate\n",
        "optimizer = torch.optim.SGD(model.parameters(), lr=0.12)"
      ]
    },
    {
      "cell_type": "code",
      "execution_count": null,
      "id": "x7uQJTctwliP",
      "metadata": {
        "id": "x7uQJTctwliP"
      },
      "outputs": [],
      "source": [
        "def scoring_fn(labels, predictions):\n",
        "    for i in range(len(predictions)):\n",
        "        acc_score = accuracy_score(labels, predictions)\n",
        "        f1 = f1_score(labels, predictions, average='macro', zero_division=0)\n",
        "        return acc_score, f1\n"
      ]
    },
    {
      "cell_type": "code",
      "execution_count": null,
      "id": "03d5e954-7159-4919-a5f1-f03b00f22e19",
      "metadata": {
        "id": "03d5e954-7159-4919-a5f1-f03b00f22e19",
        "colab": {
          "base_uri": "https://localhost:8080/"
        },
        "outputId": "12594ed2-c647-4ecf-e704-dbabe615dcd8"
      },
      "outputs": [
        {
          "output_type": "stream",
          "name": "stdout",
          "text": [
            "Epoch:  0\n"
          ]
        },
        {
          "output_type": "stream",
          "name": "stderr",
          "text": [
            "/usr/local/lib/python3.7/dist-packages/ipykernel_launcher.py:33: UserWarning: To copy construct from a tensor, it is recommended to use sourceTensor.clone().detach() or sourceTensor.clone().detach().requires_grad_(True), rather than torch.tensor(sourceTensor).\n"
          ]
        },
        {
          "output_type": "stream",
          "name": "stdout",
          "text": [
            "Train_loss:  0.4993070642064725\n",
            "Valid_loss:  0.29385983145662714\n",
            "Validation accuracy 0.0\n",
            "Validation f1 0.10241244496418038\n",
            "Epoch:  1\n"
          ]
        },
        {
          "output_type": "stream",
          "name": "stderr",
          "text": [
            "/usr/local/lib/python3.7/dist-packages/ipykernel_launcher.py:33: UserWarning: To copy construct from a tensor, it is recommended to use sourceTensor.clone().detach() or sourceTensor.clone().detach().requires_grad_(True), rather than torch.tensor(sourceTensor).\n"
          ]
        },
        {
          "output_type": "stream",
          "name": "stdout",
          "text": [
            "Train_loss:  0.22910079712580358\n",
            "Valid_loss:  0.20175183883735112\n",
            "Validation accuracy 0.006711409395973154\n",
            "Validation f1 0.027166183174471614\n",
            "Epoch:  2\n"
          ]
        },
        {
          "output_type": "stream",
          "name": "stderr",
          "text": [
            "/usr/local/lib/python3.7/dist-packages/ipykernel_launcher.py:33: UserWarning: To copy construct from a tensor, it is recommended to use sourceTensor.clone().detach() or sourceTensor.clone().detach().requires_grad_(True), rather than torch.tensor(sourceTensor).\n"
          ]
        },
        {
          "output_type": "stream",
          "name": "stdout",
          "text": [
            "Train_loss:  0.1994322564985071\n",
            "Valid_loss:  0.19468898086675576\n",
            "Validation accuracy 0.006711409395973154\n",
            "Validation f1 0.027224521792100023\n",
            "Epoch:  3\n"
          ]
        },
        {
          "output_type": "stream",
          "name": "stderr",
          "text": [
            "/usr/local/lib/python3.7/dist-packages/ipykernel_launcher.py:33: UserWarning: To copy construct from a tensor, it is recommended to use sourceTensor.clone().detach() or sourceTensor.clone().detach().requires_grad_(True), rather than torch.tensor(sourceTensor).\n"
          ]
        },
        {
          "output_type": "stream",
          "name": "stdout",
          "text": [
            "Train_loss:  0.19561647297814488\n",
            "Valid_loss:  0.19260313282055513\n",
            "Validation accuracy 0.0022371364653243847\n",
            "Validation f1 0.026798069908851422\n",
            "Epoch:  4\n"
          ]
        },
        {
          "output_type": "stream",
          "name": "stderr",
          "text": [
            "/usr/local/lib/python3.7/dist-packages/ipykernel_launcher.py:33: UserWarning: To copy construct from a tensor, it is recommended to use sourceTensor.clone().detach() or sourceTensor.clone().detach().requires_grad_(True), rather than torch.tensor(sourceTensor).\n"
          ]
        },
        {
          "output_type": "stream",
          "name": "stdout",
          "text": [
            "Train_loss:  0.19417659685547864\n",
            "Valid_loss:  0.19154317011790617\n",
            "Validation accuracy 0.0022371364653243847\n",
            "Validation f1 0.026743086598079172\n",
            "Epoch:  5\n"
          ]
        },
        {
          "output_type": "stream",
          "name": "stderr",
          "text": [
            "/usr/local/lib/python3.7/dist-packages/ipykernel_launcher.py:33: UserWarning: To copy construct from a tensor, it is recommended to use sourceTensor.clone().detach() or sourceTensor.clone().detach().requires_grad_(True), rather than torch.tensor(sourceTensor).\n"
          ]
        },
        {
          "output_type": "stream",
          "name": "stdout",
          "text": [
            "Train_loss:  0.19338095487494553\n",
            "Valid_loss:  0.19085605682006904\n",
            "Validation accuracy 0.0022371364653243847\n",
            "Validation f1 0.02671575477789878\n",
            "Epoch:  6\n"
          ]
        },
        {
          "output_type": "stream",
          "name": "stderr",
          "text": [
            "/usr/local/lib/python3.7/dist-packages/ipykernel_launcher.py:33: UserWarning: To copy construct from a tensor, it is recommended to use sourceTensor.clone().detach() or sourceTensor.clone().detach().requires_grad_(True), rather than torch.tensor(sourceTensor).\n"
          ]
        },
        {
          "output_type": "stream",
          "name": "stdout",
          "text": [
            "Train_loss:  0.1928413734505219\n",
            "Valid_loss:  0.19034249441964285\n",
            "Validation accuracy 0.0022371364653243847\n",
            "Validation f1 0.02671575477789878\n",
            "Epoch:  7\n"
          ]
        },
        {
          "output_type": "stream",
          "name": "stderr",
          "text": [
            "/usr/local/lib/python3.7/dist-packages/ipykernel_launcher.py:33: UserWarning: To copy construct from a tensor, it is recommended to use sourceTensor.clone().detach() or sourceTensor.clone().detach().requires_grad_(True), rather than torch.tensor(sourceTensor).\n"
          ]
        },
        {
          "output_type": "stream",
          "name": "stdout",
          "text": [
            "Train_loss:  0.1924215913085001\n",
            "Valid_loss:  0.1899188147591693\n",
            "Validation accuracy 0.0022371364653243847\n",
            "Validation f1 0.02671575477789878\n",
            "Epoch:  8\n"
          ]
        },
        {
          "output_type": "stream",
          "name": "stderr",
          "text": [
            "/usr/local/lib/python3.7/dist-packages/ipykernel_launcher.py:33: UserWarning: To copy construct from a tensor, it is recommended to use sourceTensor.clone().detach() or sourceTensor.clone().detach().requires_grad_(True), rather than torch.tensor(sourceTensor).\n"
          ]
        },
        {
          "output_type": "stream",
          "name": "stdout",
          "text": [
            "Train_loss:  0.19206119009426662\n",
            "Valid_loss:  0.18954374215432576\n",
            "Validation accuracy 0.0022371364653243847\n",
            "Validation f1 0.02671575477789878\n",
            "Epoch:  9\n"
          ]
        },
        {
          "output_type": "stream",
          "name": "stderr",
          "text": [
            "/usr/local/lib/python3.7/dist-packages/ipykernel_launcher.py:33: UserWarning: To copy construct from a tensor, it is recommended to use sourceTensor.clone().detach() or sourceTensor.clone().detach().requires_grad_(True), rather than torch.tensor(sourceTensor).\n"
          ]
        },
        {
          "output_type": "stream",
          "name": "stdout",
          "text": [
            "Train_loss:  0.19172930870471255\n",
            "Valid_loss:  0.1891936313893114\n",
            "Validation accuracy 0.0022371364653243847\n",
            "Validation f1 0.02671575477789878\n",
            "Epoch:  10\n"
          ]
        },
        {
          "output_type": "stream",
          "name": "stderr",
          "text": [
            "/usr/local/lib/python3.7/dist-packages/ipykernel_launcher.py:33: UserWarning: To copy construct from a tensor, it is recommended to use sourceTensor.clone().detach() or sourceTensor.clone().detach().requires_grad_(True), rather than torch.tensor(sourceTensor).\n"
          ]
        },
        {
          "output_type": "stream",
          "name": "stdout",
          "text": [
            "Train_loss:  0.19140807891796743\n",
            "Valid_loss:  0.18885429176901067\n",
            "Validation accuracy 0.0022371364653243847\n",
            "Validation f1 0.026743086598079172\n",
            "Epoch:  11\n"
          ]
        },
        {
          "output_type": "stream",
          "name": "stderr",
          "text": [
            "/usr/local/lib/python3.7/dist-packages/ipykernel_launcher.py:33: UserWarning: To copy construct from a tensor, it is recommended to use sourceTensor.clone().detach() or sourceTensor.clone().detach().requires_grad_(True), rather than torch.tensor(sourceTensor).\n"
          ]
        },
        {
          "output_type": "stream",
          "name": "stdout",
          "text": [
            "Train_loss:  0.19108672652925765\n",
            "Valid_loss:  0.18851615036172525\n",
            "Validation accuracy 0.0022371364653243847\n",
            "Validation f1 0.026798069908851422\n",
            "Epoch:  12\n"
          ]
        },
        {
          "output_type": "stream",
          "name": "stderr",
          "text": [
            "/usr/local/lib/python3.7/dist-packages/ipykernel_launcher.py:33: UserWarning: To copy construct from a tensor, it is recommended to use sourceTensor.clone().detach() or sourceTensor.clone().detach().requires_grad_(True), rather than torch.tensor(sourceTensor).\n"
          ]
        },
        {
          "output_type": "stream",
          "name": "stdout",
          "text": [
            "Train_loss:  0.19075746667970503\n",
            "Valid_loss:  0.1881712345140321\n",
            "Validation accuracy 0.0022371364653243847\n",
            "Validation f1 0.026798069908851422\n",
            "Epoch:  13\n"
          ]
        },
        {
          "output_type": "stream",
          "name": "stderr",
          "text": [
            "/usr/local/lib/python3.7/dist-packages/ipykernel_launcher.py:33: UserWarning: To copy construct from a tensor, it is recommended to use sourceTensor.clone().detach() or sourceTensor.clone().detach().requires_grad_(True), rather than torch.tensor(sourceTensor).\n"
          ]
        },
        {
          "output_type": "stream",
          "name": "stdout",
          "text": [
            "Train_loss:  0.19041398021259479\n",
            "Valid_loss:  0.18781324050256185\n",
            "Validation accuracy 0.0022371364653243847\n",
            "Validation f1 0.0285821912291012\n",
            "Epoch:  14\n"
          ]
        },
        {
          "output_type": "stream",
          "name": "stderr",
          "text": [
            "/usr/local/lib/python3.7/dist-packages/ipykernel_launcher.py:33: UserWarning: To copy construct from a tensor, it is recommended to use sourceTensor.clone().detach() or sourceTensor.clone().detach().requires_grad_(True), rather than torch.tensor(sourceTensor).\n"
          ]
        },
        {
          "output_type": "stream",
          "name": "stdout",
          "text": [
            "Train_loss:  0.19005131967631833\n",
            "Valid_loss:  0.18743673685405934\n",
            "Validation accuracy 0.0022371364653243847\n",
            "Validation f1 0.03205823007088333\n",
            "Epoch:  15\n"
          ]
        },
        {
          "output_type": "stream",
          "name": "stderr",
          "text": [
            "/usr/local/lib/python3.7/dist-packages/ipykernel_launcher.py:33: UserWarning: To copy construct from a tensor, it is recommended to use sourceTensor.clone().detach() or sourceTensor.clone().detach().requires_grad_(True), rather than torch.tensor(sourceTensor).\n"
          ]
        },
        {
          "output_type": "stream",
          "name": "stdout",
          "text": [
            "Train_loss:  0.18966526598004357\n",
            "Valid_loss:  0.1870375874319247\n",
            "Validation accuracy 0.0022371364653243847\n",
            "Validation f1 0.03620372129925096\n",
            "Epoch:  16\n"
          ]
        },
        {
          "output_type": "stream",
          "name": "stderr",
          "text": [
            "/usr/local/lib/python3.7/dist-packages/ipykernel_launcher.py:33: UserWarning: To copy construct from a tensor, it is recommended to use sourceTensor.clone().detach() or sourceTensor.clone().detach().requires_grad_(True), rather than torch.tensor(sourceTensor).\n"
          ]
        },
        {
          "output_type": "stream",
          "name": "stdout",
          "text": [
            "Train_loss:  0.18925180745178036\n",
            "Valid_loss:  0.18661147595516273\n",
            "Validation accuracy 0.0022371364653243847\n",
            "Validation f1 0.04249054512055056\n",
            "Epoch:  17\n"
          ]
        },
        {
          "output_type": "stream",
          "name": "stderr",
          "text": [
            "/usr/local/lib/python3.7/dist-packages/ipykernel_launcher.py:33: UserWarning: To copy construct from a tensor, it is recommended to use sourceTensor.clone().detach() or sourceTensor.clone().detach().requires_grad_(True), rather than torch.tensor(sourceTensor).\n"
          ]
        },
        {
          "output_type": "stream",
          "name": "stdout",
          "text": [
            "Train_loss:  0.18880682538396545\n",
            "Valid_loss:  0.1861546545156411\n",
            "Validation accuracy 0.0022371364653243847\n",
            "Validation f1 0.04770526815185902\n",
            "Epoch:  18\n"
          ]
        },
        {
          "output_type": "stream",
          "name": "stderr",
          "text": [
            "/usr/local/lib/python3.7/dist-packages/ipykernel_launcher.py:33: UserWarning: To copy construct from a tensor, it is recommended to use sourceTensor.clone().detach() or sourceTensor.clone().detach().requires_grad_(True), rather than torch.tensor(sourceTensor).\n"
          ]
        },
        {
          "output_type": "stream",
          "name": "stdout",
          "text": [
            "Train_loss:  0.18832718494481274\n",
            "Valid_loss:  0.18566394623901164\n",
            "Validation accuracy 0.008948545861297539\n",
            "Validation f1 0.05924865704923434\n",
            "Epoch:  19\n"
          ]
        },
        {
          "output_type": "stream",
          "name": "stderr",
          "text": [
            "/usr/local/lib/python3.7/dist-packages/ipykernel_launcher.py:33: UserWarning: To copy construct from a tensor, it is recommended to use sourceTensor.clone().detach() or sourceTensor.clone().detach().requires_grad_(True), rather than torch.tensor(sourceTensor).\n"
          ]
        },
        {
          "output_type": "stream",
          "name": "stdout",
          "text": [
            "Train_loss:  0.1878090805507132\n",
            "Valid_loss:  0.1851354486175946\n",
            "Validation accuracy 0.02237136465324385\n",
            "Validation f1 0.0704947688003339\n",
            "Epoch:  20\n"
          ]
        },
        {
          "output_type": "stream",
          "name": "stderr",
          "text": [
            "/usr/local/lib/python3.7/dist-packages/ipykernel_launcher.py:33: UserWarning: To copy construct from a tensor, it is recommended to use sourceTensor.clone().detach() or sourceTensor.clone().detach().requires_grad_(True), rather than torch.tensor(sourceTensor).\n"
          ]
        },
        {
          "output_type": "stream",
          "name": "stdout",
          "text": [
            "Train_loss:  0.1872486540648554\n",
            "Valid_loss:  0.1845653158213411\n",
            "Validation accuracy 0.02237136465324385\n",
            "Validation f1 0.08377286934392697\n",
            "Epoch:  21\n"
          ]
        },
        {
          "output_type": "stream",
          "name": "stderr",
          "text": [
            "/usr/local/lib/python3.7/dist-packages/ipykernel_launcher.py:33: UserWarning: To copy construct from a tensor, it is recommended to use sourceTensor.clone().detach() or sourceTensor.clone().detach().requires_grad_(True), rather than torch.tensor(sourceTensor).\n"
          ]
        },
        {
          "output_type": "stream",
          "name": "stdout",
          "text": [
            "Train_loss:  0.1866422314196825\n",
            "Valid_loss:  0.1839498087231602\n",
            "Validation accuracy 0.029082774049217\n",
            "Validation f1 0.08751985942181646\n",
            "Epoch:  22\n"
          ]
        },
        {
          "output_type": "stream",
          "name": "stderr",
          "text": [
            "/usr/local/lib/python3.7/dist-packages/ipykernel_launcher.py:33: UserWarning: To copy construct from a tensor, it is recommended to use sourceTensor.clone().detach() or sourceTensor.clone().detach().requires_grad_(True), rather than torch.tensor(sourceTensor).\n"
          ]
        },
        {
          "output_type": "stream",
          "name": "stdout",
          "text": [
            "Train_loss:  0.18598640663549304\n",
            "Valid_loss:  0.18328522065920488\n",
            "Validation accuracy 0.040268456375838924\n",
            "Validation f1 0.09241552143425757\n",
            "Epoch:  23\n"
          ]
        },
        {
          "output_type": "stream",
          "name": "stderr",
          "text": [
            "/usr/local/lib/python3.7/dist-packages/ipykernel_launcher.py:33: UserWarning: To copy construct from a tensor, it is recommended to use sourceTensor.clone().detach() or sourceTensor.clone().detach().requires_grad_(True), rather than torch.tensor(sourceTensor).\n"
          ]
        },
        {
          "output_type": "stream",
          "name": "stdout",
          "text": [
            "Train_loss:  0.18527754482680134\n",
            "Valid_loss:  0.18256871162780694\n",
            "Validation accuracy 0.0447427293064877\n",
            "Validation f1 0.09952777234277944\n",
            "Epoch:  24\n"
          ]
        },
        {
          "output_type": "stream",
          "name": "stderr",
          "text": [
            "/usr/local/lib/python3.7/dist-packages/ipykernel_launcher.py:33: UserWarning: To copy construct from a tensor, it is recommended to use sourceTensor.clone().detach() or sourceTensor.clone().detach().requires_grad_(True), rather than torch.tensor(sourceTensor).\n"
          ]
        },
        {
          "output_type": "stream",
          "name": "stdout",
          "text": [
            "Train_loss:  0.18451258280713642\n",
            "Valid_loss:  0.1817971204540559\n",
            "Validation accuracy 0.049217002237136466\n",
            "Validation f1 0.10328055821580341\n",
            "Epoch:  25\n"
          ]
        },
        {
          "output_type": "stream",
          "name": "stderr",
          "text": [
            "/usr/local/lib/python3.7/dist-packages/ipykernel_launcher.py:33: UserWarning: To copy construct from a tensor, it is recommended to use sourceTensor.clone().detach() or sourceTensor.clone().detach().requires_grad_(True), rather than torch.tensor(sourceTensor).\n"
          ]
        },
        {
          "output_type": "stream",
          "name": "stdout",
          "text": [
            "Train_loss:  0.1836889282401119\n",
            "Valid_loss:  0.18096758611500263\n",
            "Validation accuracy 0.06040268456375839\n",
            "Validation f1 0.10778044083317954\n",
            "Epoch:  26\n"
          ]
        },
        {
          "output_type": "stream",
          "name": "stderr",
          "text": [
            "/usr/local/lib/python3.7/dist-packages/ipykernel_launcher.py:33: UserWarning: To copy construct from a tensor, it is recommended to use sourceTensor.clone().detach() or sourceTensor.clone().detach().requires_grad_(True), rather than torch.tensor(sourceTensor).\n"
          ]
        },
        {
          "output_type": "stream",
          "name": "stdout",
          "text": [
            "Train_loss:  0.182803863526455\n",
            "Valid_loss:  0.18007644904511316\n",
            "Validation accuracy 0.06487695749440715\n",
            "Validation f1 0.10724093118162131\n",
            "Epoch:  27\n"
          ]
        },
        {
          "output_type": "stream",
          "name": "stderr",
          "text": [
            "/usr/local/lib/python3.7/dist-packages/ipykernel_launcher.py:33: UserWarning: To copy construct from a tensor, it is recommended to use sourceTensor.clone().detach() or sourceTensor.clone().detach().requires_grad_(True), rather than torch.tensor(sourceTensor).\n"
          ]
        },
        {
          "output_type": "stream",
          "name": "stdout",
          "text": [
            "Train_loss:  0.18185482207419618\n",
            "Valid_loss:  0.17912202248615877\n",
            "Validation accuracy 0.07158836689038031\n",
            "Validation f1 0.11049834573021529\n",
            "Epoch:  28\n"
          ]
        },
        {
          "output_type": "stream",
          "name": "stderr",
          "text": [
            "/usr/local/lib/python3.7/dist-packages/ipykernel_launcher.py:33: UserWarning: To copy construct from a tensor, it is recommended to use sourceTensor.clone().detach() or sourceTensor.clone().detach().requires_grad_(True), rather than torch.tensor(sourceTensor).\n"
          ]
        },
        {
          "output_type": "stream",
          "name": "stdout",
          "text": [
            "Train_loss:  0.1808404302490609\n",
            "Valid_loss:  0.1781031404222761\n",
            "Validation accuracy 0.08053691275167785\n",
            "Validation f1 0.11180267023603183\n",
            "Epoch:  29\n"
          ]
        },
        {
          "output_type": "stream",
          "name": "stderr",
          "text": [
            "/usr/local/lib/python3.7/dist-packages/ipykernel_launcher.py:33: UserWarning: To copy construct from a tensor, it is recommended to use sourceTensor.clone().detach() or sourceTensor.clone().detach().requires_grad_(True), rather than torch.tensor(sourceTensor).\n"
          ]
        },
        {
          "output_type": "stream",
          "name": "stdout",
          "text": [
            "Train_loss:  0.17975998257419892\n",
            "Valid_loss:  0.17701874380665167\n",
            "Validation accuracy 0.10514541387024609\n",
            "Validation f1 0.11616291091333635\n",
            "Epoch:  30\n"
          ]
        },
        {
          "output_type": "stream",
          "name": "stderr",
          "text": [
            "/usr/local/lib/python3.7/dist-packages/ipykernel_launcher.py:33: UserWarning: To copy construct from a tensor, it is recommended to use sourceTensor.clone().detach() or sourceTensor.clone().detach().requires_grad_(True), rather than torch.tensor(sourceTensor).\n"
          ]
        },
        {
          "output_type": "stream",
          "name": "stdout",
          "text": [
            "Train_loss:  0.17861281621402927\n",
            "Valid_loss:  0.17586840742400714\n",
            "Validation accuracy 0.12080536912751678\n",
            "Validation f1 0.12165980473682604\n",
            "Epoch:  31\n"
          ]
        },
        {
          "output_type": "stream",
          "name": "stderr",
          "text": [
            "/usr/local/lib/python3.7/dist-packages/ipykernel_launcher.py:33: UserWarning: To copy construct from a tensor, it is recommended to use sourceTensor.clone().detach() or sourceTensor.clone().detach().requires_grad_(True), rather than torch.tensor(sourceTensor).\n"
          ]
        },
        {
          "output_type": "stream",
          "name": "stdout",
          "text": [
            "Train_loss:  0.17739941379321472\n",
            "Valid_loss:  0.17465295349912985\n",
            "Validation accuracy 0.1319910514541387\n",
            "Validation f1 0.13163289229174896\n",
            "Epoch:  32\n"
          ]
        },
        {
          "output_type": "stream",
          "name": "stderr",
          "text": [
            "/usr/local/lib/python3.7/dist-packages/ipykernel_launcher.py:33: UserWarning: To copy construct from a tensor, it is recommended to use sourceTensor.clone().detach() or sourceTensor.clone().detach().requires_grad_(True), rather than torch.tensor(sourceTensor).\n"
          ]
        },
        {
          "output_type": "stream",
          "name": "stdout",
          "text": [
            "Train_loss:  0.17612121467079436\n",
            "Valid_loss:  0.17337353846856526\n",
            "Validation accuracy 0.1342281879194631\n",
            "Validation f1 0.14046088075121613\n",
            "Epoch:  33\n"
          ]
        },
        {
          "output_type": "stream",
          "name": "stderr",
          "text": [
            "/usr/local/lib/python3.7/dist-packages/ipykernel_launcher.py:33: UserWarning: To copy construct from a tensor, it is recommended to use sourceTensor.clone().detach() or sourceTensor.clone().detach().requires_grad_(True), rather than torch.tensor(sourceTensor).\n"
          ]
        },
        {
          "output_type": "stream",
          "name": "stdout",
          "text": [
            "Train_loss:  0.17478008934163622\n",
            "Valid_loss:  0.17203195712396077\n",
            "Validation accuracy 0.13870246085011187\n",
            "Validation f1 0.14346357396522305\n",
            "Epoch:  34\n"
          ]
        },
        {
          "output_type": "stream",
          "name": "stderr",
          "text": [
            "/usr/local/lib/python3.7/dist-packages/ipykernel_launcher.py:33: UserWarning: To copy construct from a tensor, it is recommended to use sourceTensor.clone().detach() or sourceTensor.clone().detach().requires_grad_(True), rather than torch.tensor(sourceTensor).\n"
          ]
        },
        {
          "output_type": "stream",
          "name": "stdout",
          "text": [
            "Train_loss:  0.17337818324033702\n",
            "Valid_loss:  0.17063107607620104\n",
            "Validation accuracy 0.14988814317673377\n",
            "Validation f1 0.15530104714073073\n",
            "Epoch:  35\n"
          ]
        },
        {
          "output_type": "stream",
          "name": "stderr",
          "text": [
            "/usr/local/lib/python3.7/dist-packages/ipykernel_launcher.py:33: UserWarning: To copy construct from a tensor, it is recommended to use sourceTensor.clone().detach() or sourceTensor.clone().detach().requires_grad_(True), rather than torch.tensor(sourceTensor).\n"
          ]
        },
        {
          "output_type": "stream",
          "name": "stdout",
          "text": [
            "Train_loss:  0.17191888551626885\n",
            "Valid_loss:  0.16917435798261846\n",
            "Validation accuracy 0.15883668903803133\n",
            "Validation f1 0.1615724628627788\n",
            "Epoch:  36\n"
          ]
        },
        {
          "output_type": "stream",
          "name": "stderr",
          "text": [
            "/usr/local/lib/python3.7/dist-packages/ipykernel_launcher.py:33: UserWarning: To copy construct from a tensor, it is recommended to use sourceTensor.clone().detach() or sourceTensor.clone().detach().requires_grad_(True), rather than torch.tensor(sourceTensor).\n"
          ]
        },
        {
          "output_type": "stream",
          "name": "stdout",
          "text": [
            "Train_loss:  0.1704047971538135\n",
            "Valid_loss:  0.16766381237123693\n",
            "Validation accuracy 0.1610738255033557\n",
            "Validation f1 0.17326131119592478\n",
            "Epoch:  37\n"
          ]
        },
        {
          "output_type": "stream",
          "name": "stderr",
          "text": [
            "/usr/local/lib/python3.7/dist-packages/ipykernel_launcher.py:33: UserWarning: To copy construct from a tensor, it is recommended to use sourceTensor.clone().detach() or sourceTensor.clone().detach().requires_grad_(True), rather than torch.tensor(sourceTensor).\n"
          ]
        },
        {
          "output_type": "stream",
          "name": "stdout",
          "text": [
            "Train_loss:  0.16883858905306884\n",
            "Valid_loss:  0.16610299343509333\n",
            "Validation accuracy 0.1767337807606264\n",
            "Validation f1 0.18130316747026756\n",
            "Epoch:  38\n"
          ]
        },
        {
          "output_type": "stream",
          "name": "stderr",
          "text": [
            "/usr/local/lib/python3.7/dist-packages/ipykernel_launcher.py:33: UserWarning: To copy construct from a tensor, it is recommended to use sourceTensor.clone().detach() or sourceTensor.clone().detach().requires_grad_(True), rather than torch.tensor(sourceTensor).\n"
          ]
        },
        {
          "output_type": "stream",
          "name": "stdout",
          "text": [
            "Train_loss:  0.16722323941732092\n",
            "Valid_loss:  0.16449538139360292\n",
            "Validation accuracy 0.19463087248322147\n",
            "Validation f1 0.18610157616280934\n",
            "Epoch:  39\n"
          ]
        },
        {
          "output_type": "stream",
          "name": "stderr",
          "text": [
            "/usr/local/lib/python3.7/dist-packages/ipykernel_launcher.py:33: UserWarning: To copy construct from a tensor, it is recommended to use sourceTensor.clone().detach() or sourceTensor.clone().detach().requires_grad_(True), rather than torch.tensor(sourceTensor).\n"
          ]
        },
        {
          "output_type": "stream",
          "name": "stdout",
          "text": [
            "Train_loss:  0.16556183428370527\n",
            "Valid_loss:  0.16284374307308877\n",
            "Validation accuracy 0.203579418344519\n",
            "Validation f1 0.19870193055695914\n",
            "Epoch:  40\n"
          ]
        },
        {
          "output_type": "stream",
          "name": "stderr",
          "text": [
            "/usr/local/lib/python3.7/dist-packages/ipykernel_launcher.py:33: UserWarning: To copy construct from a tensor, it is recommended to use sourceTensor.clone().detach() or sourceTensor.clone().detach().requires_grad_(True), rather than torch.tensor(sourceTensor).\n"
          ]
        },
        {
          "output_type": "stream",
          "name": "stdout",
          "text": [
            "Train_loss:  0.16385697846167854\n",
            "Valid_loss:  0.16115244132067477\n",
            "Validation accuracy 0.21252796420581654\n",
            "Validation f1 0.21214129172892948\n",
            "Epoch:  41\n"
          ]
        },
        {
          "output_type": "stream",
          "name": "stderr",
          "text": [
            "/usr/local/lib/python3.7/dist-packages/ipykernel_launcher.py:33: UserWarning: To copy construct from a tensor, it is recommended to use sourceTensor.clone().detach() or sourceTensor.clone().detach().requires_grad_(True), rather than torch.tensor(sourceTensor).\n"
          ]
        },
        {
          "output_type": "stream",
          "name": "stdout",
          "text": [
            "Train_loss:  0.16211132362617978\n",
            "Valid_loss:  0.1594244587634291\n",
            "Validation accuracy 0.23042505592841164\n",
            "Validation f1 0.23046968273424698\n",
            "Epoch:  42\n"
          ]
        },
        {
          "output_type": "stream",
          "name": "stderr",
          "text": [
            "/usr/local/lib/python3.7/dist-packages/ipykernel_launcher.py:33: UserWarning: To copy construct from a tensor, it is recommended to use sourceTensor.clone().detach() or sourceTensor.clone().detach().requires_grad_(True), rather than torch.tensor(sourceTensor).\n"
          ]
        },
        {
          "output_type": "stream",
          "name": "stdout",
          "text": [
            "Train_loss:  0.16032773658766278\n",
            "Valid_loss:  0.15766384053443158\n",
            "Validation accuracy 0.2483221476510067\n",
            "Validation f1 0.24188125909101574\n",
            "Epoch:  43\n"
          ]
        },
        {
          "output_type": "stream",
          "name": "stderr",
          "text": [
            "/usr/local/lib/python3.7/dist-packages/ipykernel_launcher.py:33: UserWarning: To copy construct from a tensor, it is recommended to use sourceTensor.clone().detach() or sourceTensor.clone().detach().requires_grad_(True), rather than torch.tensor(sourceTensor).\n"
          ]
        },
        {
          "output_type": "stream",
          "name": "stdout",
          "text": [
            "Train_loss:  0.1585092657977449\n",
            "Valid_loss:  0.15587462564664228\n",
            "Validation accuracy 0.25279642058165547\n",
            "Validation f1 0.25237217236733944\n",
            "Epoch:  44\n"
          ]
        },
        {
          "output_type": "stream",
          "name": "stderr",
          "text": [
            "/usr/local/lib/python3.7/dist-packages/ipykernel_launcher.py:33: UserWarning: To copy construct from a tensor, it is recommended to use sourceTensor.clone().detach() or sourceTensor.clone().detach().requires_grad_(True), rather than torch.tensor(sourceTensor).\n"
          ]
        },
        {
          "output_type": "stream",
          "name": "stdout",
          "text": [
            "Train_loss:  0.15665927336418203\n",
            "Valid_loss:  0.15406161320528813\n",
            "Validation accuracy 0.25727069351230425\n",
            "Validation f1 0.26178620792082113\n",
            "Epoch:  45\n"
          ]
        },
        {
          "output_type": "stream",
          "name": "stderr",
          "text": [
            "/usr/local/lib/python3.7/dist-packages/ipykernel_launcher.py:33: UserWarning: To copy construct from a tensor, it is recommended to use sourceTensor.clone().detach() or sourceTensor.clone().detach().requires_grad_(True), rather than torch.tensor(sourceTensor).\n"
          ]
        },
        {
          "output_type": "stream",
          "name": "stdout",
          "text": [
            "Train_loss:  0.15478168866996253\n",
            "Valid_loss:  0.1522300194150635\n",
            "Validation accuracy 0.2662192393736018\n",
            "Validation f1 0.2652392296310442\n",
            "Epoch:  46\n"
          ]
        },
        {
          "output_type": "stream",
          "name": "stderr",
          "text": [
            "/usr/local/lib/python3.7/dist-packages/ipykernel_launcher.py:33: UserWarning: To copy construct from a tensor, it is recommended to use sourceTensor.clone().detach() or sourceTensor.clone().detach().requires_grad_(True), rather than torch.tensor(sourceTensor).\n"
          ]
        },
        {
          "output_type": "stream",
          "name": "stdout",
          "text": [
            "Train_loss:  0.15288126708141395\n",
            "Valid_loss:  0.15038390856768405\n",
            "Validation accuracy 0.2796420581655481\n",
            "Validation f1 0.2741743838622184\n",
            "Epoch:  47\n"
          ]
        },
        {
          "output_type": "stream",
          "name": "stderr",
          "text": [
            "/usr/local/lib/python3.7/dist-packages/ipykernel_launcher.py:33: UserWarning: To copy construct from a tensor, it is recommended to use sourceTensor.clone().detach() or sourceTensor.clone().detach().requires_grad_(True), rather than torch.tensor(sourceTensor).\n"
          ]
        },
        {
          "output_type": "stream",
          "name": "stdout",
          "text": [
            "Train_loss:  0.15096250143168227\n",
            "Valid_loss:  0.14852855753685748\n",
            "Validation accuracy 0.29082774049217003\n",
            "Validation f1 0.279495524923857\n",
            "Epoch:  48\n"
          ]
        },
        {
          "output_type": "stream",
          "name": "stderr",
          "text": [
            "/usr/local/lib/python3.7/dist-packages/ipykernel_launcher.py:33: UserWarning: To copy construct from a tensor, it is recommended to use sourceTensor.clone().detach() or sourceTensor.clone().detach().requires_grad_(True), rather than torch.tensor(sourceTensor).\n"
          ]
        },
        {
          "output_type": "stream",
          "name": "stdout",
          "text": [
            "Train_loss:  0.14903032962631965\n",
            "Valid_loss:  0.14666925077991827\n",
            "Validation accuracy 0.3042505592841163\n",
            "Validation f1 0.2831115034251066\n",
            "Epoch:  49\n"
          ]
        },
        {
          "output_type": "stream",
          "name": "stderr",
          "text": [
            "/usr/local/lib/python3.7/dist-packages/ipykernel_launcher.py:33: UserWarning: To copy construct from a tensor, it is recommended to use sourceTensor.clone().detach() or sourceTensor.clone().detach().requires_grad_(True), rather than torch.tensor(sourceTensor).\n"
          ]
        },
        {
          "output_type": "stream",
          "name": "stdout",
          "text": [
            "Train_loss:  0.1470895519014448\n",
            "Valid_loss:  0.14481147511729173\n",
            "Validation accuracy 0.3131991051454139\n",
            "Validation f1 0.2837397311956493\n",
            "Epoch:  50\n"
          ]
        },
        {
          "output_type": "stream",
          "name": "stderr",
          "text": [
            "/usr/local/lib/python3.7/dist-packages/ipykernel_launcher.py:33: UserWarning: To copy construct from a tensor, it is recommended to use sourceTensor.clone().detach() or sourceTensor.clone().detach().requires_grad_(True), rather than torch.tensor(sourceTensor).\n"
          ]
        },
        {
          "output_type": "stream",
          "name": "stdout",
          "text": [
            "Train_loss:  0.1451455904503486\n",
            "Valid_loss:  0.14296011786375726\n",
            "Validation accuracy 0.3221476510067114\n",
            "Validation f1 0.2850861185052044\n",
            "Epoch:  51\n"
          ]
        },
        {
          "output_type": "stream",
          "name": "stderr",
          "text": [
            "/usr/local/lib/python3.7/dist-packages/ipykernel_launcher.py:33: UserWarning: To copy construct from a tensor, it is recommended to use sourceTensor.clone().detach() or sourceTensor.clone().detach().requires_grad_(True), rather than torch.tensor(sourceTensor).\n"
          ]
        },
        {
          "output_type": "stream",
          "name": "stdout",
          "text": [
            "Train_loss:  0.14320372211347734\n",
            "Valid_loss:  0.1411202581865447\n",
            "Validation accuracy 0.33557046979865773\n",
            "Validation f1 0.28492214344292216\n",
            "Epoch:  52\n"
          ]
        },
        {
          "output_type": "stream",
          "name": "stderr",
          "text": [
            "/usr/local/lib/python3.7/dist-packages/ipykernel_launcher.py:33: UserWarning: To copy construct from a tensor, it is recommended to use sourceTensor.clone().detach() or sourceTensor.clone().detach().requires_grad_(True), rather than torch.tensor(sourceTensor).\n"
          ]
        },
        {
          "output_type": "stream",
          "name": "stdout",
          "text": [
            "Train_loss:  0.1412688140823905\n",
            "Valid_loss:  0.13929605084870542\n",
            "Validation accuracy 0.3378076062639821\n",
            "Validation f1 0.2858514482665287\n",
            "Epoch:  53\n"
          ]
        },
        {
          "output_type": "stream",
          "name": "stderr",
          "text": [
            "/usr/local/lib/python3.7/dist-packages/ipykernel_launcher.py:33: UserWarning: To copy construct from a tensor, it is recommended to use sourceTensor.clone().detach() or sourceTensor.clone().detach().requires_grad_(True), rather than torch.tensor(sourceTensor).\n"
          ]
        },
        {
          "output_type": "stream",
          "name": "stdout",
          "text": [
            "Train_loss:  0.13934559165500104\n",
            "Valid_loss:  0.1374923669333969\n",
            "Validation accuracy 0.3422818791946309\n",
            "Validation f1 0.2870793133665057\n",
            "Epoch:  54\n"
          ]
        },
        {
          "output_type": "stream",
          "name": "stderr",
          "text": [
            "/usr/local/lib/python3.7/dist-packages/ipykernel_launcher.py:33: UserWarning: To copy construct from a tensor, it is recommended to use sourceTensor.clone().detach() or sourceTensor.clone().detach().requires_grad_(True), rather than torch.tensor(sourceTensor).\n"
          ]
        },
        {
          "output_type": "stream",
          "name": "stdout",
          "text": [
            "Train_loss:  0.1374388541693666\n",
            "Valid_loss:  0.13571304415485688\n",
            "Validation accuracy 0.3422818791946309\n",
            "Validation f1 0.2865921097384958\n",
            "Epoch:  55\n"
          ]
        },
        {
          "output_type": "stream",
          "name": "stderr",
          "text": [
            "/usr/local/lib/python3.7/dist-packages/ipykernel_launcher.py:33: UserWarning: To copy construct from a tensor, it is recommended to use sourceTensor.clone().detach() or sourceTensor.clone().detach().requires_grad_(True), rather than torch.tensor(sourceTensor).\n"
          ]
        },
        {
          "output_type": "stream",
          "name": "stdout",
          "text": [
            "Train_loss:  0.1355530222478722\n",
            "Valid_loss:  0.13396160104977234\n",
            "Validation accuracy 0.34451901565995524\n",
            "Validation f1 0.28539064297488165\n",
            "Epoch:  56\n"
          ]
        },
        {
          "output_type": "stream",
          "name": "stderr",
          "text": [
            "/usr/local/lib/python3.7/dist-packages/ipykernel_launcher.py:33: UserWarning: To copy construct from a tensor, it is recommended to use sourceTensor.clone().detach() or sourceTensor.clone().detach().requires_grad_(True), rather than torch.tensor(sourceTensor).\n"
          ]
        },
        {
          "output_type": "stream",
          "name": "stdout",
          "text": [
            "Train_loss:  0.13369212056776242\n",
            "Valid_loss:  0.13224155362695456\n",
            "Validation accuracy 0.34451901565995524\n",
            "Validation f1 0.2852549024033384\n",
            "Epoch:  57\n"
          ]
        },
        {
          "output_type": "stream",
          "name": "stderr",
          "text": [
            "/usr/local/lib/python3.7/dist-packages/ipykernel_launcher.py:33: UserWarning: To copy construct from a tensor, it is recommended to use sourceTensor.clone().detach() or sourceTensor.clone().detach().requires_grad_(True), rather than torch.tensor(sourceTensor).\n"
          ]
        },
        {
          "output_type": "stream",
          "name": "stdout",
          "text": [
            "Train_loss:  0.13185978082141706\n",
            "Valid_loss:  0.1305562245792576\n",
            "Validation accuracy 0.3534675615212528\n",
            "Validation f1 0.2863630693247785\n",
            "Epoch:  58\n"
          ]
        },
        {
          "output_type": "stream",
          "name": "stderr",
          "text": [
            "/usr/local/lib/python3.7/dist-packages/ipykernel_launcher.py:33: UserWarning: To copy construct from a tensor, it is recommended to use sourceTensor.clone().detach() or sourceTensor.clone().detach().requires_grad_(True), rather than torch.tensor(sourceTensor).\n"
          ]
        },
        {
          "output_type": "stream",
          "name": "stdout",
          "text": [
            "Train_loss:  0.13005916860752872\n",
            "Valid_loss:  0.12890765736145632\n",
            "Validation accuracy 0.3579418344519016\n",
            "Validation f1 0.2867603465206645\n",
            "Epoch:  59\n"
          ]
        },
        {
          "output_type": "stream",
          "name": "stderr",
          "text": [
            "/usr/local/lib/python3.7/dist-packages/ipykernel_launcher.py:33: UserWarning: To copy construct from a tensor, it is recommended to use sourceTensor.clone().detach() or sourceTensor.clone().detach().requires_grad_(True), rather than torch.tensor(sourceTensor).\n"
          ]
        },
        {
          "output_type": "stream",
          "name": "stdout",
          "text": [
            "Train_loss:  0.12829263731172041\n",
            "Valid_loss:  0.12729778486703122\n",
            "Validation accuracy 0.36465324384787473\n",
            "Validation f1 0.28856436422237036\n",
            "Epoch:  60\n"
          ]
        },
        {
          "output_type": "stream",
          "name": "stderr",
          "text": [
            "/usr/local/lib/python3.7/dist-packages/ipykernel_launcher.py:33: UserWarning: To copy construct from a tensor, it is recommended to use sourceTensor.clone().detach() or sourceTensor.clone().detach().requires_grad_(True), rather than torch.tensor(sourceTensor).\n"
          ]
        },
        {
          "output_type": "stream",
          "name": "stdout",
          "text": [
            "Train_loss:  0.12656239167387998\n",
            "Valid_loss:  0.12572842171149595\n",
            "Validation accuracy 0.3691275167785235\n",
            "Validation f1 0.2900449226537478\n",
            "Epoch:  61\n"
          ]
        },
        {
          "output_type": "stream",
          "name": "stderr",
          "text": [
            "/usr/local/lib/python3.7/dist-packages/ipykernel_launcher.py:33: UserWarning: To copy construct from a tensor, it is recommended to use sourceTensor.clone().detach() or sourceTensor.clone().detach().requires_grad_(True), rather than torch.tensor(sourceTensor).\n"
          ]
        },
        {
          "output_type": "stream",
          "name": "stdout",
          "text": [
            "Train_loss:  0.12487024541145988\n",
            "Valid_loss:  0.12420014704444579\n",
            "Validation accuracy 0.37583892617449666\n",
            "Validation f1 0.29068786621066095\n",
            "Epoch:  62\n"
          ]
        },
        {
          "output_type": "stream",
          "name": "stderr",
          "text": [
            "/usr/local/lib/python3.7/dist-packages/ipykernel_launcher.py:33: UserWarning: To copy construct from a tensor, it is recommended to use sourceTensor.clone().detach() or sourceTensor.clone().detach().requires_grad_(True), rather than torch.tensor(sourceTensor).\n"
          ]
        },
        {
          "output_type": "stream",
          "name": "stdout",
          "text": [
            "Train_loss:  0.12321731298496681\n",
            "Valid_loss:  0.12271444552711078\n",
            "Validation accuracy 0.378076062639821\n",
            "Validation f1 0.29246815579143515\n",
            "Epoch:  63\n"
          ]
        },
        {
          "output_type": "stream",
          "name": "stderr",
          "text": [
            "/usr/local/lib/python3.7/dist-packages/ipykernel_launcher.py:33: UserWarning: To copy construct from a tensor, it is recommended to use sourceTensor.clone().detach() or sourceTensor.clone().detach().requires_grad_(True), rather than torch.tensor(sourceTensor).\n"
          ]
        },
        {
          "output_type": "stream",
          "name": "stdout",
          "text": [
            "Train_loss:  0.12160442124253937\n",
            "Valid_loss:  0.12127083340393645\n",
            "Validation accuracy 0.3825503355704698\n",
            "Validation f1 0.29334503567579395\n",
            "Epoch:  64\n"
          ]
        },
        {
          "output_type": "stream",
          "name": "stderr",
          "text": [
            "/usr/local/lib/python3.7/dist-packages/ipykernel_launcher.py:33: UserWarning: To copy construct from a tensor, it is recommended to use sourceTensor.clone().detach() or sourceTensor.clone().detach().requires_grad_(True), rather than torch.tensor(sourceTensor).\n"
          ]
        },
        {
          "output_type": "stream",
          "name": "stdout",
          "text": [
            "Train_loss:  0.12003204203210771\n",
            "Valid_loss:  0.11986933941287654\n",
            "Validation accuracy 0.39149888143176736\n",
            "Validation f1 0.29380589012212927\n",
            "Epoch:  65\n"
          ]
        },
        {
          "output_type": "stream",
          "name": "stderr",
          "text": [
            "/usr/local/lib/python3.7/dist-packages/ipykernel_launcher.py:33: UserWarning: To copy construct from a tensor, it is recommended to use sourceTensor.clone().detach() or sourceTensor.clone().detach().requires_grad_(True), rather than torch.tensor(sourceTensor).\n"
          ]
        },
        {
          "output_type": "stream",
          "name": "stdout",
          "text": [
            "Train_loss:  0.11850020874823843\n",
            "Valid_loss:  0.1185096963973982\n",
            "Validation accuracy 0.39149888143176736\n",
            "Validation f1 0.29470392094019265\n",
            "Epoch:  66\n"
          ]
        },
        {
          "output_type": "stream",
          "name": "stderr",
          "text": [
            "/usr/local/lib/python3.7/dist-packages/ipykernel_launcher.py:33: UserWarning: To copy construct from a tensor, it is recommended to use sourceTensor.clone().detach() or sourceTensor.clone().detach().requires_grad_(True), rather than torch.tensor(sourceTensor).\n"
          ]
        },
        {
          "output_type": "stream",
          "name": "stdout",
          "text": [
            "Train_loss:  0.11700864643457212\n",
            "Valid_loss:  0.11719068485711302\n",
            "Validation accuracy 0.3959731543624161\n",
            "Validation f1 0.2962266483465112\n",
            "Epoch:  67\n"
          ]
        },
        {
          "output_type": "stream",
          "name": "stderr",
          "text": [
            "/usr/local/lib/python3.7/dist-packages/ipykernel_launcher.py:33: UserWarning: To copy construct from a tensor, it is recommended to use sourceTensor.clone().detach() or sourceTensor.clone().detach().requires_grad_(True), rather than torch.tensor(sourceTensor).\n"
          ]
        },
        {
          "output_type": "stream",
          "name": "stdout",
          "text": [
            "Train_loss:  0.11555666637806487\n",
            "Valid_loss:  0.11591169437659639\n",
            "Validation accuracy 0.3982102908277405\n",
            "Validation f1 0.2989524823745892\n",
            "Epoch:  68\n"
          ]
        },
        {
          "output_type": "stream",
          "name": "stderr",
          "text": [
            "/usr/local/lib/python3.7/dist-packages/ipykernel_launcher.py:33: UserWarning: To copy construct from a tensor, it is recommended to use sourceTensor.clone().detach() or sourceTensor.clone().detach().requires_grad_(True), rather than torch.tensor(sourceTensor).\n"
          ]
        },
        {
          "output_type": "stream",
          "name": "stdout",
          "text": [
            "Train_loss:  0.11414358177821018\n",
            "Valid_loss:  0.11467166391334363\n",
            "Validation accuracy 0.42058165548098436\n",
            "Validation f1 0.3069919469642573\n",
            "Epoch:  69\n"
          ]
        },
        {
          "output_type": "stream",
          "name": "stderr",
          "text": [
            "/usr/local/lib/python3.7/dist-packages/ipykernel_launcher.py:33: UserWarning: To copy construct from a tensor, it is recommended to use sourceTensor.clone().detach() or sourceTensor.clone().detach().requires_grad_(True), rather than torch.tensor(sourceTensor).\n"
          ]
        },
        {
          "output_type": "stream",
          "name": "stdout",
          "text": [
            "Train_loss:  0.112768305399056\n",
            "Valid_loss:  0.11346928123384714\n",
            "Validation accuracy 0.4228187919463087\n",
            "Validation f1 0.30772082010213425\n",
            "Epoch:  70\n"
          ]
        },
        {
          "output_type": "stream",
          "name": "stderr",
          "text": [
            "/usr/local/lib/python3.7/dist-packages/ipykernel_launcher.py:33: UserWarning: To copy construct from a tensor, it is recommended to use sourceTensor.clone().detach() or sourceTensor.clone().detach().requires_grad_(True), rather than torch.tensor(sourceTensor).\n"
          ]
        },
        {
          "output_type": "stream",
          "name": "stdout",
          "text": [
            "Train_loss:  0.1114297442005149\n",
            "Valid_loss:  0.1123027592631323\n",
            "Validation accuracy 0.4272930648769575\n",
            "Validation f1 0.30777089501944366\n",
            "Epoch:  71\n"
          ]
        },
        {
          "output_type": "stream",
          "name": "stderr",
          "text": [
            "/usr/local/lib/python3.7/dist-packages/ipykernel_launcher.py:33: UserWarning: To copy construct from a tensor, it is recommended to use sourceTensor.clone().detach() or sourceTensor.clone().detach().requires_grad_(True), rather than torch.tensor(sourceTensor).\n"
          ]
        },
        {
          "output_type": "stream",
          "name": "stdout",
          "text": [
            "Train_loss:  0.11012651111065809\n",
            "Valid_loss:  0.11117054708302021\n",
            "Validation accuracy 0.42953020134228187\n",
            "Validation f1 0.3092915399240151\n",
            "Epoch:  72\n"
          ]
        },
        {
          "output_type": "stream",
          "name": "stderr",
          "text": [
            "/usr/local/lib/python3.7/dist-packages/ipykernel_launcher.py:33: UserWarning: To copy construct from a tensor, it is recommended to use sourceTensor.clone().detach() or sourceTensor.clone().detach().requires_grad_(True), rather than torch.tensor(sourceTensor).\n"
          ]
        },
        {
          "output_type": "stream",
          "name": "stdout",
          "text": [
            "Train_loss:  0.1088569096090006\n",
            "Valid_loss:  0.1100711774613176\n",
            "Validation accuracy 0.42953020134228187\n",
            "Validation f1 0.30967099534991016\n",
            "Epoch:  73\n"
          ]
        },
        {
          "output_type": "stream",
          "name": "stderr",
          "text": [
            "/usr/local/lib/python3.7/dist-packages/ipykernel_launcher.py:33: UserWarning: To copy construct from a tensor, it is recommended to use sourceTensor.clone().detach() or sourceTensor.clone().detach().requires_grad_(True), rather than torch.tensor(sourceTensor).\n"
          ]
        },
        {
          "output_type": "stream",
          "name": "stdout",
          "text": [
            "Train_loss:  0.10761962759508086\n",
            "Valid_loss:  0.10900334707860436\n",
            "Validation accuracy 0.43400447427293065\n",
            "Validation f1 0.3112533472271776\n",
            "Epoch:  74\n"
          ]
        },
        {
          "output_type": "stream",
          "name": "stderr",
          "text": [
            "/usr/local/lib/python3.7/dist-packages/ipykernel_launcher.py:33: UserWarning: To copy construct from a tensor, it is recommended to use sourceTensor.clone().detach() or sourceTensor.clone().detach().requires_grad_(True), rather than torch.tensor(sourceTensor).\n"
          ]
        },
        {
          "output_type": "stream",
          "name": "stdout",
          "text": [
            "Train_loss:  0.10641318797466479\n",
            "Valid_loss:  0.10796498813267265\n",
            "Validation accuracy 0.4407158836689038\n",
            "Validation f1 0.31585166949129373\n",
            "Epoch:  75\n"
          ]
        },
        {
          "output_type": "stream",
          "name": "stderr",
          "text": [
            "/usr/local/lib/python3.7/dist-packages/ipykernel_launcher.py:33: UserWarning: To copy construct from a tensor, it is recommended to use sourceTensor.clone().detach() or sourceTensor.clone().detach().requires_grad_(True), rather than torch.tensor(sourceTensor).\n"
          ]
        },
        {
          "output_type": "stream",
          "name": "stdout",
          "text": [
            "Train_loss:  0.10523595098805215\n",
            "Valid_loss:  0.10695460917694229\n",
            "Validation accuracy 0.4451901565995526\n",
            "Validation f1 0.32531207470968837\n",
            "Epoch:  76\n"
          ]
        },
        {
          "output_type": "stream",
          "name": "stderr",
          "text": [
            "/usr/local/lib/python3.7/dist-packages/ipykernel_launcher.py:33: UserWarning: To copy construct from a tensor, it is recommended to use sourceTensor.clone().detach() or sourceTensor.clone().detach().requires_grad_(True), rather than torch.tensor(sourceTensor).\n"
          ]
        },
        {
          "output_type": "stream",
          "name": "stdout",
          "text": [
            "Train_loss:  0.10408641693980566\n",
            "Valid_loss:  0.1059705141399588\n",
            "Validation accuracy 0.44966442953020136\n",
            "Validation f1 0.3288322829437178\n",
            "Epoch:  77\n"
          ]
        },
        {
          "output_type": "stream",
          "name": "stderr",
          "text": [
            "/usr/local/lib/python3.7/dist-packages/ipykernel_launcher.py:33: UserWarning: To copy construct from a tensor, it is recommended to use sourceTensor.clone().detach() or sourceTensor.clone().detach().requires_grad_(True), rather than torch.tensor(sourceTensor).\n"
          ]
        },
        {
          "output_type": "stream",
          "name": "stdout",
          "text": [
            "Train_loss:  0.10296306205314718\n",
            "Valid_loss:  0.1050110472632306\n",
            "Validation accuracy 0.4608501118568233\n",
            "Validation f1 0.333447638016296\n",
            "Epoch:  78\n"
          ]
        },
        {
          "output_type": "stream",
          "name": "stderr",
          "text": [
            "/usr/local/lib/python3.7/dist-packages/ipykernel_launcher.py:33: UserWarning: To copy construct from a tensor, it is recommended to use sourceTensor.clone().detach() or sourceTensor.clone().detach().requires_grad_(True), rather than torch.tensor(sourceTensor).\n"
          ]
        },
        {
          "output_type": "stream",
          "name": "stdout",
          "text": [
            "Train_loss:  0.10186421345653278\n",
            "Valid_loss:  0.10407500221793141\n",
            "Validation accuracy 0.46756152125279643\n",
            "Validation f1 0.34054338708322995\n",
            "Epoch:  79\n"
          ]
        },
        {
          "output_type": "stream",
          "name": "stderr",
          "text": [
            "/usr/local/lib/python3.7/dist-packages/ipykernel_launcher.py:33: UserWarning: To copy construct from a tensor, it is recommended to use sourceTensor.clone().detach() or sourceTensor.clone().detach().requires_grad_(True), rather than torch.tensor(sourceTensor).\n"
          ]
        },
        {
          "output_type": "stream",
          "name": "stdout",
          "text": [
            "Train_loss:  0.10078855838427055\n",
            "Valid_loss:  0.10316112331513848\n",
            "Validation accuracy 0.4720357941834452\n",
            "Validation f1 0.3457005326170384\n",
            "Epoch:  80\n"
          ]
        },
        {
          "output_type": "stream",
          "name": "stderr",
          "text": [
            "/usr/local/lib/python3.7/dist-packages/ipykernel_launcher.py:33: UserWarning: To copy construct from a tensor, it is recommended to use sourceTensor.clone().detach() or sourceTensor.clone().detach().requires_grad_(True), rather than torch.tensor(sourceTensor).\n"
          ]
        },
        {
          "output_type": "stream",
          "name": "stdout",
          "text": [
            "Train_loss:  0.0997348110956539\n",
            "Valid_loss:  0.10226832010916301\n",
            "Validation accuracy 0.4809843400447427\n",
            "Validation f1 0.35080912986277896\n",
            "Epoch:  81\n"
          ]
        },
        {
          "output_type": "stream",
          "name": "stderr",
          "text": [
            "/usr/local/lib/python3.7/dist-packages/ipykernel_launcher.py:33: UserWarning: To copy construct from a tensor, it is recommended to use sourceTensor.clone().detach() or sourceTensor.clone().detach().requires_grad_(True), rather than torch.tensor(sourceTensor).\n"
          ]
        },
        {
          "output_type": "stream",
          "name": "stdout",
          "text": [
            "Train_loss:  0.09870170944902514\n",
            "Valid_loss:  0.10139511059969664\n",
            "Validation accuracy 0.4854586129753915\n",
            "Validation f1 0.36787047145475466\n",
            "Epoch:  82\n"
          ]
        },
        {
          "output_type": "stream",
          "name": "stderr",
          "text": [
            "/usr/local/lib/python3.7/dist-packages/ipykernel_launcher.py:33: UserWarning: To copy construct from a tensor, it is recommended to use sourceTensor.clone().detach() or sourceTensor.clone().detach().requires_grad_(True), rather than torch.tensor(sourceTensor).\n"
          ]
        },
        {
          "output_type": "stream",
          "name": "stdout",
          "text": [
            "Train_loss:  0.0976880801608786\n",
            "Valid_loss:  0.10054022146921072\n",
            "Validation accuracy 0.49217002237136465\n",
            "Validation f1 0.37627177775079784\n",
            "Epoch:  83\n"
          ]
        },
        {
          "output_type": "stream",
          "name": "stderr",
          "text": [
            "/usr/local/lib/python3.7/dist-packages/ipykernel_launcher.py:33: UserWarning: To copy construct from a tensor, it is recommended to use sourceTensor.clone().detach() or sourceTensor.clone().detach().requires_grad_(True), rather than torch.tensor(sourceTensor).\n"
          ]
        },
        {
          "output_type": "stream",
          "name": "stdout",
          "text": [
            "Train_loss:  0.0966926217744393\n",
            "Valid_loss:  0.09970282909593411\n",
            "Validation accuracy 0.4966442953020134\n",
            "Validation f1 0.385863939974539\n",
            "Epoch:  84\n"
          ]
        },
        {
          "output_type": "stream",
          "name": "stderr",
          "text": [
            "/usr/local/lib/python3.7/dist-packages/ipykernel_launcher.py:33: UserWarning: To copy construct from a tensor, it is recommended to use sourceTensor.clone().detach() or sourceTensor.clone().detach().requires_grad_(True), rather than torch.tensor(sourceTensor).\n"
          ]
        },
        {
          "output_type": "stream",
          "name": "stdout",
          "text": [
            "Train_loss:  0.09571433541298445\n",
            "Valid_loss:  0.0988817826977798\n",
            "Validation accuracy 0.4988814317673378\n",
            "Validation f1 0.3878291100214388\n",
            "Epoch:  85\n"
          ]
        },
        {
          "output_type": "stream",
          "name": "stderr",
          "text": [
            "/usr/local/lib/python3.7/dist-packages/ipykernel_launcher.py:33: UserWarning: To copy construct from a tensor, it is recommended to use sourceTensor.clone().detach() or sourceTensor.clone().detach().requires_grad_(True), rather than torch.tensor(sourceTensor).\n"
          ]
        },
        {
          "output_type": "stream",
          "name": "stdout",
          "text": [
            "Train_loss:  0.09475232702347317\n",
            "Valid_loss:  0.09807601890393666\n",
            "Validation accuracy 0.5055928411633109\n",
            "Validation f1 0.3930677019375883\n",
            "Epoch:  86\n"
          ]
        },
        {
          "output_type": "stream",
          "name": "stderr",
          "text": [
            "/usr/local/lib/python3.7/dist-packages/ipykernel_launcher.py:33: UserWarning: To copy construct from a tensor, it is recommended to use sourceTensor.clone().detach() or sourceTensor.clone().detach().requires_grad_(True), rather than torch.tensor(sourceTensor).\n"
          ]
        },
        {
          "output_type": "stream",
          "name": "stdout",
          "text": [
            "Train_loss:  0.09380570710969291\n",
            "Valid_loss:  0.09728440928405949\n",
            "Validation accuracy 0.5123042505592841\n",
            "Validation f1 0.40521023413556007\n",
            "Epoch:  87\n"
          ]
        },
        {
          "output_type": "stream",
          "name": "stderr",
          "text": [
            "/usr/local/lib/python3.7/dist-packages/ipykernel_launcher.py:33: UserWarning: To copy construct from a tensor, it is recommended to use sourceTensor.clone().detach() or sourceTensor.clone().detach().requires_grad_(True), rather than torch.tensor(sourceTensor).\n"
          ]
        },
        {
          "output_type": "stream",
          "name": "stdout",
          "text": [
            "Train_loss:  0.09287327960399645\n",
            "Valid_loss:  0.09650691651872226\n",
            "Validation accuracy 0.5123042505592841\n",
            "Validation f1 0.407978802823678\n",
            "Epoch:  88\n"
          ]
        },
        {
          "output_type": "stream",
          "name": "stderr",
          "text": [
            "/usr/local/lib/python3.7/dist-packages/ipykernel_launcher.py:33: UserWarning: To copy construct from a tensor, it is recommended to use sourceTensor.clone().detach() or sourceTensor.clone().detach().requires_grad_(True), rather than torch.tensor(sourceTensor).\n"
          ]
        },
        {
          "output_type": "stream",
          "name": "stdout",
          "text": [
            "Train_loss:  0.0919548445880147\n",
            "Valid_loss:  0.09574253677523561\n",
            "Validation accuracy 0.5100671140939598\n",
            "Validation f1 0.41638346873013005\n",
            "Epoch:  89\n"
          ]
        },
        {
          "output_type": "stream",
          "name": "stderr",
          "text": [
            "/usr/local/lib/python3.7/dist-packages/ipykernel_launcher.py:33: UserWarning: To copy construct from a tensor, it is recommended to use sourceTensor.clone().detach() or sourceTensor.clone().detach().requires_grad_(True), rather than torch.tensor(sourceTensor).\n"
          ]
        },
        {
          "output_type": "stream",
          "name": "stdout",
          "text": [
            "Train_loss:  0.09104930983656752\n",
            "Valid_loss:  0.09499084457222905\n",
            "Validation accuracy 0.5123042505592841\n",
            "Validation f1 0.4197419269713065\n",
            "Epoch:  90\n"
          ]
        },
        {
          "output_type": "stream",
          "name": "stderr",
          "text": [
            "/usr/local/lib/python3.7/dist-packages/ipykernel_launcher.py:33: UserWarning: To copy construct from a tensor, it is recommended to use sourceTensor.clone().detach() or sourceTensor.clone().detach().requires_grad_(True), rather than torch.tensor(sourceTensor).\n"
          ]
        },
        {
          "output_type": "stream",
          "name": "stdout",
          "text": [
            "Train_loss:  0.09015615129776831\n",
            "Valid_loss:  0.0942510547382491\n",
            "Validation accuracy 0.5167785234899329\n",
            "Validation f1 0.4203034499703055\n",
            "Epoch:  91\n"
          ]
        },
        {
          "output_type": "stream",
          "name": "stderr",
          "text": [
            "/usr/local/lib/python3.7/dist-packages/ipykernel_launcher.py:33: UserWarning: To copy construct from a tensor, it is recommended to use sourceTensor.clone().detach() or sourceTensor.clone().detach().requires_grad_(True), rather than torch.tensor(sourceTensor).\n"
          ]
        },
        {
          "output_type": "stream",
          "name": "stdout",
          "text": [
            "Train_loss:  0.08927483841710325\n",
            "Valid_loss:  0.09352271418486323\n",
            "Validation accuracy 0.5212527964205816\n",
            "Validation f1 0.4270577463615151\n",
            "Epoch:  92\n"
          ]
        },
        {
          "output_type": "stream",
          "name": "stderr",
          "text": [
            "/usr/local/lib/python3.7/dist-packages/ipykernel_launcher.py:33: UserWarning: To copy construct from a tensor, it is recommended to use sourceTensor.clone().detach() or sourceTensor.clone().detach().requires_grad_(True), rather than torch.tensor(sourceTensor).\n"
          ]
        },
        {
          "output_type": "stream",
          "name": "stdout",
          "text": [
            "Train_loss:  0.08840490061057997\n",
            "Valid_loss:  0.09280515269243292\n",
            "Validation accuracy 0.5302013422818792\n",
            "Validation f1 0.43495286878504713\n",
            "Epoch:  93\n"
          ]
        },
        {
          "output_type": "stream",
          "name": "stderr",
          "text": [
            "/usr/local/lib/python3.7/dist-packages/ipykernel_launcher.py:33: UserWarning: To copy construct from a tensor, it is recommended to use sourceTensor.clone().detach() or sourceTensor.clone().detach().requires_grad_(True), rather than torch.tensor(sourceTensor).\n"
          ]
        },
        {
          "output_type": "stream",
          "name": "stdout",
          "text": [
            "Train_loss:  0.0875457967964134\n",
            "Valid_loss:  0.09209847250687224\n",
            "Validation accuracy 0.5302013422818792\n",
            "Validation f1 0.4353717692673592\n",
            "Epoch:  94\n"
          ]
        },
        {
          "output_type": "stream",
          "name": "stderr",
          "text": [
            "/usr/local/lib/python3.7/dist-packages/ipykernel_launcher.py:33: UserWarning: To copy construct from a tensor, it is recommended to use sourceTensor.clone().detach() or sourceTensor.clone().detach().requires_grad_(True), rather than torch.tensor(sourceTensor).\n"
          ]
        },
        {
          "output_type": "stream",
          "name": "stdout",
          "text": [
            "Train_loss:  0.08669725883685585\n",
            "Valid_loss:  0.09140237680237208\n",
            "Validation accuracy 0.5302013422818792\n",
            "Validation f1 0.43491587428016704\n",
            "Epoch:  95\n"
          ]
        },
        {
          "output_type": "stream",
          "name": "stderr",
          "text": [
            "/usr/local/lib/python3.7/dist-packages/ipykernel_launcher.py:33: UserWarning: To copy construct from a tensor, it is recommended to use sourceTensor.clone().detach() or sourceTensor.clone().detach().requires_grad_(True), rather than torch.tensor(sourceTensor).\n"
          ]
        },
        {
          "output_type": "stream",
          "name": "stdout",
          "text": [
            "Train_loss:  0.08585903189876783\n",
            "Valid_loss:  0.0907171958658312\n",
            "Validation accuracy 0.5369127516778524\n",
            "Validation f1 0.43716148428200974\n",
            "Epoch:  96\n"
          ]
        },
        {
          "output_type": "stream",
          "name": "stderr",
          "text": [
            "/usr/local/lib/python3.7/dist-packages/ipykernel_launcher.py:33: UserWarning: To copy construct from a tensor, it is recommended to use sourceTensor.clone().detach() or sourceTensor.clone().detach().requires_grad_(True), rather than torch.tensor(sourceTensor).\n"
          ]
        },
        {
          "output_type": "stream",
          "name": "stdout",
          "text": [
            "Train_loss:  0.08503087337261864\n",
            "Valid_loss:  0.09004139354718584\n",
            "Validation accuracy 0.5413870246085011\n",
            "Validation f1 0.43980975357632607\n",
            "Epoch:  97\n"
          ]
        },
        {
          "output_type": "stream",
          "name": "stderr",
          "text": [
            "/usr/local/lib/python3.7/dist-packages/ipykernel_launcher.py:33: UserWarning: To copy construct from a tensor, it is recommended to use sourceTensor.clone().detach() or sourceTensor.clone().detach().requires_grad_(True), rather than torch.tensor(sourceTensor).\n"
          ]
        },
        {
          "output_type": "stream",
          "name": "stdout",
          "text": [
            "Train_loss:  0.08421248205870922\n",
            "Valid_loss:  0.08937531430274248\n",
            "Validation accuracy 0.5413870246085011\n",
            "Validation f1 0.4386406515768868\n",
            "Epoch:  98\n"
          ]
        },
        {
          "output_type": "stream",
          "name": "stderr",
          "text": [
            "/usr/local/lib/python3.7/dist-packages/ipykernel_launcher.py:33: UserWarning: To copy construct from a tensor, it is recommended to use sourceTensor.clone().detach() or sourceTensor.clone().detach().requires_grad_(True), rather than torch.tensor(sourceTensor).\n"
          ]
        },
        {
          "output_type": "stream",
          "name": "stdout",
          "text": [
            "Train_loss:  0.08340362190002841\n",
            "Valid_loss:  0.08871896964098726\n",
            "Validation accuracy 0.5436241610738255\n",
            "Validation f1 0.43821935375934334\n",
            "Epoch:  99\n"
          ]
        },
        {
          "output_type": "stream",
          "name": "stderr",
          "text": [
            "/usr/local/lib/python3.7/dist-packages/ipykernel_launcher.py:33: UserWarning: To copy construct from a tensor, it is recommended to use sourceTensor.clone().detach() or sourceTensor.clone().detach().requires_grad_(True), rather than torch.tensor(sourceTensor).\n"
          ]
        },
        {
          "output_type": "stream",
          "name": "stdout",
          "text": [
            "Train_loss:  0.08260391530347988\n",
            "Valid_loss:  0.08807183715647884\n",
            "Validation accuracy 0.5436241610738255\n",
            "Validation f1 0.4407336946203852\n",
            "Epoch:  100\n"
          ]
        },
        {
          "output_type": "stream",
          "name": "stderr",
          "text": [
            "/usr/local/lib/python3.7/dist-packages/ipykernel_launcher.py:33: UserWarning: To copy construct from a tensor, it is recommended to use sourceTensor.clone().detach() or sourceTensor.clone().detach().requires_grad_(True), rather than torch.tensor(sourceTensor).\n"
          ]
        },
        {
          "output_type": "stream",
          "name": "stdout",
          "text": [
            "Train_loss:  0.08181332237186975\n",
            "Valid_loss:  0.08743390214762517\n",
            "Validation accuracy 0.5436241610738255\n",
            "Validation f1 0.4422616758822852\n",
            "Epoch:  101\n"
          ]
        },
        {
          "output_type": "stream",
          "name": "stderr",
          "text": [
            "/usr/local/lib/python3.7/dist-packages/ipykernel_launcher.py:33: UserWarning: To copy construct from a tensor, it is recommended to use sourceTensor.clone().detach() or sourceTensor.clone().detach().requires_grad_(True), rather than torch.tensor(sourceTensor).\n"
          ]
        },
        {
          "output_type": "stream",
          "name": "stdout",
          "text": [
            "Train_loss:  0.0810317630530335\n",
            "Valid_loss:  0.08680522348731756\n",
            "Validation accuracy 0.5436241610738255\n",
            "Validation f1 0.4422616758822852\n",
            "Epoch:  102\n"
          ]
        },
        {
          "output_type": "stream",
          "name": "stderr",
          "text": [
            "/usr/local/lib/python3.7/dist-packages/ipykernel_launcher.py:33: UserWarning: To copy construct from a tensor, it is recommended to use sourceTensor.clone().detach() or sourceTensor.clone().detach().requires_grad_(True), rather than torch.tensor(sourceTensor).\n"
          ]
        },
        {
          "output_type": "stream",
          "name": "stdout",
          "text": [
            "Train_loss:  0.0802589924174494\n",
            "Valid_loss:  0.08618546164195452\n",
            "Validation accuracy 0.5436241610738255\n",
            "Validation f1 0.4422616758822852\n",
            "Epoch:  103\n"
          ]
        },
        {
          "output_type": "stream",
          "name": "stderr",
          "text": [
            "/usr/local/lib/python3.7/dist-packages/ipykernel_launcher.py:33: UserWarning: To copy construct from a tensor, it is recommended to use sourceTensor.clone().detach() or sourceTensor.clone().detach().requires_grad_(True), rather than torch.tensor(sourceTensor).\n"
          ]
        },
        {
          "output_type": "stream",
          "name": "stdout",
          "text": [
            "Train_loss:  0.07949503565240386\n",
            "Valid_loss:  0.08557458048952478\n",
            "Validation accuracy 0.5436241610738255\n",
            "Validation f1 0.44432148126619037\n",
            "Epoch:  104\n"
          ]
        },
        {
          "output_type": "stream",
          "name": "stderr",
          "text": [
            "/usr/local/lib/python3.7/dist-packages/ipykernel_launcher.py:33: UserWarning: To copy construct from a tensor, it is recommended to use sourceTensor.clone().detach() or sourceTensor.clone().detach().requires_grad_(True), rather than torch.tensor(sourceTensor).\n"
          ]
        },
        {
          "output_type": "stream",
          "name": "stdout",
          "text": [
            "Train_loss:  0.07873949778565605\n",
            "Valid_loss:  0.08497273143646973\n",
            "Validation accuracy 0.5436241610738255\n",
            "Validation f1 0.4424120061104718\n",
            "Epoch:  105\n"
          ]
        },
        {
          "output_type": "stream",
          "name": "stderr",
          "text": [
            "/usr/local/lib/python3.7/dist-packages/ipykernel_launcher.py:33: UserWarning: To copy construct from a tensor, it is recommended to use sourceTensor.clone().detach() or sourceTensor.clone().detach().requires_grad_(True), rather than torch.tensor(sourceTensor).\n"
          ]
        },
        {
          "output_type": "stream",
          "name": "stdout",
          "text": [
            "Train_loss:  0.0779924594514471\n",
            "Valid_loss:  0.08437893725931644\n",
            "Validation accuracy 0.5436241610738255\n",
            "Validation f1 0.44110806246202744\n",
            "Epoch:  106\n"
          ]
        },
        {
          "output_type": "stream",
          "name": "stderr",
          "text": [
            "/usr/local/lib/python3.7/dist-packages/ipykernel_launcher.py:33: UserWarning: To copy construct from a tensor, it is recommended to use sourceTensor.clone().detach() or sourceTensor.clone().detach().requires_grad_(True), rather than torch.tensor(sourceTensor).\n"
          ]
        },
        {
          "output_type": "stream",
          "name": "stdout",
          "text": [
            "Train_loss:  0.07725385583138891\n",
            "Valid_loss:  0.08379400215510811\n",
            "Validation accuracy 0.5480984340044742\n",
            "Validation f1 0.4417444755413736\n",
            "Epoch:  107\n"
          ]
        },
        {
          "output_type": "stream",
          "name": "stderr",
          "text": [
            "/usr/local/lib/python3.7/dist-packages/ipykernel_launcher.py:33: UserWarning: To copy construct from a tensor, it is recommended to use sourceTensor.clone().detach() or sourceTensor.clone().detach().requires_grad_(True), rather than torch.tensor(sourceTensor).\n"
          ]
        },
        {
          "output_type": "stream",
          "name": "stdout",
          "text": [
            "Train_loss:  0.07652367267291993\n",
            "Valid_loss:  0.08321782507534538\n",
            "Validation accuracy 0.5548098434004475\n",
            "Validation f1 0.44401632958508835\n",
            "Epoch:  108\n"
          ]
        },
        {
          "output_type": "stream",
          "name": "stderr",
          "text": [
            "/usr/local/lib/python3.7/dist-packages/ipykernel_launcher.py:33: UserWarning: To copy construct from a tensor, it is recommended to use sourceTensor.clone().detach() or sourceTensor.clone().detach().requires_grad_(True), rather than torch.tensor(sourceTensor).\n"
          ]
        },
        {
          "output_type": "stream",
          "name": "stdout",
          "text": [
            "Train_loss:  0.07580168929416686\n",
            "Valid_loss:  0.08265003701671958\n",
            "Validation accuracy 0.5503355704697986\n",
            "Validation f1 0.4445158372701292\n",
            "Epoch:  109\n"
          ]
        },
        {
          "output_type": "stream",
          "name": "stderr",
          "text": [
            "/usr/local/lib/python3.7/dist-packages/ipykernel_launcher.py:33: UserWarning: To copy construct from a tensor, it is recommended to use sourceTensor.clone().detach() or sourceTensor.clone().detach().requires_grad_(True), rather than torch.tensor(sourceTensor).\n"
          ]
        },
        {
          "output_type": "stream",
          "name": "stdout",
          "text": [
            "Train_loss:  0.07508783858169668\n",
            "Valid_loss:  0.08209092855187398\n",
            "Validation accuracy 0.5570469798657718\n",
            "Validation f1 0.4495816805029905\n",
            "Epoch:  110\n"
          ]
        },
        {
          "output_type": "stream",
          "name": "stderr",
          "text": [
            "/usr/local/lib/python3.7/dist-packages/ipykernel_launcher.py:33: UserWarning: To copy construct from a tensor, it is recommended to use sourceTensor.clone().detach() or sourceTensor.clone().detach().requires_grad_(True), rather than torch.tensor(sourceTensor).\n"
          ]
        },
        {
          "output_type": "stream",
          "name": "stdout",
          "text": [
            "Train_loss:  0.07438219978939742\n",
            "Valid_loss:  0.08153934284512486\n",
            "Validation accuracy 0.5525727069351231\n",
            "Validation f1 0.44908675791185787\n",
            "Epoch:  111\n"
          ]
        },
        {
          "output_type": "stream",
          "name": "stderr",
          "text": [
            "/usr/local/lib/python3.7/dist-packages/ipykernel_launcher.py:33: UserWarning: To copy construct from a tensor, it is recommended to use sourceTensor.clone().detach() or sourceTensor.clone().detach().requires_grad_(True), rather than torch.tensor(sourceTensor).\n"
          ]
        },
        {
          "output_type": "stream",
          "name": "stdout",
          "text": [
            "Train_loss:  0.07368452587564077\n",
            "Valid_loss:  0.08099623117595911\n",
            "Validation accuracy 0.5548098434004475\n",
            "Validation f1 0.4499827143805698\n",
            "Epoch:  112\n"
          ]
        },
        {
          "output_type": "stream",
          "name": "stderr",
          "text": [
            "/usr/local/lib/python3.7/dist-packages/ipykernel_launcher.py:33: UserWarning: To copy construct from a tensor, it is recommended to use sourceTensor.clone().detach() or sourceTensor.clone().detach().requires_grad_(True), rather than torch.tensor(sourceTensor).\n"
          ]
        },
        {
          "output_type": "stream",
          "name": "stdout",
          "text": [
            "Train_loss:  0.07299487328522705\n",
            "Valid_loss:  0.08046090130561165\n",
            "Validation accuracy 0.5548098434004475\n",
            "Validation f1 0.4502407123165863\n",
            "Epoch:  113\n"
          ]
        },
        {
          "output_type": "stream",
          "name": "stderr",
          "text": [
            "/usr/local/lib/python3.7/dist-packages/ipykernel_launcher.py:33: UserWarning: To copy construct from a tensor, it is recommended to use sourceTensor.clone().detach() or sourceTensor.clone().detach().requires_grad_(True), rather than torch.tensor(sourceTensor).\n"
          ]
        },
        {
          "output_type": "stream",
          "name": "stdout",
          "text": [
            "Train_loss:  0.0723132891331001\n",
            "Valid_loss:  0.07993370287918619\n",
            "Validation accuracy 0.5592841163310962\n",
            "Validation f1 0.4553690956407103\n",
            "Epoch:  114\n"
          ]
        },
        {
          "output_type": "stream",
          "name": "stderr",
          "text": [
            "/usr/local/lib/python3.7/dist-packages/ipykernel_launcher.py:33: UserWarning: To copy construct from a tensor, it is recommended to use sourceTensor.clone().detach() or sourceTensor.clone().detach().requires_grad_(True), rather than torch.tensor(sourceTensor).\n"
          ]
        },
        {
          "output_type": "stream",
          "name": "stdout",
          "text": [
            "Train_loss:  0.07163933630467259\n",
            "Valid_loss:  0.07941432436928153\n",
            "Validation accuracy 0.5659955257270693\n",
            "Validation f1 0.45842820765635983\n",
            "Epoch:  115\n"
          ]
        },
        {
          "output_type": "stream",
          "name": "stderr",
          "text": [
            "/usr/local/lib/python3.7/dist-packages/ipykernel_launcher.py:33: UserWarning: To copy construct from a tensor, it is recommended to use sourceTensor.clone().detach() or sourceTensor.clone().detach().requires_grad_(True), rather than torch.tensor(sourceTensor).\n"
          ]
        },
        {
          "output_type": "stream",
          "name": "stdout",
          "text": [
            "Train_loss:  0.07097314456976685\n",
            "Valid_loss:  0.07890326416652117\n",
            "Validation accuracy 0.5659955257270693\n",
            "Validation f1 0.4611195952161684\n",
            "Epoch:  116\n"
          ]
        },
        {
          "output_type": "stream",
          "name": "stderr",
          "text": [
            "/usr/local/lib/python3.7/dist-packages/ipykernel_launcher.py:33: UserWarning: To copy construct from a tensor, it is recommended to use sourceTensor.clone().detach() or sourceTensor.clone().detach().requires_grad_(True), rather than torch.tensor(sourceTensor).\n"
          ]
        },
        {
          "output_type": "stream",
          "name": "stdout",
          "text": [
            "Train_loss:  0.07031486336407917\n",
            "Valid_loss:  0.078400129851486\n",
            "Validation accuracy 0.5659955257270693\n",
            "Validation f1 0.46255827317171994\n",
            "Epoch:  117\n"
          ]
        },
        {
          "output_type": "stream",
          "name": "stderr",
          "text": [
            "/usr/local/lib/python3.7/dist-packages/ipykernel_launcher.py:33: UserWarning: To copy construct from a tensor, it is recommended to use sourceTensor.clone().detach() or sourceTensor.clone().detach().requires_grad_(True), rather than torch.tensor(sourceTensor).\n"
          ]
        },
        {
          "output_type": "stream",
          "name": "stdout",
          "text": [
            "Train_loss:  0.06966422589695347\n",
            "Valid_loss:  0.07790443700339113\n",
            "Validation accuracy 0.5659955257270693\n",
            "Validation f1 0.46255827317171994\n",
            "Epoch:  118\n"
          ]
        },
        {
          "output_type": "stream",
          "name": "stderr",
          "text": [
            "/usr/local/lib/python3.7/dist-packages/ipykernel_launcher.py:33: UserWarning: To copy construct from a tensor, it is recommended to use sourceTensor.clone().detach() or sourceTensor.clone().detach().requires_grad_(True), rather than torch.tensor(sourceTensor).\n"
          ]
        },
        {
          "output_type": "stream",
          "name": "stdout",
          "text": [
            "Train_loss:  0.06902131834067404\n",
            "Valid_loss:  0.07741607306525111\n",
            "Validation accuracy 0.5727069351230425\n",
            "Validation f1 0.4636909170805719\n",
            "Epoch:  119\n"
          ]
        },
        {
          "output_type": "stream",
          "name": "stderr",
          "text": [
            "/usr/local/lib/python3.7/dist-packages/ipykernel_launcher.py:33: UserWarning: To copy construct from a tensor, it is recommended to use sourceTensor.clone().detach() or sourceTensor.clone().detach().requires_grad_(True), rather than torch.tensor(sourceTensor).\n"
          ]
        },
        {
          "output_type": "stream",
          "name": "stdout",
          "text": [
            "Train_loss:  0.06838596057579187\n",
            "Valid_loss:  0.07693553463156734\n",
            "Validation accuracy 0.5749440715883669\n",
            "Validation f1 0.46395937345641086\n",
            "Epoch:  120\n"
          ]
        },
        {
          "output_type": "stream",
          "name": "stderr",
          "text": [
            "/usr/local/lib/python3.7/dist-packages/ipykernel_launcher.py:33: UserWarning: To copy construct from a tensor, it is recommended to use sourceTensor.clone().detach() or sourceTensor.clone().detach().requires_grad_(True), rather than torch.tensor(sourceTensor).\n"
          ]
        },
        {
          "output_type": "stream",
          "name": "stdout",
          "text": [
            "Train_loss:  0.06775815813203476\n",
            "Valid_loss:  0.07646255108660885\n",
            "Validation accuracy 0.5816554809843401\n",
            "Validation f1 0.46660010374486877\n",
            "Epoch:  121\n"
          ]
        },
        {
          "output_type": "stream",
          "name": "stderr",
          "text": [
            "/usr/local/lib/python3.7/dist-packages/ipykernel_launcher.py:33: UserWarning: To copy construct from a tensor, it is recommended to use sourceTensor.clone().detach() or sourceTensor.clone().detach().requires_grad_(True), rather than torch.tensor(sourceTensor).\n"
          ]
        },
        {
          "output_type": "stream",
          "name": "stdout",
          "text": [
            "Train_loss:  0.06713794012154851\n",
            "Valid_loss:  0.07599663847525205\n",
            "Validation accuracy 0.5838926174496645\n",
            "Validation f1 0.4670387002360968\n",
            "Epoch:  122\n"
          ]
        },
        {
          "output_type": "stream",
          "name": "stderr",
          "text": [
            "/usr/local/lib/python3.7/dist-packages/ipykernel_launcher.py:33: UserWarning: To copy construct from a tensor, it is recommended to use sourceTensor.clone().detach() or sourceTensor.clone().detach().requires_grad_(True), rather than torch.tensor(sourceTensor).\n"
          ]
        },
        {
          "output_type": "stream",
          "name": "stdout",
          "text": [
            "Train_loss:  0.06652486880609233\n",
            "Valid_loss:  0.07553777783843023\n",
            "Validation accuracy 0.5950782997762863\n",
            "Validation f1 0.47144112744215805\n",
            "Epoch:  123\n"
          ]
        },
        {
          "output_type": "stream",
          "name": "stderr",
          "text": [
            "/usr/local/lib/python3.7/dist-packages/ipykernel_launcher.py:33: UserWarning: To copy construct from a tensor, it is recommended to use sourceTensor.clone().detach() or sourceTensor.clone().detach().requires_grad_(True), rather than torch.tensor(sourceTensor).\n"
          ]
        },
        {
          "output_type": "stream",
          "name": "stdout",
          "text": [
            "Train_loss:  0.06591899874287524\n",
            "Valid_loss:  0.07508591954995479\n",
            "Validation accuracy 0.5995525727069351\n",
            "Validation f1 0.47528292222099633\n",
            "Epoch:  124\n"
          ]
        },
        {
          "output_type": "stream",
          "name": "stderr",
          "text": [
            "/usr/local/lib/python3.7/dist-packages/ipykernel_launcher.py:33: UserWarning: To copy construct from a tensor, it is recommended to use sourceTensor.clone().detach() or sourceTensor.clone().detach().requires_grad_(True), rather than torch.tensor(sourceTensor).\n"
          ]
        },
        {
          "output_type": "stream",
          "name": "stdout",
          "text": [
            "Train_loss:  0.0653205237550927\n",
            "Valid_loss:  0.0746415480306106\n",
            "Validation accuracy 0.5995525727069351\n",
            "Validation f1 0.47528292222099633\n",
            "Epoch:  125\n"
          ]
        },
        {
          "output_type": "stream",
          "name": "stderr",
          "text": [
            "/usr/local/lib/python3.7/dist-packages/ipykernel_launcher.py:33: UserWarning: To copy construct from a tensor, it is recommended to use sourceTensor.clone().detach() or sourceTensor.clone().detach().requires_grad_(True), rather than torch.tensor(sourceTensor).\n"
          ]
        },
        {
          "output_type": "stream",
          "name": "stdout",
          "text": [
            "Train_loss:  0.06472918639857587\n",
            "Valid_loss:  0.07420372553834957\n",
            "Validation accuracy 0.5995525727069351\n",
            "Validation f1 0.47528292222099633\n",
            "Epoch:  126\n"
          ]
        },
        {
          "output_type": "stream",
          "name": "stderr",
          "text": [
            "/usr/local/lib/python3.7/dist-packages/ipykernel_launcher.py:33: UserWarning: To copy construct from a tensor, it is recommended to use sourceTensor.clone().detach() or sourceTensor.clone().detach().requires_grad_(True), rather than torch.tensor(sourceTensor).\n"
          ]
        },
        {
          "output_type": "stream",
          "name": "stdout",
          "text": [
            "Train_loss:  0.06414501808051552\n",
            "Valid_loss:  0.07377288354161594\n",
            "Validation accuracy 0.5995525727069351\n",
            "Validation f1 0.4756281589727801\n",
            "Epoch:  127\n"
          ]
        },
        {
          "output_type": "stream",
          "name": "stderr",
          "text": [
            "/usr/local/lib/python3.7/dist-packages/ipykernel_launcher.py:33: UserWarning: To copy construct from a tensor, it is recommended to use sourceTensor.clone().detach() or sourceTensor.clone().detach().requires_grad_(True), rather than torch.tensor(sourceTensor).\n"
          ]
        },
        {
          "output_type": "stream",
          "name": "stdout",
          "text": [
            "Train_loss:  0.06356790128795962\n",
            "Valid_loss:  0.07334874946224902\n",
            "Validation accuracy 0.5995525727069351\n",
            "Validation f1 0.4756281589727801\n",
            "Epoch:  128\n"
          ]
        },
        {
          "output_type": "stream",
          "name": "stderr",
          "text": [
            "/usr/local/lib/python3.7/dist-packages/ipykernel_launcher.py:33: UserWarning: To copy construct from a tensor, it is recommended to use sourceTensor.clone().detach() or sourceTensor.clone().detach().requires_grad_(True), rather than torch.tensor(sourceTensor).\n"
          ]
        },
        {
          "output_type": "stream",
          "name": "stdout",
          "text": [
            "Train_loss:  0.0629975567072896\n",
            "Valid_loss:  0.07293120435705143\n",
            "Validation accuracy 0.6017897091722595\n",
            "Validation f1 0.47989324124117555\n",
            "Epoch:  129\n"
          ]
        },
        {
          "output_type": "stream",
          "name": "stderr",
          "text": [
            "/usr/local/lib/python3.7/dist-packages/ipykernel_launcher.py:33: UserWarning: To copy construct from a tensor, it is recommended to use sourceTensor.clone().detach() or sourceTensor.clone().detach().requires_grad_(True), rather than torch.tensor(sourceTensor).\n"
          ]
        },
        {
          "output_type": "stream",
          "name": "stdout",
          "text": [
            "Train_loss:  0.06243414308742753\n",
            "Valid_loss:  0.07251989422366023\n",
            "Validation accuracy 0.6040268456375839\n",
            "Validation f1 0.47961695987155445\n",
            "Epoch:  130\n"
          ]
        },
        {
          "output_type": "stream",
          "name": "stderr",
          "text": [
            "/usr/local/lib/python3.7/dist-packages/ipykernel_launcher.py:33: UserWarning: To copy construct from a tensor, it is recommended to use sourceTensor.clone().detach() or sourceTensor.clone().detach().requires_grad_(True), rather than torch.tensor(sourceTensor).\n"
          ]
        },
        {
          "output_type": "stream",
          "name": "stdout",
          "text": [
            "Train_loss:  0.061877641710452735\n",
            "Valid_loss:  0.07211424323863216\n",
            "Validation accuracy 0.6085011185682326\n",
            "Validation f1 0.48187896499901806\n",
            "Epoch:  131\n"
          ]
        },
        {
          "output_type": "stream",
          "name": "stderr",
          "text": [
            "/usr/local/lib/python3.7/dist-packages/ipykernel_launcher.py:33: UserWarning: To copy construct from a tensor, it is recommended to use sourceTensor.clone().detach() or sourceTensor.clone().detach().requires_grad_(True), rather than torch.tensor(sourceTensor).\n"
          ]
        },
        {
          "output_type": "stream",
          "name": "stdout",
          "text": [
            "Train_loss:  0.061327591039506454\n",
            "Valid_loss:  0.0717155043634453\n",
            "Validation accuracy 0.6129753914988815\n",
            "Validation f1 0.48245167076845324\n",
            "Epoch:  132\n"
          ]
        },
        {
          "output_type": "stream",
          "name": "stderr",
          "text": [
            "/usr/local/lib/python3.7/dist-packages/ipykernel_launcher.py:33: UserWarning: To copy construct from a tensor, it is recommended to use sourceTensor.clone().detach() or sourceTensor.clone().detach().requires_grad_(True), rather than torch.tensor(sourceTensor).\n"
          ]
        },
        {
          "output_type": "stream",
          "name": "stdout",
          "text": [
            "Train_loss:  0.06078422718149211\n",
            "Valid_loss:  0.07132206281780132\n",
            "Validation accuracy 0.6174496644295302\n",
            "Validation f1 0.4814512622335981\n",
            "Epoch:  133\n"
          ]
        },
        {
          "output_type": "stream",
          "name": "stderr",
          "text": [
            "/usr/local/lib/python3.7/dist-packages/ipykernel_launcher.py:33: UserWarning: To copy construct from a tensor, it is recommended to use sourceTensor.clone().detach() or sourceTensor.clone().detach().requires_grad_(True), rather than torch.tensor(sourceTensor).\n"
          ]
        },
        {
          "output_type": "stream",
          "name": "stdout",
          "text": [
            "Train_loss:  0.0602470912521572\n",
            "Valid_loss:  0.07093482331505843\n",
            "Validation accuracy 0.6196868008948546\n",
            "Validation f1 0.48224978895882037\n",
            "Epoch:  134\n"
          ]
        },
        {
          "output_type": "stream",
          "name": "stderr",
          "text": [
            "/usr/local/lib/python3.7/dist-packages/ipykernel_launcher.py:33: UserWarning: To copy construct from a tensor, it is recommended to use sourceTensor.clone().detach() or sourceTensor.clone().detach().requires_grad_(True), rather than torch.tensor(sourceTensor).\n"
          ]
        },
        {
          "output_type": "stream",
          "name": "stdout",
          "text": [
            "Train_loss:  0.05971653967364026\n",
            "Valid_loss:  0.07055314324264016\n",
            "Validation accuracy 0.6152125279642058\n",
            "Validation f1 0.4810705826316873\n",
            "Epoch:  135\n"
          ]
        },
        {
          "output_type": "stream",
          "name": "stderr",
          "text": [
            "/usr/local/lib/python3.7/dist-packages/ipykernel_launcher.py:33: UserWarning: To copy construct from a tensor, it is recommended to use sourceTensor.clone().detach() or sourceTensor.clone().detach().requires_grad_(True), rather than torch.tensor(sourceTensor).\n"
          ]
        },
        {
          "output_type": "stream",
          "name": "stdout",
          "text": [
            "Train_loss:  0.05919220371704016\n",
            "Valid_loss:  0.07017770236624139\n",
            "Validation accuracy 0.6152125279642058\n",
            "Validation f1 0.4810705826316873\n",
            "Epoch:  136\n"
          ]
        },
        {
          "output_type": "stream",
          "name": "stderr",
          "text": [
            "/usr/local/lib/python3.7/dist-packages/ipykernel_launcher.py:33: UserWarning: To copy construct from a tensor, it is recommended to use sourceTensor.clone().detach() or sourceTensor.clone().detach().requires_grad_(True), rather than torch.tensor(sourceTensor).\n"
          ]
        },
        {
          "output_type": "stream",
          "name": "stdout",
          "text": [
            "Train_loss:  0.0586742751017612\n",
            "Valid_loss:  0.06980742005232189\n",
            "Validation accuracy 0.6152125279642058\n",
            "Validation f1 0.4810705826316873\n",
            "Epoch:  137\n"
          ]
        },
        {
          "output_type": "stream",
          "name": "stderr",
          "text": [
            "/usr/local/lib/python3.7/dist-packages/ipykernel_launcher.py:33: UserWarning: To copy construct from a tensor, it is recommended to use sourceTensor.clone().detach() or sourceTensor.clone().detach().requires_grad_(True), rather than torch.tensor(sourceTensor).\n"
          ]
        },
        {
          "output_type": "stream",
          "name": "stdout",
          "text": [
            "Train_loss:  0.058162582647388\n",
            "Valid_loss:  0.06944309135100671\n",
            "Validation accuracy 0.6152125279642058\n",
            "Validation f1 0.4810705826316873\n",
            "Epoch:  138\n"
          ]
        },
        {
          "output_type": "stream",
          "name": "stderr",
          "text": [
            "/usr/local/lib/python3.7/dist-packages/ipykernel_launcher.py:33: UserWarning: To copy construct from a tensor, it is recommended to use sourceTensor.clone().detach() or sourceTensor.clone().detach().requires_grad_(True), rather than torch.tensor(sourceTensor).\n"
          ]
        },
        {
          "output_type": "stream",
          "name": "stdout",
          "text": [
            "Train_loss:  0.05765694894528549\n",
            "Valid_loss:  0.06908453225956432\n",
            "Validation accuracy 0.6152125279642058\n",
            "Validation f1 0.48354108841020194\n",
            "Epoch:  139\n"
          ]
        },
        {
          "output_type": "stream",
          "name": "stderr",
          "text": [
            "/usr/local/lib/python3.7/dist-packages/ipykernel_launcher.py:33: UserWarning: To copy construct from a tensor, it is recommended to use sourceTensor.clone().detach() or sourceTensor.clone().detach().requires_grad_(True), rather than torch.tensor(sourceTensor).\n"
          ]
        },
        {
          "output_type": "stream",
          "name": "stdout",
          "text": [
            "Train_loss:  0.057157325716356615\n",
            "Valid_loss:  0.0687308982014656\n",
            "Validation accuracy 0.6174496644295302\n",
            "Validation f1 0.4842528510382486\n",
            "Epoch:  140\n"
          ]
        },
        {
          "output_type": "stream",
          "name": "stderr",
          "text": [
            "/usr/local/lib/python3.7/dist-packages/ipykernel_launcher.py:33: UserWarning: To copy construct from a tensor, it is recommended to use sourceTensor.clone().detach() or sourceTensor.clone().detach().requires_grad_(True), rather than torch.tensor(sourceTensor).\n"
          ]
        },
        {
          "output_type": "stream",
          "name": "stdout",
          "text": [
            "Train_loss:  0.05666379374451935\n",
            "Valid_loss:  0.06838307383337192\n",
            "Validation accuracy 0.6174496644295302\n",
            "Validation f1 0.4845561117700575\n",
            "Epoch:  141\n"
          ]
        },
        {
          "output_type": "stream",
          "name": "stderr",
          "text": [
            "/usr/local/lib/python3.7/dist-packages/ipykernel_launcher.py:33: UserWarning: To copy construct from a tensor, it is recommended to use sourceTensor.clone().detach() or sourceTensor.clone().detach().requires_grad_(True), rather than torch.tensor(sourceTensor).\n"
          ]
        },
        {
          "output_type": "stream",
          "name": "stdout",
          "text": [
            "Train_loss:  0.056176195902350755\n",
            "Valid_loss:  0.06804030411876738\n",
            "Validation accuracy 0.6174496644295302\n",
            "Validation f1 0.48395717488303186\n",
            "Epoch:  142\n"
          ]
        },
        {
          "output_type": "stream",
          "name": "stderr",
          "text": [
            "/usr/local/lib/python3.7/dist-packages/ipykernel_launcher.py:33: UserWarning: To copy construct from a tensor, it is recommended to use sourceTensor.clone().detach() or sourceTensor.clone().detach().requires_grad_(True), rather than torch.tensor(sourceTensor).\n"
          ]
        },
        {
          "output_type": "stream",
          "name": "stdout",
          "text": [
            "Train_loss:  0.05569454353202933\n",
            "Valid_loss:  0.06770274226021554\n",
            "Validation accuracy 0.6174496644295302\n",
            "Validation f1 0.4836840087462133\n",
            "Epoch:  143\n"
          ]
        },
        {
          "output_type": "stream",
          "name": "stderr",
          "text": [
            "/usr/local/lib/python3.7/dist-packages/ipykernel_launcher.py:33: UserWarning: To copy construct from a tensor, it is recommended to use sourceTensor.clone().detach() or sourceTensor.clone().detach().requires_grad_(True), rather than torch.tensor(sourceTensor).\n"
          ]
        },
        {
          "output_type": "stream",
          "name": "stdout",
          "text": [
            "Train_loss:  0.05521849875471422\n",
            "Valid_loss:  0.06737037817947567\n",
            "Validation accuracy 0.6196868008948546\n",
            "Validation f1 0.4831408483524196\n",
            "Epoch:  144\n"
          ]
        },
        {
          "output_type": "stream",
          "name": "stderr",
          "text": [
            "/usr/local/lib/python3.7/dist-packages/ipykernel_launcher.py:33: UserWarning: To copy construct from a tensor, it is recommended to use sourceTensor.clone().detach() or sourceTensor.clone().detach().requires_grad_(True), rather than torch.tensor(sourceTensor).\n"
          ]
        },
        {
          "output_type": "stream",
          "name": "stdout",
          "text": [
            "Train_loss:  0.05474835093731859\n",
            "Valid_loss:  0.06704269722104073\n",
            "Validation accuracy 0.6219239373601789\n",
            "Validation f1 0.4831405739232008\n",
            "Epoch:  145\n"
          ]
        },
        {
          "output_type": "stream",
          "name": "stderr",
          "text": [
            "/usr/local/lib/python3.7/dist-packages/ipykernel_launcher.py:33: UserWarning: To copy construct from a tensor, it is recommended to use sourceTensor.clone().detach() or sourceTensor.clone().detach().requires_grad_(True), rather than torch.tensor(sourceTensor).\n"
          ]
        },
        {
          "output_type": "stream",
          "name": "stdout",
          "text": [
            "Train_loss:  0.054283880171299516\n",
            "Valid_loss:  0.06671959501025933\n",
            "Validation accuracy 0.6196868008948546\n",
            "Validation f1 0.4825964798838754\n",
            "Epoch:  146\n"
          ]
        },
        {
          "output_type": "stream",
          "name": "stderr",
          "text": [
            "/usr/local/lib/python3.7/dist-packages/ipykernel_launcher.py:33: UserWarning: To copy construct from a tensor, it is recommended to use sourceTensor.clone().detach() or sourceTensor.clone().detach().requires_grad_(True), rather than torch.tensor(sourceTensor).\n"
          ]
        },
        {
          "output_type": "stream",
          "name": "stdout",
          "text": [
            "Train_loss:  0.05382485114803005\n",
            "Valid_loss:  0.06640179604957146\n",
            "Validation accuracy 0.6219239373601789\n",
            "Validation f1 0.485722871714846\n",
            "Epoch:  147\n"
          ]
        },
        {
          "output_type": "stream",
          "name": "stderr",
          "text": [
            "/usr/local/lib/python3.7/dist-packages/ipykernel_launcher.py:33: UserWarning: To copy construct from a tensor, it is recommended to use sourceTensor.clone().detach() or sourceTensor.clone().detach().requires_grad_(True), rather than torch.tensor(sourceTensor).\n"
          ]
        },
        {
          "output_type": "stream",
          "name": "stdout",
          "text": [
            "Train_loss:  0.05337169836691048\n",
            "Valid_loss:  0.06608861608297698\n",
            "Validation accuracy 0.6263982102908278\n",
            "Validation f1 0.48576397147530487\n",
            "Epoch:  148\n"
          ]
        },
        {
          "output_type": "stream",
          "name": "stderr",
          "text": [
            "/usr/local/lib/python3.7/dist-packages/ipykernel_launcher.py:33: UserWarning: To copy construct from a tensor, it is recommended to use sourceTensor.clone().detach() or sourceTensor.clone().detach().requires_grad_(True), rather than torch.tensor(sourceTensor).\n"
          ]
        },
        {
          "output_type": "stream",
          "name": "stdout",
          "text": [
            "Train_loss:  0.052923806656118746\n",
            "Valid_loss:  0.06578001216985285\n",
            "Validation accuracy 0.6263982102908278\n",
            "Validation f1 0.48576397147530487\n",
            "Epoch:  149\n"
          ]
        },
        {
          "output_type": "stream",
          "name": "stderr",
          "text": [
            "/usr/local/lib/python3.7/dist-packages/ipykernel_launcher.py:33: UserWarning: To copy construct from a tensor, it is recommended to use sourceTensor.clone().detach() or sourceTensor.clone().detach().requires_grad_(True), rather than torch.tensor(sourceTensor).\n"
          ]
        },
        {
          "output_type": "stream",
          "name": "stdout",
          "text": [
            "Train_loss:  0.0524815070675686\n",
            "Valid_loss:  0.06547593980628465\n",
            "Validation accuracy 0.6286353467561522\n",
            "Validation f1 0.4860408290464047\n",
            "Epoch:  150\n"
          ]
        },
        {
          "output_type": "stream",
          "name": "stderr",
          "text": [
            "/usr/local/lib/python3.7/dist-packages/ipykernel_launcher.py:33: UserWarning: To copy construct from a tensor, it is recommended to use sourceTensor.clone().detach() or sourceTensor.clone().detach().requires_grad_(True), rather than torch.tensor(sourceTensor).\n"
          ]
        },
        {
          "output_type": "stream",
          "name": "stdout",
          "text": [
            "Train_loss:  0.052044804099880694\n",
            "Valid_loss:  0.06517637540985431\n",
            "Validation accuracy 0.6286353467561522\n",
            "Validation f1 0.4876328620181881\n",
            "Epoch:  151\n"
          ]
        },
        {
          "output_type": "stream",
          "name": "stderr",
          "text": [
            "/usr/local/lib/python3.7/dist-packages/ipykernel_launcher.py:33: UserWarning: To copy construct from a tensor, it is recommended to use sourceTensor.clone().detach() or sourceTensor.clone().detach().requires_grad_(True), rather than torch.tensor(sourceTensor).\n"
          ]
        },
        {
          "output_type": "stream",
          "name": "stdout",
          "text": [
            "Train_loss:  0.05161333169339092\n",
            "Valid_loss:  0.06488171808554657\n",
            "Validation accuracy 0.6308724832214765\n",
            "Validation f1 0.487903789920695\n",
            "Epoch:  152\n"
          ]
        },
        {
          "output_type": "stream",
          "name": "stderr",
          "text": [
            "/usr/local/lib/python3.7/dist-packages/ipykernel_launcher.py:33: UserWarning: To copy construct from a tensor, it is recommended to use sourceTensor.clone().detach() or sourceTensor.clone().detach().requires_grad_(True), rather than torch.tensor(sourceTensor).\n"
          ]
        },
        {
          "output_type": "stream",
          "name": "stdout",
          "text": [
            "Train_loss:  0.05118727802515163\n",
            "Valid_loss:  0.06459118339366146\n",
            "Validation accuracy 0.6308724832214765\n",
            "Validation f1 0.4887756986080761\n",
            "Epoch:  153\n"
          ]
        },
        {
          "output_type": "stream",
          "name": "stderr",
          "text": [
            "/usr/local/lib/python3.7/dist-packages/ipykernel_launcher.py:33: UserWarning: To copy construct from a tensor, it is recommended to use sourceTensor.clone().detach() or sourceTensor.clone().detach().requires_grad_(True), rather than torch.tensor(sourceTensor).\n"
          ]
        },
        {
          "output_type": "stream",
          "name": "stdout",
          "text": [
            "Train_loss:  0.05076633661103967\n",
            "Valid_loss:  0.06430506110856575\n",
            "Validation accuracy 0.6286353467561522\n",
            "Validation f1 0.48824874018638087\n",
            "Epoch:  154\n"
          ]
        },
        {
          "output_type": "stream",
          "name": "stderr",
          "text": [
            "/usr/local/lib/python3.7/dist-packages/ipykernel_launcher.py:33: UserWarning: To copy construct from a tensor, it is recommended to use sourceTensor.clone().detach() or sourceTensor.clone().detach().requires_grad_(True), rather than torch.tensor(sourceTensor).\n"
          ]
        },
        {
          "output_type": "stream",
          "name": "stdout",
          "text": [
            "Train_loss:  0.05035070178564638\n",
            "Valid_loss:  0.0640235803023513\n",
            "Validation accuracy 0.6308724832214765\n",
            "Validation f1 0.4886966685178478\n",
            "Epoch:  155\n"
          ]
        },
        {
          "output_type": "stream",
          "name": "stderr",
          "text": [
            "/usr/local/lib/python3.7/dist-packages/ipykernel_launcher.py:33: UserWarning: To copy construct from a tensor, it is recommended to use sourceTensor.clone().detach() or sourceTensor.clone().detach().requires_grad_(True), rather than torch.tensor(sourceTensor).\n"
          ]
        },
        {
          "output_type": "stream",
          "name": "stdout",
          "text": [
            "Train_loss:  0.049940082909805436\n",
            "Valid_loss:  0.06374621690650072\n",
            "Validation accuracy 0.6420581655480985\n",
            "Validation f1 0.4914062067984838\n",
            "Epoch:  156\n"
          ]
        },
        {
          "output_type": "stream",
          "name": "stderr",
          "text": [
            "/usr/local/lib/python3.7/dist-packages/ipykernel_launcher.py:33: UserWarning: To copy construct from a tensor, it is recommended to use sourceTensor.clone().detach() or sourceTensor.clone().detach().requires_grad_(True), rather than torch.tensor(sourceTensor).\n"
          ]
        },
        {
          "output_type": "stream",
          "name": "stdout",
          "text": [
            "Train_loss:  0.049534755309910646\n",
            "Valid_loss:  0.06347258904549692\n",
            "Validation accuracy 0.6465324384787472\n",
            "Validation f1 0.49321888830979654\n",
            "Epoch:  157\n"
          ]
        },
        {
          "output_type": "stream",
          "name": "stderr",
          "text": [
            "/usr/local/lib/python3.7/dist-packages/ipykernel_launcher.py:33: UserWarning: To copy construct from a tensor, it is recommended to use sourceTensor.clone().detach() or sourceTensor.clone().detach().requires_grad_(True), rather than torch.tensor(sourceTensor).\n"
          ]
        },
        {
          "output_type": "stream",
          "name": "stdout",
          "text": [
            "Train_loss:  0.04913437586011631\n",
            "Valid_loss:  0.0632038558833301\n",
            "Validation accuracy 0.6465324384787472\n",
            "Validation f1 0.49321888830979654\n",
            "Epoch:  158\n"
          ]
        },
        {
          "output_type": "stream",
          "name": "stderr",
          "text": [
            "/usr/local/lib/python3.7/dist-packages/ipykernel_launcher.py:33: UserWarning: To copy construct from a tensor, it is recommended to use sourceTensor.clone().detach() or sourceTensor.clone().detach().requires_grad_(True), rather than torch.tensor(sourceTensor).\n"
          ]
        },
        {
          "output_type": "stream",
          "name": "stdout",
          "text": [
            "Train_loss:  0.04873910204956441\n",
            "Valid_loss:  0.0629384903835931\n",
            "Validation accuracy 0.6487695749440716\n",
            "Validation f1 0.49349752917326783\n",
            "Epoch:  159\n"
          ]
        },
        {
          "output_type": "stream",
          "name": "stderr",
          "text": [
            "/usr/local/lib/python3.7/dist-packages/ipykernel_launcher.py:33: UserWarning: To copy construct from a tensor, it is recommended to use sourceTensor.clone().detach() or sourceTensor.clone().detach().requires_grad_(True), rather than torch.tensor(sourceTensor).\n"
          ]
        },
        {
          "output_type": "stream",
          "name": "stdout",
          "text": [
            "Train_loss:  0.048348582694805894\n",
            "Valid_loss:  0.06267762443582926\n",
            "Validation accuracy 0.6532438478747203\n",
            "Validation f1 0.49655023372299606\n",
            "Epoch:  160\n"
          ]
        },
        {
          "output_type": "stream",
          "name": "stderr",
          "text": [
            "/usr/local/lib/python3.7/dist-packages/ipykernel_launcher.py:33: UserWarning: To copy construct from a tensor, it is recommended to use sourceTensor.clone().detach() or sourceTensor.clone().detach().requires_grad_(True), rather than torch.tensor(sourceTensor).\n"
          ]
        },
        {
          "output_type": "stream",
          "name": "stdout",
          "text": [
            "Train_loss:  0.04796293116773346\n",
            "Valid_loss:  0.06242040325222271\n",
            "Validation accuracy 0.6554809843400448\n",
            "Validation f1 0.49711414349743216\n",
            "Epoch:  161\n"
          ]
        },
        {
          "output_type": "stream",
          "name": "stderr",
          "text": [
            "/usr/local/lib/python3.7/dist-packages/ipykernel_launcher.py:33: UserWarning: To copy construct from a tensor, it is recommended to use sourceTensor.clone().detach() or sourceTensor.clone().detach().requires_grad_(True), rather than torch.tensor(sourceTensor).\n"
          ]
        },
        {
          "output_type": "stream",
          "name": "stdout",
          "text": [
            "Train_loss:  0.04758231760933995\n",
            "Valid_loss:  0.06216693905714367\n",
            "Validation accuracy 0.6577181208053692\n",
            "Validation f1 0.4974025357108424\n",
            "Epoch:  162\n"
          ]
        },
        {
          "output_type": "stream",
          "name": "stderr",
          "text": [
            "/usr/local/lib/python3.7/dist-packages/ipykernel_launcher.py:33: UserWarning: To copy construct from a tensor, it is recommended to use sourceTensor.clone().detach() or sourceTensor.clone().detach().requires_grad_(True), rather than torch.tensor(sourceTensor).\n"
          ]
        },
        {
          "output_type": "stream",
          "name": "stdout",
          "text": [
            "Train_loss:  0.047206257336906025\n",
            "Valid_loss:  0.06191790110564658\n",
            "Validation accuracy 0.6599552572706935\n",
            "Validation f1 0.49815120681962427\n",
            "Epoch:  163\n"
          ]
        },
        {
          "output_type": "stream",
          "name": "stderr",
          "text": [
            "/usr/local/lib/python3.7/dist-packages/ipykernel_launcher.py:33: UserWarning: To copy construct from a tensor, it is recommended to use sourceTensor.clone().detach() or sourceTensor.clone().detach().requires_grad_(True), rather than torch.tensor(sourceTensor).\n"
          ]
        },
        {
          "output_type": "stream",
          "name": "stdout",
          "text": [
            "Train_loss:  0.046834975019529726\n",
            "Valid_loss:  0.061672313404934745\n",
            "Validation accuracy 0.6599552572706935\n",
            "Validation f1 0.49894147076778295\n",
            "Epoch:  164\n"
          ]
        },
        {
          "output_type": "stream",
          "name": "stderr",
          "text": [
            "/usr/local/lib/python3.7/dist-packages/ipykernel_launcher.py:33: UserWarning: To copy construct from a tensor, it is recommended to use sourceTensor.clone().detach() or sourceTensor.clone().detach().requires_grad_(True), rather than torch.tensor(sourceTensor).\n"
          ]
        },
        {
          "output_type": "stream",
          "name": "stdout",
          "text": [
            "Train_loss:  0.04646840997156687\n",
            "Valid_loss:  0.06143028794654778\n",
            "Validation accuracy 0.6599552572706935\n",
            "Validation f1 0.49894147076778295\n",
            "Epoch:  165\n"
          ]
        },
        {
          "output_type": "stream",
          "name": "stderr",
          "text": [
            "/usr/local/lib/python3.7/dist-packages/ipykernel_launcher.py:33: UserWarning: To copy construct from a tensor, it is recommended to use sourceTensor.clone().detach() or sourceTensor.clone().detach().requires_grad_(True), rather than torch.tensor(sourceTensor).\n"
          ]
        },
        {
          "output_type": "stream",
          "name": "stdout",
          "text": [
            "Train_loss:  0.046106349394124536\n",
            "Valid_loss:  0.06119213545961039\n",
            "Validation accuracy 0.6599552572706935\n",
            "Validation f1 0.49894147076778295\n",
            "Epoch:  166\n"
          ]
        },
        {
          "output_type": "stream",
          "name": "stderr",
          "text": [
            "/usr/local/lib/python3.7/dist-packages/ipykernel_launcher.py:33: UserWarning: To copy construct from a tensor, it is recommended to use sourceTensor.clone().detach() or sourceTensor.clone().detach().requires_grad_(True), rather than torch.tensor(sourceTensor).\n"
          ]
        },
        {
          "output_type": "stream",
          "name": "stdout",
          "text": [
            "Train_loss:  0.04574883378310395\n",
            "Valid_loss:  0.06095795117185584\n",
            "Validation accuracy 0.6621923937360179\n",
            "Validation f1 0.4987144663123465\n",
            "Epoch:  167\n"
          ]
        },
        {
          "output_type": "stream",
          "name": "stderr",
          "text": [
            "/usr/local/lib/python3.7/dist-packages/ipykernel_launcher.py:33: UserWarning: To copy construct from a tensor, it is recommended to use sourceTensor.clone().detach() or sourceTensor.clone().detach().requires_grad_(True), rather than torch.tensor(sourceTensor).\n"
          ]
        },
        {
          "output_type": "stream",
          "name": "stdout",
          "text": [
            "Train_loss:  0.04539593341178261\n",
            "Valid_loss:  0.06072685564868152\n",
            "Validation accuracy 0.668903803131991\n",
            "Validation f1 0.5007295327606223\n",
            "Epoch:  168\n"
          ]
        },
        {
          "output_type": "stream",
          "name": "stderr",
          "text": [
            "/usr/local/lib/python3.7/dist-packages/ipykernel_launcher.py:33: UserWarning: To copy construct from a tensor, it is recommended to use sourceTensor.clone().detach() or sourceTensor.clone().detach().requires_grad_(True), rather than torch.tensor(sourceTensor).\n"
          ]
        },
        {
          "output_type": "stream",
          "name": "stdout",
          "text": [
            "Train_loss:  0.04504742102913691\n",
            "Valid_loss:  0.06049916726936187\n",
            "Validation accuracy 0.668903803131991\n",
            "Validation f1 0.5007295327606223\n",
            "Epoch:  169\n"
          ]
        },
        {
          "output_type": "stream",
          "name": "stderr",
          "text": [
            "/usr/local/lib/python3.7/dist-packages/ipykernel_launcher.py:33: UserWarning: To copy construct from a tensor, it is recommended to use sourceTensor.clone().detach() or sourceTensor.clone().detach().requires_grad_(True), rather than torch.tensor(sourceTensor).\n"
          ]
        },
        {
          "output_type": "stream",
          "name": "stdout",
          "text": [
            "Train_loss:  0.04470325729926117\n",
            "Valid_loss:  0.06027542975997286\n",
            "Validation accuracy 0.668903803131991\n",
            "Validation f1 0.501016220703501\n",
            "Epoch:  170\n"
          ]
        },
        {
          "output_type": "stream",
          "name": "stderr",
          "text": [
            "/usr/local/lib/python3.7/dist-packages/ipykernel_launcher.py:33: UserWarning: To copy construct from a tensor, it is recommended to use sourceTensor.clone().detach() or sourceTensor.clone().detach().requires_grad_(True), rather than torch.tensor(sourceTensor).\n"
          ]
        },
        {
          "output_type": "stream",
          "name": "stdout",
          "text": [
            "Train_loss:  0.04436348579474725\n",
            "Valid_loss:  0.06005497483004417\n",
            "Validation accuracy 0.668903803131991\n",
            "Validation f1 0.501016220703501\n",
            "Epoch:  171\n"
          ]
        },
        {
          "output_type": "stream",
          "name": "stderr",
          "text": [
            "/usr/local/lib/python3.7/dist-packages/ipykernel_launcher.py:33: UserWarning: To copy construct from a tensor, it is recommended to use sourceTensor.clone().detach() or sourceTensor.clone().detach().requires_grad_(True), rather than torch.tensor(sourceTensor).\n"
          ]
        },
        {
          "output_type": "stream",
          "name": "stdout",
          "text": [
            "Train_loss:  0.044027880732236166\n",
            "Valid_loss:  0.05983775435015559\n",
            "Validation accuracy 0.668903803131991\n",
            "Validation f1 0.501016220703501\n",
            "Epoch:  172\n"
          ]
        },
        {
          "output_type": "stream",
          "name": "stderr",
          "text": [
            "/usr/local/lib/python3.7/dist-packages/ipykernel_launcher.py:33: UserWarning: To copy construct from a tensor, it is recommended to use sourceTensor.clone().detach() or sourceTensor.clone().detach().requires_grad_(True), rather than torch.tensor(sourceTensor).\n"
          ]
        },
        {
          "output_type": "stream",
          "name": "stdout",
          "text": [
            "Train_loss:  0.04369645857202288\n",
            "Valid_loss:  0.059624347336856384\n",
            "Validation accuracy 0.668903803131991\n",
            "Validation f1 0.4999121138737051\n",
            "Epoch:  173\n"
          ]
        },
        {
          "output_type": "stream",
          "name": "stderr",
          "text": [
            "/usr/local/lib/python3.7/dist-packages/ipykernel_launcher.py:33: UserWarning: To copy construct from a tensor, it is recommended to use sourceTensor.clone().detach() or sourceTensor.clone().detach().requires_grad_(True), rather than torch.tensor(sourceTensor).\n"
          ]
        },
        {
          "output_type": "stream",
          "name": "stdout",
          "text": [
            "Train_loss:  0.0433693232314129\n",
            "Valid_loss:  0.05941391839379711\n",
            "Validation accuracy 0.6756152125279642\n",
            "Validation f1 0.5029082189371227\n",
            "Epoch:  174\n"
          ]
        },
        {
          "output_type": "stream",
          "name": "stderr",
          "text": [
            "/usr/local/lib/python3.7/dist-packages/ipykernel_launcher.py:33: UserWarning: To copy construct from a tensor, it is recommended to use sourceTensor.clone().detach() or sourceTensor.clone().detach().requires_grad_(True), rather than torch.tensor(sourceTensor).\n"
          ]
        },
        {
          "output_type": "stream",
          "name": "stdout",
          "text": [
            "Train_loss:  0.04304607592972128\n",
            "Valid_loss:  0.05920666988406863\n",
            "Validation accuracy 0.680089485458613\n",
            "Validation f1 0.5054835049142888\n",
            "Epoch:  175\n"
          ]
        },
        {
          "output_type": "stream",
          "name": "stderr",
          "text": [
            "/usr/local/lib/python3.7/dist-packages/ipykernel_launcher.py:33: UserWarning: To copy construct from a tensor, it is recommended to use sourceTensor.clone().detach() or sourceTensor.clone().detach().requires_grad_(True), rather than torch.tensor(sourceTensor).\n"
          ]
        },
        {
          "output_type": "stream",
          "name": "stdout",
          "text": [
            "Train_loss:  0.04272701656529015\n",
            "Valid_loss:  0.05900298128835857\n",
            "Validation accuracy 0.6778523489932886\n",
            "Validation f1 0.5175802791078372\n",
            "Epoch:  176\n"
          ]
        },
        {
          "output_type": "stream",
          "name": "stderr",
          "text": [
            "/usr/local/lib/python3.7/dist-packages/ipykernel_launcher.py:33: UserWarning: To copy construct from a tensor, it is recommended to use sourceTensor.clone().detach() or sourceTensor.clone().detach().requires_grad_(True), rather than torch.tensor(sourceTensor).\n"
          ]
        },
        {
          "output_type": "stream",
          "name": "stdout",
          "text": [
            "Train_loss:  0.042412090743060356\n",
            "Valid_loss:  0.05880176299251616\n",
            "Validation accuracy 0.6778523489932886\n",
            "Validation f1 0.5185953826176345\n",
            "Epoch:  177\n"
          ]
        },
        {
          "output_type": "stream",
          "name": "stderr",
          "text": [
            "/usr/local/lib/python3.7/dist-packages/ipykernel_launcher.py:33: UserWarning: To copy construct from a tensor, it is recommended to use sourceTensor.clone().detach() or sourceTensor.clone().detach().requires_grad_(True), rather than torch.tensor(sourceTensor).\n"
          ]
        },
        {
          "output_type": "stream",
          "name": "stdout",
          "text": [
            "Train_loss:  0.04210081779248347\n",
            "Valid_loss:  0.058603531148816855\n",
            "Validation accuracy 0.6778523489932886\n",
            "Validation f1 0.5185953826176345\n",
            "Epoch:  178\n"
          ]
        },
        {
          "output_type": "stream",
          "name": "stderr",
          "text": [
            "/usr/local/lib/python3.7/dist-packages/ipykernel_launcher.py:33: UserWarning: To copy construct from a tensor, it is recommended to use sourceTensor.clone().detach() or sourceTensor.clone().detach().requires_grad_(True), rather than torch.tensor(sourceTensor).\n"
          ]
        },
        {
          "output_type": "stream",
          "name": "stdout",
          "text": [
            "Train_loss:  0.041793547537443895\n",
            "Valid_loss:  0.05840874543147428\n",
            "Validation accuracy 0.6778523489932886\n",
            "Validation f1 0.5200290743739068\n",
            "Epoch:  179\n"
          ]
        },
        {
          "output_type": "stream",
          "name": "stderr",
          "text": [
            "/usr/local/lib/python3.7/dist-packages/ipykernel_launcher.py:33: UserWarning: To copy construct from a tensor, it is recommended to use sourceTensor.clone().detach() or sourceTensor.clone().detach().requires_grad_(True), rather than torch.tensor(sourceTensor).\n"
          ]
        },
        {
          "output_type": "stream",
          "name": "stdout",
          "text": [
            "Train_loss:  0.04149017865087704\n",
            "Valid_loss:  0.05821653462148139\n",
            "Validation accuracy 0.6845637583892618\n",
            "Validation f1 0.5238808295289894\n",
            "Epoch:  180\n"
          ]
        },
        {
          "output_type": "stream",
          "name": "stderr",
          "text": [
            "/usr/local/lib/python3.7/dist-packages/ipykernel_launcher.py:33: UserWarning: To copy construct from a tensor, it is recommended to use sourceTensor.clone().detach() or sourceTensor.clone().detach().requires_grad_(True), rather than torch.tensor(sourceTensor).\n"
          ]
        },
        {
          "output_type": "stream",
          "name": "stdout",
          "text": [
            "Train_loss:  0.04119049700758686\n",
            "Valid_loss:  0.05802733634066369\n",
            "Validation accuracy 0.6823266219239373\n",
            "Validation f1 0.5233751039934622\n",
            "Epoch:  181\n"
          ]
        },
        {
          "output_type": "stream",
          "name": "stderr",
          "text": [
            "/usr/local/lib/python3.7/dist-packages/ipykernel_launcher.py:33: UserWarning: To copy construct from a tensor, it is recommended to use sourceTensor.clone().detach() or sourceTensor.clone().detach().requires_grad_(True), rather than torch.tensor(sourceTensor).\n"
          ]
        },
        {
          "output_type": "stream",
          "name": "stdout",
          "text": [
            "Train_loss:  0.0408944668098619\n",
            "Valid_loss:  0.057841663514929156\n",
            "Validation accuracy 0.6823266219239373\n",
            "Validation f1 0.5233751039934622\n",
            "Epoch:  182\n"
          ]
        },
        {
          "output_type": "stream",
          "name": "stderr",
          "text": [
            "/usr/local/lib/python3.7/dist-packages/ipykernel_launcher.py:33: UserWarning: To copy construct from a tensor, it is recommended to use sourceTensor.clone().detach() or sourceTensor.clone().detach().requires_grad_(True), rather than torch.tensor(sourceTensor).\n"
          ]
        },
        {
          "output_type": "stream",
          "name": "stdout",
          "text": [
            "Train_loss:  0.04060209247316899\n",
            "Valid_loss:  0.05765847233124077\n",
            "Validation accuracy 0.6823266219239373\n",
            "Validation f1 0.5249624055807638\n",
            "Epoch:  183\n"
          ]
        },
        {
          "output_type": "stream",
          "name": "stderr",
          "text": [
            "/usr/local/lib/python3.7/dist-packages/ipykernel_launcher.py:33: UserWarning: To copy construct from a tensor, it is recommended to use sourceTensor.clone().detach() or sourceTensor.clone().detach().requires_grad_(True), rather than torch.tensor(sourceTensor).\n"
          ]
        },
        {
          "output_type": "stream",
          "name": "stdout",
          "text": [
            "Train_loss:  0.04031349355188597\n",
            "Valid_loss:  0.05747787068997111\n",
            "Validation accuracy 0.6845637583892618\n",
            "Validation f1 0.5265361072768645\n",
            "Epoch:  184\n"
          ]
        },
        {
          "output_type": "stream",
          "name": "stderr",
          "text": [
            "/usr/local/lib/python3.7/dist-packages/ipykernel_launcher.py:33: UserWarning: To copy construct from a tensor, it is recommended to use sourceTensor.clone().detach() or sourceTensor.clone().detach().requires_grad_(True), rather than torch.tensor(sourceTensor).\n"
          ]
        },
        {
          "output_type": "stream",
          "name": "stdout",
          "text": [
            "Train_loss:  0.040028170112886334\n",
            "Valid_loss:  0.057300040631421974\n",
            "Validation accuracy 0.6845637583892618\n",
            "Validation f1 0.5265361072768645\n",
            "Epoch:  185\n"
          ]
        },
        {
          "output_type": "stream",
          "name": "stderr",
          "text": [
            "/usr/local/lib/python3.7/dist-packages/ipykernel_launcher.py:33: UserWarning: To copy construct from a tensor, it is recommended to use sourceTensor.clone().detach() or sourceTensor.clone().detach().requires_grad_(True), rather than torch.tensor(sourceTensor).\n"
          ]
        },
        {
          "output_type": "stream",
          "name": "stdout",
          "text": [
            "Train_loss:  0.0397464336710982\n",
            "Valid_loss:  0.05712494872776525\n",
            "Validation accuracy 0.6868008948545862\n",
            "Validation f1 0.525936775420682\n",
            "Epoch:  186\n"
          ]
        },
        {
          "output_type": "stream",
          "name": "stderr",
          "text": [
            "/usr/local/lib/python3.7/dist-packages/ipykernel_launcher.py:33: UserWarning: To copy construct from a tensor, it is recommended to use sourceTensor.clone().detach() or sourceTensor.clone().detach().requires_grad_(True), rather than torch.tensor(sourceTensor).\n"
          ]
        },
        {
          "output_type": "stream",
          "name": "stdout",
          "text": [
            "Train_loss:  0.039468170052194704\n",
            "Valid_loss:  0.056952142322968156\n",
            "Validation accuracy 0.6868008948545862\n",
            "Validation f1 0.5264380285535141\n",
            "Epoch:  187\n"
          ]
        },
        {
          "output_type": "stream",
          "name": "stderr",
          "text": [
            "/usr/local/lib/python3.7/dist-packages/ipykernel_launcher.py:33: UserWarning: To copy construct from a tensor, it is recommended to use sourceTensor.clone().detach() or sourceTensor.clone().detach().requires_grad_(True), rather than torch.tensor(sourceTensor).\n"
          ]
        },
        {
          "output_type": "stream",
          "name": "stdout",
          "text": [
            "Train_loss:  0.03919322235742584\n",
            "Valid_loss:  0.05678244500554034\n",
            "Validation accuracy 0.6868008948545862\n",
            "Validation f1 0.5264380285535141\n",
            "Epoch:  188\n"
          ]
        },
        {
          "output_type": "stream",
          "name": "stderr",
          "text": [
            "/usr/local/lib/python3.7/dist-packages/ipykernel_launcher.py:33: UserWarning: To copy construct from a tensor, it is recommended to use sourceTensor.clone().detach() or sourceTensor.clone().detach().requires_grad_(True), rather than torch.tensor(sourceTensor).\n"
          ]
        },
        {
          "output_type": "stream",
          "name": "stdout",
          "text": [
            "Train_loss:  0.038921484465910386\n",
            "Valid_loss:  0.05661435205755489\n",
            "Validation accuracy 0.6868008948545862\n",
            "Validation f1 0.5264380285535141\n",
            "Epoch:  189\n"
          ]
        },
        {
          "output_type": "stream",
          "name": "stderr",
          "text": [
            "/usr/local/lib/python3.7/dist-packages/ipykernel_launcher.py:33: UserWarning: To copy construct from a tensor, it is recommended to use sourceTensor.clone().detach() or sourceTensor.clone().detach().requires_grad_(True), rather than torch.tensor(sourceTensor).\n"
          ]
        },
        {
          "output_type": "stream",
          "name": "stdout",
          "text": [
            "Train_loss:  0.038653300023205314\n",
            "Valid_loss:  0.05644946462208671\n",
            "Validation accuracy 0.6868008948545862\n",
            "Validation f1 0.5264380285535141\n",
            "Epoch:  190\n"
          ]
        },
        {
          "output_type": "stream",
          "name": "stderr",
          "text": [
            "/usr/local/lib/python3.7/dist-packages/ipykernel_launcher.py:33: UserWarning: To copy construct from a tensor, it is recommended to use sourceTensor.clone().detach() or sourceTensor.clone().detach().requires_grad_(True), rather than torch.tensor(sourceTensor).\n"
          ]
        },
        {
          "output_type": "stream",
          "name": "stdout",
          "text": [
            "Train_loss:  0.03838813750189729\n",
            "Valid_loss:  0.05628707356351827\n",
            "Validation accuracy 0.6868008948545862\n",
            "Validation f1 0.5264380285535141\n",
            "Epoch:  191\n"
          ]
        },
        {
          "output_type": "stream",
          "name": "stderr",
          "text": [
            "/usr/local/lib/python3.7/dist-packages/ipykernel_launcher.py:33: UserWarning: To copy construct from a tensor, it is recommended to use sourceTensor.clone().detach() or sourceTensor.clone().detach().requires_grad_(True), rather than torch.tensor(sourceTensor).\n"
          ]
        },
        {
          "output_type": "stream",
          "name": "stdout",
          "text": [
            "Train_loss:  0.038126193514991816\n",
            "Valid_loss:  0.05612725082651845\n",
            "Validation accuracy 0.6868008948545862\n",
            "Validation f1 0.5264652886625943\n",
            "Epoch:  192\n"
          ]
        },
        {
          "output_type": "stream",
          "name": "stderr",
          "text": [
            "/usr/local/lib/python3.7/dist-packages/ipykernel_launcher.py:33: UserWarning: To copy construct from a tensor, it is recommended to use sourceTensor.clone().detach() or sourceTensor.clone().detach().requires_grad_(True), rather than torch.tensor(sourceTensor).\n"
          ]
        },
        {
          "output_type": "stream",
          "name": "stdout",
          "text": [
            "Train_loss:  0.03786738894164695\n",
            "Valid_loss:  0.05596905422862619\n",
            "Validation accuracy 0.6868008948545862\n",
            "Validation f1 0.5266740161332969\n",
            "Epoch:  193\n"
          ]
        },
        {
          "output_type": "stream",
          "name": "stderr",
          "text": [
            "/usr/local/lib/python3.7/dist-packages/ipykernel_launcher.py:33: UserWarning: To copy construct from a tensor, it is recommended to use sourceTensor.clone().detach() or sourceTensor.clone().detach().requires_grad_(True), rather than torch.tensor(sourceTensor).\n"
          ]
        },
        {
          "output_type": "stream",
          "name": "stdout",
          "text": [
            "Train_loss:  0.03761161577754787\n",
            "Valid_loss:  0.055814230997514515\n",
            "Validation accuracy 0.6890380313199105\n",
            "Validation f1 0.5269648589738987\n",
            "Epoch:  194\n"
          ]
        },
        {
          "output_type": "stream",
          "name": "stderr",
          "text": [
            "/usr/local/lib/python3.7/dist-packages/ipykernel_launcher.py:33: UserWarning: To copy construct from a tensor, it is recommended to use sourceTensor.clone().detach() or sourceTensor.clone().detach().requires_grad_(True), rather than torch.tensor(sourceTensor).\n"
          ]
        },
        {
          "output_type": "stream",
          "name": "stdout",
          "text": [
            "Train_loss:  0.037358839742539986\n",
            "Valid_loss:  0.05566045001614839\n",
            "Validation accuracy 0.6912751677852349\n",
            "Validation f1 0.527259947695385\n",
            "Epoch:  195\n"
          ]
        },
        {
          "output_type": "stream",
          "name": "stderr",
          "text": [
            "/usr/local/lib/python3.7/dist-packages/ipykernel_launcher.py:33: UserWarning: To copy construct from a tensor, it is recommended to use sourceTensor.clone().detach() or sourceTensor.clone().detach().requires_grad_(True), rather than torch.tensor(sourceTensor).\n"
          ]
        },
        {
          "output_type": "stream",
          "name": "stdout",
          "text": [
            "Train_loss:  0.03710918959196923\n",
            "Valid_loss:  0.05550954602326134\n",
            "Validation accuracy 0.6935123042505593\n",
            "Validation f1 0.5277276354803822\n",
            "Epoch:  196\n"
          ]
        },
        {
          "output_type": "stream",
          "name": "stderr",
          "text": [
            "/usr/local/lib/python3.7/dist-packages/ipykernel_launcher.py:33: UserWarning: To copy construct from a tensor, it is recommended to use sourceTensor.clone().detach() or sourceTensor.clone().detach().requires_grad_(True), rather than torch.tensor(sourceTensor).\n"
          ]
        },
        {
          "output_type": "stream",
          "name": "stdout",
          "text": [
            "Train_loss:  0.03686226480307856\n",
            "Valid_loss:  0.05536093281781567\n",
            "Validation accuracy 0.6935123042505593\n",
            "Validation f1 0.5277276354803822\n",
            "Epoch:  197\n"
          ]
        },
        {
          "output_type": "stream",
          "name": "stderr",
          "text": [
            "/usr/local/lib/python3.7/dist-packages/ipykernel_launcher.py:33: UserWarning: To copy construct from a tensor, it is recommended to use sourceTensor.clone().detach() or sourceTensor.clone().detach().requires_grad_(True), rather than torch.tensor(sourceTensor).\n"
          ]
        },
        {
          "output_type": "stream",
          "name": "stdout",
          "text": [
            "Train_loss:  0.036618256060007424\n",
            "Valid_loss:  0.05521403918308871\n",
            "Validation accuracy 0.6912751677852349\n",
            "Validation f1 0.5269545162416073\n",
            "Epoch:  198\n"
          ]
        },
        {
          "output_type": "stream",
          "name": "stderr",
          "text": [
            "/usr/local/lib/python3.7/dist-packages/ipykernel_launcher.py:33: UserWarning: To copy construct from a tensor, it is recommended to use sourceTensor.clone().detach() or sourceTensor.clone().detach().requires_grad_(True), rather than torch.tensor(sourceTensor).\n"
          ]
        },
        {
          "output_type": "stream",
          "name": "stdout",
          "text": [
            "Train_loss:  0.036377259147619564\n",
            "Valid_loss:  0.0550700133400304\n",
            "Validation accuracy 0.6890380313199105\n",
            "Validation f1 0.5348492530837126\n",
            "Epoch:  199\n"
          ]
        },
        {
          "output_type": "stream",
          "name": "stderr",
          "text": [
            "/usr/local/lib/python3.7/dist-packages/ipykernel_launcher.py:33: UserWarning: To copy construct from a tensor, it is recommended to use sourceTensor.clone().detach() or sourceTensor.clone().detach().requires_grad_(True), rather than torch.tensor(sourceTensor).\n"
          ]
        },
        {
          "output_type": "stream",
          "name": "stdout",
          "text": [
            "Train_loss:  0.036138839475045516\n",
            "Valid_loss:  0.05492755396491183\n",
            "Validation accuracy 0.6890380313199105\n",
            "Validation f1 0.5348492530837126\n",
            "Epoch:  200\n"
          ]
        },
        {
          "output_type": "stream",
          "name": "stderr",
          "text": [
            "/usr/local/lib/python3.7/dist-packages/ipykernel_launcher.py:33: UserWarning: To copy construct from a tensor, it is recommended to use sourceTensor.clone().detach() or sourceTensor.clone().detach().requires_grad_(True), rather than torch.tensor(sourceTensor).\n"
          ]
        },
        {
          "output_type": "stream",
          "name": "stdout",
          "text": [
            "Train_loss:  0.03590328450497639\n",
            "Valid_loss:  0.0547870689271284\n",
            "Validation accuracy 0.6912751677852349\n",
            "Validation f1 0.5362339133031678\n",
            "Epoch:  201\n"
          ]
        },
        {
          "output_type": "stream",
          "name": "stderr",
          "text": [
            "/usr/local/lib/python3.7/dist-packages/ipykernel_launcher.py:33: UserWarning: To copy construct from a tensor, it is recommended to use sourceTensor.clone().detach() or sourceTensor.clone().detach().requires_grad_(True), rather than torch.tensor(sourceTensor).\n"
          ]
        },
        {
          "output_type": "stream",
          "name": "stdout",
          "text": [
            "Train_loss:  0.03567044609891517\n",
            "Valid_loss:  0.05464884322801871\n",
            "Validation accuracy 0.6935123042505593\n",
            "Validation f1 0.5367825985688581\n",
            "Epoch:  202\n"
          ]
        },
        {
          "output_type": "stream",
          "name": "stderr",
          "text": [
            "/usr/local/lib/python3.7/dist-packages/ipykernel_launcher.py:33: UserWarning: To copy construct from a tensor, it is recommended to use sourceTensor.clone().detach() or sourceTensor.clone().detach().requires_grad_(True), rather than torch.tensor(sourceTensor).\n"
          ]
        },
        {
          "output_type": "stream",
          "name": "stdout",
          "text": [
            "Train_loss:  0.035440101487828155\n",
            "Valid_loss:  0.05451204627752304\n",
            "Validation accuracy 0.6912751677852349\n",
            "Validation f1 0.5364583188628717\n",
            "Epoch:  203\n"
          ]
        },
        {
          "output_type": "stream",
          "name": "stderr",
          "text": [
            "/usr/local/lib/python3.7/dist-packages/ipykernel_launcher.py:33: UserWarning: To copy construct from a tensor, it is recommended to use sourceTensor.clone().detach() or sourceTensor.clone().detach().requires_grad_(True), rather than torch.tensor(sourceTensor).\n"
          ]
        },
        {
          "output_type": "stream",
          "name": "stdout",
          "text": [
            "Train_loss:  0.03521249472812217\n",
            "Valid_loss:  0.05437812726345977\n",
            "Validation accuracy 0.6912751677852349\n",
            "Validation f1 0.5364583188628717\n",
            "Epoch:  204\n"
          ]
        },
        {
          "output_type": "stream",
          "name": "stderr",
          "text": [
            "/usr/local/lib/python3.7/dist-packages/ipykernel_launcher.py:33: UserWarning: To copy construct from a tensor, it is recommended to use sourceTensor.clone().detach() or sourceTensor.clone().detach().requires_grad_(True), rather than torch.tensor(sourceTensor).\n"
          ]
        },
        {
          "output_type": "stream",
          "name": "stdout",
          "text": [
            "Train_loss:  0.03498729742464742\n",
            "Valid_loss:  0.054244905577174256\n",
            "Validation accuracy 0.6912751677852349\n",
            "Validation f1 0.5364583188628717\n",
            "Epoch:  205\n"
          ]
        },
        {
          "output_type": "stream",
          "name": "stderr",
          "text": [
            "/usr/local/lib/python3.7/dist-packages/ipykernel_launcher.py:33: UserWarning: To copy construct from a tensor, it is recommended to use sourceTensor.clone().detach() or sourceTensor.clone().detach().requires_grad_(True), rather than torch.tensor(sourceTensor).\n"
          ]
        },
        {
          "output_type": "stream",
          "name": "stdout",
          "text": [
            "Train_loss:  0.03476483524095134\n",
            "Valid_loss:  0.05411424481176904\n",
            "Validation accuracy 0.6957494407158836\n",
            "Validation f1 0.5378142122247234\n",
            "Epoch:  206\n"
          ]
        },
        {
          "output_type": "stream",
          "name": "stderr",
          "text": [
            "/usr/local/lib/python3.7/dist-packages/ipykernel_launcher.py:33: UserWarning: To copy construct from a tensor, it is recommended to use sourceTensor.clone().detach() or sourceTensor.clone().detach().requires_grad_(True), rather than torch.tensor(sourceTensor).\n"
          ]
        },
        {
          "output_type": "stream",
          "name": "stdout",
          "text": [
            "Train_loss:  0.03454468229652515\n",
            "Valid_loss:  0.05398590322251299\n",
            "Validation accuracy 0.6957494407158836\n",
            "Validation f1 0.5378142122247234\n",
            "Epoch:  207\n"
          ]
        },
        {
          "output_type": "stream",
          "name": "stderr",
          "text": [
            "/usr/local/lib/python3.7/dist-packages/ipykernel_launcher.py:33: UserWarning: To copy construct from a tensor, it is recommended to use sourceTensor.clone().detach() or sourceTensor.clone().detach().requires_grad_(True), rather than torch.tensor(sourceTensor).\n"
          ]
        },
        {
          "output_type": "stream",
          "name": "stdout",
          "text": [
            "Train_loss:  0.03432710179393845\n",
            "Valid_loss:  0.0538581817776763\n",
            "Validation accuracy 0.6957494407158836\n",
            "Validation f1 0.5381452284445182\n",
            "Epoch:  208\n"
          ]
        },
        {
          "output_type": "stream",
          "name": "stderr",
          "text": [
            "/usr/local/lib/python3.7/dist-packages/ipykernel_launcher.py:33: UserWarning: To copy construct from a tensor, it is recommended to use sourceTensor.clone().detach() or sourceTensor.clone().detach().requires_grad_(True), rather than torch.tensor(sourceTensor).\n"
          ]
        },
        {
          "output_type": "stream",
          "name": "stdout",
          "text": [
            "Train_loss:  0.034111570117862096\n",
            "Valid_loss:  0.05373365691463862\n",
            "Validation accuracy 0.697986577181208\n",
            "Validation f1 0.5384458848777306\n",
            "Epoch:  209\n"
          ]
        },
        {
          "output_type": "stream",
          "name": "stderr",
          "text": [
            "/usr/local/lib/python3.7/dist-packages/ipykernel_launcher.py:33: UserWarning: To copy construct from a tensor, it is recommended to use sourceTensor.clone().detach() or sourceTensor.clone().detach().requires_grad_(True), rather than torch.tensor(sourceTensor).\n"
          ]
        },
        {
          "output_type": "stream",
          "name": "stdout",
          "text": [
            "Train_loss:  0.033898817957378924\n",
            "Valid_loss:  0.05360966090977724\n",
            "Validation accuracy 0.697986577181208\n",
            "Validation f1 0.5387496746552046\n",
            "Epoch:  210\n"
          ]
        },
        {
          "output_type": "stream",
          "name": "stderr",
          "text": [
            "/usr/local/lib/python3.7/dist-packages/ipykernel_launcher.py:33: UserWarning: To copy construct from a tensor, it is recommended to use sourceTensor.clone().detach() or sourceTensor.clone().detach().requires_grad_(True), rather than torch.tensor(sourceTensor).\n"
          ]
        },
        {
          "output_type": "stream",
          "name": "stdout",
          "text": [
            "Train_loss:  0.03368807421897405\n",
            "Valid_loss:  0.05348701091549758\n",
            "Validation accuracy 0.697986577181208\n",
            "Validation f1 0.5387496746552046\n",
            "Epoch:  211\n"
          ]
        },
        {
          "output_type": "stream",
          "name": "stderr",
          "text": [
            "/usr/local/lib/python3.7/dist-packages/ipykernel_launcher.py:33: UserWarning: To copy construct from a tensor, it is recommended to use sourceTensor.clone().detach() or sourceTensor.clone().detach().requires_grad_(True), rather than torch.tensor(sourceTensor).\n"
          ]
        },
        {
          "output_type": "stream",
          "name": "stdout",
          "text": [
            "Train_loss:  0.03347978275685039\n",
            "Valid_loss:  0.05336724753890719\n",
            "Validation accuracy 0.697986577181208\n",
            "Validation f1 0.5387496746552046\n",
            "Epoch:  212\n"
          ]
        },
        {
          "output_type": "stream",
          "name": "stderr",
          "text": [
            "/usr/local/lib/python3.7/dist-packages/ipykernel_launcher.py:33: UserWarning: To copy construct from a tensor, it is recommended to use sourceTensor.clone().detach() or sourceTensor.clone().detach().requires_grad_(True), rather than torch.tensor(sourceTensor).\n"
          ]
        },
        {
          "output_type": "stream",
          "name": "stdout",
          "text": [
            "Train_loss:  0.03327375079970807\n",
            "Valid_loss:  0.053248554950446954\n",
            "Validation accuracy 0.697986577181208\n",
            "Validation f1 0.5387496746552046\n",
            "Epoch:  213\n"
          ]
        },
        {
          "output_type": "stream",
          "name": "stderr",
          "text": [
            "/usr/local/lib/python3.7/dist-packages/ipykernel_launcher.py:33: UserWarning: To copy construct from a tensor, it is recommended to use sourceTensor.clone().detach() or sourceTensor.clone().detach().requires_grad_(True), rather than torch.tensor(sourceTensor).\n"
          ]
        },
        {
          "output_type": "stream",
          "name": "stdout",
          "text": [
            "Train_loss:  0.033069845738022456\n",
            "Valid_loss:  0.053131582298582156\n",
            "Validation accuracy 0.7024608501118568\n",
            "Validation f1 0.5393794542323526\n",
            "Epoch:  214\n"
          ]
        },
        {
          "output_type": "stream",
          "name": "stderr",
          "text": [
            "/usr/local/lib/python3.7/dist-packages/ipykernel_launcher.py:33: UserWarning: To copy construct from a tensor, it is recommended to use sourceTensor.clone().detach() or sourceTensor.clone().detach().requires_grad_(True), rather than torch.tensor(sourceTensor).\n"
          ]
        },
        {
          "output_type": "stream",
          "name": "stdout",
          "text": [
            "Train_loss:  0.032868203482524096\n",
            "Valid_loss:  0.05301607769381787\n",
            "Validation accuracy 0.7046979865771812\n",
            "Validation f1 0.5393921344228819\n",
            "Epoch:  215\n"
          ]
        },
        {
          "output_type": "stream",
          "name": "stderr",
          "text": [
            "/usr/local/lib/python3.7/dist-packages/ipykernel_launcher.py:33: UserWarning: To copy construct from a tensor, it is recommended to use sourceTensor.clone().detach() or sourceTensor.clone().detach().requires_grad_(True), rather than torch.tensor(sourceTensor).\n"
          ]
        },
        {
          "output_type": "stream",
          "name": "stdout",
          "text": [
            "Train_loss:  0.032668708923405836\n",
            "Valid_loss:  0.05290245018633349\n",
            "Validation accuracy 0.7069351230425056\n",
            "Validation f1 0.53969992143427\n",
            "Epoch:  216\n"
          ]
        },
        {
          "output_type": "stream",
          "name": "stderr",
          "text": [
            "/usr/local/lib/python3.7/dist-packages/ipykernel_launcher.py:33: UserWarning: To copy construct from a tensor, it is recommended to use sourceTensor.clone().detach() or sourceTensor.clone().detach().requires_grad_(True), rather than torch.tensor(sourceTensor).\n"
          ]
        },
        {
          "output_type": "stream",
          "name": "stdout",
          "text": [
            "Train_loss:  0.03247128407903282\n",
            "Valid_loss:  0.05278943304438144\n",
            "Validation accuracy 0.70917225950783\n",
            "Validation f1 0.5399923190950888\n",
            "Epoch:  217\n"
          ]
        },
        {
          "output_type": "stream",
          "name": "stderr",
          "text": [
            "/usr/local/lib/python3.7/dist-packages/ipykernel_launcher.py:33: UserWarning: To copy construct from a tensor, it is recommended to use sourceTensor.clone().detach() or sourceTensor.clone().detach().requires_grad_(True), rather than torch.tensor(sourceTensor).\n"
          ]
        },
        {
          "output_type": "stream",
          "name": "stdout",
          "text": [
            "Train_loss:  0.03227600490624484\n",
            "Valid_loss:  0.05267840866664691\n",
            "Validation accuracy 0.7114093959731543\n",
            "Validation f1 0.5403019166183086\n",
            "Epoch:  218\n"
          ]
        },
        {
          "output_type": "stream",
          "name": "stderr",
          "text": [
            "/usr/local/lib/python3.7/dist-packages/ipykernel_launcher.py:33: UserWarning: To copy construct from a tensor, it is recommended to use sourceTensor.clone().detach() or sourceTensor.clone().detach().requires_grad_(True), rather than torch.tensor(sourceTensor).\n"
          ]
        },
        {
          "output_type": "stream",
          "name": "stdout",
          "text": [
            "Train_loss:  0.03208258479051957\n",
            "Valid_loss:  0.052569835047636716\n",
            "Validation accuracy 0.7136465324384788\n",
            "Validation f1 0.5414006229801728\n",
            "Epoch:  219\n"
          ]
        },
        {
          "output_type": "stream",
          "name": "stderr",
          "text": [
            "/usr/local/lib/python3.7/dist-packages/ipykernel_launcher.py:33: UserWarning: To copy construct from a tensor, it is recommended to use sourceTensor.clone().detach() or sourceTensor.clone().detach().requires_grad_(True), rather than torch.tensor(sourceTensor).\n"
          ]
        },
        {
          "output_type": "stream",
          "name": "stdout",
          "text": [
            "Train_loss:  0.031891382552982704\n",
            "Valid_loss:  0.052461548059779615\n",
            "Validation accuracy 0.7181208053691275\n",
            "Validation f1 0.549400058394018\n",
            "Epoch:  220\n"
          ]
        },
        {
          "output_type": "stream",
          "name": "stderr",
          "text": [
            "/usr/local/lib/python3.7/dist-packages/ipykernel_launcher.py:33: UserWarning: To copy construct from a tensor, it is recommended to use sourceTensor.clone().detach() or sourceTensor.clone().detach().requires_grad_(True), rather than torch.tensor(sourceTensor).\n"
          ]
        },
        {
          "output_type": "stream",
          "name": "stdout",
          "text": [
            "Train_loss:  0.0317022210219875\n",
            "Valid_loss:  0.05235536356589624\n",
            "Validation accuracy 0.7181208053691275\n",
            "Validation f1 0.549400058394018\n",
            "Epoch:  221\n"
          ]
        },
        {
          "output_type": "stream",
          "name": "stderr",
          "text": [
            "/usr/local/lib/python3.7/dist-packages/ipykernel_launcher.py:33: UserWarning: To copy construct from a tensor, it is recommended to use sourceTensor.clone().detach() or sourceTensor.clone().detach().requires_grad_(True), rather than torch.tensor(sourceTensor).\n"
          ]
        },
        {
          "output_type": "stream",
          "name": "stdout",
          "text": [
            "Train_loss:  0.031514840346062556\n",
            "Valid_loss:  0.052250855502539446\n",
            "Validation accuracy 0.7225950782997763\n",
            "Validation f1 0.5505366207300909\n",
            "Epoch:  222\n"
          ]
        },
        {
          "output_type": "stream",
          "name": "stderr",
          "text": [
            "/usr/local/lib/python3.7/dist-packages/ipykernel_launcher.py:33: UserWarning: To copy construct from a tensor, it is recommended to use sourceTensor.clone().detach() or sourceTensor.clone().detach().requires_grad_(True), rather than torch.tensor(sourceTensor).\n"
          ]
        },
        {
          "output_type": "stream",
          "name": "stdout",
          "text": [
            "Train_loss:  0.03132943241923515\n",
            "Valid_loss:  0.05214625793243093\n",
            "Validation accuracy 0.7248322147651006\n",
            "Validation f1 0.5569162060570446\n",
            "Epoch:  223\n"
          ]
        },
        {
          "output_type": "stream",
          "name": "stderr",
          "text": [
            "/usr/local/lib/python3.7/dist-packages/ipykernel_launcher.py:33: UserWarning: To copy construct from a tensor, it is recommended to use sourceTensor.clone().detach() or sourceTensor.clone().detach().requires_grad_(True), rather than torch.tensor(sourceTensor).\n"
          ]
        },
        {
          "output_type": "stream",
          "name": "stdout",
          "text": [
            "Train_loss:  0.031145889663353694\n",
            "Valid_loss:  0.0520447345417259\n",
            "Validation accuracy 0.727069351230425\n",
            "Validation f1 0.5755331367332496\n",
            "Epoch:  224\n"
          ]
        },
        {
          "output_type": "stream",
          "name": "stderr",
          "text": [
            "/usr/local/lib/python3.7/dist-packages/ipykernel_launcher.py:33: UserWarning: To copy construct from a tensor, it is recommended to use sourceTensor.clone().detach() or sourceTensor.clone().detach().requires_grad_(True), rather than torch.tensor(sourceTensor).\n"
          ]
        },
        {
          "output_type": "stream",
          "name": "stdout",
          "text": [
            "Train_loss:  0.030964317066328868\n",
            "Valid_loss:  0.05194378714077175\n",
            "Validation accuracy 0.7293064876957495\n",
            "Validation f1 0.5865574141246643\n",
            "Epoch:  225\n"
          ]
        },
        {
          "output_type": "stream",
          "name": "stderr",
          "text": [
            "/usr/local/lib/python3.7/dist-packages/ipykernel_launcher.py:33: UserWarning: To copy construct from a tensor, it is recommended to use sourceTensor.clone().detach() or sourceTensor.clone().detach().requires_grad_(True), rather than torch.tensor(sourceTensor).\n"
          ]
        },
        {
          "output_type": "stream",
          "name": "stdout",
          "text": [
            "Train_loss:  0.030784767649103224\n",
            "Valid_loss:  0.05184398468450776\n",
            "Validation accuracy 0.7293064876957495\n",
            "Validation f1 0.5865574141246643\n",
            "Epoch:  226\n"
          ]
        },
        {
          "output_type": "stream",
          "name": "stderr",
          "text": [
            "/usr/local/lib/python3.7/dist-packages/ipykernel_launcher.py:33: UserWarning: To copy construct from a tensor, it is recommended to use sourceTensor.clone().detach() or sourceTensor.clone().detach().requires_grad_(True), rather than torch.tensor(sourceTensor).\n"
          ]
        },
        {
          "output_type": "stream",
          "name": "stdout",
          "text": [
            "Train_loss:  0.030606643483874256\n",
            "Valid_loss:  0.05174583342990705\n",
            "Validation accuracy 0.7293064876957495\n",
            "Validation f1 0.5865574141246643\n",
            "Epoch:  227\n"
          ]
        },
        {
          "output_type": "stream",
          "name": "stderr",
          "text": [
            "/usr/local/lib/python3.7/dist-packages/ipykernel_launcher.py:33: UserWarning: To copy construct from a tensor, it is recommended to use sourceTensor.clone().detach() or sourceTensor.clone().detach().requires_grad_(True), rather than torch.tensor(sourceTensor).\n"
          ]
        },
        {
          "output_type": "stream",
          "name": "stdout",
          "text": [
            "Train_loss:  0.030430689071571187\n",
            "Valid_loss:  0.051648939294474464\n",
            "Validation accuracy 0.7293064876957495\n",
            "Validation f1 0.5865574141246643\n",
            "Epoch:  228\n"
          ]
        },
        {
          "output_type": "stream",
          "name": "stderr",
          "text": [
            "/usr/local/lib/python3.7/dist-packages/ipykernel_launcher.py:33: UserWarning: To copy construct from a tensor, it is recommended to use sourceTensor.clone().detach() or sourceTensor.clone().detach().requires_grad_(True), rather than torch.tensor(sourceTensor).\n"
          ]
        },
        {
          "output_type": "stream",
          "name": "stdout",
          "text": [
            "Train_loss:  0.030256293298277472\n",
            "Valid_loss:  0.05155356728937477\n",
            "Validation accuracy 0.7293064876957495\n",
            "Validation f1 0.5874475888214485\n",
            "Epoch:  229\n"
          ]
        },
        {
          "output_type": "stream",
          "name": "stderr",
          "text": [
            "/usr/local/lib/python3.7/dist-packages/ipykernel_launcher.py:33: UserWarning: To copy construct from a tensor, it is recommended to use sourceTensor.clone().detach() or sourceTensor.clone().detach().requires_grad_(True), rather than torch.tensor(sourceTensor).\n"
          ]
        },
        {
          "output_type": "stream",
          "name": "stdout",
          "text": [
            "Train_loss:  0.030083888297667727\n",
            "Valid_loss:  0.051458587570648105\n",
            "Validation accuracy 0.7293064876957495\n",
            "Validation f1 0.5874475888214485\n",
            "Epoch:  230\n"
          ]
        },
        {
          "output_type": "stream",
          "name": "stderr",
          "text": [
            "/usr/local/lib/python3.7/dist-packages/ipykernel_launcher.py:33: UserWarning: To copy construct from a tensor, it is recommended to use sourceTensor.clone().detach() or sourceTensor.clone().detach().requires_grad_(True), rather than torch.tensor(sourceTensor).\n"
          ]
        },
        {
          "output_type": "stream",
          "name": "stdout",
          "text": [
            "Train_loss:  0.029912887328204567\n",
            "Valid_loss:  0.05136553357754435\n",
            "Validation accuracy 0.7315436241610739\n",
            "Validation f1 0.5878197312988543\n",
            "Epoch:  231\n"
          ]
        },
        {
          "output_type": "stream",
          "name": "stderr",
          "text": [
            "/usr/local/lib/python3.7/dist-packages/ipykernel_launcher.py:33: UserWarning: To copy construct from a tensor, it is recommended to use sourceTensor.clone().detach() or sourceTensor.clone().detach().requires_grad_(True), rather than torch.tensor(sourceTensor).\n"
          ]
        },
        {
          "output_type": "stream",
          "name": "stdout",
          "text": [
            "Train_loss:  0.029743974352771017\n",
            "Valid_loss:  0.05127378017641604\n",
            "Validation accuracy 0.7315436241610739\n",
            "Validation f1 0.5885002204003961\n",
            "Epoch:  232\n"
          ]
        },
        {
          "output_type": "stream",
          "name": "stderr",
          "text": [
            "/usr/local/lib/python3.7/dist-packages/ipykernel_launcher.py:33: UserWarning: To copy construct from a tensor, it is recommended to use sourceTensor.clone().detach() or sourceTensor.clone().detach().requires_grad_(True), rather than torch.tensor(sourceTensor).\n"
          ]
        },
        {
          "output_type": "stream",
          "name": "stdout",
          "text": [
            "Train_loss:  0.029576268737270896\n",
            "Valid_loss:  0.05118256330024451\n",
            "Validation accuracy 0.7315436241610739\n",
            "Validation f1 0.5893831653222016\n",
            "Epoch:  233\n"
          ]
        },
        {
          "output_type": "stream",
          "name": "stderr",
          "text": [
            "/usr/local/lib/python3.7/dist-packages/ipykernel_launcher.py:33: UserWarning: To copy construct from a tensor, it is recommended to use sourceTensor.clone().detach() or sourceTensor.clone().detach().requires_grad_(True), rather than torch.tensor(sourceTensor).\n"
          ]
        },
        {
          "output_type": "stream",
          "name": "stdout",
          "text": [
            "Train_loss:  0.029410648533874855\n",
            "Valid_loss:  0.05109347017215831\n",
            "Validation accuracy 0.7315436241610739\n",
            "Validation f1 0.5893831653222016\n",
            "Epoch:  234\n"
          ]
        },
        {
          "output_type": "stream",
          "name": "stderr",
          "text": [
            "/usr/local/lib/python3.7/dist-packages/ipykernel_launcher.py:33: UserWarning: To copy construct from a tensor, it is recommended to use sourceTensor.clone().detach() or sourceTensor.clone().detach().requires_grad_(True), rather than torch.tensor(sourceTensor).\n"
          ]
        },
        {
          "output_type": "stream",
          "name": "stdout",
          "text": [
            "Train_loss:  0.029246433621405492\n",
            "Valid_loss:  0.051005059420796375\n",
            "Validation accuracy 0.7315436241610739\n",
            "Validation f1 0.5893831653222016\n",
            "Epoch:  235\n"
          ]
        },
        {
          "output_type": "stream",
          "name": "stderr",
          "text": [
            "/usr/local/lib/python3.7/dist-packages/ipykernel_launcher.py:33: UserWarning: To copy construct from a tensor, it is recommended to use sourceTensor.clone().detach() or sourceTensor.clone().detach().requires_grad_(True), rather than torch.tensor(sourceTensor).\n"
          ]
        },
        {
          "output_type": "stream",
          "name": "stdout",
          "text": [
            "Train_loss:  0.02908405397777512\n",
            "Valid_loss:  0.05091799798953746\n",
            "Validation accuracy 0.7315436241610739\n",
            "Validation f1 0.5893831653222016\n",
            "Epoch:  236\n"
          ]
        },
        {
          "output_type": "stream",
          "name": "stderr",
          "text": [
            "/usr/local/lib/python3.7/dist-packages/ipykernel_launcher.py:33: UserWarning: To copy construct from a tensor, it is recommended to use sourceTensor.clone().detach() or sourceTensor.clone().detach().requires_grad_(True), rather than torch.tensor(sourceTensor).\n"
          ]
        },
        {
          "output_type": "stream",
          "name": "stdout",
          "text": [
            "Train_loss:  0.028923168666161864\n",
            "Valid_loss:  0.050832472275942564\n",
            "Validation accuracy 0.7337807606263982\n",
            "Validation f1 0.5901562845609765\n",
            "Epoch:  237\n"
          ]
        },
        {
          "output_type": "stream",
          "name": "stderr",
          "text": [
            "/usr/local/lib/python3.7/dist-packages/ipykernel_launcher.py:33: UserWarning: To copy construct from a tensor, it is recommended to use sourceTensor.clone().detach() or sourceTensor.clone().detach().requires_grad_(True), rather than torch.tensor(sourceTensor).\n"
          ]
        },
        {
          "output_type": "stream",
          "name": "stdout",
          "text": [
            "Train_loss:  0.02876393257923025\n",
            "Valid_loss:  0.05074708103867514\n",
            "Validation accuracy 0.7360178970917226\n",
            "Validation f1 0.5910888485290362\n",
            "Epoch:  238\n"
          ]
        },
        {
          "output_type": "stream",
          "name": "stderr",
          "text": [
            "/usr/local/lib/python3.7/dist-packages/ipykernel_launcher.py:33: UserWarning: To copy construct from a tensor, it is recommended to use sourceTensor.clone().detach() or sourceTensor.clone().detach().requires_grad_(True), rather than torch.tensor(sourceTensor).\n"
          ]
        },
        {
          "output_type": "stream",
          "name": "stdout",
          "text": [
            "Train_loss:  0.028605988313626898\n",
            "Valid_loss:  0.05066419273082699\n",
            "Validation accuracy 0.7360178970917226\n",
            "Validation f1 0.5910888485290362\n",
            "Epoch:  239\n"
          ]
        },
        {
          "output_type": "stream",
          "name": "stderr",
          "text": [
            "/usr/local/lib/python3.7/dist-packages/ipykernel_launcher.py:33: UserWarning: To copy construct from a tensor, it is recommended to use sourceTensor.clone().detach() or sourceTensor.clone().detach().requires_grad_(True), rather than torch.tensor(sourceTensor).\n"
          ]
        },
        {
          "output_type": "stream",
          "name": "stdout",
          "text": [
            "Train_loss:  0.028449881709613174\n",
            "Valid_loss:  0.05058145577952798\n",
            "Validation accuracy 0.7337807606263982\n",
            "Validation f1 0.5959799511420556\n",
            "Epoch:  240\n"
          ]
        },
        {
          "output_type": "stream",
          "name": "stderr",
          "text": [
            "/usr/local/lib/python3.7/dist-packages/ipykernel_launcher.py:33: UserWarning: To copy construct from a tensor, it is recommended to use sourceTensor.clone().detach() or sourceTensor.clone().detach().requires_grad_(True), rather than torch.tensor(sourceTensor).\n"
          ]
        },
        {
          "output_type": "stream",
          "name": "stdout",
          "text": [
            "Train_loss:  0.028295010517467745\n",
            "Valid_loss:  0.05050008712402944\n",
            "Validation accuracy 0.7337807606263982\n",
            "Validation f1 0.5959799511420556\n",
            "Epoch:  241\n"
          ]
        },
        {
          "output_type": "stream",
          "name": "stderr",
          "text": [
            "/usr/local/lib/python3.7/dist-packages/ipykernel_launcher.py:33: UserWarning: To copy construct from a tensor, it is recommended to use sourceTensor.clone().detach() or sourceTensor.clone().detach().requires_grad_(True), rather than torch.tensor(sourceTensor).\n"
          ]
        },
        {
          "output_type": "stream",
          "name": "stdout",
          "text": [
            "Train_loss:  0.028141932865504975\n",
            "Valid_loss:  0.050420256630916684\n",
            "Validation accuracy 0.7360178970917226\n",
            "Validation f1 0.5967797296649262\n",
            "Epoch:  242\n"
          ]
        },
        {
          "output_type": "stream",
          "name": "stderr",
          "text": [
            "/usr/local/lib/python3.7/dist-packages/ipykernel_launcher.py:33: UserWarning: To copy construct from a tensor, it is recommended to use sourceTensor.clone().detach() or sourceTensor.clone().detach().requires_grad_(True), rather than torch.tensor(sourceTensor).\n"
          ]
        },
        {
          "output_type": "stream",
          "name": "stdout",
          "text": [
            "Train_loss:  0.027990164297599613\n",
            "Valid_loss:  0.050340524658427706\n",
            "Validation accuracy 0.7360178970917226\n",
            "Validation f1 0.5967797296649262\n",
            "Epoch:  243\n"
          ]
        },
        {
          "output_type": "stream",
          "name": "stderr",
          "text": [
            "/usr/local/lib/python3.7/dist-packages/ipykernel_launcher.py:33: UserWarning: To copy construct from a tensor, it is recommended to use sourceTensor.clone().detach() or sourceTensor.clone().detach().requires_grad_(True), rather than torch.tensor(sourceTensor).\n"
          ]
        },
        {
          "output_type": "stream",
          "name": "stdout",
          "text": [
            "Train_loss:  0.027840130725443096\n",
            "Valid_loss:  0.0502621531985434\n",
            "Validation accuracy 0.7360178970917226\n",
            "Validation f1 0.5967797296649262\n",
            "Epoch:  244\n"
          ]
        },
        {
          "output_type": "stream",
          "name": "stderr",
          "text": [
            "/usr/local/lib/python3.7/dist-packages/ipykernel_launcher.py:33: UserWarning: To copy construct from a tensor, it is recommended to use sourceTensor.clone().detach() or sourceTensor.clone().detach().requires_grad_(True), rather than torch.tensor(sourceTensor).\n"
          ]
        },
        {
          "output_type": "stream",
          "name": "stdout",
          "text": [
            "Train_loss:  0.027691283737242754\n",
            "Valid_loss:  0.05018558289988765\n",
            "Validation accuracy 0.7360178970917226\n",
            "Validation f1 0.5930203311686855\n",
            "Epoch:  245\n"
          ]
        },
        {
          "output_type": "stream",
          "name": "stderr",
          "text": [
            "/usr/local/lib/python3.7/dist-packages/ipykernel_launcher.py:33: UserWarning: To copy construct from a tensor, it is recommended to use sourceTensor.clone().detach() or sourceTensor.clone().detach().requires_grad_(True), rather than torch.tensor(sourceTensor).\n"
          ]
        },
        {
          "output_type": "stream",
          "name": "stdout",
          "text": [
            "Train_loss:  0.027544138279543922\n",
            "Valid_loss:  0.050109236085388274\n",
            "Validation accuracy 0.7360178970917226\n",
            "Validation f1 0.5930203311686855\n",
            "Epoch:  246\n"
          ]
        },
        {
          "output_type": "stream",
          "name": "stderr",
          "text": [
            "/usr/local/lib/python3.7/dist-packages/ipykernel_launcher.py:33: UserWarning: To copy construct from a tensor, it is recommended to use sourceTensor.clone().detach() or sourceTensor.clone().detach().requires_grad_(True), rather than torch.tensor(sourceTensor).\n"
          ]
        },
        {
          "output_type": "stream",
          "name": "stdout",
          "text": [
            "Train_loss:  0.027398142601928806\n",
            "Valid_loss:  0.0500347495877317\n",
            "Validation accuracy 0.7360178970917226\n",
            "Validation f1 0.5930203311686855\n",
            "Epoch:  247\n"
          ]
        },
        {
          "output_type": "stream",
          "name": "stderr",
          "text": [
            "/usr/local/lib/python3.7/dist-packages/ipykernel_launcher.py:33: UserWarning: To copy construct from a tensor, it is recommended to use sourceTensor.clone().detach() or sourceTensor.clone().detach().requires_grad_(True), rather than torch.tensor(sourceTensor).\n"
          ]
        },
        {
          "output_type": "stream",
          "name": "stdout",
          "text": [
            "Train_loss:  0.027253853747554655\n",
            "Valid_loss:  0.049961286081400304\n",
            "Validation accuracy 0.7360178970917226\n",
            "Validation f1 0.5935260567042128\n",
            "Epoch:  248\n"
          ]
        },
        {
          "output_type": "stream",
          "name": "stderr",
          "text": [
            "/usr/local/lib/python3.7/dist-packages/ipykernel_launcher.py:33: UserWarning: To copy construct from a tensor, it is recommended to use sourceTensor.clone().detach() or sourceTensor.clone().detach().requires_grad_(True), rather than torch.tensor(sourceTensor).\n"
          ]
        },
        {
          "output_type": "stream",
          "name": "stdout",
          "text": [
            "Train_loss:  0.02711083168521457\n",
            "Valid_loss:  0.04988808590652687\n",
            "Validation accuracy 0.7360178970917226\n",
            "Validation f1 0.5935260567042128\n",
            "Epoch:  249\n"
          ]
        },
        {
          "output_type": "stream",
          "name": "stderr",
          "text": [
            "/usr/local/lib/python3.7/dist-packages/ipykernel_launcher.py:33: UserWarning: To copy construct from a tensor, it is recommended to use sourceTensor.clone().detach() or sourceTensor.clone().detach().requires_grad_(True), rather than torch.tensor(sourceTensor).\n"
          ]
        },
        {
          "output_type": "stream",
          "name": "stdout",
          "text": [
            "Train_loss:  0.026969336438924074\n",
            "Valid_loss:  0.0498165283185829\n",
            "Validation accuracy 0.7360178970917226\n",
            "Validation f1 0.5935260567042128\n",
            "Epoch:  250\n"
          ]
        },
        {
          "output_type": "stream",
          "name": "stderr",
          "text": [
            "/usr/local/lib/python3.7/dist-packages/ipykernel_launcher.py:33: UserWarning: To copy construct from a tensor, it is recommended to use sourceTensor.clone().detach() or sourceTensor.clone().detach().requires_grad_(True), rather than torch.tensor(sourceTensor).\n"
          ]
        },
        {
          "output_type": "stream",
          "name": "stdout",
          "text": [
            "Train_loss:  0.026829006183626398\n",
            "Valid_loss:  0.04974530745364193\n",
            "Validation accuracy 0.7360178970917226\n",
            "Validation f1 0.5935260567042128\n",
            "Epoch:  251\n"
          ]
        },
        {
          "output_type": "stream",
          "name": "stderr",
          "text": [
            "/usr/local/lib/python3.7/dist-packages/ipykernel_launcher.py:33: UserWarning: To copy construct from a tensor, it is recommended to use sourceTensor.clone().detach() or sourceTensor.clone().detach().requires_grad_(True), rather than torch.tensor(sourceTensor).\n"
          ]
        },
        {
          "output_type": "stream",
          "name": "stdout",
          "text": [
            "Train_loss:  0.026689920886253406\n",
            "Valid_loss:  0.049676334452150125\n",
            "Validation accuracy 0.738255033557047\n",
            "Validation f1 0.5941930707740408\n",
            "Epoch:  252\n"
          ]
        },
        {
          "output_type": "stream",
          "name": "stderr",
          "text": [
            "/usr/local/lib/python3.7/dist-packages/ipykernel_launcher.py:33: UserWarning: To copy construct from a tensor, it is recommended to use sourceTensor.clone().detach() or sourceTensor.clone().detach().requires_grad_(True), rather than torch.tensor(sourceTensor).\n"
          ]
        },
        {
          "output_type": "stream",
          "name": "stdout",
          "text": [
            "Train_loss:  0.026552617429323227\n",
            "Valid_loss:  0.049607031662682335\n",
            "Validation accuracy 0.738255033557047\n",
            "Validation f1 0.5941930707740408\n",
            "Epoch:  253\n"
          ]
        },
        {
          "output_type": "stream",
          "name": "stderr",
          "text": [
            "/usr/local/lib/python3.7/dist-packages/ipykernel_launcher.py:33: UserWarning: To copy construct from a tensor, it is recommended to use sourceTensor.clone().detach() or sourceTensor.clone().detach().requires_grad_(True), rather than torch.tensor(sourceTensor).\n"
          ]
        },
        {
          "output_type": "stream",
          "name": "stdout",
          "text": [
            "Train_loss:  0.026416132478126592\n",
            "Valid_loss:  0.04953954365503575\n",
            "Validation accuracy 0.738255033557047\n",
            "Validation f1 0.594842210663687\n",
            "Epoch:  254\n"
          ]
        },
        {
          "output_type": "stream",
          "name": "stderr",
          "text": [
            "/usr/local/lib/python3.7/dist-packages/ipykernel_launcher.py:33: UserWarning: To copy construct from a tensor, it is recommended to use sourceTensor.clone().detach() or sourceTensor.clone().detach().requires_grad_(True), rather than torch.tensor(sourceTensor).\n"
          ]
        },
        {
          "output_type": "stream",
          "name": "stdout",
          "text": [
            "Train_loss:  0.02628128055117226\n",
            "Valid_loss:  0.04947300972084382\n",
            "Validation accuracy 0.738255033557047\n",
            "Validation f1 0.5956928220406142\n",
            "Epoch:  255\n"
          ]
        },
        {
          "output_type": "stream",
          "name": "stderr",
          "text": [
            "/usr/local/lib/python3.7/dist-packages/ipykernel_launcher.py:33: UserWarning: To copy construct from a tensor, it is recommended to use sourceTensor.clone().detach() or sourceTensor.clone().detach().requires_grad_(True), rather than torch.tensor(sourceTensor).\n"
          ]
        },
        {
          "output_type": "stream",
          "name": "stdout",
          "text": [
            "Train_loss:  0.02614754976821132\n",
            "Valid_loss:  0.04940645469884787\n",
            "Validation accuracy 0.7404921700223713\n",
            "Validation f1 0.597921175181531\n",
            "Epoch:  256\n"
          ]
        },
        {
          "output_type": "stream",
          "name": "stderr",
          "text": [
            "/usr/local/lib/python3.7/dist-packages/ipykernel_launcher.py:33: UserWarning: To copy construct from a tensor, it is recommended to use sourceTensor.clone().detach() or sourceTensor.clone().detach().requires_grad_(True), rather than torch.tensor(sourceTensor).\n"
          ]
        },
        {
          "output_type": "stream",
          "name": "stdout",
          "text": [
            "Train_loss:  0.026014996218561594\n",
            "Valid_loss:  0.049341935431584716\n",
            "Validation accuracy 0.7404921700223713\n",
            "Validation f1 0.597921175181531\n",
            "Epoch:  257\n"
          ]
        },
        {
          "output_type": "stream",
          "name": "stderr",
          "text": [
            "/usr/local/lib/python3.7/dist-packages/ipykernel_launcher.py:33: UserWarning: To copy construct from a tensor, it is recommended to use sourceTensor.clone().detach() or sourceTensor.clone().detach().requires_grad_(True), rather than torch.tensor(sourceTensor).\n"
          ]
        },
        {
          "output_type": "stream",
          "name": "stdout",
          "text": [
            "Train_loss:  0.025884013918195187\n",
            "Valid_loss:  0.04927775265449392\n",
            "Validation accuracy 0.7404921700223713\n",
            "Validation f1 0.597921175181531\n",
            "Epoch:  258\n"
          ]
        },
        {
          "output_type": "stream",
          "name": "stderr",
          "text": [
            "/usr/local/lib/python3.7/dist-packages/ipykernel_launcher.py:33: UserWarning: To copy construct from a tensor, it is recommended to use sourceTensor.clone().detach() or sourceTensor.clone().detach().requires_grad_(True), rather than torch.tensor(sourceTensor).\n"
          ]
        },
        {
          "output_type": "stream",
          "name": "stdout",
          "text": [
            "Train_loss:  0.025754216237276393\n",
            "Valid_loss:  0.04921484444223877\n",
            "Validation accuracy 0.7404921700223713\n",
            "Validation f1 0.597921175181531\n",
            "Epoch:  259\n"
          ]
        },
        {
          "output_type": "stream",
          "name": "stderr",
          "text": [
            "/usr/local/lib/python3.7/dist-packages/ipykernel_launcher.py:33: UserWarning: To copy construct from a tensor, it is recommended to use sourceTensor.clone().detach() or sourceTensor.clone().detach().requires_grad_(True), rather than torch.tensor(sourceTensor).\n"
          ]
        },
        {
          "output_type": "stream",
          "name": "stdout",
          "text": [
            "Train_loss:  0.02562537822190539\n",
            "Valid_loss:  0.049153179894866686\n",
            "Validation accuracy 0.7404921700223713\n",
            "Validation f1 0.597921175181531\n",
            "Epoch:  260\n"
          ]
        },
        {
          "output_type": "stream",
          "name": "stderr",
          "text": [
            "/usr/local/lib/python3.7/dist-packages/ipykernel_launcher.py:33: UserWarning: To copy construct from a tensor, it is recommended to use sourceTensor.clone().detach() or sourceTensor.clone().detach().requires_grad_(True), rather than torch.tensor(sourceTensor).\n"
          ]
        },
        {
          "output_type": "stream",
          "name": "stdout",
          "text": [
            "Train_loss:  0.025498163630670336\n",
            "Valid_loss:  0.04909103107638657\n",
            "Validation accuracy 0.7404921700223713\n",
            "Validation f1 0.597921175181531\n",
            "Epoch:  261\n"
          ]
        },
        {
          "output_type": "stream",
          "name": "stderr",
          "text": [
            "/usr/local/lib/python3.7/dist-packages/ipykernel_launcher.py:33: UserWarning: To copy construct from a tensor, it is recommended to use sourceTensor.clone().detach() or sourceTensor.clone().detach().requires_grad_(True), rather than torch.tensor(sourceTensor).\n"
          ]
        },
        {
          "output_type": "stream",
          "name": "stdout",
          "text": [
            "Train_loss:  0.025371762381317758\n",
            "Valid_loss:  0.04903135576751083\n",
            "Validation accuracy 0.7404921700223713\n",
            "Validation f1 0.597921175181531\n",
            "Epoch:  262\n"
          ]
        },
        {
          "output_type": "stream",
          "name": "stderr",
          "text": [
            "/usr/local/lib/python3.7/dist-packages/ipykernel_launcher.py:33: UserWarning: To copy construct from a tensor, it is recommended to use sourceTensor.clone().detach() or sourceTensor.clone().detach().requires_grad_(True), rather than torch.tensor(sourceTensor).\n"
          ]
        },
        {
          "output_type": "stream",
          "name": "stdout",
          "text": [
            "Train_loss:  0.025246890047648258\n",
            "Valid_loss:  0.04897173731920442\n",
            "Validation accuracy 0.7449664429530202\n",
            "Validation f1 0.6021422541948538\n",
            "Epoch:  263\n"
          ]
        },
        {
          "output_type": "stream",
          "name": "stderr",
          "text": [
            "/usr/local/lib/python3.7/dist-packages/ipykernel_launcher.py:33: UserWarning: To copy construct from a tensor, it is recommended to use sourceTensor.clone().detach() or sourceTensor.clone().detach().requires_grad_(True), rather than torch.tensor(sourceTensor).\n"
          ]
        },
        {
          "output_type": "stream",
          "name": "stdout",
          "text": [
            "Train_loss:  0.02512291922175791\n",
            "Valid_loss:  0.04891261596432222\n",
            "Validation accuracy 0.7449664429530202\n",
            "Validation f1 0.6021422541948538\n",
            "Epoch:  264\n"
          ]
        },
        {
          "output_type": "stream",
          "name": "stderr",
          "text": [
            "/usr/local/lib/python3.7/dist-packages/ipykernel_launcher.py:33: UserWarning: To copy construct from a tensor, it is recommended to use sourceTensor.clone().detach() or sourceTensor.clone().detach().requires_grad_(True), rather than torch.tensor(sourceTensor).\n"
          ]
        },
        {
          "output_type": "stream",
          "name": "stdout",
          "text": [
            "Train_loss:  0.025000412804989276\n",
            "Valid_loss:  0.04885564443455743\n",
            "Validation accuracy 0.7449664429530202\n",
            "Validation f1 0.6021422541948538\n",
            "Epoch:  265\n"
          ]
        },
        {
          "output_type": "stream",
          "name": "stderr",
          "text": [
            "/usr/local/lib/python3.7/dist-packages/ipykernel_launcher.py:33: UserWarning: To copy construct from a tensor, it is recommended to use sourceTensor.clone().detach() or sourceTensor.clone().detach().requires_grad_(True), rather than torch.tensor(sourceTensor).\n"
          ]
        },
        {
          "output_type": "stream",
          "name": "stdout",
          "text": [
            "Train_loss:  0.024878630167222582\n",
            "Valid_loss:  0.04879868215149535\n",
            "Validation accuracy 0.7427293064876958\n",
            "Validation f1 0.601849856534035\n",
            "Epoch:  266\n"
          ]
        },
        {
          "output_type": "stream",
          "name": "stderr",
          "text": [
            "/usr/local/lib/python3.7/dist-packages/ipykernel_launcher.py:33: UserWarning: To copy construct from a tensor, it is recommended to use sourceTensor.clone().detach() or sourceTensor.clone().detach().requires_grad_(True), rather than torch.tensor(sourceTensor).\n"
          ]
        },
        {
          "output_type": "stream",
          "name": "stdout",
          "text": [
            "Train_loss:  0.0247585019782751\n",
            "Valid_loss:  0.04874289779192103\n",
            "Validation accuracy 0.7449664429530202\n",
            "Validation f1 0.6026776974612168\n",
            "Epoch:  267\n"
          ]
        },
        {
          "output_type": "stream",
          "name": "stderr",
          "text": [
            "/usr/local/lib/python3.7/dist-packages/ipykernel_launcher.py:33: UserWarning: To copy construct from a tensor, it is recommended to use sourceTensor.clone().detach() or sourceTensor.clone().detach().requires_grad_(True), rather than torch.tensor(sourceTensor).\n"
          ]
        },
        {
          "output_type": "stream",
          "name": "stdout",
          "text": [
            "Train_loss:  0.024639193342799053\n",
            "Valid_loss:  0.04868815337041659\n",
            "Validation accuracy 0.7449664429530202\n",
            "Validation f1 0.6026776974612168\n",
            "Epoch:  268\n"
          ]
        },
        {
          "output_type": "stream",
          "name": "stderr",
          "text": [
            "/usr/local/lib/python3.7/dist-packages/ipykernel_launcher.py:33: UserWarning: To copy construct from a tensor, it is recommended to use sourceTensor.clone().detach() or sourceTensor.clone().detach().requires_grad_(True), rather than torch.tensor(sourceTensor).\n"
          ]
        },
        {
          "output_type": "stream",
          "name": "stdout",
          "text": [
            "Train_loss:  0.02452119874526813\n",
            "Valid_loss:  0.04863420399903719\n",
            "Validation accuracy 0.7449664429530202\n",
            "Validation f1 0.6016554048876778\n",
            "Epoch:  269\n"
          ]
        },
        {
          "output_type": "stream",
          "name": "stderr",
          "text": [
            "/usr/local/lib/python3.7/dist-packages/ipykernel_launcher.py:33: UserWarning: To copy construct from a tensor, it is recommended to use sourceTensor.clone().detach() or sourceTensor.clone().detach().requires_grad_(True), rather than torch.tensor(sourceTensor).\n"
          ]
        },
        {
          "output_type": "stream",
          "name": "stdout",
          "text": [
            "Train_loss:  0.024404115238991966\n",
            "Valid_loss:  0.04858046419186784\n",
            "Validation accuracy 0.7449664429530202\n",
            "Validation f1 0.6016554048876778\n",
            "Epoch:  270\n"
          ]
        },
        {
          "output_type": "stream",
          "name": "stderr",
          "text": [
            "/usr/local/lib/python3.7/dist-packages/ipykernel_launcher.py:33: UserWarning: To copy construct from a tensor, it is recommended to use sourceTensor.clone().detach() or sourceTensor.clone().detach().requires_grad_(True), rather than torch.tensor(sourceTensor).\n"
          ]
        },
        {
          "output_type": "stream",
          "name": "stdout",
          "text": [
            "Train_loss:  0.024288347321479314\n",
            "Valid_loss:  0.04852760980637478\n",
            "Validation accuracy 0.7449664429530202\n",
            "Validation f1 0.6016554048876778\n",
            "Epoch:  271\n"
          ]
        },
        {
          "output_type": "stream",
          "name": "stderr",
          "text": [
            "/usr/local/lib/python3.7/dist-packages/ipykernel_launcher.py:33: UserWarning: To copy construct from a tensor, it is recommended to use sourceTensor.clone().detach() or sourceTensor.clone().detach().requires_grad_(True), rather than torch.tensor(sourceTensor).\n"
          ]
        },
        {
          "output_type": "stream",
          "name": "stdout",
          "text": [
            "Train_loss:  0.024173562899315066\n",
            "Valid_loss:  0.04847629315086773\n",
            "Validation accuracy 0.7449664429530202\n",
            "Validation f1 0.6016554048876778\n",
            "Epoch:  272\n"
          ]
        },
        {
          "output_type": "stream",
          "name": "stderr",
          "text": [
            "/usr/local/lib/python3.7/dist-packages/ipykernel_launcher.py:33: UserWarning: To copy construct from a tensor, it is recommended to use sourceTensor.clone().detach() or sourceTensor.clone().detach().requires_grad_(True), rather than torch.tensor(sourceTensor).\n"
          ]
        },
        {
          "output_type": "stream",
          "name": "stdout",
          "text": [
            "Train_loss:  0.024059890569852933\n",
            "Valid_loss:  0.048424490028992295\n",
            "Validation accuracy 0.7449664429530202\n",
            "Validation f1 0.6016853843192421\n",
            "Epoch:  273\n"
          ]
        },
        {
          "output_type": "stream",
          "name": "stderr",
          "text": [
            "/usr/local/lib/python3.7/dist-packages/ipykernel_launcher.py:33: UserWarning: To copy construct from a tensor, it is recommended to use sourceTensor.clone().detach() or sourceTensor.clone().detach().requires_grad_(True), rather than torch.tensor(sourceTensor).\n"
          ]
        },
        {
          "output_type": "stream",
          "name": "stdout",
          "text": [
            "Train_loss:  0.02394719149326972\n",
            "Valid_loss:  0.04837549546001745\n",
            "Validation accuracy 0.7449664429530202\n",
            "Validation f1 0.6016853843192421\n",
            "Epoch:  274\n"
          ]
        },
        {
          "output_type": "stream",
          "name": "stderr",
          "text": [
            "/usr/local/lib/python3.7/dist-packages/ipykernel_launcher.py:33: UserWarning: To copy construct from a tensor, it is recommended to use sourceTensor.clone().detach() or sourceTensor.clone().detach().requires_grad_(True), rather than torch.tensor(sourceTensor).\n"
          ]
        },
        {
          "output_type": "stream",
          "name": "stdout",
          "text": [
            "Train_loss:  0.02383566965207657\n",
            "Valid_loss:  0.048325355746783316\n",
            "Validation accuracy 0.7449664429530202\n",
            "Validation f1 0.6016853843192421\n",
            "Epoch:  275\n"
          ]
        },
        {
          "output_type": "stream",
          "name": "stderr",
          "text": [
            "/usr/local/lib/python3.7/dist-packages/ipykernel_launcher.py:33: UserWarning: To copy construct from a tensor, it is recommended to use sourceTensor.clone().detach() or sourceTensor.clone().detach().requires_grad_(True), rather than torch.tensor(sourceTensor).\n"
          ]
        },
        {
          "output_type": "stream",
          "name": "stdout",
          "text": [
            "Train_loss:  0.023725196627700434\n",
            "Valid_loss:  0.04827654255287988\n",
            "Validation accuracy 0.7449664429530202\n",
            "Validation f1 0.6016853843192421\n",
            "Epoch:  276\n"
          ]
        },
        {
          "output_type": "stream",
          "name": "stderr",
          "text": [
            "/usr/local/lib/python3.7/dist-packages/ipykernel_launcher.py:33: UserWarning: To copy construct from a tensor, it is recommended to use sourceTensor.clone().detach() or sourceTensor.clone().detach().requires_grad_(True), rather than torch.tensor(sourceTensor).\n"
          ]
        },
        {
          "output_type": "stream",
          "name": "stdout",
          "text": [
            "Train_loss:  0.023615541292071742\n",
            "Valid_loss:  0.048228099227084646\n",
            "Validation accuracy 0.7449664429530202\n",
            "Validation f1 0.6016853843192421\n",
            "Epoch:  277\n"
          ]
        },
        {
          "output_type": "stream",
          "name": "stderr",
          "text": [
            "/usr/local/lib/python3.7/dist-packages/ipykernel_launcher.py:33: UserWarning: To copy construct from a tensor, it is recommended to use sourceTensor.clone().detach() or sourceTensor.clone().detach().requires_grad_(True), rather than torch.tensor(sourceTensor).\n"
          ]
        },
        {
          "output_type": "stream",
          "name": "stdout",
          "text": [
            "Train_loss:  0.023507063896561573\n",
            "Valid_loss:  0.048181569087319076\n",
            "Validation accuracy 0.7449664429530202\n",
            "Validation f1 0.6016853843192421\n",
            "Epoch:  278\n"
          ]
        },
        {
          "output_type": "stream",
          "name": "stderr",
          "text": [
            "/usr/local/lib/python3.7/dist-packages/ipykernel_launcher.py:33: UserWarning: To copy construct from a tensor, it is recommended to use sourceTensor.clone().detach() or sourceTensor.clone().detach().requires_grad_(True), rather than torch.tensor(sourceTensor).\n"
          ]
        },
        {
          "output_type": "stream",
          "name": "stdout",
          "text": [
            "Train_loss:  0.023399501662684737\n",
            "Valid_loss:  0.048134384477244954\n",
            "Validation accuracy 0.7472035794183445\n",
            "Validation f1 0.6020759711759944\n",
            "Epoch:  279\n"
          ]
        },
        {
          "output_type": "stream",
          "name": "stderr",
          "text": [
            "/usr/local/lib/python3.7/dist-packages/ipykernel_launcher.py:33: UserWarning: To copy construct from a tensor, it is recommended to use sourceTensor.clone().detach() or sourceTensor.clone().detach().requires_grad_(True), rather than torch.tensor(sourceTensor).\n"
          ]
        },
        {
          "output_type": "stream",
          "name": "stdout",
          "text": [
            "Train_loss:  0.02329305407848941\n",
            "Valid_loss:  0.04808939531046365\n",
            "Validation accuracy 0.7472035794183445\n",
            "Validation f1 0.6020759711759944\n",
            "Epoch:  280\n"
          ]
        },
        {
          "output_type": "stream",
          "name": "stderr",
          "text": [
            "/usr/local/lib/python3.7/dist-packages/ipykernel_launcher.py:33: UserWarning: To copy construct from a tensor, it is recommended to use sourceTensor.clone().detach() or sourceTensor.clone().detach().requires_grad_(True), rather than torch.tensor(sourceTensor).\n"
          ]
        },
        {
          "output_type": "stream",
          "name": "stdout",
          "text": [
            "Train_loss:  0.023187546271531443\n",
            "Valid_loss:  0.04804351440231715\n",
            "Validation accuracy 0.7472035794183445\n",
            "Validation f1 0.6020759711759944\n",
            "Epoch:  281\n"
          ]
        },
        {
          "output_type": "stream",
          "name": "stderr",
          "text": [
            "/usr/local/lib/python3.7/dist-packages/ipykernel_launcher.py:33: UserWarning: To copy construct from a tensor, it is recommended to use sourceTensor.clone().detach() or sourceTensor.clone().detach().requires_grad_(True), rather than torch.tensor(sourceTensor).\n"
          ]
        },
        {
          "output_type": "stream",
          "name": "stdout",
          "text": [
            "Train_loss:  0.023083155249228833\n",
            "Valid_loss:  0.04799965629354119\n",
            "Validation accuracy 0.7472035794183445\n",
            "Validation f1 0.6020759711759944\n",
            "Epoch:  282\n"
          ]
        },
        {
          "output_type": "stream",
          "name": "stderr",
          "text": [
            "/usr/local/lib/python3.7/dist-packages/ipykernel_launcher.py:33: UserWarning: To copy construct from a tensor, it is recommended to use sourceTensor.clone().detach() or sourceTensor.clone().detach().requires_grad_(True), rather than torch.tensor(sourceTensor).\n"
          ]
        },
        {
          "output_type": "stream",
          "name": "stdout",
          "text": [
            "Train_loss:  0.022979495685181713\n",
            "Valid_loss:  0.047956919098006826\n",
            "Validation accuracy 0.7472035794183445\n",
            "Validation f1 0.6020759711759944\n",
            "Epoch:  283\n"
          ]
        },
        {
          "output_type": "stream",
          "name": "stderr",
          "text": [
            "/usr/local/lib/python3.7/dist-packages/ipykernel_launcher.py:33: UserWarning: To copy construct from a tensor, it is recommended to use sourceTensor.clone().detach() or sourceTensor.clone().detach().requires_grad_(True), rather than torch.tensor(sourceTensor).\n"
          ]
        },
        {
          "output_type": "stream",
          "name": "stdout",
          "text": [
            "Train_loss:  0.02287710740763162\n",
            "Valid_loss:  0.04791315117784377\n",
            "Validation accuracy 0.7472035794183445\n",
            "Validation f1 0.6020759711759944\n",
            "Epoch:  284\n"
          ]
        },
        {
          "output_type": "stream",
          "name": "stderr",
          "text": [
            "/usr/local/lib/python3.7/dist-packages/ipykernel_launcher.py:33: UserWarning: To copy construct from a tensor, it is recommended to use sourceTensor.clone().detach() or sourceTensor.clone().detach().requires_grad_(True), rather than torch.tensor(sourceTensor).\n"
          ]
        },
        {
          "output_type": "stream",
          "name": "stdout",
          "text": [
            "Train_loss:  0.022775357705540955\n",
            "Valid_loss:  0.047871956535215886\n",
            "Validation accuracy 0.7472035794183445\n",
            "Validation f1 0.6020759711759944\n",
            "Epoch:  285\n"
          ]
        },
        {
          "output_type": "stream",
          "name": "stderr",
          "text": [
            "/usr/local/lib/python3.7/dist-packages/ipykernel_launcher.py:33: UserWarning: To copy construct from a tensor, it is recommended to use sourceTensor.clone().detach() or sourceTensor.clone().detach().requires_grad_(True), rather than torch.tensor(sourceTensor).\n"
          ]
        },
        {
          "output_type": "stream",
          "name": "stdout",
          "text": [
            "Train_loss:  0.022674894243079637\n",
            "Valid_loss:  0.04783079661761543\n",
            "Validation accuracy 0.7472035794183445\n",
            "Validation f1 0.6032970690334201\n",
            "Epoch:  286\n"
          ]
        },
        {
          "output_type": "stream",
          "name": "stderr",
          "text": [
            "/usr/local/lib/python3.7/dist-packages/ipykernel_launcher.py:33: UserWarning: To copy construct from a tensor, it is recommended to use sourceTensor.clone().detach() or sourceTensor.clone().detach().requires_grad_(True), rather than torch.tensor(sourceTensor).\n"
          ]
        },
        {
          "output_type": "stream",
          "name": "stdout",
          "text": [
            "Train_loss:  0.02257516800974762\n",
            "Valid_loss:  0.047790388543424864\n",
            "Validation accuracy 0.7472035794183445\n",
            "Validation f1 0.6032970690334201\n",
            "Epoch:  287\n"
          ]
        },
        {
          "output_type": "stream",
          "name": "stderr",
          "text": [
            "/usr/local/lib/python3.7/dist-packages/ipykernel_launcher.py:33: UserWarning: To copy construct from a tensor, it is recommended to use sourceTensor.clone().detach() or sourceTensor.clone().detach().requires_grad_(True), rather than torch.tensor(sourceTensor).\n"
          ]
        },
        {
          "output_type": "stream",
          "name": "stdout",
          "text": [
            "Train_loss:  0.022476519574411213\n",
            "Valid_loss:  0.04775045037136546\n",
            "Validation accuracy 0.7494407158836689\n",
            "Validation f1 0.6037214221895466\n",
            "Epoch:  288\n"
          ]
        },
        {
          "output_type": "stream",
          "name": "stderr",
          "text": [
            "/usr/local/lib/python3.7/dist-packages/ipykernel_launcher.py:33: UserWarning: To copy construct from a tensor, it is recommended to use sourceTensor.clone().detach() or sourceTensor.clone().detach().requires_grad_(True), rather than torch.tensor(sourceTensor).\n"
          ]
        },
        {
          "output_type": "stream",
          "name": "stdout",
          "text": [
            "Train_loss:  0.02237847899544119\n",
            "Valid_loss:  0.047711061247225316\n",
            "Validation accuracy 0.7494407158836689\n",
            "Validation f1 0.6037214221895466\n",
            "Epoch:  289\n"
          ]
        },
        {
          "output_type": "stream",
          "name": "stderr",
          "text": [
            "/usr/local/lib/python3.7/dist-packages/ipykernel_launcher.py:33: UserWarning: To copy construct from a tensor, it is recommended to use sourceTensor.clone().detach() or sourceTensor.clone().detach().requires_grad_(True), rather than torch.tensor(sourceTensor).\n"
          ]
        },
        {
          "output_type": "stream",
          "name": "stdout",
          "text": [
            "Train_loss:  0.022281755526949252\n",
            "Valid_loss:  0.047672819828481545\n",
            "Validation accuracy 0.7494407158836689\n",
            "Validation f1 0.6043874228555474\n",
            "Epoch:  290\n"
          ]
        },
        {
          "output_type": "stream",
          "name": "stderr",
          "text": [
            "/usr/local/lib/python3.7/dist-packages/ipykernel_launcher.py:33: UserWarning: To copy construct from a tensor, it is recommended to use sourceTensor.clone().detach() or sourceTensor.clone().detach().requires_grad_(True), rather than torch.tensor(sourceTensor).\n"
          ]
        },
        {
          "output_type": "stream",
          "name": "stdout",
          "text": [
            "Train_loss:  0.02218543342938314\n",
            "Valid_loss:  0.0476347188066159\n",
            "Validation accuracy 0.7494407158836689\n",
            "Validation f1 0.6043874228555474\n",
            "Epoch:  291\n"
          ]
        },
        {
          "output_type": "stream",
          "name": "stderr",
          "text": [
            "/usr/local/lib/python3.7/dist-packages/ipykernel_launcher.py:33: UserWarning: To copy construct from a tensor, it is recommended to use sourceTensor.clone().detach() or sourceTensor.clone().detach().requires_grad_(True), rather than torch.tensor(sourceTensor).\n"
          ]
        },
        {
          "output_type": "stream",
          "name": "stdout",
          "text": [
            "Train_loss:  0.022090349254930124\n",
            "Valid_loss:  0.04759841894597879\n",
            "Validation accuracy 0.7494407158836689\n",
            "Validation f1 0.6043874228555474\n",
            "Epoch:  292\n"
          ]
        },
        {
          "output_type": "stream",
          "name": "stderr",
          "text": [
            "/usr/local/lib/python3.7/dist-packages/ipykernel_launcher.py:33: UserWarning: To copy construct from a tensor, it is recommended to use sourceTensor.clone().detach() or sourceTensor.clone().detach().requires_grad_(True), rather than torch.tensor(sourceTensor).\n"
          ]
        },
        {
          "output_type": "stream",
          "name": "stdout",
          "text": [
            "Train_loss:  0.021996173456760255\n",
            "Valid_loss:  0.04756123983367745\n",
            "Validation accuracy 0.7494407158836689\n",
            "Validation f1 0.6043874228555474\n",
            "Epoch:  293\n"
          ]
        },
        {
          "output_type": "stream",
          "name": "stderr",
          "text": [
            "/usr/local/lib/python3.7/dist-packages/ipykernel_launcher.py:33: UserWarning: To copy construct from a tensor, it is recommended to use sourceTensor.clone().detach() or sourceTensor.clone().detach().requires_grad_(True), rather than torch.tensor(sourceTensor).\n"
          ]
        },
        {
          "output_type": "stream",
          "name": "stdout",
          "text": [
            "Train_loss:  0.021902587915454724\n",
            "Valid_loss:  0.04752516774793288\n",
            "Validation accuracy 0.7494407158836689\n",
            "Validation f1 0.608898701051036\n",
            "Epoch:  294\n"
          ]
        },
        {
          "output_type": "stream",
          "name": "stderr",
          "text": [
            "/usr/local/lib/python3.7/dist-packages/ipykernel_launcher.py:33: UserWarning: To copy construct from a tensor, it is recommended to use sourceTensor.clone().detach() or sourceTensor.clone().detach().requires_grad_(True), rather than torch.tensor(sourceTensor).\n"
          ]
        },
        {
          "output_type": "stream",
          "name": "stdout",
          "text": [
            "Train_loss:  0.021809977427307916\n",
            "Valid_loss:  0.047491025079839995\n",
            "Validation accuracy 0.7494407158836689\n",
            "Validation f1 0.608898701051036\n",
            "Epoch:  295\n"
          ]
        },
        {
          "output_type": "stream",
          "name": "stderr",
          "text": [
            "/usr/local/lib/python3.7/dist-packages/ipykernel_launcher.py:33: UserWarning: To copy construct from a tensor, it is recommended to use sourceTensor.clone().detach() or sourceTensor.clone().detach().requires_grad_(True), rather than torch.tensor(sourceTensor).\n"
          ]
        },
        {
          "output_type": "stream",
          "name": "stdout",
          "text": [
            "Train_loss:  0.021718345977465754\n",
            "Valid_loss:  0.04745534913880484\n",
            "Validation accuracy 0.7494407158836689\n",
            "Validation f1 0.608898701051036\n",
            "Epoch:  296\n"
          ]
        },
        {
          "output_type": "stream",
          "name": "stderr",
          "text": [
            "/usr/local/lib/python3.7/dist-packages/ipykernel_launcher.py:33: UserWarning: To copy construct from a tensor, it is recommended to use sourceTensor.clone().detach() or sourceTensor.clone().detach().requires_grad_(True), rather than torch.tensor(sourceTensor).\n"
          ]
        },
        {
          "output_type": "stream",
          "name": "stdout",
          "text": [
            "Train_loss:  0.021627357256615402\n",
            "Valid_loss:  0.04742126852007849\n",
            "Validation accuracy 0.7494407158836689\n",
            "Validation f1 0.6091910987118547\n",
            "Epoch:  297\n"
          ]
        },
        {
          "output_type": "stream",
          "name": "stderr",
          "text": [
            "/usr/local/lib/python3.7/dist-packages/ipykernel_launcher.py:33: UserWarning: To copy construct from a tensor, it is recommended to use sourceTensor.clone().detach() or sourceTensor.clone().detach().requires_grad_(True), rather than torch.tensor(sourceTensor).\n"
          ]
        },
        {
          "output_type": "stream",
          "name": "stdout",
          "text": [
            "Train_loss:  0.021537174210867045\n",
            "Valid_loss:  0.04738800029736012\n",
            "Validation accuracy 0.7494407158836689\n",
            "Validation f1 0.6091910987118547\n",
            "Epoch:  298\n"
          ]
        },
        {
          "output_type": "stream",
          "name": "stderr",
          "text": [
            "/usr/local/lib/python3.7/dist-packages/ipykernel_launcher.py:33: UserWarning: To copy construct from a tensor, it is recommended to use sourceTensor.clone().detach() or sourceTensor.clone().detach().requires_grad_(True), rather than torch.tensor(sourceTensor).\n"
          ]
        },
        {
          "output_type": "stream",
          "name": "stdout",
          "text": [
            "Train_loss:  0.021447966305588904\n",
            "Valid_loss:  0.047355166727876555\n",
            "Validation accuracy 0.7494407158836689\n",
            "Validation f1 0.6091910987118547\n",
            "Epoch:  299\n"
          ]
        },
        {
          "output_type": "stream",
          "name": "stderr",
          "text": [
            "/usr/local/lib/python3.7/dist-packages/ipykernel_launcher.py:33: UserWarning: To copy construct from a tensor, it is recommended to use sourceTensor.clone().detach() or sourceTensor.clone().detach().requires_grad_(True), rather than torch.tensor(sourceTensor).\n"
          ]
        },
        {
          "output_type": "stream",
          "name": "stdout",
          "text": [
            "Train_loss:  0.02135939309456652\n",
            "Valid_loss:  0.04732290714413726\n",
            "Validation accuracy 0.7494407158836689\n",
            "Validation f1 0.6091910987118547\n",
            "Epoch:  300\n"
          ]
        },
        {
          "output_type": "stream",
          "name": "stderr",
          "text": [
            "/usr/local/lib/python3.7/dist-packages/ipykernel_launcher.py:33: UserWarning: To copy construct from a tensor, it is recommended to use sourceTensor.clone().detach() or sourceTensor.clone().detach().requires_grad_(True), rather than torch.tensor(sourceTensor).\n"
          ]
        },
        {
          "output_type": "stream",
          "name": "stdout",
          "text": [
            "Train_loss:  0.021271847001376694\n",
            "Valid_loss:  0.04729136362272714\n",
            "Validation accuracy 0.7516778523489933\n",
            "Validation f1 0.6102543629330137\n",
            "Epoch:  301\n"
          ]
        },
        {
          "output_type": "stream",
          "name": "stderr",
          "text": [
            "/usr/local/lib/python3.7/dist-packages/ipykernel_launcher.py:33: UserWarning: To copy construct from a tensor, it is recommended to use sourceTensor.clone().detach() or sourceTensor.clone().detach().requires_grad_(True), rather than torch.tensor(sourceTensor).\n"
          ]
        },
        {
          "output_type": "stream",
          "name": "stdout",
          "text": [
            "Train_loss:  0.021184887701695385\n",
            "Valid_loss:  0.047260399151127785\n",
            "Validation accuracy 0.7472035794183445\n",
            "Validation f1 0.6092535587153387\n",
            "Epoch:  302\n"
          ]
        },
        {
          "output_type": "stream",
          "name": "stderr",
          "text": [
            "/usr/local/lib/python3.7/dist-packages/ipykernel_launcher.py:33: UserWarning: To copy construct from a tensor, it is recommended to use sourceTensor.clone().detach() or sourceTensor.clone().detach().requires_grad_(True), rather than torch.tensor(sourceTensor).\n"
          ]
        },
        {
          "output_type": "stream",
          "name": "stdout",
          "text": [
            "Train_loss:  0.021098793478034037\n",
            "Valid_loss:  0.04722969713787149\n",
            "Validation accuracy 0.7472035794183445\n",
            "Validation f1 0.6092535587153387\n",
            "Epoch:  303\n"
          ]
        },
        {
          "output_type": "stream",
          "name": "stderr",
          "text": [
            "/usr/local/lib/python3.7/dist-packages/ipykernel_launcher.py:33: UserWarning: To copy construct from a tensor, it is recommended to use sourceTensor.clone().detach() or sourceTensor.clone().detach().requires_grad_(True), rather than torch.tensor(sourceTensor).\n"
          ]
        },
        {
          "output_type": "stream",
          "name": "stdout",
          "text": [
            "Train_loss:  0.021013253416250727\n",
            "Valid_loss:  0.04720009098361645\n",
            "Validation accuracy 0.7472035794183445\n",
            "Validation f1 0.6092535587153387\n",
            "Epoch:  304\n"
          ]
        },
        {
          "output_type": "stream",
          "name": "stderr",
          "text": [
            "/usr/local/lib/python3.7/dist-packages/ipykernel_launcher.py:33: UserWarning: To copy construct from a tensor, it is recommended to use sourceTensor.clone().detach() or sourceTensor.clone().detach().requires_grad_(True), rather than torch.tensor(sourceTensor).\n"
          ]
        },
        {
          "output_type": "stream",
          "name": "stdout",
          "text": [
            "Train_loss:  0.020928769185307568\n",
            "Valid_loss:  0.047170552025948255\n",
            "Validation accuracy 0.7472035794183445\n",
            "Validation f1 0.6092535587153387\n",
            "Epoch:  305\n"
          ]
        },
        {
          "output_type": "stream",
          "name": "stderr",
          "text": [
            "/usr/local/lib/python3.7/dist-packages/ipykernel_launcher.py:33: UserWarning: To copy construct from a tensor, it is recommended to use sourceTensor.clone().detach() or sourceTensor.clone().detach().requires_grad_(True), rather than torch.tensor(sourceTensor).\n"
          ]
        },
        {
          "output_type": "stream",
          "name": "stdout",
          "text": [
            "Train_loss:  0.020844889709094008\n",
            "Valid_loss:  0.04714121160629604\n",
            "Validation accuracy 0.7472035794183445\n",
            "Validation f1 0.6092535587153387\n",
            "Epoch:  306\n"
          ]
        },
        {
          "output_type": "stream",
          "name": "stderr",
          "text": [
            "/usr/local/lib/python3.7/dist-packages/ipykernel_launcher.py:33: UserWarning: To copy construct from a tensor, it is recommended to use sourceTensor.clone().detach() or sourceTensor.clone().detach().requires_grad_(True), rather than torch.tensor(sourceTensor).\n"
          ]
        },
        {
          "output_type": "stream",
          "name": "stdout",
          "text": [
            "Train_loss:  0.020761845826720155\n",
            "Valid_loss:  0.047113288626340885\n",
            "Validation accuracy 0.7472035794183445\n",
            "Validation f1 0.6092535587153387\n",
            "Epoch:  307\n"
          ]
        },
        {
          "output_type": "stream",
          "name": "stderr",
          "text": [
            "/usr/local/lib/python3.7/dist-packages/ipykernel_launcher.py:33: UserWarning: To copy construct from a tensor, it is recommended to use sourceTensor.clone().detach() or sourceTensor.clone().detach().requires_grad_(True), rather than torch.tensor(sourceTensor).\n"
          ]
        },
        {
          "output_type": "stream",
          "name": "stdout",
          "text": [
            "Train_loss:  0.020679491268570667\n",
            "Valid_loss:  0.047085393112086295\n",
            "Validation accuracy 0.7472035794183445\n",
            "Validation f1 0.6092535587153387\n",
            "Epoch:  308\n"
          ]
        },
        {
          "output_type": "stream",
          "name": "stderr",
          "text": [
            "/usr/local/lib/python3.7/dist-packages/ipykernel_launcher.py:33: UserWarning: To copy construct from a tensor, it is recommended to use sourceTensor.clone().detach() or sourceTensor.clone().detach().requires_grad_(True), rather than torch.tensor(sourceTensor).\n"
          ]
        },
        {
          "output_type": "stream",
          "name": "stdout",
          "text": [
            "Train_loss:  0.020597753339513605\n",
            "Valid_loss:  0.0470579996305917\n",
            "Validation accuracy 0.7472035794183445\n",
            "Validation f1 0.6092535587153387\n",
            "Epoch:  309\n"
          ]
        },
        {
          "output_type": "stream",
          "name": "stderr",
          "text": [
            "/usr/local/lib/python3.7/dist-packages/ipykernel_launcher.py:33: UserWarning: To copy construct from a tensor, it is recommended to use sourceTensor.clone().detach() or sourceTensor.clone().detach().requires_grad_(True), rather than torch.tensor(sourceTensor).\n"
          ]
        },
        {
          "output_type": "stream",
          "name": "stdout",
          "text": [
            "Train_loss:  0.02051675408646198\n",
            "Valid_loss:  0.04703191617902901\n",
            "Validation accuracy 0.7472035794183445\n",
            "Validation f1 0.6092535587153387\n",
            "Epoch:  310\n"
          ]
        },
        {
          "output_type": "stream",
          "name": "stderr",
          "text": [
            "/usr/local/lib/python3.7/dist-packages/ipykernel_launcher.py:33: UserWarning: To copy construct from a tensor, it is recommended to use sourceTensor.clone().detach() or sourceTensor.clone().detach().requires_grad_(True), rather than torch.tensor(sourceTensor).\n"
          ]
        },
        {
          "output_type": "stream",
          "name": "stdout",
          "text": [
            "Train_loss:  0.020436716652641605\n",
            "Valid_loss:  0.047004389219052554\n",
            "Validation accuracy 0.7472035794183445\n",
            "Validation f1 0.6092535587153387\n",
            "Epoch:  311\n"
          ]
        },
        {
          "output_type": "stream",
          "name": "stderr",
          "text": [
            "/usr/local/lib/python3.7/dist-packages/ipykernel_launcher.py:33: UserWarning: To copy construct from a tensor, it is recommended to use sourceTensor.clone().detach() or sourceTensor.clone().detach().requires_grad_(True), rather than torch.tensor(sourceTensor).\n"
          ]
        },
        {
          "output_type": "stream",
          "name": "stdout",
          "text": [
            "Train_loss:  0.020356979909203283\n",
            "Valid_loss:  0.046979992367726355\n",
            "Validation accuracy 0.7472035794183445\n",
            "Validation f1 0.6092535587153387\n",
            "Epoch:  312\n"
          ]
        },
        {
          "output_type": "stream",
          "name": "stderr",
          "text": [
            "/usr/local/lib/python3.7/dist-packages/ipykernel_launcher.py:33: UserWarning: To copy construct from a tensor, it is recommended to use sourceTensor.clone().detach() or sourceTensor.clone().detach().requires_grad_(True), rather than torch.tensor(sourceTensor).\n"
          ]
        },
        {
          "output_type": "stream",
          "name": "stdout",
          "text": [
            "Train_loss:  0.020278212269269198\n",
            "Valid_loss:  0.04695433763221705\n",
            "Validation accuracy 0.7472035794183445\n",
            "Validation f1 0.6092535587153387\n",
            "Epoch:  313\n"
          ]
        },
        {
          "output_type": "stream",
          "name": "stderr",
          "text": [
            "/usr/local/lib/python3.7/dist-packages/ipykernel_launcher.py:33: UserWarning: To copy construct from a tensor, it is recommended to use sourceTensor.clone().detach() or sourceTensor.clone().detach().requires_grad_(True), rather than torch.tensor(sourceTensor).\n"
          ]
        },
        {
          "output_type": "stream",
          "name": "stdout",
          "text": [
            "Train_loss:  0.02020011499865047\n",
            "Valid_loss:  0.04692994733341038\n",
            "Validation accuracy 0.7449664429530202\n",
            "Validation f1 0.6086288165688191\n",
            "Epoch:  314\n"
          ]
        },
        {
          "output_type": "stream",
          "name": "stderr",
          "text": [
            "/usr/local/lib/python3.7/dist-packages/ipykernel_launcher.py:33: UserWarning: To copy construct from a tensor, it is recommended to use sourceTensor.clone().detach() or sourceTensor.clone().detach().requires_grad_(True), rather than torch.tensor(sourceTensor).\n"
          ]
        },
        {
          "output_type": "stream",
          "name": "stdout",
          "text": [
            "Train_loss:  0.02012255846888625\n",
            "Valid_loss:  0.04690497245506516\n",
            "Validation accuracy 0.7449664429530202\n",
            "Validation f1 0.6086288165688191\n",
            "Epoch:  315\n"
          ]
        },
        {
          "output_type": "stream",
          "name": "stderr",
          "text": [
            "/usr/local/lib/python3.7/dist-packages/ipykernel_launcher.py:33: UserWarning: To copy construct from a tensor, it is recommended to use sourceTensor.clone().detach() or sourceTensor.clone().detach().requires_grad_(True), rather than torch.tensor(sourceTensor).\n"
          ]
        },
        {
          "output_type": "stream",
          "name": "stdout",
          "text": [
            "Train_loss:  0.02004570493175249\n",
            "Valid_loss:  0.04688195885059291\n",
            "Validation accuracy 0.7449664429530202\n",
            "Validation f1 0.6086288165688191\n",
            "Epoch:  316\n"
          ]
        },
        {
          "output_type": "stream",
          "name": "stderr",
          "text": [
            "/usr/local/lib/python3.7/dist-packages/ipykernel_launcher.py:33: UserWarning: To copy construct from a tensor, it is recommended to use sourceTensor.clone().detach() or sourceTensor.clone().detach().requires_grad_(True), rather than torch.tensor(sourceTensor).\n"
          ]
        },
        {
          "output_type": "stream",
          "name": "stdout",
          "text": [
            "Train_loss:  0.019969664077507332\n",
            "Valid_loss:  0.046858170734984536\n",
            "Validation accuracy 0.7449664429530202\n",
            "Validation f1 0.6086288165688191\n",
            "Epoch:  317\n"
          ]
        },
        {
          "output_type": "stream",
          "name": "stderr",
          "text": [
            "/usr/local/lib/python3.7/dist-packages/ipykernel_launcher.py:33: UserWarning: To copy construct from a tensor, it is recommended to use sourceTensor.clone().detach() or sourceTensor.clone().detach().requires_grad_(True), rather than torch.tensor(sourceTensor).\n"
          ]
        },
        {
          "output_type": "stream",
          "name": "stdout",
          "text": [
            "Train_loss:  0.01989412891063174\n",
            "Valid_loss:  0.04683635663241148\n",
            "Validation accuracy 0.7472035794183445\n",
            "Validation f1 0.6125761849898717\n",
            "Epoch:  318\n"
          ]
        },
        {
          "output_type": "stream",
          "name": "stderr",
          "text": [
            "/usr/local/lib/python3.7/dist-packages/ipykernel_launcher.py:33: UserWarning: To copy construct from a tensor, it is recommended to use sourceTensor.clone().detach() or sourceTensor.clone().detach().requires_grad_(True), rather than torch.tensor(sourceTensor).\n"
          ]
        },
        {
          "output_type": "stream",
          "name": "stdout",
          "text": [
            "Train_loss:  0.019819330509303006\n",
            "Valid_loss:  0.0468135915413898\n",
            "Validation accuracy 0.7472035794183445\n",
            "Validation f1 0.6125761849898717\n",
            "Epoch:  319\n"
          ]
        },
        {
          "output_type": "stream",
          "name": "stderr",
          "text": [
            "/usr/local/lib/python3.7/dist-packages/ipykernel_launcher.py:33: UserWarning: To copy construct from a tensor, it is recommended to use sourceTensor.clone().detach() or sourceTensor.clone().detach().requires_grad_(True), rather than torch.tensor(sourceTensor).\n"
          ]
        },
        {
          "output_type": "stream",
          "name": "stdout",
          "text": [
            "Train_loss:  0.01974499431214229\n",
            "Valid_loss:  0.04679286430889208\n",
            "Validation accuracy 0.7472035794183445\n",
            "Validation f1 0.6125761849898717\n",
            "Epoch:  320\n"
          ]
        },
        {
          "output_type": "stream",
          "name": "stderr",
          "text": [
            "/usr/local/lib/python3.7/dist-packages/ipykernel_launcher.py:33: UserWarning: To copy construct from a tensor, it is recommended to use sourceTensor.clone().detach() or sourceTensor.clone().detach().requires_grad_(True), rather than torch.tensor(sourceTensor).\n"
          ]
        },
        {
          "output_type": "stream",
          "name": "stdout",
          "text": [
            "Train_loss:  0.019671398221232397\n",
            "Valid_loss:  0.046770765246557336\n",
            "Validation accuracy 0.7472035794183445\n",
            "Validation f1 0.6125761849898717\n",
            "Epoch:  321\n"
          ]
        },
        {
          "output_type": "stream",
          "name": "stderr",
          "text": [
            "/usr/local/lib/python3.7/dist-packages/ipykernel_launcher.py:33: UserWarning: To copy construct from a tensor, it is recommended to use sourceTensor.clone().detach() or sourceTensor.clone().detach().requires_grad_(True), rather than torch.tensor(sourceTensor).\n"
          ]
        },
        {
          "output_type": "stream",
          "name": "stdout",
          "text": [
            "Train_loss:  0.019598636948753016\n",
            "Valid_loss:  0.04674953580667664\n",
            "Validation accuracy 0.7472035794183445\n",
            "Validation f1 0.6125761849898717\n",
            "Epoch:  322\n"
          ]
        },
        {
          "output_type": "stream",
          "name": "stderr",
          "text": [
            "/usr/local/lib/python3.7/dist-packages/ipykernel_launcher.py:33: UserWarning: To copy construct from a tensor, it is recommended to use sourceTensor.clone().detach() or sourceTensor.clone().detach().requires_grad_(True), rather than torch.tensor(sourceTensor).\n"
          ]
        },
        {
          "output_type": "stream",
          "name": "stdout",
          "text": [
            "Train_loss:  0.019526029747794382\n",
            "Valid_loss:  0.04673057048681325\n",
            "Validation accuracy 0.7472035794183445\n",
            "Validation f1 0.6125761849898717\n",
            "Epoch:  323\n"
          ]
        },
        {
          "output_type": "stream",
          "name": "stderr",
          "text": [
            "/usr/local/lib/python3.7/dist-packages/ipykernel_launcher.py:33: UserWarning: To copy construct from a tensor, it is recommended to use sourceTensor.clone().detach() or sourceTensor.clone().detach().requires_grad_(True), rather than torch.tensor(sourceTensor).\n"
          ]
        },
        {
          "output_type": "stream",
          "name": "stdout",
          "text": [
            "Train_loss:  0.019454507078210424\n",
            "Valid_loss:  0.046708668291103095\n",
            "Validation accuracy 0.7472035794183445\n",
            "Validation f1 0.6125761849898717\n",
            "Epoch:  324\n"
          ]
        },
        {
          "output_type": "stream",
          "name": "stderr",
          "text": [
            "/usr/local/lib/python3.7/dist-packages/ipykernel_launcher.py:33: UserWarning: To copy construct from a tensor, it is recommended to use sourceTensor.clone().detach() or sourceTensor.clone().detach().requires_grad_(True), rather than torch.tensor(sourceTensor).\n"
          ]
        },
        {
          "output_type": "stream",
          "name": "stdout",
          "text": [
            "Train_loss:  0.019383250732581864\n",
            "Valid_loss:  0.04669003681712119\n",
            "Validation accuracy 0.7472035794183445\n",
            "Validation f1 0.6125761849898717\n",
            "Epoch:  325\n"
          ]
        },
        {
          "output_type": "stream",
          "name": "stderr",
          "text": [
            "/usr/local/lib/python3.7/dist-packages/ipykernel_launcher.py:33: UserWarning: To copy construct from a tensor, it is recommended to use sourceTensor.clone().detach() or sourceTensor.clone().detach().requires_grad_(True), rather than torch.tensor(sourceTensor).\n"
          ]
        },
        {
          "output_type": "stream",
          "name": "stdout",
          "text": [
            "Train_loss:  0.01931254882219946\n",
            "Valid_loss:  0.04667096325595464\n",
            "Validation accuracy 0.7472035794183445\n",
            "Validation f1 0.6125761849898717\n",
            "Epoch:  326\n"
          ]
        },
        {
          "output_type": "stream",
          "name": "stderr",
          "text": [
            "/usr/local/lib/python3.7/dist-packages/ipykernel_launcher.py:33: UserWarning: To copy construct from a tensor, it is recommended to use sourceTensor.clone().detach() or sourceTensor.clone().detach().requires_grad_(True), rather than torch.tensor(sourceTensor).\n"
          ]
        },
        {
          "output_type": "stream",
          "name": "stdout",
          "text": [
            "Train_loss:  0.019242851712208773\n",
            "Valid_loss:  0.04665280395420268\n",
            "Validation accuracy 0.7472035794183445\n",
            "Validation f1 0.6125761849898717\n",
            "Epoch:  327\n"
          ]
        },
        {
          "output_type": "stream",
          "name": "stderr",
          "text": [
            "/usr/local/lib/python3.7/dist-packages/ipykernel_launcher.py:33: UserWarning: To copy construct from a tensor, it is recommended to use sourceTensor.clone().detach() or sourceTensor.clone().detach().requires_grad_(True), rather than torch.tensor(sourceTensor).\n"
          ]
        },
        {
          "output_type": "stream",
          "name": "stdout",
          "text": [
            "Train_loss:  0.01917328782812027\n",
            "Valid_loss:  0.04663366479300229\n",
            "Validation accuracy 0.7472035794183445\n",
            "Validation f1 0.6125761849898717\n",
            "Epoch:  328\n"
          ]
        },
        {
          "output_type": "stream",
          "name": "stderr",
          "text": [
            "/usr/local/lib/python3.7/dist-packages/ipykernel_launcher.py:33: UserWarning: To copy construct from a tensor, it is recommended to use sourceTensor.clone().detach() or sourceTensor.clone().detach().requires_grad_(True), rather than torch.tensor(sourceTensor).\n"
          ]
        },
        {
          "output_type": "stream",
          "name": "stdout",
          "text": [
            "Train_loss:  0.019104577118663917\n",
            "Valid_loss:  0.04661632554572342\n",
            "Validation accuracy 0.7472035794183445\n",
            "Validation f1 0.6125761849898717\n",
            "Epoch:  329\n"
          ]
        },
        {
          "output_type": "stream",
          "name": "stderr",
          "text": [
            "/usr/local/lib/python3.7/dist-packages/ipykernel_launcher.py:33: UserWarning: To copy construct from a tensor, it is recommended to use sourceTensor.clone().detach() or sourceTensor.clone().detach().requires_grad_(True), rather than torch.tensor(sourceTensor).\n"
          ]
        },
        {
          "output_type": "stream",
          "name": "stdout",
          "text": [
            "Train_loss:  0.01903639478405239\n",
            "Valid_loss:  0.04659850887089435\n",
            "Validation accuracy 0.7472035794183445\n",
            "Validation f1 0.6125761849898717\n",
            "Epoch:  330\n"
          ]
        },
        {
          "output_type": "stream",
          "name": "stderr",
          "text": [
            "/usr/local/lib/python3.7/dist-packages/ipykernel_launcher.py:33: UserWarning: To copy construct from a tensor, it is recommended to use sourceTensor.clone().detach() or sourceTensor.clone().detach().requires_grad_(True), rather than torch.tensor(sourceTensor).\n"
          ]
        },
        {
          "output_type": "stream",
          "name": "stdout",
          "text": [
            "Train_loss:  0.018968407391054955\n",
            "Valid_loss:  0.04658123119068997\n",
            "Validation accuracy 0.7472035794183445\n",
            "Validation f1 0.6125761849898717\n",
            "Epoch:  331\n"
          ]
        },
        {
          "output_type": "stream",
          "name": "stderr",
          "text": [
            "/usr/local/lib/python3.7/dist-packages/ipykernel_launcher.py:33: UserWarning: To copy construct from a tensor, it is recommended to use sourceTensor.clone().detach() or sourceTensor.clone().detach().requires_grad_(True), rather than torch.tensor(sourceTensor).\n"
          ]
        },
        {
          "output_type": "stream",
          "name": "stdout",
          "text": [
            "Train_loss:  0.018901468038425913\n",
            "Valid_loss:  0.04656574090144464\n",
            "Validation accuracy 0.7472035794183445\n",
            "Validation f1 0.6125761849898717\n",
            "Epoch:  332\n"
          ]
        },
        {
          "output_type": "stream",
          "name": "stderr",
          "text": [
            "/usr/local/lib/python3.7/dist-packages/ipykernel_launcher.py:33: UserWarning: To copy construct from a tensor, it is recommended to use sourceTensor.clone().detach() or sourceTensor.clone().detach().requires_grad_(True), rather than torch.tensor(sourceTensor).\n"
          ]
        },
        {
          "output_type": "stream",
          "name": "stdout",
          "text": [
            "Train_loss:  0.018834720262800277\n",
            "Valid_loss:  0.046548425377945284\n",
            "Validation accuracy 0.7494407158836689\n",
            "Validation f1 0.613855811116499\n",
            "Epoch:  333\n"
          ]
        },
        {
          "output_type": "stream",
          "name": "stderr",
          "text": [
            "/usr/local/lib/python3.7/dist-packages/ipykernel_launcher.py:33: UserWarning: To copy construct from a tensor, it is recommended to use sourceTensor.clone().detach() or sourceTensor.clone().detach().requires_grad_(True), rather than torch.tensor(sourceTensor).\n"
          ]
        },
        {
          "output_type": "stream",
          "name": "stdout",
          "text": [
            "Train_loss:  0.018768732624136777\n",
            "Valid_loss:  0.04653274381001081\n",
            "Validation accuracy 0.7494407158836689\n",
            "Validation f1 0.613855811116499\n",
            "Epoch:  334\n"
          ]
        },
        {
          "output_type": "stream",
          "name": "stderr",
          "text": [
            "/usr/local/lib/python3.7/dist-packages/ipykernel_launcher.py:33: UserWarning: To copy construct from a tensor, it is recommended to use sourceTensor.clone().detach() or sourceTensor.clone().detach().requires_grad_(True), rather than torch.tensor(sourceTensor).\n"
          ]
        },
        {
          "output_type": "stream",
          "name": "stdout",
          "text": [
            "Train_loss:  0.018703099721668486\n",
            "Valid_loss:  0.046517416003293226\n",
            "Validation accuracy 0.7494407158836689\n",
            "Validation f1 0.613855811116499\n",
            "Epoch:  335\n"
          ]
        },
        {
          "output_type": "stream",
          "name": "stderr",
          "text": [
            "/usr/local/lib/python3.7/dist-packages/ipykernel_launcher.py:33: UserWarning: To copy construct from a tensor, it is recommended to use sourceTensor.clone().detach() or sourceTensor.clone().detach().requires_grad_(True), rather than torch.tensor(sourceTensor).\n"
          ]
        },
        {
          "output_type": "stream",
          "name": "stdout",
          "text": [
            "Train_loss:  0.018638287405857618\n",
            "Valid_loss:  0.04650290724488774\n",
            "Validation accuracy 0.7494407158836689\n",
            "Validation f1 0.613855811116499\n",
            "Epoch:  336\n"
          ]
        },
        {
          "output_type": "stream",
          "name": "stderr",
          "text": [
            "/usr/local/lib/python3.7/dist-packages/ipykernel_launcher.py:33: UserWarning: To copy construct from a tensor, it is recommended to use sourceTensor.clone().detach() or sourceTensor.clone().detach().requires_grad_(True), rather than torch.tensor(sourceTensor).\n"
          ]
        },
        {
          "output_type": "stream",
          "name": "stdout",
          "text": [
            "Train_loss:  0.018573615851762173\n",
            "Valid_loss:  0.04648735093983954\n",
            "Validation accuracy 0.7494407158836689\n",
            "Validation f1 0.613855811116499\n",
            "Epoch:  337\n"
          ]
        },
        {
          "output_type": "stream",
          "name": "stderr",
          "text": [
            "/usr/local/lib/python3.7/dist-packages/ipykernel_launcher.py:33: UserWarning: To copy construct from a tensor, it is recommended to use sourceTensor.clone().detach() or sourceTensor.clone().detach().requires_grad_(True), rather than torch.tensor(sourceTensor).\n"
          ]
        },
        {
          "output_type": "stream",
          "name": "stdout",
          "text": [
            "Train_loss:  0.01850969703082228\n",
            "Valid_loss:  0.04647306352022237\n",
            "Validation accuracy 0.7494407158836689\n",
            "Validation f1 0.613855811116499\n",
            "Epoch:  338\n"
          ]
        },
        {
          "output_type": "stream",
          "name": "stderr",
          "text": [
            "/usr/local/lib/python3.7/dist-packages/ipykernel_launcher.py:33: UserWarning: To copy construct from a tensor, it is recommended to use sourceTensor.clone().detach() or sourceTensor.clone().detach().requires_grad_(True), rather than torch.tensor(sourceTensor).\n"
          ]
        },
        {
          "output_type": "stream",
          "name": "stdout",
          "text": [
            "Train_loss:  0.018446331318825417\n",
            "Valid_loss:  0.046457632444798946\n",
            "Validation accuracy 0.7494407158836689\n",
            "Validation f1 0.613855811116499\n",
            "Epoch:  339\n"
          ]
        },
        {
          "output_type": "stream",
          "name": "stderr",
          "text": [
            "/usr/local/lib/python3.7/dist-packages/ipykernel_launcher.py:33: UserWarning: To copy construct from a tensor, it is recommended to use sourceTensor.clone().detach() or sourceTensor.clone().detach().requires_grad_(True), rather than torch.tensor(sourceTensor).\n"
          ]
        },
        {
          "output_type": "stream",
          "name": "stdout",
          "text": [
            "Train_loss:  0.01838317902937498\n",
            "Valid_loss:  0.046444848620532345\n",
            "Validation accuracy 0.7494407158836689\n",
            "Validation f1 0.613855811116499\n",
            "Epoch:  340\n"
          ]
        },
        {
          "output_type": "stream",
          "name": "stderr",
          "text": [
            "/usr/local/lib/python3.7/dist-packages/ipykernel_launcher.py:33: UserWarning: To copy construct from a tensor, it is recommended to use sourceTensor.clone().detach() or sourceTensor.clone().detach().requires_grad_(True), rather than torch.tensor(sourceTensor).\n"
          ]
        },
        {
          "output_type": "stream",
          "name": "stdout",
          "text": [
            "Train_loss:  0.018320795221370645\n",
            "Valid_loss:  0.046432000069346814\n",
            "Validation accuracy 0.7494407158836689\n",
            "Validation f1 0.613855811116499\n",
            "Epoch:  341\n"
          ]
        },
        {
          "output_type": "stream",
          "name": "stderr",
          "text": [
            "/usr/local/lib/python3.7/dist-packages/ipykernel_launcher.py:33: UserWarning: To copy construct from a tensor, it is recommended to use sourceTensor.clone().detach() or sourceTensor.clone().detach().requires_grad_(True), rather than torch.tensor(sourceTensor).\n"
          ]
        },
        {
          "output_type": "stream",
          "name": "stdout",
          "text": [
            "Train_loss:  0.018258904143294785\n",
            "Valid_loss:  0.046418400323351046\n",
            "Validation accuracy 0.7494407158836689\n",
            "Validation f1 0.613855811116499\n",
            "Epoch:  342\n"
          ]
        },
        {
          "output_type": "stream",
          "name": "stderr",
          "text": [
            "/usr/local/lib/python3.7/dist-packages/ipykernel_launcher.py:33: UserWarning: To copy construct from a tensor, it is recommended to use sourceTensor.clone().detach() or sourceTensor.clone().detach().requires_grad_(True), rather than torch.tensor(sourceTensor).\n"
          ]
        },
        {
          "output_type": "stream",
          "name": "stdout",
          "text": [
            "Train_loss:  0.018197301168194308\n",
            "Valid_loss:  0.046406251819072555\n",
            "Validation accuracy 0.7494407158836689\n",
            "Validation f1 0.613855811116499\n",
            "Epoch:  343\n"
          ]
        },
        {
          "output_type": "stream",
          "name": "stderr",
          "text": [
            "/usr/local/lib/python3.7/dist-packages/ipykernel_launcher.py:33: UserWarning: To copy construct from a tensor, it is recommended to use sourceTensor.clone().detach() or sourceTensor.clone().detach().requires_grad_(True), rather than torch.tensor(sourceTensor).\n"
          ]
        },
        {
          "output_type": "stream",
          "name": "stdout",
          "text": [
            "Train_loss:  0.018136348651231465\n",
            "Valid_loss:  0.04639348309553627\n",
            "Validation accuracy 0.7494407158836689\n",
            "Validation f1 0.613855811116499\n",
            "Epoch:  344\n"
          ]
        },
        {
          "output_type": "stream",
          "name": "stderr",
          "text": [
            "/usr/local/lib/python3.7/dist-packages/ipykernel_launcher.py:33: UserWarning: To copy construct from a tensor, it is recommended to use sourceTensor.clone().detach() or sourceTensor.clone().detach().requires_grad_(True), rather than torch.tensor(sourceTensor).\n"
          ]
        },
        {
          "output_type": "stream",
          "name": "stdout",
          "text": [
            "Train_loss:  0.018075811996823177\n",
            "Valid_loss:  0.046381332146536024\n",
            "Validation accuracy 0.7494407158836689\n",
            "Validation f1 0.613855811116499\n",
            "Epoch:  345\n"
          ]
        },
        {
          "output_type": "stream",
          "name": "stderr",
          "text": [
            "/usr/local/lib/python3.7/dist-packages/ipykernel_launcher.py:33: UserWarning: To copy construct from a tensor, it is recommended to use sourceTensor.clone().detach() or sourceTensor.clone().detach().requires_grad_(True), rather than torch.tensor(sourceTensor).\n"
          ]
        },
        {
          "output_type": "stream",
          "name": "stdout",
          "text": [
            "Train_loss:  0.01801573711834083\n",
            "Valid_loss:  0.04636996373301372\n",
            "Validation accuracy 0.7494407158836689\n",
            "Validation f1 0.613855811116499\n",
            "Epoch:  346\n"
          ]
        },
        {
          "output_type": "stream",
          "name": "stderr",
          "text": [
            "/usr/local/lib/python3.7/dist-packages/ipykernel_launcher.py:33: UserWarning: To copy construct from a tensor, it is recommended to use sourceTensor.clone().detach() or sourceTensor.clone().detach().requires_grad_(True), rather than torch.tensor(sourceTensor).\n"
          ]
        },
        {
          "output_type": "stream",
          "name": "stdout",
          "text": [
            "Train_loss:  0.01795586769003421\n",
            "Valid_loss:  0.046358680369199386\n",
            "Validation accuracy 0.7494407158836689\n",
            "Validation f1 0.613855811116499\n",
            "Epoch:  347\n"
          ]
        },
        {
          "output_type": "stream",
          "name": "stderr",
          "text": [
            "/usr/local/lib/python3.7/dist-packages/ipykernel_launcher.py:33: UserWarning: To copy construct from a tensor, it is recommended to use sourceTensor.clone().detach() or sourceTensor.clone().detach().requires_grad_(True), rather than torch.tensor(sourceTensor).\n"
          ]
        },
        {
          "output_type": "stream",
          "name": "stdout",
          "text": [
            "Train_loss:  0.01789703477386086\n",
            "Valid_loss:  0.04634778812760487\n",
            "Validation accuracy 0.7516778523489933\n",
            "Validation f1 0.6141522982550915\n",
            "Epoch:  348\n"
          ]
        },
        {
          "output_type": "stream",
          "name": "stderr",
          "text": [
            "/usr/local/lib/python3.7/dist-packages/ipykernel_launcher.py:33: UserWarning: To copy construct from a tensor, it is recommended to use sourceTensor.clone().detach() or sourceTensor.clone().detach().requires_grad_(True), rather than torch.tensor(sourceTensor).\n"
          ]
        },
        {
          "output_type": "stream",
          "name": "stdout",
          "text": [
            "Train_loss:  0.017837944314773528\n",
            "Valid_loss:  0.046337817887043845\n",
            "Validation accuracy 0.7516778523489933\n",
            "Validation f1 0.6141522982550915\n",
            "Epoch:  349\n"
          ]
        },
        {
          "output_type": "stream",
          "name": "stderr",
          "text": [
            "/usr/local/lib/python3.7/dist-packages/ipykernel_launcher.py:33: UserWarning: To copy construct from a tensor, it is recommended to use sourceTensor.clone().detach() or sourceTensor.clone().detach().requires_grad_(True), rather than torch.tensor(sourceTensor).\n"
          ]
        },
        {
          "output_type": "stream",
          "name": "stdout",
          "text": [
            "Train_loss:  0.0177798532313318\n",
            "Valid_loss:  0.04632617830897549\n",
            "Validation accuracy 0.7516778523489933\n",
            "Validation f1 0.6141522982550915\n",
            "Epoch:  350\n"
          ]
        },
        {
          "output_type": "stream",
          "name": "stderr",
          "text": [
            "/usr/local/lib/python3.7/dist-packages/ipykernel_launcher.py:33: UserWarning: To copy construct from a tensor, it is recommended to use sourceTensor.clone().detach() or sourceTensor.clone().detach().requires_grad_(True), rather than torch.tensor(sourceTensor).\n"
          ]
        },
        {
          "output_type": "stream",
          "name": "stdout",
          "text": [
            "Train_loss:  0.01772198167496494\n",
            "Valid_loss:  0.046316540450789034\n",
            "Validation accuracy 0.7516778523489933\n",
            "Validation f1 0.6136195025174573\n",
            "Epoch:  351\n"
          ]
        },
        {
          "output_type": "stream",
          "name": "stderr",
          "text": [
            "/usr/local/lib/python3.7/dist-packages/ipykernel_launcher.py:33: UserWarning: To copy construct from a tensor, it is recommended to use sourceTensor.clone().detach() or sourceTensor.clone().detach().requires_grad_(True), rather than torch.tensor(sourceTensor).\n"
          ]
        },
        {
          "output_type": "stream",
          "name": "stdout",
          "text": [
            "Train_loss:  0.017664599175207383\n",
            "Valid_loss:  0.046306779741176536\n",
            "Validation accuracy 0.7516778523489933\n",
            "Validation f1 0.6136195025174573\n",
            "Epoch:  352\n"
          ]
        },
        {
          "output_type": "stream",
          "name": "stderr",
          "text": [
            "/usr/local/lib/python3.7/dist-packages/ipykernel_launcher.py:33: UserWarning: To copy construct from a tensor, it is recommended to use sourceTensor.clone().detach() or sourceTensor.clone().detach().requires_grad_(True), rather than torch.tensor(sourceTensor).\n"
          ]
        },
        {
          "output_type": "stream",
          "name": "stdout",
          "text": [
            "Train_loss:  0.01760747818480013\n",
            "Valid_loss:  0.046297358141081144\n",
            "Validation accuracy 0.7516778523489933\n",
            "Validation f1 0.6136195025174573\n",
            "Epoch:  353\n"
          ]
        },
        {
          "output_type": "stream",
          "name": "stderr",
          "text": [
            "/usr/local/lib/python3.7/dist-packages/ipykernel_launcher.py:33: UserWarning: To copy construct from a tensor, it is recommended to use sourceTensor.clone().detach() or sourceTensor.clone().detach().requires_grad_(True), rather than torch.tensor(sourceTensor).\n"
          ]
        },
        {
          "output_type": "stream",
          "name": "stdout",
          "text": [
            "Train_loss:  0.01755111319549282\n",
            "Valid_loss:  0.04628785150790853\n",
            "Validation accuracy 0.7516778523489933\n",
            "Validation f1 0.6136195025174573\n",
            "Epoch:  354\n"
          ]
        },
        {
          "output_type": "stream",
          "name": "stderr",
          "text": [
            "/usr/local/lib/python3.7/dist-packages/ipykernel_launcher.py:33: UserWarning: To copy construct from a tensor, it is recommended to use sourceTensor.clone().detach() or sourceTensor.clone().detach().requires_grad_(True), rather than torch.tensor(sourceTensor).\n"
          ]
        },
        {
          "output_type": "stream",
          "name": "stdout",
          "text": [
            "Train_loss:  0.017494683562420375\n",
            "Valid_loss:  0.04627936571237764\n",
            "Validation accuracy 0.7516778523489933\n",
            "Validation f1 0.6136195025174573\n",
            "Epoch:  355\n"
          ]
        },
        {
          "output_type": "stream",
          "name": "stderr",
          "text": [
            "/usr/local/lib/python3.7/dist-packages/ipykernel_launcher.py:33: UserWarning: To copy construct from a tensor, it is recommended to use sourceTensor.clone().detach() or sourceTensor.clone().detach().requires_grad_(True), rather than torch.tensor(sourceTensor).\n"
          ]
        },
        {
          "output_type": "stream",
          "name": "stdout",
          "text": [
            "Train_loss:  0.017439135291039878\n",
            "Valid_loss:  0.04627025114937818\n",
            "Validation accuracy 0.7516778523489933\n",
            "Validation f1 0.6136195025174573\n",
            "Epoch:  356\n"
          ]
        },
        {
          "output_type": "stream",
          "name": "stderr",
          "text": [
            "/usr/local/lib/python3.7/dist-packages/ipykernel_launcher.py:33: UserWarning: To copy construct from a tensor, it is recommended to use sourceTensor.clone().detach() or sourceTensor.clone().detach().requires_grad_(True), rather than torch.tensor(sourceTensor).\n"
          ]
        },
        {
          "output_type": "stream",
          "name": "stdout",
          "text": [
            "Train_loss:  0.017383754692023752\n",
            "Valid_loss:  0.04626229190034792\n",
            "Validation accuracy 0.7516778523489933\n",
            "Validation f1 0.6136195025174573\n",
            "Epoch:  357\n"
          ]
        },
        {
          "output_type": "stream",
          "name": "stderr",
          "text": [
            "/usr/local/lib/python3.7/dist-packages/ipykernel_launcher.py:33: UserWarning: To copy construct from a tensor, it is recommended to use sourceTensor.clone().detach() or sourceTensor.clone().detach().requires_grad_(True), rather than torch.tensor(sourceTensor).\n"
          ]
        },
        {
          "output_type": "stream",
          "name": "stdout",
          "text": [
            "Train_loss:  0.0173287525228391\n",
            "Valid_loss:  0.04625311197846064\n",
            "Validation accuracy 0.7516778523489933\n",
            "Validation f1 0.6136195025174573\n",
            "Epoch:  358\n"
          ]
        },
        {
          "output_type": "stream",
          "name": "stderr",
          "text": [
            "/usr/local/lib/python3.7/dist-packages/ipykernel_launcher.py:33: UserWarning: To copy construct from a tensor, it is recommended to use sourceTensor.clone().detach() or sourceTensor.clone().detach().requires_grad_(True), rather than torch.tensor(sourceTensor).\n"
          ]
        },
        {
          "output_type": "stream",
          "name": "stdout",
          "text": [
            "Train_loss:  0.01727430698312154\n",
            "Valid_loss:  0.04624560919390725\n",
            "Validation accuracy 0.7516778523489933\n",
            "Validation f1 0.6136195025174573\n",
            "Epoch:  359\n"
          ]
        },
        {
          "output_type": "stream",
          "name": "stderr",
          "text": [
            "/usr/local/lib/python3.7/dist-packages/ipykernel_launcher.py:33: UserWarning: To copy construct from a tensor, it is recommended to use sourceTensor.clone().detach() or sourceTensor.clone().detach().requires_grad_(True), rather than torch.tensor(sourceTensor).\n"
          ]
        },
        {
          "output_type": "stream",
          "name": "stdout",
          "text": [
            "Train_loss:  0.017220241161079945\n",
            "Valid_loss:  0.04623840218742511\n",
            "Validation accuracy 0.7516778523489933\n",
            "Validation f1 0.6133117155060692\n",
            "Epoch:  360\n"
          ]
        },
        {
          "output_type": "stream",
          "name": "stderr",
          "text": [
            "/usr/local/lib/python3.7/dist-packages/ipykernel_launcher.py:33: UserWarning: To copy construct from a tensor, it is recommended to use sourceTensor.clone().detach() or sourceTensor.clone().detach().requires_grad_(True), rather than torch.tensor(sourceTensor).\n"
          ]
        },
        {
          "output_type": "stream",
          "name": "stdout",
          "text": [
            "Train_loss:  0.017166667770652566\n",
            "Valid_loss:  0.046231151350574304\n",
            "Validation accuracy 0.7539149888143176\n",
            "Validation f1 0.6145996032856665\n",
            "Epoch:  361\n"
          ]
        },
        {
          "output_type": "stream",
          "name": "stderr",
          "text": [
            "/usr/local/lib/python3.7/dist-packages/ipykernel_launcher.py:33: UserWarning: To copy construct from a tensor, it is recommended to use sourceTensor.clone().detach() or sourceTensor.clone().detach().requires_grad_(True), rather than torch.tensor(sourceTensor).\n"
          ]
        },
        {
          "output_type": "stream",
          "name": "stdout",
          "text": [
            "Train_loss:  0.017113082499625825\n",
            "Valid_loss:  0.046224501549399326\n",
            "Validation accuracy 0.7539149888143176\n",
            "Validation f1 0.6145996032856665\n",
            "Epoch:  362\n"
          ]
        },
        {
          "output_type": "stream",
          "name": "stderr",
          "text": [
            "/usr/local/lib/python3.7/dist-packages/ipykernel_launcher.py:33: UserWarning: To copy construct from a tensor, it is recommended to use sourceTensor.clone().detach() or sourceTensor.clone().detach().requires_grad_(True), rather than torch.tensor(sourceTensor).\n"
          ]
        },
        {
          "output_type": "stream",
          "name": "stdout",
          "text": [
            "Train_loss:  0.017060211622655124\n",
            "Valid_loss:  0.04621658100014819\n",
            "Validation accuracy 0.7539149888143176\n",
            "Validation f1 0.6145996032856665\n",
            "Epoch:  363\n"
          ]
        },
        {
          "output_type": "stream",
          "name": "stderr",
          "text": [
            "/usr/local/lib/python3.7/dist-packages/ipykernel_launcher.py:33: UserWarning: To copy construct from a tensor, it is recommended to use sourceTensor.clone().detach() or sourceTensor.clone().detach().requires_grad_(True), rather than torch.tensor(sourceTensor).\n"
          ]
        },
        {
          "output_type": "stream",
          "name": "stdout",
          "text": [
            "Train_loss:  0.017007664224365726\n",
            "Valid_loss:  0.046210528792081665\n",
            "Validation accuracy 0.7539149888143176\n",
            "Validation f1 0.6145996032856665\n",
            "Epoch:  364\n"
          ]
        },
        {
          "output_type": "stream",
          "name": "stderr",
          "text": [
            "/usr/local/lib/python3.7/dist-packages/ipykernel_launcher.py:33: UserWarning: To copy construct from a tensor, it is recommended to use sourceTensor.clone().detach() or sourceTensor.clone().detach().requires_grad_(True), rather than torch.tensor(sourceTensor).\n"
          ]
        },
        {
          "output_type": "stream",
          "name": "stdout",
          "text": [
            "Train_loss:  0.01695556561441793\n",
            "Valid_loss:  0.04620394300270293\n",
            "Validation accuracy 0.7539149888143176\n",
            "Validation f1 0.6145996032856665\n",
            "Epoch:  365\n"
          ]
        },
        {
          "output_type": "stream",
          "name": "stderr",
          "text": [
            "/usr/local/lib/python3.7/dist-packages/ipykernel_launcher.py:33: UserWarning: To copy construct from a tensor, it is recommended to use sourceTensor.clone().detach() or sourceTensor.clone().detach().requires_grad_(True), rather than torch.tensor(sourceTensor).\n"
          ]
        },
        {
          "output_type": "stream",
          "name": "stdout",
          "text": [
            "Train_loss:  0.01690364034792375\n",
            "Valid_loss:  0.04619790069825415\n",
            "Validation accuracy 0.7539149888143176\n",
            "Validation f1 0.6145996032856665\n",
            "Epoch:  366\n"
          ]
        },
        {
          "output_type": "stream",
          "name": "stderr",
          "text": [
            "/usr/local/lib/python3.7/dist-packages/ipykernel_launcher.py:33: UserWarning: To copy construct from a tensor, it is recommended to use sourceTensor.clone().detach() or sourceTensor.clone().detach().requires_grad_(True), rather than torch.tensor(sourceTensor).\n"
          ]
        },
        {
          "output_type": "stream",
          "name": "stdout",
          "text": [
            "Train_loss:  0.016852273666050417\n",
            "Valid_loss:  0.0461924056539179\n",
            "Validation accuracy 0.7539149888143176\n",
            "Validation f1 0.6145996032856665\n",
            "Epoch:  367\n"
          ]
        },
        {
          "output_type": "stream",
          "name": "stderr",
          "text": [
            "/usr/local/lib/python3.7/dist-packages/ipykernel_launcher.py:33: UserWarning: To copy construct from a tensor, it is recommended to use sourceTensor.clone().detach() or sourceTensor.clone().detach().requires_grad_(True), rather than torch.tensor(sourceTensor).\n"
          ]
        },
        {
          "output_type": "stream",
          "name": "stdout",
          "text": [
            "Train_loss:  0.016801154142220703\n",
            "Valid_loss:  0.046187290032061616\n",
            "Validation accuracy 0.7539149888143176\n",
            "Validation f1 0.6145996032856665\n",
            "Epoch:  368\n"
          ]
        },
        {
          "output_type": "stream",
          "name": "stderr",
          "text": [
            "/usr/local/lib/python3.7/dist-packages/ipykernel_launcher.py:33: UserWarning: To copy construct from a tensor, it is recommended to use sourceTensor.clone().detach() or sourceTensor.clone().detach().requires_grad_(True), rather than torch.tensor(sourceTensor).\n"
          ]
        },
        {
          "output_type": "stream",
          "name": "stdout",
          "text": [
            "Train_loss:  0.016750359906706893\n",
            "Valid_loss:  0.046180852938310375\n",
            "Validation accuracy 0.7539149888143176\n",
            "Validation f1 0.6145996032856665\n",
            "Epoch:  369\n"
          ]
        },
        {
          "output_type": "stream",
          "name": "stderr",
          "text": [
            "/usr/local/lib/python3.7/dist-packages/ipykernel_launcher.py:33: UserWarning: To copy construct from a tensor, it is recommended to use sourceTensor.clone().detach() or sourceTensor.clone().detach().requires_grad_(True), rather than torch.tensor(sourceTensor).\n"
          ]
        },
        {
          "output_type": "stream",
          "name": "stdout",
          "text": [
            "Train_loss:  0.016699948192191578\n",
            "Valid_loss:  0.04617620437472526\n",
            "Validation accuracy 0.7539149888143176\n",
            "Validation f1 0.6145996032856665\n",
            "Epoch:  370\n"
          ]
        },
        {
          "output_type": "stream",
          "name": "stderr",
          "text": [
            "/usr/local/lib/python3.7/dist-packages/ipykernel_launcher.py:33: UserWarning: To copy construct from a tensor, it is recommended to use sourceTensor.clone().detach() or sourceTensor.clone().detach().requires_grad_(True), rather than torch.tensor(sourceTensor).\n"
          ]
        },
        {
          "output_type": "stream",
          "name": "stdout",
          "text": [
            "Train_loss:  0.016650080300418528\n",
            "Valid_loss:  0.04617106038910736\n",
            "Validation accuracy 0.7539149888143176\n",
            "Validation f1 0.6145996032856665\n",
            "Epoch:  371\n"
          ]
        },
        {
          "output_type": "stream",
          "name": "stderr",
          "text": [
            "/usr/local/lib/python3.7/dist-packages/ipykernel_launcher.py:33: UserWarning: To copy construct from a tensor, it is recommended to use sourceTensor.clone().detach() or sourceTensor.clone().detach().requires_grad_(True), rather than torch.tensor(sourceTensor).\n"
          ]
        },
        {
          "output_type": "stream",
          "name": "stdout",
          "text": [
            "Train_loss:  0.0166002683223009\n",
            "Valid_loss:  0.04616619095239522\n",
            "Validation accuracy 0.756152125279642\n",
            "Validation f1 0.6156079205512442\n",
            "Epoch:  372\n"
          ]
        },
        {
          "output_type": "stream",
          "name": "stderr",
          "text": [
            "/usr/local/lib/python3.7/dist-packages/ipykernel_launcher.py:33: UserWarning: To copy construct from a tensor, it is recommended to use sourceTensor.clone().detach() or sourceTensor.clone().detach().requires_grad_(True), rather than torch.tensor(sourceTensor).\n"
          ]
        },
        {
          "output_type": "stream",
          "name": "stdout",
          "text": [
            "Train_loss:  0.016550922850521083\n",
            "Valid_loss:  0.046162245013484995\n",
            "Validation accuracy 0.756152125279642\n",
            "Validation f1 0.6156079205512442\n",
            "Epoch:  373\n"
          ]
        },
        {
          "output_type": "stream",
          "name": "stderr",
          "text": [
            "/usr/local/lib/python3.7/dist-packages/ipykernel_launcher.py:33: UserWarning: To copy construct from a tensor, it is recommended to use sourceTensor.clone().detach() or sourceTensor.clone().detach().requires_grad_(True), rather than torch.tensor(sourceTensor).\n"
          ]
        },
        {
          "output_type": "stream",
          "name": "stdout",
          "text": [
            "Train_loss:  0.016501887415610587\n",
            "Valid_loss:  0.046157366986985186\n",
            "Validation accuracy 0.756152125279642\n",
            "Validation f1 0.6156079205512442\n",
            "Epoch:  374\n"
          ]
        },
        {
          "output_type": "stream",
          "name": "stderr",
          "text": [
            "/usr/local/lib/python3.7/dist-packages/ipykernel_launcher.py:33: UserWarning: To copy construct from a tensor, it is recommended to use sourceTensor.clone().detach() or sourceTensor.clone().detach().requires_grad_(True), rather than torch.tensor(sourceTensor).\n"
          ]
        },
        {
          "output_type": "stream",
          "name": "stdout",
          "text": [
            "Train_loss:  0.01645318232268827\n",
            "Valid_loss:  0.0461534655603048\n",
            "Validation accuracy 0.756152125279642\n",
            "Validation f1 0.6156079205512442\n",
            "Epoch:  375\n"
          ]
        },
        {
          "output_type": "stream",
          "name": "stderr",
          "text": [
            "/usr/local/lib/python3.7/dist-packages/ipykernel_launcher.py:33: UserWarning: To copy construct from a tensor, it is recommended to use sourceTensor.clone().detach() or sourceTensor.clone().detach().requires_grad_(True), rather than torch.tensor(sourceTensor).\n"
          ]
        },
        {
          "output_type": "stream",
          "name": "stdout",
          "text": [
            "Train_loss:  0.016404945694375783\n",
            "Valid_loss:  0.0461501202413014\n",
            "Validation accuracy 0.756152125279642\n",
            "Validation f1 0.6156079205512442\n",
            "Epoch:  376\n"
          ]
        },
        {
          "output_type": "stream",
          "name": "stderr",
          "text": [
            "/usr/local/lib/python3.7/dist-packages/ipykernel_launcher.py:33: UserWarning: To copy construct from a tensor, it is recommended to use sourceTensor.clone().detach() or sourceTensor.clone().detach().requires_grad_(True), rather than torch.tensor(sourceTensor).\n"
          ]
        },
        {
          "output_type": "stream",
          "name": "stdout",
          "text": [
            "Train_loss:  0.016356960365166224\n",
            "Valid_loss:  0.04614544348026227\n",
            "Validation accuracy 0.756152125279642\n",
            "Validation f1 0.6156079205512442\n",
            "Epoch:  377\n"
          ]
        },
        {
          "output_type": "stream",
          "name": "stderr",
          "text": [
            "/usr/local/lib/python3.7/dist-packages/ipykernel_launcher.py:33: UserWarning: To copy construct from a tensor, it is recommended to use sourceTensor.clone().detach() or sourceTensor.clone().detach().requires_grad_(True), rather than torch.tensor(sourceTensor).\n"
          ]
        },
        {
          "output_type": "stream",
          "name": "stdout",
          "text": [
            "Train_loss:  0.01630908186884231\n",
            "Valid_loss:  0.04614309069334662\n",
            "Validation accuracy 0.756152125279642\n",
            "Validation f1 0.6156079205512442\n",
            "Epoch:  378\n"
          ]
        },
        {
          "output_type": "stream",
          "name": "stderr",
          "text": [
            "/usr/local/lib/python3.7/dist-packages/ipykernel_launcher.py:33: UserWarning: To copy construct from a tensor, it is recommended to use sourceTensor.clone().detach() or sourceTensor.clone().detach().requires_grad_(True), rather than torch.tensor(sourceTensor).\n"
          ]
        },
        {
          "output_type": "stream",
          "name": "stdout",
          "text": [
            "Train_loss:  0.016261859591135623\n",
            "Valid_loss:  0.046139620909733434\n",
            "Validation accuracy 0.756152125279642\n",
            "Validation f1 0.6156079205512442\n",
            "Epoch:  379\n"
          ]
        },
        {
          "output_type": "stream",
          "name": "stderr",
          "text": [
            "/usr/local/lib/python3.7/dist-packages/ipykernel_launcher.py:33: UserWarning: To copy construct from a tensor, it is recommended to use sourceTensor.clone().detach() or sourceTensor.clone().detach().requires_grad_(True), rather than torch.tensor(sourceTensor).\n"
          ]
        },
        {
          "output_type": "stream",
          "name": "stdout",
          "text": [
            "Train_loss:  0.016214782331579563\n",
            "Valid_loss:  0.046136770073124875\n",
            "Validation accuracy 0.756152125279642\n",
            "Validation f1 0.6156079205512442\n",
            "Epoch:  380\n"
          ]
        },
        {
          "output_type": "stream",
          "name": "stderr",
          "text": [
            "/usr/local/lib/python3.7/dist-packages/ipykernel_launcher.py:33: UserWarning: To copy construct from a tensor, it is recommended to use sourceTensor.clone().detach() or sourceTensor.clone().detach().requires_grad_(True), rather than torch.tensor(sourceTensor).\n"
          ]
        },
        {
          "output_type": "stream",
          "name": "stdout",
          "text": [
            "Train_loss:  0.016168033122085035\n",
            "Valid_loss:  0.046133584226481616\n",
            "Validation accuracy 0.756152125279642\n",
            "Validation f1 0.6156079205512442\n",
            "Epoch:  381\n"
          ]
        },
        {
          "output_type": "stream",
          "name": "stderr",
          "text": [
            "/usr/local/lib/python3.7/dist-packages/ipykernel_launcher.py:33: UserWarning: To copy construct from a tensor, it is recommended to use sourceTensor.clone().detach() or sourceTensor.clone().detach().requires_grad_(True), rather than torch.tensor(sourceTensor).\n"
          ]
        },
        {
          "output_type": "stream",
          "name": "stdout",
          "text": [
            "Train_loss:  0.016121537469319134\n",
            "Valid_loss:  0.046130686782167425\n",
            "Validation accuracy 0.756152125279642\n",
            "Validation f1 0.6156079205512442\n",
            "Epoch:  382\n"
          ]
        },
        {
          "output_type": "stream",
          "name": "stderr",
          "text": [
            "/usr/local/lib/python3.7/dist-packages/ipykernel_launcher.py:33: UserWarning: To copy construct from a tensor, it is recommended to use sourceTensor.clone().detach() or sourceTensor.clone().detach().requires_grad_(True), rather than torch.tensor(sourceTensor).\n"
          ]
        },
        {
          "output_type": "stream",
          "name": "stdout",
          "text": [
            "Train_loss:  0.0160754724981546\n",
            "Valid_loss:  0.04612921657306807\n",
            "Validation accuracy 0.756152125279642\n",
            "Validation f1 0.6156079205512442\n",
            "Epoch:  383\n"
          ]
        },
        {
          "output_type": "stream",
          "name": "stderr",
          "text": [
            "/usr/local/lib/python3.7/dist-packages/ipykernel_launcher.py:33: UserWarning: To copy construct from a tensor, it is recommended to use sourceTensor.clone().detach() or sourceTensor.clone().detach().requires_grad_(True), rather than torch.tensor(sourceTensor).\n"
          ]
        },
        {
          "output_type": "stream",
          "name": "stdout",
          "text": [
            "Train_loss:  0.01602962716424372\n",
            "Valid_loss:  0.04612642775256453\n",
            "Validation accuracy 0.756152125279642\n",
            "Validation f1 0.6156079205512442\n",
            "Epoch:  384\n"
          ]
        },
        {
          "output_type": "stream",
          "name": "stderr",
          "text": [
            "/usr/local/lib/python3.7/dist-packages/ipykernel_launcher.py:33: UserWarning: To copy construct from a tensor, it is recommended to use sourceTensor.clone().detach() or sourceTensor.clone().detach().requires_grad_(True), rather than torch.tensor(sourceTensor).\n"
          ]
        },
        {
          "output_type": "stream",
          "name": "stdout",
          "text": [
            "Train_loss:  0.01598416951206413\n",
            "Valid_loss:  0.04612436966272071\n",
            "Validation accuracy 0.756152125279642\n",
            "Validation f1 0.6156079205512442\n",
            "Epoch:  385\n"
          ]
        },
        {
          "output_type": "stream",
          "name": "stderr",
          "text": [
            "/usr/local/lib/python3.7/dist-packages/ipykernel_launcher.py:33: UserWarning: To copy construct from a tensor, it is recommended to use sourceTensor.clone().detach() or sourceTensor.clone().detach().requires_grad_(True), rather than torch.tensor(sourceTensor).\n"
          ]
        },
        {
          "output_type": "stream",
          "name": "stdout",
          "text": [
            "Train_loss:  0.015938881676577563\n",
            "Valid_loss:  0.046122462821326086\n",
            "Validation accuracy 0.756152125279642\n",
            "Validation f1 0.6156079205512442\n",
            "Epoch:  386\n"
          ]
        },
        {
          "output_type": "stream",
          "name": "stderr",
          "text": [
            "/usr/local/lib/python3.7/dist-packages/ipykernel_launcher.py:33: UserWarning: To copy construct from a tensor, it is recommended to use sourceTensor.clone().detach() or sourceTensor.clone().detach().requires_grad_(True), rather than torch.tensor(sourceTensor).\n"
          ]
        },
        {
          "output_type": "stream",
          "name": "stdout",
          "text": [
            "Train_loss:  0.015894011485215742\n",
            "Valid_loss:  0.046120727534538934\n",
            "Validation accuracy 0.756152125279642\n",
            "Validation f1 0.6151342483324197\n",
            "Epoch:  387\n"
          ]
        },
        {
          "output_type": "stream",
          "name": "stderr",
          "text": [
            "/usr/local/lib/python3.7/dist-packages/ipykernel_launcher.py:33: UserWarning: To copy construct from a tensor, it is recommended to use sourceTensor.clone().detach() or sourceTensor.clone().detach().requires_grad_(True), rather than torch.tensor(sourceTensor).\n"
          ]
        },
        {
          "output_type": "stream",
          "name": "stdout",
          "text": [
            "Train_loss:  0.01584941676888515\n",
            "Valid_loss:  0.046120034414343536\n",
            "Validation accuracy 0.756152125279642\n",
            "Validation f1 0.6151342483324197\n",
            "Epoch:  388\n"
          ]
        },
        {
          "output_type": "stream",
          "name": "stderr",
          "text": [
            "/usr/local/lib/python3.7/dist-packages/ipykernel_launcher.py:33: UserWarning: To copy construct from a tensor, it is recommended to use sourceTensor.clone().detach() or sourceTensor.clone().detach().requires_grad_(True), rather than torch.tensor(sourceTensor).\n"
          ]
        },
        {
          "output_type": "stream",
          "name": "stdout",
          "text": [
            "Train_loss:  0.01580491099593928\n",
            "Valid_loss:  0.046118364952105494\n",
            "Validation accuracy 0.756152125279642\n",
            "Validation f1 0.6151342483324197\n",
            "Epoch:  389\n"
          ]
        },
        {
          "output_type": "stream",
          "name": "stderr",
          "text": [
            "/usr/local/lib/python3.7/dist-packages/ipykernel_launcher.py:33: UserWarning: To copy construct from a tensor, it is recommended to use sourceTensor.clone().detach() or sourceTensor.clone().detach().requires_grad_(True), rather than torch.tensor(sourceTensor).\n"
          ]
        },
        {
          "output_type": "stream",
          "name": "stdout",
          "text": [
            "Train_loss:  0.015760884213835067\n",
            "Valid_loss:  0.04611693466514615\n",
            "Validation accuracy 0.756152125279642\n",
            "Validation f1 0.6151342483324197\n",
            "Epoch:  390\n"
          ]
        },
        {
          "output_type": "stream",
          "name": "stderr",
          "text": [
            "/usr/local/lib/python3.7/dist-packages/ipykernel_launcher.py:33: UserWarning: To copy construct from a tensor, it is recommended to use sourceTensor.clone().detach() or sourceTensor.clone().detach().requires_grad_(True), rather than torch.tensor(sourceTensor).\n"
          ]
        },
        {
          "output_type": "stream",
          "name": "stdout",
          "text": [
            "Train_loss:  0.01571708157280227\n",
            "Valid_loss:  0.046116148005239666\n",
            "Validation accuracy 0.756152125279642\n",
            "Validation f1 0.6151342483324197\n",
            "Epoch:  391\n"
          ]
        },
        {
          "output_type": "stream",
          "name": "stderr",
          "text": [
            "/usr/local/lib/python3.7/dist-packages/ipykernel_launcher.py:33: UserWarning: To copy construct from a tensor, it is recommended to use sourceTensor.clone().detach() or sourceTensor.clone().detach().requires_grad_(True), rather than torch.tensor(sourceTensor).\n"
          ]
        },
        {
          "output_type": "stream",
          "name": "stdout",
          "text": [
            "Train_loss:  0.015673589381289536\n",
            "Valid_loss:  0.04611594174223553\n",
            "Validation accuracy 0.756152125279642\n",
            "Validation f1 0.6151342483324197\n",
            "Epoch:  392\n"
          ]
        },
        {
          "output_type": "stream",
          "name": "stderr",
          "text": [
            "/usr/local/lib/python3.7/dist-packages/ipykernel_launcher.py:33: UserWarning: To copy construct from a tensor, it is recommended to use sourceTensor.clone().detach() or sourceTensor.clone().detach().requires_grad_(True), rather than torch.tensor(sourceTensor).\n"
          ]
        },
        {
          "output_type": "stream",
          "name": "stdout",
          "text": [
            "Train_loss:  0.015630349869232823\n",
            "Valid_loss:  0.04611483081576547\n",
            "Validation accuracy 0.756152125279642\n",
            "Validation f1 0.6151342483324197\n",
            "Epoch:  393\n"
          ]
        },
        {
          "output_type": "stream",
          "name": "stderr",
          "text": [
            "/usr/local/lib/python3.7/dist-packages/ipykernel_launcher.py:33: UserWarning: To copy construct from a tensor, it is recommended to use sourceTensor.clone().detach() or sourceTensor.clone().detach().requires_grad_(True), rather than torch.tensor(sourceTensor).\n"
          ]
        },
        {
          "output_type": "stream",
          "name": "stdout",
          "text": [
            "Train_loss:  0.01558742612646061\n",
            "Valid_loss:  0.04611397030696805\n",
            "Validation accuracy 0.756152125279642\n",
            "Validation f1 0.6151342483324197\n",
            "Epoch:  394\n"
          ]
        },
        {
          "output_type": "stream",
          "name": "stderr",
          "text": [
            "/usr/local/lib/python3.7/dist-packages/ipykernel_launcher.py:33: UserWarning: To copy construct from a tensor, it is recommended to use sourceTensor.clone().detach() or sourceTensor.clone().detach().requires_grad_(True), rather than torch.tensor(sourceTensor).\n"
          ]
        },
        {
          "output_type": "stream",
          "name": "stdout",
          "text": [
            "Train_loss:  0.015544680744434507\n",
            "Valid_loss:  0.04611350259178185\n",
            "Validation accuracy 0.756152125279642\n",
            "Validation f1 0.6151342483324197\n",
            "Epoch:  395\n"
          ]
        },
        {
          "output_type": "stream",
          "name": "stderr",
          "text": [
            "/usr/local/lib/python3.7/dist-packages/ipykernel_launcher.py:33: UserWarning: To copy construct from a tensor, it is recommended to use sourceTensor.clone().detach() or sourceTensor.clone().detach().requires_grad_(True), rather than torch.tensor(sourceTensor).\n"
          ]
        },
        {
          "output_type": "stream",
          "name": "stdout",
          "text": [
            "Train_loss:  0.015502190526084243\n",
            "Valid_loss:  0.04611428013803171\n",
            "Validation accuracy 0.756152125279642\n",
            "Validation f1 0.6151342483324197\n",
            "Epoch:  396\n"
          ]
        },
        {
          "output_type": "stream",
          "name": "stderr",
          "text": [
            "/usr/local/lib/python3.7/dist-packages/ipykernel_launcher.py:33: UserWarning: To copy construct from a tensor, it is recommended to use sourceTensor.clone().detach() or sourceTensor.clone().detach().requires_grad_(True), rather than torch.tensor(sourceTensor).\n"
          ]
        },
        {
          "output_type": "stream",
          "name": "stdout",
          "text": [
            "Train_loss:  0.015460141042629922\n",
            "Valid_loss:  0.04611455887788907\n",
            "Validation accuracy 0.7539149888143176\n",
            "Validation f1 0.6146936215018743\n",
            "Epoch:  397\n"
          ]
        },
        {
          "output_type": "stream",
          "name": "stderr",
          "text": [
            "/usr/local/lib/python3.7/dist-packages/ipykernel_launcher.py:33: UserWarning: To copy construct from a tensor, it is recommended to use sourceTensor.clone().detach() or sourceTensor.clone().detach().requires_grad_(True), rather than torch.tensor(sourceTensor).\n"
          ]
        },
        {
          "output_type": "stream",
          "name": "stdout",
          "text": [
            "Train_loss:  0.015418210749755547\n",
            "Valid_loss:  0.046114535827655345\n",
            "Validation accuracy 0.7539149888143176\n",
            "Validation f1 0.6146936215018743\n",
            "Epoch:  398\n"
          ]
        },
        {
          "output_type": "stream",
          "name": "stderr",
          "text": [
            "/usr/local/lib/python3.7/dist-packages/ipykernel_launcher.py:33: UserWarning: To copy construct from a tensor, it is recommended to use sourceTensor.clone().detach() or sourceTensor.clone().detach().requires_grad_(True), rather than torch.tensor(sourceTensor).\n"
          ]
        },
        {
          "output_type": "stream",
          "name": "stdout",
          "text": [
            "Train_loss:  0.015376497177515245\n",
            "Valid_loss:  0.04611502754934398\n",
            "Validation accuracy 0.7539149888143176\n",
            "Validation f1 0.6146936215018743\n",
            "Epoch:  399\n"
          ]
        },
        {
          "output_type": "stream",
          "name": "stderr",
          "text": [
            "/usr/local/lib/python3.7/dist-packages/ipykernel_launcher.py:33: UserWarning: To copy construct from a tensor, it is recommended to use sourceTensor.clone().detach() or sourceTensor.clone().detach().requires_grad_(True), rather than torch.tensor(sourceTensor).\n"
          ]
        },
        {
          "output_type": "stream",
          "name": "stdout",
          "text": [
            "Train_loss:  0.015334949721623812\n",
            "Valid_loss:  0.0461159780388698\n",
            "Validation accuracy 0.7539149888143176\n",
            "Validation f1 0.6146936215018743\n",
            "Epoch:  400\n"
          ]
        },
        {
          "output_type": "stream",
          "name": "stderr",
          "text": [
            "/usr/local/lib/python3.7/dist-packages/ipykernel_launcher.py:33: UserWarning: To copy construct from a tensor, it is recommended to use sourceTensor.clone().detach() or sourceTensor.clone().detach().requires_grad_(True), rather than torch.tensor(sourceTensor).\n"
          ]
        },
        {
          "output_type": "stream",
          "name": "stdout",
          "text": [
            "Train_loss:  0.015294025428634736\n",
            "Valid_loss:  0.04611627982064549\n",
            "Validation accuracy 0.7539149888143176\n",
            "Validation f1 0.6146936215018743\n",
            "Epoch:  401\n"
          ]
        },
        {
          "output_type": "stream",
          "name": "stderr",
          "text": [
            "/usr/local/lib/python3.7/dist-packages/ipykernel_launcher.py:33: UserWarning: To copy construct from a tensor, it is recommended to use sourceTensor.clone().detach() or sourceTensor.clone().detach().requires_grad_(True), rather than torch.tensor(sourceTensor).\n"
          ]
        },
        {
          "output_type": "stream",
          "name": "stdout",
          "text": [
            "Train_loss:  0.015253157853814108\n",
            "Valid_loss:  0.04611813989634227\n",
            "Validation accuracy 0.7539149888143176\n",
            "Validation f1 0.6146936215018743\n",
            "Epoch:  402\n"
          ]
        },
        {
          "output_type": "stream",
          "name": "stderr",
          "text": [
            "/usr/local/lib/python3.7/dist-packages/ipykernel_launcher.py:33: UserWarning: To copy construct from a tensor, it is recommended to use sourceTensor.clone().detach() or sourceTensor.clone().detach().requires_grad_(True), rather than torch.tensor(sourceTensor).\n"
          ]
        },
        {
          "output_type": "stream",
          "name": "stdout",
          "text": [
            "Train_loss:  0.015212398547321624\n",
            "Valid_loss:  0.046119223174173385\n",
            "Validation accuracy 0.7539149888143176\n",
            "Validation f1 0.6146936215018743\n",
            "Epoch:  403\n"
          ]
        },
        {
          "output_type": "stream",
          "name": "stderr",
          "text": [
            "/usr/local/lib/python3.7/dist-packages/ipykernel_launcher.py:33: UserWarning: To copy construct from a tensor, it is recommended to use sourceTensor.clone().detach() or sourceTensor.clone().detach().requires_grad_(True), rather than torch.tensor(sourceTensor).\n"
          ]
        },
        {
          "output_type": "stream",
          "name": "stdout",
          "text": [
            "Train_loss:  0.015172087048995309\n",
            "Valid_loss:  0.04612051704732169\n",
            "Validation accuracy 0.7539149888143176\n",
            "Validation f1 0.6146936215018743\n",
            "Epoch:  404\n"
          ]
        },
        {
          "output_type": "stream",
          "name": "stderr",
          "text": [
            "/usr/local/lib/python3.7/dist-packages/ipykernel_launcher.py:33: UserWarning: To copy construct from a tensor, it is recommended to use sourceTensor.clone().detach() or sourceTensor.clone().detach().requires_grad_(True), rather than torch.tensor(sourceTensor).\n"
          ]
        },
        {
          "output_type": "stream",
          "name": "stdout",
          "text": [
            "Train_loss:  0.01513184880812852\n",
            "Valid_loss:  0.046120176174944\n",
            "Validation accuracy 0.7539149888143176\n",
            "Validation f1 0.6146936215018743\n",
            "Epoch:  405\n"
          ]
        },
        {
          "output_type": "stream",
          "name": "stderr",
          "text": [
            "/usr/local/lib/python3.7/dist-packages/ipykernel_launcher.py:33: UserWarning: To copy construct from a tensor, it is recommended to use sourceTensor.clone().detach() or sourceTensor.clone().detach().requires_grad_(True), rather than torch.tensor(sourceTensor).\n"
          ]
        },
        {
          "output_type": "stream",
          "name": "stdout",
          "text": [
            "Train_loss:  0.015091991585255269\n",
            "Valid_loss:  0.04612315962523488\n",
            "Validation accuracy 0.7539149888143176\n",
            "Validation f1 0.6146936215018743\n",
            "Epoch:  406\n"
          ]
        },
        {
          "output_type": "stream",
          "name": "stderr",
          "text": [
            "/usr/local/lib/python3.7/dist-packages/ipykernel_launcher.py:33: UserWarning: To copy construct from a tensor, it is recommended to use sourceTensor.clone().detach() or sourceTensor.clone().detach().requires_grad_(True), rather than torch.tensor(sourceTensor).\n"
          ]
        },
        {
          "output_type": "stream",
          "name": "stdout",
          "text": [
            "Train_loss:  0.015052231460036378\n",
            "Valid_loss:  0.046124308611199795\n",
            "Validation accuracy 0.7539149888143176\n",
            "Validation f1 0.6146936215018743\n",
            "Epoch:  407\n"
          ]
        },
        {
          "output_type": "stream",
          "name": "stderr",
          "text": [
            "/usr/local/lib/python3.7/dist-packages/ipykernel_launcher.py:33: UserWarning: To copy construct from a tensor, it is recommended to use sourceTensor.clone().detach() or sourceTensor.clone().detach().requires_grad_(True), rather than torch.tensor(sourceTensor).\n"
          ]
        },
        {
          "output_type": "stream",
          "name": "stdout",
          "text": [
            "Train_loss:  0.015012833330339552\n",
            "Valid_loss:  0.046126140788796226\n",
            "Validation accuracy 0.7583892617449665\n",
            "Validation f1 0.6153132721738079\n",
            "Epoch:  408\n"
          ]
        },
        {
          "output_type": "stream",
          "name": "stderr",
          "text": [
            "/usr/local/lib/python3.7/dist-packages/ipykernel_launcher.py:33: UserWarning: To copy construct from a tensor, it is recommended to use sourceTensor.clone().detach() or sourceTensor.clone().detach().requires_grad_(True), rather than torch.tensor(sourceTensor).\n"
          ]
        },
        {
          "output_type": "stream",
          "name": "stdout",
          "text": [
            "Train_loss:  0.014973692552302964\n",
            "Valid_loss:  0.04612861107203311\n",
            "Validation accuracy 0.7583892617449665\n",
            "Validation f1 0.6153132721738079\n",
            "Epoch:  409\n"
          ]
        },
        {
          "output_type": "stream",
          "name": "stderr",
          "text": [
            "/usr/local/lib/python3.7/dist-packages/ipykernel_launcher.py:33: UserWarning: To copy construct from a tensor, it is recommended to use sourceTensor.clone().detach() or sourceTensor.clone().detach().requires_grad_(True), rather than torch.tensor(sourceTensor).\n"
          ]
        },
        {
          "output_type": "stream",
          "name": "stdout",
          "text": [
            "Train_loss:  0.014934477053299946\n",
            "Valid_loss:  0.04613029082039637\n",
            "Validation accuracy 0.7583892617449665\n",
            "Validation f1 0.6153132721738079\n",
            "Epoch:  410\n"
          ]
        },
        {
          "output_type": "stream",
          "name": "stderr",
          "text": [
            "/usr/local/lib/python3.7/dist-packages/ipykernel_launcher.py:33: UserWarning: To copy construct from a tensor, it is recommended to use sourceTensor.clone().detach() or sourceTensor.clone().detach().requires_grad_(True), rather than torch.tensor(sourceTensor).\n"
          ]
        },
        {
          "output_type": "stream",
          "name": "stdout",
          "text": [
            "Train_loss:  0.014895748224392134\n",
            "Valid_loss:  0.04613208654336631\n",
            "Validation accuracy 0.756152125279642\n",
            "Validation f1 0.6144554399872296\n",
            "Epoch:  411\n"
          ]
        },
        {
          "output_type": "stream",
          "name": "stderr",
          "text": [
            "/usr/local/lib/python3.7/dist-packages/ipykernel_launcher.py:33: UserWarning: To copy construct from a tensor, it is recommended to use sourceTensor.clone().detach() or sourceTensor.clone().detach().requires_grad_(True), rather than torch.tensor(sourceTensor).\n"
          ]
        },
        {
          "output_type": "stream",
          "name": "stdout",
          "text": [
            "Train_loss:  0.014857331199371921\n",
            "Valid_loss:  0.04613507573958486\n",
            "Validation accuracy 0.7583892617449665\n",
            "Validation f1 0.6149491244385775\n",
            "Epoch:  412\n"
          ]
        },
        {
          "output_type": "stream",
          "name": "stderr",
          "text": [
            "/usr/local/lib/python3.7/dist-packages/ipykernel_launcher.py:33: UserWarning: To copy construct from a tensor, it is recommended to use sourceTensor.clone().detach() or sourceTensor.clone().detach().requires_grad_(True), rather than torch.tensor(sourceTensor).\n"
          ]
        },
        {
          "output_type": "stream",
          "name": "stdout",
          "text": [
            "Train_loss:  0.0148189700266812\n",
            "Valid_loss:  0.04613667566029887\n",
            "Validation accuracy 0.7583892617449665\n",
            "Validation f1 0.6149491244385775\n",
            "Epoch:  413\n"
          ]
        },
        {
          "output_type": "stream",
          "name": "stderr",
          "text": [
            "/usr/local/lib/python3.7/dist-packages/ipykernel_launcher.py:33: UserWarning: To copy construct from a tensor, it is recommended to use sourceTensor.clone().detach() or sourceTensor.clone().detach().requires_grad_(True), rather than torch.tensor(sourceTensor).\n"
          ]
        },
        {
          "output_type": "stream",
          "name": "stdout",
          "text": [
            "Train_loss:  0.014780947821106696\n",
            "Valid_loss:  0.0461405261386452\n",
            "Validation accuracy 0.7583892617449665\n",
            "Validation f1 0.6149491244385775\n",
            "Epoch:  414\n"
          ]
        },
        {
          "output_type": "stream",
          "name": "stderr",
          "text": [
            "/usr/local/lib/python3.7/dist-packages/ipykernel_launcher.py:33: UserWarning: To copy construct from a tensor, it is recommended to use sourceTensor.clone().detach() or sourceTensor.clone().detach().requires_grad_(True), rather than torch.tensor(sourceTensor).\n"
          ]
        },
        {
          "output_type": "stream",
          "name": "stdout",
          "text": [
            "Train_loss:  0.014743015100456043\n",
            "Valid_loss:  0.04614105334206085\n",
            "Validation accuracy 0.7583892617449665\n",
            "Validation f1 0.6149491244385775\n",
            "Epoch:  415\n"
          ]
        },
        {
          "output_type": "stream",
          "name": "stderr",
          "text": [
            "/usr/local/lib/python3.7/dist-packages/ipykernel_launcher.py:33: UserWarning: To copy construct from a tensor, it is recommended to use sourceTensor.clone().detach() or sourceTensor.clone().detach().requires_grad_(True), rather than torch.tensor(sourceTensor).\n"
          ]
        },
        {
          "output_type": "stream",
          "name": "stdout",
          "text": [
            "Train_loss:  0.014705242585997829\n",
            "Valid_loss:  0.04614582483191043\n",
            "Validation accuracy 0.7583892617449665\n",
            "Validation f1 0.6149491244385775\n",
            "Epoch:  416\n"
          ]
        },
        {
          "output_type": "stream",
          "name": "stderr",
          "text": [
            "/usr/local/lib/python3.7/dist-packages/ipykernel_launcher.py:33: UserWarning: To copy construct from a tensor, it is recommended to use sourceTensor.clone().detach() or sourceTensor.clone().detach().requires_grad_(True), rather than torch.tensor(sourceTensor).\n"
          ]
        },
        {
          "output_type": "stream",
          "name": "stdout",
          "text": [
            "Train_loss:  0.014667885135817673\n",
            "Valid_loss:  0.04614840028807521\n",
            "Validation accuracy 0.756152125279642\n",
            "Validation f1 0.6146313443424042\n",
            "Epoch:  417\n"
          ]
        },
        {
          "output_type": "stream",
          "name": "stderr",
          "text": [
            "/usr/local/lib/python3.7/dist-packages/ipykernel_launcher.py:33: UserWarning: To copy construct from a tensor, it is recommended to use sourceTensor.clone().detach() or sourceTensor.clone().detach().requires_grad_(True), rather than torch.tensor(sourceTensor).\n"
          ]
        },
        {
          "output_type": "stream",
          "name": "stdout",
          "text": [
            "Train_loss:  0.01463053710384494\n",
            "Valid_loss:  0.04615214833756909\n",
            "Validation accuracy 0.756152125279642\n",
            "Validation f1 0.6142158318770302\n",
            "Epoch:  418\n"
          ]
        },
        {
          "output_type": "stream",
          "name": "stderr",
          "text": [
            "/usr/local/lib/python3.7/dist-packages/ipykernel_launcher.py:33: UserWarning: To copy construct from a tensor, it is recommended to use sourceTensor.clone().detach() or sourceTensor.clone().detach().requires_grad_(True), rather than torch.tensor(sourceTensor).\n"
          ]
        },
        {
          "output_type": "stream",
          "name": "stdout",
          "text": [
            "Train_loss:  0.014593648610960892\n",
            "Valid_loss:  0.04615436654005732\n",
            "Validation accuracy 0.756152125279642\n",
            "Validation f1 0.6142158318770302\n",
            "Epoch:  419\n"
          ]
        },
        {
          "output_type": "stream",
          "name": "stderr",
          "text": [
            "/usr/local/lib/python3.7/dist-packages/ipykernel_launcher.py:33: UserWarning: To copy construct from a tensor, it is recommended to use sourceTensor.clone().detach() or sourceTensor.clone().detach().requires_grad_(True), rather than torch.tensor(sourceTensor).\n"
          ]
        },
        {
          "output_type": "stream",
          "name": "stdout",
          "text": [
            "Train_loss:  0.014556655483569816\n",
            "Valid_loss:  0.046158111870421896\n",
            "Validation accuracy 0.756152125279642\n",
            "Validation f1 0.6142158318770302\n",
            "Epoch:  420\n"
          ]
        },
        {
          "output_type": "stream",
          "name": "stderr",
          "text": [
            "/usr/local/lib/python3.7/dist-packages/ipykernel_launcher.py:33: UserWarning: To copy construct from a tensor, it is recommended to use sourceTensor.clone().detach() or sourceTensor.clone().detach().requires_grad_(True), rather than torch.tensor(sourceTensor).\n"
          ]
        },
        {
          "output_type": "stream",
          "name": "stdout",
          "text": [
            "Train_loss:  0.014520115638983302\n",
            "Valid_loss:  0.04616182078773688\n",
            "Validation accuracy 0.7539149888143176\n",
            "Validation f1 0.613513407510265\n",
            "Epoch:  421\n"
          ]
        },
        {
          "output_type": "stream",
          "name": "stderr",
          "text": [
            "/usr/local/lib/python3.7/dist-packages/ipykernel_launcher.py:33: UserWarning: To copy construct from a tensor, it is recommended to use sourceTensor.clone().detach() or sourceTensor.clone().detach().requires_grad_(True), rather than torch.tensor(sourceTensor).\n"
          ]
        },
        {
          "output_type": "stream",
          "name": "stdout",
          "text": [
            "Train_loss:  0.014483741076089376\n",
            "Valid_loss:  0.0461648284108378\n",
            "Validation accuracy 0.7539149888143176\n",
            "Validation f1 0.613513407510265\n",
            "Epoch:  422\n"
          ]
        },
        {
          "output_type": "stream",
          "name": "stderr",
          "text": [
            "/usr/local/lib/python3.7/dist-packages/ipykernel_launcher.py:33: UserWarning: To copy construct from a tensor, it is recommended to use sourceTensor.clone().detach() or sourceTensor.clone().detach().requires_grad_(True), rather than torch.tensor(sourceTensor).\n"
          ]
        },
        {
          "output_type": "stream",
          "name": "stdout",
          "text": [
            "Train_loss:  0.014447324726331447\n",
            "Valid_loss:  0.04616902506677434\n",
            "Validation accuracy 0.7539149888143176\n",
            "Validation f1 0.613513407510265\n",
            "Epoch:  423\n"
          ]
        },
        {
          "output_type": "stream",
          "name": "stderr",
          "text": [
            "/usr/local/lib/python3.7/dist-packages/ipykernel_launcher.py:33: UserWarning: To copy construct from a tensor, it is recommended to use sourceTensor.clone().detach() or sourceTensor.clone().detach().requires_grad_(True), rather than torch.tensor(sourceTensor).\n"
          ]
        },
        {
          "output_type": "stream",
          "name": "stdout",
          "text": [
            "Train_loss:  0.014411376272619236\n",
            "Valid_loss:  0.04617303863467116\n",
            "Validation accuracy 0.7539149888143176\n",
            "Validation f1 0.613513407510265\n",
            "Epoch:  424\n"
          ]
        },
        {
          "output_type": "stream",
          "name": "stderr",
          "text": [
            "/usr/local/lib/python3.7/dist-packages/ipykernel_launcher.py:33: UserWarning: To copy construct from a tensor, it is recommended to use sourceTensor.clone().detach() or sourceTensor.clone().detach().requires_grad_(True), rather than torch.tensor(sourceTensor).\n"
          ]
        },
        {
          "output_type": "stream",
          "name": "stdout",
          "text": [
            "Train_loss:  0.0143756491743261\n",
            "Valid_loss:  0.04617784117415015\n",
            "Validation accuracy 0.7539149888143176\n",
            "Validation f1 0.613513407510265\n",
            "Epoch:  425\n"
          ]
        },
        {
          "output_type": "stream",
          "name": "stderr",
          "text": [
            "/usr/local/lib/python3.7/dist-packages/ipykernel_launcher.py:33: UserWarning: To copy construct from a tensor, it is recommended to use sourceTensor.clone().detach() or sourceTensor.clone().detach().requires_grad_(True), rather than torch.tensor(sourceTensor).\n"
          ]
        },
        {
          "output_type": "stream",
          "name": "stdout",
          "text": [
            "Train_loss:  0.014339915187779948\n",
            "Valid_loss:  0.04618103111196043\n",
            "Validation accuracy 0.7539149888143176\n",
            "Validation f1 0.613513407510265\n",
            "Epoch:  426\n"
          ]
        },
        {
          "output_type": "stream",
          "name": "stderr",
          "text": [
            "/usr/local/lib/python3.7/dist-packages/ipykernel_launcher.py:33: UserWarning: To copy construct from a tensor, it is recommended to use sourceTensor.clone().detach() or sourceTensor.clone().detach().requires_grad_(True), rather than torch.tensor(sourceTensor).\n"
          ]
        },
        {
          "output_type": "stream",
          "name": "stdout",
          "text": [
            "Train_loss:  0.014304545949146683\n",
            "Valid_loss:  0.04618540875214551\n",
            "Validation accuracy 0.7539149888143176\n",
            "Validation f1 0.613513407510265\n",
            "Epoch:  427\n"
          ]
        },
        {
          "output_type": "stream",
          "name": "stderr",
          "text": [
            "/usr/local/lib/python3.7/dist-packages/ipykernel_launcher.py:33: UserWarning: To copy construct from a tensor, it is recommended to use sourceTensor.clone().detach() or sourceTensor.clone().detach().requires_grad_(True), rather than torch.tensor(sourceTensor).\n"
          ]
        },
        {
          "output_type": "stream",
          "name": "stdout",
          "text": [
            "Train_loss:  0.014269090388552286\n",
            "Valid_loss:  0.046189730047314824\n",
            "Validation accuracy 0.7539149888143176\n",
            "Validation f1 0.613513407510265\n",
            "Epoch:  428\n"
          ]
        },
        {
          "output_type": "stream",
          "name": "stderr",
          "text": [
            "/usr/local/lib/python3.7/dist-packages/ipykernel_launcher.py:33: UserWarning: To copy construct from a tensor, it is recommended to use sourceTensor.clone().detach() or sourceTensor.clone().detach().requires_grad_(True), rather than torch.tensor(sourceTensor).\n"
          ]
        },
        {
          "output_type": "stream",
          "name": "stdout",
          "text": [
            "Train_loss:  0.014234096336752242\n",
            "Valid_loss:  0.046193845819548836\n",
            "Validation accuracy 0.7539149888143176\n",
            "Validation f1 0.613513407510265\n",
            "Epoch:  429\n"
          ]
        },
        {
          "output_type": "stream",
          "name": "stderr",
          "text": [
            "/usr/local/lib/python3.7/dist-packages/ipykernel_launcher.py:33: UserWarning: To copy construct from a tensor, it is recommended to use sourceTensor.clone().detach() or sourceTensor.clone().detach().requires_grad_(True), rather than torch.tensor(sourceTensor).\n"
          ]
        },
        {
          "output_type": "stream",
          "name": "stdout",
          "text": [
            "Train_loss:  0.01419919720501639\n",
            "Valid_loss:  0.04619903081662154\n",
            "Validation accuracy 0.7539149888143176\n",
            "Validation f1 0.613513407510265\n",
            "Epoch:  430\n"
          ]
        },
        {
          "output_type": "stream",
          "name": "stderr",
          "text": [
            "/usr/local/lib/python3.7/dist-packages/ipykernel_launcher.py:33: UserWarning: To copy construct from a tensor, it is recommended to use sourceTensor.clone().detach() or sourceTensor.clone().detach().requires_grad_(True), rather than torch.tensor(sourceTensor).\n"
          ]
        },
        {
          "output_type": "stream",
          "name": "stdout",
          "text": [
            "Train_loss:  0.014164572171076932\n",
            "Valid_loss:  0.04620264473071854\n",
            "Validation accuracy 0.7539149888143176\n",
            "Validation f1 0.613513407510265\n",
            "Epoch:  431\n"
          ]
        },
        {
          "output_type": "stream",
          "name": "stderr",
          "text": [
            "/usr/local/lib/python3.7/dist-packages/ipykernel_launcher.py:33: UserWarning: To copy construct from a tensor, it is recommended to use sourceTensor.clone().detach() or sourceTensor.clone().detach().requires_grad_(True), rather than torch.tensor(sourceTensor).\n"
          ]
        },
        {
          "output_type": "stream",
          "name": "stdout",
          "text": [
            "Train_loss:  0.014129985091650659\n",
            "Valid_loss:  0.046209063563895016\n",
            "Validation accuracy 0.756152125279642\n",
            "Validation f1 0.6165835829488614\n",
            "Epoch:  432\n"
          ]
        },
        {
          "output_type": "stream",
          "name": "stderr",
          "text": [
            "/usr/local/lib/python3.7/dist-packages/ipykernel_launcher.py:33: UserWarning: To copy construct from a tensor, it is recommended to use sourceTensor.clone().detach() or sourceTensor.clone().detach().requires_grad_(True), rather than torch.tensor(sourceTensor).\n"
          ]
        },
        {
          "output_type": "stream",
          "name": "stdout",
          "text": [
            "Train_loss:  0.014095484001570315\n",
            "Valid_loss:  0.04621298151323572\n",
            "Validation accuracy 0.756152125279642\n",
            "Validation f1 0.6165835829488614\n",
            "Epoch:  433\n"
          ]
        },
        {
          "output_type": "stream",
          "name": "stderr",
          "text": [
            "/usr/local/lib/python3.7/dist-packages/ipykernel_launcher.py:33: UserWarning: To copy construct from a tensor, it is recommended to use sourceTensor.clone().detach() or sourceTensor.clone().detach().requires_grad_(True), rather than torch.tensor(sourceTensor).\n"
          ]
        },
        {
          "output_type": "stream",
          "name": "stdout",
          "text": [
            "Train_loss:  0.01406165510603127\n",
            "Valid_loss:  0.04621805695517521\n",
            "Validation accuracy 0.756152125279642\n",
            "Validation f1 0.6165835829488614\n",
            "Epoch:  434\n"
          ]
        },
        {
          "output_type": "stream",
          "name": "stderr",
          "text": [
            "/usr/local/lib/python3.7/dist-packages/ipykernel_launcher.py:33: UserWarning: To copy construct from a tensor, it is recommended to use sourceTensor.clone().detach() or sourceTensor.clone().detach().requires_grad_(True), rather than torch.tensor(sourceTensor).\n"
          ]
        },
        {
          "output_type": "stream",
          "name": "stdout",
          "text": [
            "Train_loss:  0.014027433942828793\n",
            "Valid_loss:  0.0462228059269754\n",
            "Validation accuracy 0.756152125279642\n",
            "Validation f1 0.6165835829488614\n",
            "Epoch:  435\n"
          ]
        },
        {
          "output_type": "stream",
          "name": "stderr",
          "text": [
            "/usr/local/lib/python3.7/dist-packages/ipykernel_launcher.py:33: UserWarning: To copy construct from a tensor, it is recommended to use sourceTensor.clone().detach() or sourceTensor.clone().detach().requires_grad_(True), rather than torch.tensor(sourceTensor).\n"
          ]
        },
        {
          "output_type": "stream",
          "name": "stdout",
          "text": [
            "Train_loss:  0.01399374818200678\n",
            "Valid_loss:  0.046228354647090394\n",
            "Validation accuracy 0.756152125279642\n",
            "Validation f1 0.6165835829488614\n",
            "Epoch:  436\n"
          ]
        },
        {
          "output_type": "stream",
          "name": "stderr",
          "text": [
            "/usr/local/lib/python3.7/dist-packages/ipykernel_launcher.py:33: UserWarning: To copy construct from a tensor, it is recommended to use sourceTensor.clone().detach() or sourceTensor.clone().detach().requires_grad_(True), rather than torch.tensor(sourceTensor).\n"
          ]
        },
        {
          "output_type": "stream",
          "name": "stdout",
          "text": [
            "Train_loss:  0.013960201800468244\n",
            "Valid_loss:  0.04623360511115087\n",
            "Validation accuracy 0.756152125279642\n",
            "Validation f1 0.6165835829488614\n",
            "Epoch:  437\n"
          ]
        },
        {
          "output_type": "stream",
          "name": "stderr",
          "text": [
            "/usr/local/lib/python3.7/dist-packages/ipykernel_launcher.py:33: UserWarning: To copy construct from a tensor, it is recommended to use sourceTensor.clone().detach() or sourceTensor.clone().detach().requires_grad_(True), rather than torch.tensor(sourceTensor).\n"
          ]
        },
        {
          "output_type": "stream",
          "name": "stdout",
          "text": [
            "Train_loss:  0.013926596955570858\n",
            "Valid_loss:  0.046238023322075605\n",
            "Validation accuracy 0.756152125279642\n",
            "Validation f1 0.6165835829488614\n",
            "Epoch:  438\n"
          ]
        },
        {
          "output_type": "stream",
          "name": "stderr",
          "text": [
            "/usr/local/lib/python3.7/dist-packages/ipykernel_launcher.py:33: UserWarning: To copy construct from a tensor, it is recommended to use sourceTensor.clone().detach() or sourceTensor.clone().detach().requires_grad_(True), rather than torch.tensor(sourceTensor).\n"
          ]
        },
        {
          "output_type": "stream",
          "name": "stdout",
          "text": [
            "Train_loss:  0.013893328038518251\n",
            "Valid_loss:  0.04624404272596751\n",
            "Validation accuracy 0.756152125279642\n",
            "Validation f1 0.6165835829488614\n",
            "Epoch:  439\n"
          ]
        },
        {
          "output_type": "stream",
          "name": "stderr",
          "text": [
            "/usr/local/lib/python3.7/dist-packages/ipykernel_launcher.py:33: UserWarning: To copy construct from a tensor, it is recommended to use sourceTensor.clone().detach() or sourceTensor.clone().detach().requires_grad_(True), rather than torch.tensor(sourceTensor).\n"
          ]
        },
        {
          "output_type": "stream",
          "name": "stdout",
          "text": [
            "Train_loss:  0.013860334229580726\n",
            "Valid_loss:  0.04625007432020668\n",
            "Validation accuracy 0.756152125279642\n",
            "Validation f1 0.6165835829488614\n",
            "Epoch:  440\n"
          ]
        },
        {
          "output_type": "stream",
          "name": "stderr",
          "text": [
            "/usr/local/lib/python3.7/dist-packages/ipykernel_launcher.py:33: UserWarning: To copy construct from a tensor, it is recommended to use sourceTensor.clone().detach() or sourceTensor.clone().detach().requires_grad_(True), rather than torch.tensor(sourceTensor).\n"
          ]
        },
        {
          "output_type": "stream",
          "name": "stdout",
          "text": [
            "Train_loss:  0.01382719264282579\n",
            "Valid_loss:  0.046255007660615126\n",
            "Validation accuracy 0.756152125279642\n",
            "Validation f1 0.6186768843842682\n",
            "Epoch:  441\n"
          ]
        },
        {
          "output_type": "stream",
          "name": "stderr",
          "text": [
            "/usr/local/lib/python3.7/dist-packages/ipykernel_launcher.py:33: UserWarning: To copy construct from a tensor, it is recommended to use sourceTensor.clone().detach() or sourceTensor.clone().detach().requires_grad_(True), rather than torch.tensor(sourceTensor).\n"
          ]
        },
        {
          "output_type": "stream",
          "name": "stdout",
          "text": [
            "Train_loss:  0.013794567368417379\n",
            "Valid_loss:  0.0462611303207398\n",
            "Validation accuracy 0.756152125279642\n",
            "Validation f1 0.6186768843842682\n",
            "Epoch:  442\n"
          ]
        },
        {
          "output_type": "stream",
          "name": "stderr",
          "text": [
            "/usr/local/lib/python3.7/dist-packages/ipykernel_launcher.py:33: UserWarning: To copy construct from a tensor, it is recommended to use sourceTensor.clone().detach() or sourceTensor.clone().detach().requires_grad_(True), rather than torch.tensor(sourceTensor).\n"
          ]
        },
        {
          "output_type": "stream",
          "name": "stdout",
          "text": [
            "Train_loss:  0.013762055756939975\n",
            "Valid_loss:  0.04626664159254038\n",
            "Validation accuracy 0.756152125279642\n",
            "Validation f1 0.6186768843842682\n",
            "Epoch:  443\n"
          ]
        },
        {
          "output_type": "stream",
          "name": "stderr",
          "text": [
            "/usr/local/lib/python3.7/dist-packages/ipykernel_launcher.py:33: UserWarning: To copy construct from a tensor, it is recommended to use sourceTensor.clone().detach() or sourceTensor.clone().detach().requires_grad_(True), rather than torch.tensor(sourceTensor).\n"
          ]
        },
        {
          "output_type": "stream",
          "name": "stdout",
          "text": [
            "Train_loss:  0.013729453632549848\n",
            "Valid_loss:  0.04627257171419582\n",
            "Validation accuracy 0.756152125279642\n",
            "Validation f1 0.6186768843842682\n",
            "Epoch:  444\n"
          ]
        },
        {
          "output_type": "stream",
          "name": "stderr",
          "text": [
            "/usr/local/lib/python3.7/dist-packages/ipykernel_launcher.py:33: UserWarning: To copy construct from a tensor, it is recommended to use sourceTensor.clone().detach() or sourceTensor.clone().detach().requires_grad_(True), rather than torch.tensor(sourceTensor).\n"
          ]
        },
        {
          "output_type": "stream",
          "name": "stdout",
          "text": [
            "Train_loss:  0.013697369647811033\n",
            "Valid_loss:  0.046279000667189915\n",
            "Validation accuracy 0.756152125279642\n",
            "Validation f1 0.6186768843842682\n",
            "Epoch:  445\n"
          ]
        },
        {
          "output_type": "stream",
          "name": "stderr",
          "text": [
            "/usr/local/lib/python3.7/dist-packages/ipykernel_launcher.py:33: UserWarning: To copy construct from a tensor, it is recommended to use sourceTensor.clone().detach() or sourceTensor.clone().detach().requires_grad_(True), rather than torch.tensor(sourceTensor).\n"
          ]
        },
        {
          "output_type": "stream",
          "name": "stdout",
          "text": [
            "Train_loss:  0.013665204446754484\n",
            "Valid_loss:  0.04628386231654856\n",
            "Validation accuracy 0.756152125279642\n",
            "Validation f1 0.6186768843842682\n",
            "Epoch:  446\n"
          ]
        },
        {
          "output_type": "stream",
          "name": "stderr",
          "text": [
            "/usr/local/lib/python3.7/dist-packages/ipykernel_launcher.py:33: UserWarning: To copy construct from a tensor, it is recommended to use sourceTensor.clone().detach() or sourceTensor.clone().detach().requires_grad_(True), rather than torch.tensor(sourceTensor).\n"
          ]
        },
        {
          "output_type": "stream",
          "name": "stdout",
          "text": [
            "Train_loss:  0.013633259724883828\n",
            "Valid_loss:  0.046290673136744384\n",
            "Validation accuracy 0.756152125279642\n",
            "Validation f1 0.6186768843842682\n",
            "Epoch:  447\n"
          ]
        },
        {
          "output_type": "stream",
          "name": "stderr",
          "text": [
            "/usr/local/lib/python3.7/dist-packages/ipykernel_launcher.py:33: UserWarning: To copy construct from a tensor, it is recommended to use sourceTensor.clone().detach() or sourceTensor.clone().detach().requires_grad_(True), rather than torch.tensor(sourceTensor).\n"
          ]
        },
        {
          "output_type": "stream",
          "name": "stdout",
          "text": [
            "Train_loss:  0.013601362333117453\n",
            "Valid_loss:  0.046297282758002566\n",
            "Validation accuracy 0.756152125279642\n",
            "Validation f1 0.6179873383542446\n",
            "Epoch:  448\n"
          ]
        },
        {
          "output_type": "stream",
          "name": "stderr",
          "text": [
            "/usr/local/lib/python3.7/dist-packages/ipykernel_launcher.py:33: UserWarning: To copy construct from a tensor, it is recommended to use sourceTensor.clone().detach() or sourceTensor.clone().detach().requires_grad_(True), rather than torch.tensor(sourceTensor).\n"
          ]
        },
        {
          "output_type": "stream",
          "name": "stdout",
          "text": [
            "Train_loss:  0.013569837772852875\n",
            "Valid_loss:  0.04630229854956269\n",
            "Validation accuracy 0.756152125279642\n",
            "Validation f1 0.6179873383542446\n",
            "Epoch:  449\n"
          ]
        },
        {
          "output_type": "stream",
          "name": "stderr",
          "text": [
            "/usr/local/lib/python3.7/dist-packages/ipykernel_launcher.py:33: UserWarning: To copy construct from a tensor, it is recommended to use sourceTensor.clone().detach() or sourceTensor.clone().detach().requires_grad_(True), rather than torch.tensor(sourceTensor).\n"
          ]
        },
        {
          "output_type": "stream",
          "name": "stdout",
          "text": [
            "Train_loss:  0.013538318671635352\n",
            "Valid_loss:  0.046309100256101896\n",
            "Validation accuracy 0.756152125279642\n",
            "Validation f1 0.6179873383542446\n",
            "Epoch:  450\n"
          ]
        },
        {
          "output_type": "stream",
          "name": "stderr",
          "text": [
            "/usr/local/lib/python3.7/dist-packages/ipykernel_launcher.py:33: UserWarning: To copy construct from a tensor, it is recommended to use sourceTensor.clone().detach() or sourceTensor.clone().detach().requires_grad_(True), rather than torch.tensor(sourceTensor).\n"
          ]
        },
        {
          "output_type": "stream",
          "name": "stdout",
          "text": [
            "Train_loss:  0.013507039719635421\n",
            "Valid_loss:  0.04631604948995768\n",
            "Validation accuracy 0.756152125279642\n",
            "Validation f1 0.6179873383542446\n",
            "Epoch:  451\n"
          ]
        },
        {
          "output_type": "stream",
          "name": "stderr",
          "text": [
            "/usr/local/lib/python3.7/dist-packages/ipykernel_launcher.py:33: UserWarning: To copy construct from a tensor, it is recommended to use sourceTensor.clone().detach() or sourceTensor.clone().detach().requires_grad_(True), rather than torch.tensor(sourceTensor).\n"
          ]
        },
        {
          "output_type": "stream",
          "name": "stdout",
          "text": [
            "Train_loss:  0.013475786370690912\n",
            "Valid_loss:  0.046322794730908105\n",
            "Validation accuracy 0.756152125279642\n",
            "Validation f1 0.6179873383542446\n",
            "Epoch:  452\n"
          ]
        },
        {
          "output_type": "stream",
          "name": "stderr",
          "text": [
            "/usr/local/lib/python3.7/dist-packages/ipykernel_launcher.py:33: UserWarning: To copy construct from a tensor, it is recommended to use sourceTensor.clone().detach() or sourceTensor.clone().detach().requires_grad_(True), rather than torch.tensor(sourceTensor).\n"
          ]
        },
        {
          "output_type": "stream",
          "name": "stdout",
          "text": [
            "Train_loss:  0.013444895741745963\n",
            "Valid_loss:  0.0463299510343599\n",
            "Validation accuracy 0.756152125279642\n",
            "Validation f1 0.6179873383542446\n",
            "Epoch:  453\n"
          ]
        },
        {
          "output_type": "stream",
          "name": "stderr",
          "text": [
            "/usr/local/lib/python3.7/dist-packages/ipykernel_launcher.py:33: UserWarning: To copy construct from a tensor, it is recommended to use sourceTensor.clone().detach() or sourceTensor.clone().detach().requires_grad_(True), rather than torch.tensor(sourceTensor).\n"
          ]
        },
        {
          "output_type": "stream",
          "name": "stdout",
          "text": [
            "Train_loss:  0.013413939433771052\n",
            "Valid_loss:  0.046336227657905384\n",
            "Validation accuracy 0.756152125279642\n",
            "Validation f1 0.6179873383542446\n",
            "Epoch:  454\n"
          ]
        },
        {
          "output_type": "stream",
          "name": "stderr",
          "text": [
            "/usr/local/lib/python3.7/dist-packages/ipykernel_launcher.py:33: UserWarning: To copy construct from a tensor, it is recommended to use sourceTensor.clone().detach() or sourceTensor.clone().detach().requires_grad_(True), rather than torch.tensor(sourceTensor).\n"
          ]
        },
        {
          "output_type": "stream",
          "name": "stdout",
          "text": [
            "Train_loss:  0.013383191060191686\n",
            "Valid_loss:  0.046343618866688176\n",
            "Validation accuracy 0.7539149888143176\n",
            "Validation f1 0.6176959630628692\n",
            "Epoch:  455\n"
          ]
        },
        {
          "output_type": "stream",
          "name": "stderr",
          "text": [
            "/usr/local/lib/python3.7/dist-packages/ipykernel_launcher.py:33: UserWarning: To copy construct from a tensor, it is recommended to use sourceTensor.clone().detach() or sourceTensor.clone().detach().requires_grad_(True), rather than torch.tensor(sourceTensor).\n"
          ]
        },
        {
          "output_type": "stream",
          "name": "stdout",
          "text": [
            "Train_loss:  0.013352529173841634\n",
            "Valid_loss:  0.04634975835714223\n",
            "Validation accuracy 0.7539149888143176\n",
            "Validation f1 0.6176959630628692\n",
            "Epoch:  456\n"
          ]
        },
        {
          "output_type": "stream",
          "name": "stderr",
          "text": [
            "/usr/local/lib/python3.7/dist-packages/ipykernel_launcher.py:33: UserWarning: To copy construct from a tensor, it is recommended to use sourceTensor.clone().detach() or sourceTensor.clone().detach().requires_grad_(True), rather than torch.tensor(sourceTensor).\n"
          ]
        },
        {
          "output_type": "stream",
          "name": "stdout",
          "text": [
            "Train_loss:  0.013322073753183108\n",
            "Valid_loss:  0.04635714134617176\n",
            "Validation accuracy 0.7539149888143176\n",
            "Validation f1 0.6176959630628692\n",
            "Epoch:  457\n"
          ]
        },
        {
          "output_type": "stream",
          "name": "stderr",
          "text": [
            "/usr/local/lib/python3.7/dist-packages/ipykernel_launcher.py:33: UserWarning: To copy construct from a tensor, it is recommended to use sourceTensor.clone().detach() or sourceTensor.clone().detach().requires_grad_(True), rather than torch.tensor(sourceTensor).\n"
          ]
        },
        {
          "output_type": "stream",
          "name": "stdout",
          "text": [
            "Train_loss:  0.01329193531481516\n",
            "Valid_loss:  0.04636408870906702\n",
            "Validation accuracy 0.7539149888143176\n",
            "Validation f1 0.6176959630628692\n",
            "Epoch:  458\n"
          ]
        },
        {
          "output_type": "stream",
          "name": "stderr",
          "text": [
            "/usr/local/lib/python3.7/dist-packages/ipykernel_launcher.py:33: UserWarning: To copy construct from a tensor, it is recommended to use sourceTensor.clone().detach() or sourceTensor.clone().detach().requires_grad_(True), rather than torch.tensor(sourceTensor).\n"
          ]
        },
        {
          "output_type": "stream",
          "name": "stdout",
          "text": [
            "Train_loss:  0.01326166612281148\n",
            "Valid_loss:  0.04637115810016569\n",
            "Validation accuracy 0.7539149888143176\n",
            "Validation f1 0.6176959630628692\n",
            "Epoch:  459\n"
          ]
        },
        {
          "output_type": "stream",
          "name": "stderr",
          "text": [
            "/usr/local/lib/python3.7/dist-packages/ipykernel_launcher.py:33: UserWarning: To copy construct from a tensor, it is recommended to use sourceTensor.clone().detach() or sourceTensor.clone().detach().requires_grad_(True), rather than torch.tensor(sourceTensor).\n"
          ]
        },
        {
          "output_type": "stream",
          "name": "stdout",
          "text": [
            "Train_loss:  0.013231683275080286\n",
            "Valid_loss:  0.04637837186289419\n",
            "Validation accuracy 0.7539149888143176\n",
            "Validation f1 0.6176959630628692\n",
            "Epoch:  460\n"
          ]
        },
        {
          "output_type": "stream",
          "name": "stderr",
          "text": [
            "/usr/local/lib/python3.7/dist-packages/ipykernel_launcher.py:33: UserWarning: To copy construct from a tensor, it is recommended to use sourceTensor.clone().detach() or sourceTensor.clone().detach().requires_grad_(True), rather than torch.tensor(sourceTensor).\n"
          ]
        },
        {
          "output_type": "stream",
          "name": "stdout",
          "text": [
            "Train_loss:  0.013201816002297815\n",
            "Valid_loss:  0.04638557964270668\n",
            "Validation accuracy 0.7539149888143176\n",
            "Validation f1 0.6176959630628692\n",
            "Epoch:  461\n"
          ]
        },
        {
          "output_type": "stream",
          "name": "stderr",
          "text": [
            "/usr/local/lib/python3.7/dist-packages/ipykernel_launcher.py:33: UserWarning: To copy construct from a tensor, it is recommended to use sourceTensor.clone().detach() or sourceTensor.clone().detach().requires_grad_(True), rather than torch.tensor(sourceTensor).\n"
          ]
        },
        {
          "output_type": "stream",
          "name": "stdout",
          "text": [
            "Train_loss:  0.013172157791164605\n",
            "Valid_loss:  0.046392871520116126\n",
            "Validation accuracy 0.7539149888143176\n",
            "Validation f1 0.6176959630628692\n",
            "Epoch:  462\n"
          ]
        },
        {
          "output_type": "stream",
          "name": "stderr",
          "text": [
            "/usr/local/lib/python3.7/dist-packages/ipykernel_launcher.py:33: UserWarning: To copy construct from a tensor, it is recommended to use sourceTensor.clone().detach() or sourceTensor.clone().detach().requires_grad_(True), rather than torch.tensor(sourceTensor).\n"
          ]
        },
        {
          "output_type": "stream",
          "name": "stdout",
          "text": [
            "Train_loss:  0.013142437298353928\n",
            "Valid_loss:  0.04640026393047135\n",
            "Validation accuracy 0.7539149888143176\n",
            "Validation f1 0.6176959630628692\n",
            "Epoch:  463\n"
          ]
        },
        {
          "output_type": "stream",
          "name": "stderr",
          "text": [
            "/usr/local/lib/python3.7/dist-packages/ipykernel_launcher.py:33: UserWarning: To copy construct from a tensor, it is recommended to use sourceTensor.clone().detach() or sourceTensor.clone().detach().requires_grad_(True), rather than torch.tensor(sourceTensor).\n"
          ]
        },
        {
          "output_type": "stream",
          "name": "stdout",
          "text": [
            "Train_loss:  0.013113109940085061\n",
            "Valid_loss:  0.04640656510933435\n",
            "Validation accuracy 0.7539149888143176\n",
            "Validation f1 0.6176959630628692\n",
            "Epoch:  464\n"
          ]
        },
        {
          "output_type": "stream",
          "name": "stderr",
          "text": [
            "/usr/local/lib/python3.7/dist-packages/ipykernel_launcher.py:33: UserWarning: To copy construct from a tensor, it is recommended to use sourceTensor.clone().detach() or sourceTensor.clone().detach().requires_grad_(True), rather than torch.tensor(sourceTensor).\n"
          ]
        },
        {
          "output_type": "stream",
          "name": "stdout",
          "text": [
            "Train_loss:  0.01308358277622444\n",
            "Valid_loss:  0.046414938634760414\n",
            "Validation accuracy 0.7539149888143176\n",
            "Validation f1 0.6176959630628692\n",
            "Epoch:  465\n"
          ]
        },
        {
          "output_type": "stream",
          "name": "stderr",
          "text": [
            "/usr/local/lib/python3.7/dist-packages/ipykernel_launcher.py:33: UserWarning: To copy construct from a tensor, it is recommended to use sourceTensor.clone().detach() or sourceTensor.clone().detach().requires_grad_(True), rather than torch.tensor(sourceTensor).\n"
          ]
        },
        {
          "output_type": "stream",
          "name": "stdout",
          "text": [
            "Train_loss:  0.013054636027456061\n",
            "Valid_loss:  0.046423692568038986\n",
            "Validation accuracy 0.7539149888143176\n",
            "Validation f1 0.6176959630628692\n",
            "Epoch:  466\n"
          ]
        },
        {
          "output_type": "stream",
          "name": "stderr",
          "text": [
            "/usr/local/lib/python3.7/dist-packages/ipykernel_launcher.py:33: UserWarning: To copy construct from a tensor, it is recommended to use sourceTensor.clone().detach() or sourceTensor.clone().detach().requires_grad_(True), rather than torch.tensor(sourceTensor).\n"
          ]
        },
        {
          "output_type": "stream",
          "name": "stdout",
          "text": [
            "Train_loss:  0.013025584897280038\n",
            "Valid_loss:  0.04643034539601233\n",
            "Validation accuracy 0.7516778523489933\n",
            "Validation f1 0.6173829259532058\n",
            "Epoch:  467\n"
          ]
        },
        {
          "output_type": "stream",
          "name": "stderr",
          "text": [
            "/usr/local/lib/python3.7/dist-packages/ipykernel_launcher.py:33: UserWarning: To copy construct from a tensor, it is recommended to use sourceTensor.clone().detach() or sourceTensor.clone().detach().requires_grad_(True), rather than torch.tensor(sourceTensor).\n"
          ]
        },
        {
          "output_type": "stream",
          "name": "stdout",
          "text": [
            "Train_loss:  0.012996734536240442\n",
            "Valid_loss:  0.04643743543004218\n",
            "Validation accuracy 0.7516778523489933\n",
            "Validation f1 0.6173829259532058\n",
            "Epoch:  468\n"
          ]
        },
        {
          "output_type": "stream",
          "name": "stderr",
          "text": [
            "/usr/local/lib/python3.7/dist-packages/ipykernel_launcher.py:33: UserWarning: To copy construct from a tensor, it is recommended to use sourceTensor.clone().detach() or sourceTensor.clone().detach().requires_grad_(True), rather than torch.tensor(sourceTensor).\n"
          ]
        },
        {
          "output_type": "stream",
          "name": "stdout",
          "text": [
            "Train_loss:  0.012967919555584169\n",
            "Valid_loss:  0.04644617720207732\n",
            "Validation accuracy 0.7516778523489933\n",
            "Validation f1 0.6173829259532058\n",
            "Epoch:  469\n"
          ]
        },
        {
          "output_type": "stream",
          "name": "stderr",
          "text": [
            "/usr/local/lib/python3.7/dist-packages/ipykernel_launcher.py:33: UserWarning: To copy construct from a tensor, it is recommended to use sourceTensor.clone().detach() or sourceTensor.clone().detach().requires_grad_(True), rather than torch.tensor(sourceTensor).\n"
          ]
        },
        {
          "output_type": "stream",
          "name": "stdout",
          "text": [
            "Train_loss:  0.012939296319278324\n",
            "Valid_loss:  0.04645366112734856\n",
            "Validation accuracy 0.7516778523489933\n",
            "Validation f1 0.6173829259532058\n",
            "Epoch:  470\n"
          ]
        },
        {
          "output_type": "stream",
          "name": "stderr",
          "text": [
            "/usr/local/lib/python3.7/dist-packages/ipykernel_launcher.py:33: UserWarning: To copy construct from a tensor, it is recommended to use sourceTensor.clone().detach() or sourceTensor.clone().detach().requires_grad_(True), rather than torch.tensor(sourceTensor).\n"
          ]
        },
        {
          "output_type": "stream",
          "name": "stdout",
          "text": [
            "Train_loss:  0.012910617346538597\n",
            "Valid_loss:  0.04646105619862543\n",
            "Validation accuracy 0.7516778523489933\n",
            "Validation f1 0.6173829259532058\n",
            "Epoch:  471\n"
          ]
        },
        {
          "output_type": "stream",
          "name": "stderr",
          "text": [
            "/usr/local/lib/python3.7/dist-packages/ipykernel_launcher.py:33: UserWarning: To copy construct from a tensor, it is recommended to use sourceTensor.clone().detach() or sourceTensor.clone().detach().requires_grad_(True), rather than torch.tensor(sourceTensor).\n"
          ]
        },
        {
          "output_type": "stream",
          "name": "stdout",
          "text": [
            "Train_loss:  0.01288238669959745\n",
            "Valid_loss:  0.046469609377839206\n",
            "Validation accuracy 0.7516778523489933\n",
            "Validation f1 0.6169971934099272\n",
            "Epoch:  472\n"
          ]
        },
        {
          "output_type": "stream",
          "name": "stderr",
          "text": [
            "/usr/local/lib/python3.7/dist-packages/ipykernel_launcher.py:33: UserWarning: To copy construct from a tensor, it is recommended to use sourceTensor.clone().detach() or sourceTensor.clone().detach().requires_grad_(True), rather than torch.tensor(sourceTensor).\n"
          ]
        },
        {
          "output_type": "stream",
          "name": "stdout",
          "text": [
            "Train_loss:  0.01285425862494906\n",
            "Valid_loss:  0.04647716019202822\n",
            "Validation accuracy 0.7516778523489933\n",
            "Validation f1 0.6169971934099272\n",
            "Epoch:  473\n"
          ]
        },
        {
          "output_type": "stream",
          "name": "stderr",
          "text": [
            "/usr/local/lib/python3.7/dist-packages/ipykernel_launcher.py:33: UserWarning: To copy construct from a tensor, it is recommended to use sourceTensor.clone().detach() or sourceTensor.clone().detach().requires_grad_(True), rather than torch.tensor(sourceTensor).\n"
          ]
        },
        {
          "output_type": "stream",
          "name": "stdout",
          "text": [
            "Train_loss:  0.012826135585263338\n",
            "Valid_loss:  0.046486302657285705\n",
            "Validation accuracy 0.7516778523489933\n",
            "Validation f1 0.6169971934099272\n",
            "Epoch:  474\n"
          ]
        },
        {
          "output_type": "stream",
          "name": "stderr",
          "text": [
            "/usr/local/lib/python3.7/dist-packages/ipykernel_launcher.py:33: UserWarning: To copy construct from a tensor, it is recommended to use sourceTensor.clone().detach() or sourceTensor.clone().detach().requires_grad_(True), rather than torch.tensor(sourceTensor).\n"
          ]
        },
        {
          "output_type": "stream",
          "name": "stdout",
          "text": [
            "Train_loss:  0.012798064592061564\n",
            "Valid_loss:  0.046493244415614754\n",
            "Validation accuracy 0.7516778523489933\n",
            "Validation f1 0.6169971934099272\n",
            "Epoch:  475\n"
          ]
        },
        {
          "output_type": "stream",
          "name": "stderr",
          "text": [
            "/usr/local/lib/python3.7/dist-packages/ipykernel_launcher.py:33: UserWarning: To copy construct from a tensor, it is recommended to use sourceTensor.clone().detach() or sourceTensor.clone().detach().requires_grad_(True), rather than torch.tensor(sourceTensor).\n"
          ]
        },
        {
          "output_type": "stream",
          "name": "stdout",
          "text": [
            "Train_loss:  0.012770079990462233\n",
            "Valid_loss:  0.04650280869931781\n",
            "Validation accuracy 0.7516778523489933\n",
            "Validation f1 0.6169971934099272\n",
            "Epoch:  476\n"
          ]
        },
        {
          "output_type": "stream",
          "name": "stderr",
          "text": [
            "/usr/local/lib/python3.7/dist-packages/ipykernel_launcher.py:33: UserWarning: To copy construct from a tensor, it is recommended to use sourceTensor.clone().detach() or sourceTensor.clone().detach().requires_grad_(True), rather than torch.tensor(sourceTensor).\n"
          ]
        },
        {
          "output_type": "stream",
          "name": "stdout",
          "text": [
            "Train_loss:  0.0127425950210766\n",
            "Valid_loss:  0.046510795231110284\n",
            "Validation accuracy 0.7516778523489933\n",
            "Validation f1 0.6169971934099272\n",
            "Epoch:  477\n"
          ]
        },
        {
          "output_type": "stream",
          "name": "stderr",
          "text": [
            "/usr/local/lib/python3.7/dist-packages/ipykernel_launcher.py:33: UserWarning: To copy construct from a tensor, it is recommended to use sourceTensor.clone().detach() or sourceTensor.clone().detach().requires_grad_(True), rather than torch.tensor(sourceTensor).\n"
          ]
        },
        {
          "output_type": "stream",
          "name": "stdout",
          "text": [
            "Train_loss:  0.01271473288371843\n",
            "Valid_loss:  0.04651974440951433\n",
            "Validation accuracy 0.7516778523489933\n",
            "Validation f1 0.6169971934099272\n",
            "Epoch:  478\n"
          ]
        },
        {
          "output_type": "stream",
          "name": "stderr",
          "text": [
            "/usr/local/lib/python3.7/dist-packages/ipykernel_launcher.py:33: UserWarning: To copy construct from a tensor, it is recommended to use sourceTensor.clone().detach() or sourceTensor.clone().detach().requires_grad_(True), rather than torch.tensor(sourceTensor).\n"
          ]
        },
        {
          "output_type": "stream",
          "name": "stdout",
          "text": [
            "Train_loss:  0.012687236697924422\n",
            "Valid_loss:  0.04652793347070526\n",
            "Validation accuracy 0.7516778523489933\n",
            "Validation f1 0.6169971934099272\n",
            "Epoch:  479\n"
          ]
        },
        {
          "output_type": "stream",
          "name": "stderr",
          "text": [
            "/usr/local/lib/python3.7/dist-packages/ipykernel_launcher.py:33: UserWarning: To copy construct from a tensor, it is recommended to use sourceTensor.clone().detach() or sourceTensor.clone().detach().requires_grad_(True), rather than torch.tensor(sourceTensor).\n"
          ]
        },
        {
          "output_type": "stream",
          "name": "stdout",
          "text": [
            "Train_loss:  0.012659965405224025\n",
            "Valid_loss:  0.04653601204128271\n",
            "Validation accuracy 0.7516778523489933\n",
            "Validation f1 0.6169971934099272\n",
            "Epoch:  480\n"
          ]
        },
        {
          "output_type": "stream",
          "name": "stderr",
          "text": [
            "/usr/local/lib/python3.7/dist-packages/ipykernel_launcher.py:33: UserWarning: To copy construct from a tensor, it is recommended to use sourceTensor.clone().detach() or sourceTensor.clone().detach().requires_grad_(True), rather than torch.tensor(sourceTensor).\n"
          ]
        },
        {
          "output_type": "stream",
          "name": "stdout",
          "text": [
            "Train_loss:  0.012632703779153027\n",
            "Valid_loss:  0.04654423751136554\n",
            "Validation accuracy 0.7516778523489933\n",
            "Validation f1 0.6169971934099272\n",
            "Epoch:  481\n"
          ]
        },
        {
          "output_type": "stream",
          "name": "stderr",
          "text": [
            "/usr/local/lib/python3.7/dist-packages/ipykernel_launcher.py:33: UserWarning: To copy construct from a tensor, it is recommended to use sourceTensor.clone().detach() or sourceTensor.clone().detach().requires_grad_(True), rather than torch.tensor(sourceTensor).\n"
          ]
        },
        {
          "output_type": "stream",
          "name": "stdout",
          "text": [
            "Train_loss:  0.0126054965548974\n",
            "Valid_loss:  0.046552839111037816\n",
            "Validation accuracy 0.7516778523489933\n",
            "Validation f1 0.6169971934099272\n",
            "Epoch:  482\n"
          ]
        },
        {
          "output_type": "stream",
          "name": "stderr",
          "text": [
            "/usr/local/lib/python3.7/dist-packages/ipykernel_launcher.py:33: UserWarning: To copy construct from a tensor, it is recommended to use sourceTensor.clone().detach() or sourceTensor.clone().detach().requires_grad_(True), rather than torch.tensor(sourceTensor).\n"
          ]
        },
        {
          "output_type": "stream",
          "name": "stdout",
          "text": [
            "Train_loss:  0.012578503953721207\n",
            "Valid_loss:  0.04656152200602394\n",
            "Validation accuracy 0.7516778523489933\n",
            "Validation f1 0.6169971934099272\n",
            "Epoch:  483\n"
          ]
        },
        {
          "output_type": "stream",
          "name": "stderr",
          "text": [
            "/usr/local/lib/python3.7/dist-packages/ipykernel_launcher.py:33: UserWarning: To copy construct from a tensor, it is recommended to use sourceTensor.clone().detach() or sourceTensor.clone().detach().requires_grad_(True), rather than torch.tensor(sourceTensor).\n"
          ]
        },
        {
          "output_type": "stream",
          "name": "stdout",
          "text": [
            "Train_loss:  0.012551572175912693\n",
            "Valid_loss:  0.04657068514331643\n",
            "Validation accuracy 0.7516778523489933\n",
            "Validation f1 0.6169971934099272\n",
            "Epoch:  484\n"
          ]
        },
        {
          "output_type": "stream",
          "name": "stderr",
          "text": [
            "/usr/local/lib/python3.7/dist-packages/ipykernel_launcher.py:33: UserWarning: To copy construct from a tensor, it is recommended to use sourceTensor.clone().detach() or sourceTensor.clone().detach().requires_grad_(True), rather than torch.tensor(sourceTensor).\n"
          ]
        },
        {
          "output_type": "stream",
          "name": "stdout",
          "text": [
            "Train_loss:  0.01252478711155293\n",
            "Valid_loss:  0.04657803353620693\n",
            "Validation accuracy 0.7539149888143176\n",
            "Validation f1 0.6173102305195906\n",
            "Epoch:  485\n"
          ]
        },
        {
          "output_type": "stream",
          "name": "stderr",
          "text": [
            "/usr/local/lib/python3.7/dist-packages/ipykernel_launcher.py:33: UserWarning: To copy construct from a tensor, it is recommended to use sourceTensor.clone().detach() or sourceTensor.clone().detach().requires_grad_(True), rather than torch.tensor(sourceTensor).\n"
          ]
        },
        {
          "output_type": "stream",
          "name": "stdout",
          "text": [
            "Train_loss:  0.012498069810784987\n",
            "Valid_loss:  0.04658889875697371\n",
            "Validation accuracy 0.7539149888143176\n",
            "Validation f1 0.6173102305195906\n",
            "Epoch:  486\n"
          ]
        },
        {
          "output_type": "stream",
          "name": "stderr",
          "text": [
            "/usr/local/lib/python3.7/dist-packages/ipykernel_launcher.py:33: UserWarning: To copy construct from a tensor, it is recommended to use sourceTensor.clone().detach() or sourceTensor.clone().detach().requires_grad_(True), rather than torch.tensor(sourceTensor).\n"
          ]
        },
        {
          "output_type": "stream",
          "name": "stdout",
          "text": [
            "Train_loss:  0.0124716018487691\n",
            "Valid_loss:  0.046596299761274294\n",
            "Validation accuracy 0.7539149888143176\n",
            "Validation f1 0.6173102305195906\n",
            "Epoch:  487\n"
          ]
        },
        {
          "output_type": "stream",
          "name": "stderr",
          "text": [
            "/usr/local/lib/python3.7/dist-packages/ipykernel_launcher.py:33: UserWarning: To copy construct from a tensor, it is recommended to use sourceTensor.clone().detach() or sourceTensor.clone().detach().requires_grad_(True), rather than torch.tensor(sourceTensor).\n"
          ]
        },
        {
          "output_type": "stream",
          "name": "stdout",
          "text": [
            "Train_loss:  0.012445034931131107\n",
            "Valid_loss:  0.046606395697121376\n",
            "Validation accuracy 0.756152125279642\n",
            "Validation f1 0.6185064027683944\n",
            "Epoch:  488\n"
          ]
        },
        {
          "output_type": "stream",
          "name": "stderr",
          "text": [
            "/usr/local/lib/python3.7/dist-packages/ipykernel_launcher.py:33: UserWarning: To copy construct from a tensor, it is recommended to use sourceTensor.clone().detach() or sourceTensor.clone().detach().requires_grad_(True), rather than torch.tensor(sourceTensor).\n"
          ]
        },
        {
          "output_type": "stream",
          "name": "stdout",
          "text": [
            "Train_loss:  0.012418604443934913\n",
            "Valid_loss:  0.04661424961938922\n",
            "Validation accuracy 0.756152125279642\n",
            "Validation f1 0.6185064027683944\n",
            "Epoch:  489\n"
          ]
        },
        {
          "output_type": "stream",
          "name": "stderr",
          "text": [
            "/usr/local/lib/python3.7/dist-packages/ipykernel_launcher.py:33: UserWarning: To copy construct from a tensor, it is recommended to use sourceTensor.clone().detach() or sourceTensor.clone().detach().requires_grad_(True), rather than torch.tensor(sourceTensor).\n"
          ]
        },
        {
          "output_type": "stream",
          "name": "stdout",
          "text": [
            "Train_loss:  0.01239258798107455\n",
            "Valid_loss:  0.04662332946983432\n",
            "Validation accuracy 0.756152125279642\n",
            "Validation f1 0.6185064027683944\n",
            "Epoch:  490\n"
          ]
        },
        {
          "output_type": "stream",
          "name": "stderr",
          "text": [
            "/usr/local/lib/python3.7/dist-packages/ipykernel_launcher.py:33: UserWarning: To copy construct from a tensor, it is recommended to use sourceTensor.clone().detach() or sourceTensor.clone().detach().requires_grad_(True), rather than torch.tensor(sourceTensor).\n"
          ]
        },
        {
          "output_type": "stream",
          "name": "stdout",
          "text": [
            "Train_loss:  0.012366328511104387\n",
            "Valid_loss:  0.04663253652480697\n",
            "Validation accuracy 0.756152125279642\n",
            "Validation f1 0.6185064027683944\n",
            "Epoch:  491\n"
          ]
        },
        {
          "output_type": "stream",
          "name": "stderr",
          "text": [
            "/usr/local/lib/python3.7/dist-packages/ipykernel_launcher.py:33: UserWarning: To copy construct from a tensor, it is recommended to use sourceTensor.clone().detach() or sourceTensor.clone().detach().requires_grad_(True), rather than torch.tensor(sourceTensor).\n"
          ]
        },
        {
          "output_type": "stream",
          "name": "stdout",
          "text": [
            "Train_loss:  0.012340294882700878\n",
            "Valid_loss:  0.04664134481156777\n",
            "Validation accuracy 0.756152125279642\n",
            "Validation f1 0.6185064027683944\n",
            "Epoch:  492\n"
          ]
        },
        {
          "output_type": "stream",
          "name": "stderr",
          "text": [
            "/usr/local/lib/python3.7/dist-packages/ipykernel_launcher.py:33: UserWarning: To copy construct from a tensor, it is recommended to use sourceTensor.clone().detach() or sourceTensor.clone().detach().requires_grad_(True), rather than torch.tensor(sourceTensor).\n"
          ]
        },
        {
          "output_type": "stream",
          "name": "stdout",
          "text": [
            "Train_loss:  0.012314498839259613\n",
            "Valid_loss:  0.04665104123913417\n",
            "Validation accuracy 0.7583892617449665\n",
            "Validation f1 0.6187977780597697\n",
            "Epoch:  493\n"
          ]
        },
        {
          "output_type": "stream",
          "name": "stderr",
          "text": [
            "/usr/local/lib/python3.7/dist-packages/ipykernel_launcher.py:33: UserWarning: To copy construct from a tensor, it is recommended to use sourceTensor.clone().detach() or sourceTensor.clone().detach().requires_grad_(True), rather than torch.tensor(sourceTensor).\n"
          ]
        },
        {
          "output_type": "stream",
          "name": "stdout",
          "text": [
            "Train_loss:  0.012288767821051547\n",
            "Valid_loss:  0.04666064161574468\n",
            "Validation accuracy 0.7583892617449665\n",
            "Validation f1 0.6187977780597697\n",
            "Epoch:  494\n"
          ]
        },
        {
          "output_type": "stream",
          "name": "stderr",
          "text": [
            "/usr/local/lib/python3.7/dist-packages/ipykernel_launcher.py:33: UserWarning: To copy construct from a tensor, it is recommended to use sourceTensor.clone().detach() or sourceTensor.clone().detach().requires_grad_(True), rather than torch.tensor(sourceTensor).\n"
          ]
        },
        {
          "output_type": "stream",
          "name": "stdout",
          "text": [
            "Train_loss:  0.012262920527843692\n",
            "Valid_loss:  0.04666876035792354\n",
            "Validation accuracy 0.7583892617449665\n",
            "Validation f1 0.6187977780597697\n",
            "Epoch:  495\n"
          ]
        },
        {
          "output_type": "stream",
          "name": "stderr",
          "text": [
            "/usr/local/lib/python3.7/dist-packages/ipykernel_launcher.py:33: UserWarning: To copy construct from a tensor, it is recommended to use sourceTensor.clone().detach() or sourceTensor.clone().detach().requires_grad_(True), rather than torch.tensor(sourceTensor).\n"
          ]
        },
        {
          "output_type": "stream",
          "name": "stdout",
          "text": [
            "Train_loss:  0.012237410020004193\n",
            "Valid_loss:  0.04667921765524495\n",
            "Validation accuracy 0.7583892617449665\n",
            "Validation f1 0.6187977780597697\n",
            "Epoch:  496\n"
          ]
        },
        {
          "output_type": "stream",
          "name": "stderr",
          "text": [
            "/usr/local/lib/python3.7/dist-packages/ipykernel_launcher.py:33: UserWarning: To copy construct from a tensor, it is recommended to use sourceTensor.clone().detach() or sourceTensor.clone().detach().requires_grad_(True), rather than torch.tensor(sourceTensor).\n"
          ]
        },
        {
          "output_type": "stream",
          "name": "stdout",
          "text": [
            "Train_loss:  0.012211974905117782\n",
            "Valid_loss:  0.0466869742750922\n",
            "Validation accuracy 0.7583892617449665\n",
            "Validation f1 0.6187977780597697\n",
            "Epoch:  497\n"
          ]
        },
        {
          "output_type": "stream",
          "name": "stderr",
          "text": [
            "/usr/local/lib/python3.7/dist-packages/ipykernel_launcher.py:33: UserWarning: To copy construct from a tensor, it is recommended to use sourceTensor.clone().detach() or sourceTensor.clone().detach().requires_grad_(True), rather than torch.tensor(sourceTensor).\n"
          ]
        },
        {
          "output_type": "stream",
          "name": "stdout",
          "text": [
            "Train_loss:  0.012186618991108844\n",
            "Valid_loss:  0.04669779263453425\n",
            "Validation accuracy 0.7583892617449665\n",
            "Validation f1 0.6187977780597697\n",
            "Epoch:  498\n"
          ]
        },
        {
          "output_type": "stream",
          "name": "stderr",
          "text": [
            "/usr/local/lib/python3.7/dist-packages/ipykernel_launcher.py:33: UserWarning: To copy construct from a tensor, it is recommended to use sourceTensor.clone().detach() or sourceTensor.clone().detach().requires_grad_(True), rather than torch.tensor(sourceTensor).\n"
          ]
        },
        {
          "output_type": "stream",
          "name": "stdout",
          "text": [
            "Train_loss:  0.012161155271314783\n",
            "Valid_loss:  0.046707149337245416\n",
            "Validation accuracy 0.7583892617449665\n",
            "Validation f1 0.6187977780597697\n",
            "Epoch:  499\n"
          ]
        },
        {
          "output_type": "stream",
          "name": "stderr",
          "text": [
            "/usr/local/lib/python3.7/dist-packages/ipykernel_launcher.py:33: UserWarning: To copy construct from a tensor, it is recommended to use sourceTensor.clone().detach() or sourceTensor.clone().detach().requires_grad_(True), rather than torch.tensor(sourceTensor).\n"
          ]
        },
        {
          "output_type": "stream",
          "name": "stdout",
          "text": [
            "Train_loss:  0.01213617287638564\n",
            "Valid_loss:  0.04671488526426921\n",
            "Validation accuracy 0.7583892617449665\n",
            "Validation f1 0.6187977780597697\n",
            "Epoch:  500\n"
          ]
        },
        {
          "output_type": "stream",
          "name": "stderr",
          "text": [
            "/usr/local/lib/python3.7/dist-packages/ipykernel_launcher.py:33: UserWarning: To copy construct from a tensor, it is recommended to use sourceTensor.clone().detach() or sourceTensor.clone().detach().requires_grad_(True), rather than torch.tensor(sourceTensor).\n"
          ]
        },
        {
          "output_type": "stream",
          "name": "stdout",
          "text": [
            "Train_loss:  0.012111024482562373\n",
            "Valid_loss:  0.046725530235562474\n",
            "Validation accuracy 0.7583892617449665\n",
            "Validation f1 0.6187977780597697\n",
            "Epoch:  501\n"
          ]
        },
        {
          "output_type": "stream",
          "name": "stderr",
          "text": [
            "/usr/local/lib/python3.7/dist-packages/ipykernel_launcher.py:33: UserWarning: To copy construct from a tensor, it is recommended to use sourceTensor.clone().detach() or sourceTensor.clone().detach().requires_grad_(True), rather than torch.tensor(sourceTensor).\n"
          ]
        },
        {
          "output_type": "stream",
          "name": "stdout",
          "text": [
            "Train_loss:  0.012085897199410413\n",
            "Valid_loss:  0.04673475822034691\n",
            "Validation accuracy 0.7583892617449665\n",
            "Validation f1 0.6187977780597697\n",
            "Epoch:  502\n"
          ]
        },
        {
          "output_type": "stream",
          "name": "stderr",
          "text": [
            "/usr/local/lib/python3.7/dist-packages/ipykernel_launcher.py:33: UserWarning: To copy construct from a tensor, it is recommended to use sourceTensor.clone().detach() or sourceTensor.clone().detach().requires_grad_(True), rather than torch.tensor(sourceTensor).\n"
          ]
        },
        {
          "output_type": "stream",
          "name": "stdout",
          "text": [
            "Train_loss:  0.012061078724010648\n",
            "Valid_loss:  0.04674539078509302\n",
            "Validation accuracy 0.7583892617449665\n",
            "Validation f1 0.6187977780597697\n",
            "Epoch:  503\n"
          ]
        },
        {
          "output_type": "stream",
          "name": "stderr",
          "text": [
            "/usr/local/lib/python3.7/dist-packages/ipykernel_launcher.py:33: UserWarning: To copy construct from a tensor, it is recommended to use sourceTensor.clone().detach() or sourceTensor.clone().detach().requires_grad_(True), rather than torch.tensor(sourceTensor).\n"
          ]
        },
        {
          "output_type": "stream",
          "name": "stdout",
          "text": [
            "Train_loss:  0.012036331433981624\n",
            "Valid_loss:  0.04675407220825686\n",
            "Validation accuracy 0.7583892617449665\n",
            "Validation f1 0.6187977780597697\n",
            "Epoch:  504\n"
          ]
        },
        {
          "output_type": "stream",
          "name": "stderr",
          "text": [
            "/usr/local/lib/python3.7/dist-packages/ipykernel_launcher.py:33: UserWarning: To copy construct from a tensor, it is recommended to use sourceTensor.clone().detach() or sourceTensor.clone().detach().requires_grad_(True), rather than torch.tensor(sourceTensor).\n"
          ]
        },
        {
          "output_type": "stream",
          "name": "stdout",
          "text": [
            "Train_loss:  0.012011523984775912\n",
            "Valid_loss:  0.046763255003107976\n",
            "Validation accuracy 0.7583892617449665\n",
            "Validation f1 0.6187977780597697\n",
            "Epoch:  505\n"
          ]
        },
        {
          "output_type": "stream",
          "name": "stderr",
          "text": [
            "/usr/local/lib/python3.7/dist-packages/ipykernel_launcher.py:33: UserWarning: To copy construct from a tensor, it is recommended to use sourceTensor.clone().detach() or sourceTensor.clone().detach().requires_grad_(True), rather than torch.tensor(sourceTensor).\n"
          ]
        },
        {
          "output_type": "stream",
          "name": "stdout",
          "text": [
            "Train_loss:  0.011987037432845682\n",
            "Valid_loss:  0.04677305409651516\n",
            "Validation accuracy 0.7583892617449665\n",
            "Validation f1 0.6187977780597697\n",
            "Epoch:  506\n"
          ]
        },
        {
          "output_type": "stream",
          "name": "stderr",
          "text": [
            "/usr/local/lib/python3.7/dist-packages/ipykernel_launcher.py:33: UserWarning: To copy construct from a tensor, it is recommended to use sourceTensor.clone().detach() or sourceTensor.clone().detach().requires_grad_(True), rather than torch.tensor(sourceTensor).\n"
          ]
        },
        {
          "output_type": "stream",
          "name": "stdout",
          "text": [
            "Train_loss:  0.011962343135694806\n",
            "Valid_loss:  0.04678218612597058\n",
            "Validation accuracy 0.7583892617449665\n",
            "Validation f1 0.6187977780597697\n",
            "Epoch:  507\n"
          ]
        },
        {
          "output_type": "stream",
          "name": "stderr",
          "text": [
            "/usr/local/lib/python3.7/dist-packages/ipykernel_launcher.py:33: UserWarning: To copy construct from a tensor, it is recommended to use sourceTensor.clone().detach() or sourceTensor.clone().detach().requires_grad_(True), rather than torch.tensor(sourceTensor).\n"
          ]
        },
        {
          "output_type": "stream",
          "name": "stdout",
          "text": [
            "Train_loss:  0.011938141057596243\n",
            "Valid_loss:  0.04679245621498142\n",
            "Validation accuracy 0.7583892617449665\n",
            "Validation f1 0.6187977780597697\n",
            "Epoch:  508\n"
          ]
        },
        {
          "output_type": "stream",
          "name": "stderr",
          "text": [
            "/usr/local/lib/python3.7/dist-packages/ipykernel_launcher.py:33: UserWarning: To copy construct from a tensor, it is recommended to use sourceTensor.clone().detach() or sourceTensor.clone().detach().requires_grad_(True), rather than torch.tensor(sourceTensor).\n"
          ]
        },
        {
          "output_type": "stream",
          "name": "stdout",
          "text": [
            "Train_loss:  0.011913657959147323\n",
            "Valid_loss:  0.04680239712303903\n",
            "Validation accuracy 0.7583892617449665\n",
            "Validation f1 0.6187977780597697\n",
            "Epoch:  509\n"
          ]
        },
        {
          "output_type": "stream",
          "name": "stderr",
          "text": [
            "/usr/local/lib/python3.7/dist-packages/ipykernel_launcher.py:33: UserWarning: To copy construct from a tensor, it is recommended to use sourceTensor.clone().detach() or sourceTensor.clone().detach().requires_grad_(True), rather than torch.tensor(sourceTensor).\n"
          ]
        },
        {
          "output_type": "stream",
          "name": "stdout",
          "text": [
            "Train_loss:  0.011889710497468644\n",
            "Valid_loss:  0.04681119050448095\n",
            "Validation accuracy 0.7583892617449665\n",
            "Validation f1 0.6187977780597697\n",
            "Epoch:  510\n"
          ]
        },
        {
          "output_type": "stream",
          "name": "stderr",
          "text": [
            "/usr/local/lib/python3.7/dist-packages/ipykernel_launcher.py:33: UserWarning: To copy construct from a tensor, it is recommended to use sourceTensor.clone().detach() or sourceTensor.clone().detach().requires_grad_(True), rather than torch.tensor(sourceTensor).\n"
          ]
        },
        {
          "output_type": "stream",
          "name": "stdout",
          "text": [
            "Train_loss:  0.011865201268977086\n",
            "Valid_loss:  0.046821980055288544\n",
            "Validation accuracy 0.7583892617449665\n",
            "Validation f1 0.6187977780597697\n",
            "Epoch:  511\n"
          ]
        },
        {
          "output_type": "stream",
          "name": "stderr",
          "text": [
            "/usr/local/lib/python3.7/dist-packages/ipykernel_launcher.py:33: UserWarning: To copy construct from a tensor, it is recommended to use sourceTensor.clone().detach() or sourceTensor.clone().detach().requires_grad_(True), rather than torch.tensor(sourceTensor).\n"
          ]
        },
        {
          "output_type": "stream",
          "name": "stdout",
          "text": [
            "Train_loss:  0.011841500895700716\n",
            "Valid_loss:  0.046831577188900804\n",
            "Validation accuracy 0.7583892617449665\n",
            "Validation f1 0.6187977780597697\n",
            "Epoch:  512\n"
          ]
        },
        {
          "output_type": "stream",
          "name": "stderr",
          "text": [
            "/usr/local/lib/python3.7/dist-packages/ipykernel_launcher.py:33: UserWarning: To copy construct from a tensor, it is recommended to use sourceTensor.clone().detach() or sourceTensor.clone().detach().requires_grad_(True), rather than torch.tensor(sourceTensor).\n"
          ]
        },
        {
          "output_type": "stream",
          "name": "stdout",
          "text": [
            "Train_loss:  0.011817502144237681\n",
            "Valid_loss:  0.046841922927082384\n",
            "Validation accuracy 0.7583892617449665\n",
            "Validation f1 0.6194169202206063\n",
            "Epoch:  513\n"
          ]
        },
        {
          "output_type": "stream",
          "name": "stderr",
          "text": [
            "/usr/local/lib/python3.7/dist-packages/ipykernel_launcher.py:33: UserWarning: To copy construct from a tensor, it is recommended to use sourceTensor.clone().detach() or sourceTensor.clone().detach().requires_grad_(True), rather than torch.tensor(sourceTensor).\n"
          ]
        },
        {
          "output_type": "stream",
          "name": "stdout",
          "text": [
            "Train_loss:  0.011793675709278821\n",
            "Valid_loss:  0.04685132791304828\n",
            "Validation accuracy 0.7583892617449665\n",
            "Validation f1 0.6194169202206063\n",
            "Epoch:  514\n"
          ]
        },
        {
          "output_type": "stream",
          "name": "stderr",
          "text": [
            "/usr/local/lib/python3.7/dist-packages/ipykernel_launcher.py:33: UserWarning: To copy construct from a tensor, it is recommended to use sourceTensor.clone().detach() or sourceTensor.clone().detach().requires_grad_(True), rather than torch.tensor(sourceTensor).\n"
          ]
        },
        {
          "output_type": "stream",
          "name": "stdout",
          "text": [
            "Train_loss:  0.011770020927672573\n",
            "Valid_loss:  0.04686115708318539\n",
            "Validation accuracy 0.7583892617449665\n",
            "Validation f1 0.6194169202206063\n",
            "Epoch:  515\n"
          ]
        },
        {
          "output_type": "stream",
          "name": "stderr",
          "text": [
            "/usr/local/lib/python3.7/dist-packages/ipykernel_launcher.py:33: UserWarning: To copy construct from a tensor, it is recommended to use sourceTensor.clone().detach() or sourceTensor.clone().detach().requires_grad_(True), rather than torch.tensor(sourceTensor).\n"
          ]
        },
        {
          "output_type": "stream",
          "name": "stdout",
          "text": [
            "Train_loss:  0.011746172747994674\n",
            "Valid_loss:  0.04687131179213923\n",
            "Validation accuracy 0.7583892617449665\n",
            "Validation f1 0.6194169202206063\n",
            "Epoch:  516\n"
          ]
        },
        {
          "output_type": "stream",
          "name": "stderr",
          "text": [
            "/usr/local/lib/python3.7/dist-packages/ipykernel_launcher.py:33: UserWarning: To copy construct from a tensor, it is recommended to use sourceTensor.clone().detach() or sourceTensor.clone().detach().requires_grad_(True), rather than torch.tensor(sourceTensor).\n"
          ]
        },
        {
          "output_type": "stream",
          "name": "stdout",
          "text": [
            "Train_loss:  0.01172261763505438\n",
            "Valid_loss:  0.046881624996396046\n",
            "Validation accuracy 0.7583892617449665\n",
            "Validation f1 0.6194169202206063\n",
            "Epoch:  517\n"
          ]
        },
        {
          "output_type": "stream",
          "name": "stderr",
          "text": [
            "/usr/local/lib/python3.7/dist-packages/ipykernel_launcher.py:33: UserWarning: To copy construct from a tensor, it is recommended to use sourceTensor.clone().detach() or sourceTensor.clone().detach().requires_grad_(True), rather than torch.tensor(sourceTensor).\n"
          ]
        },
        {
          "output_type": "stream",
          "name": "stdout",
          "text": [
            "Train_loss:  0.011699159377063293\n",
            "Valid_loss:  0.0468912752819181\n",
            "Validation accuracy 0.7583892617449665\n",
            "Validation f1 0.6194169202206063\n",
            "Epoch:  518\n"
          ]
        },
        {
          "output_type": "stream",
          "name": "stderr",
          "text": [
            "/usr/local/lib/python3.7/dist-packages/ipykernel_launcher.py:33: UserWarning: To copy construct from a tensor, it is recommended to use sourceTensor.clone().detach() or sourceTensor.clone().detach().requires_grad_(True), rather than torch.tensor(sourceTensor).\n"
          ]
        },
        {
          "output_type": "stream",
          "name": "stdout",
          "text": [
            "Train_loss:  0.011675808386436464\n",
            "Valid_loss:  0.04690188528288023\n",
            "Validation accuracy 0.7583892617449665\n",
            "Validation f1 0.6194169202206063\n",
            "Epoch:  519\n"
          ]
        },
        {
          "output_type": "stream",
          "name": "stderr",
          "text": [
            "/usr/local/lib/python3.7/dist-packages/ipykernel_launcher.py:33: UserWarning: To copy construct from a tensor, it is recommended to use sourceTensor.clone().detach() or sourceTensor.clone().detach().requires_grad_(True), rather than torch.tensor(sourceTensor).\n"
          ]
        },
        {
          "output_type": "stream",
          "name": "stdout",
          "text": [
            "Train_loss:  0.01165262937658034\n",
            "Valid_loss:  0.046913307979204025\n",
            "Validation accuracy 0.7583892617449665\n",
            "Validation f1 0.6194169202206063\n",
            "Epoch:  520\n"
          ]
        },
        {
          "output_type": "stream",
          "name": "stderr",
          "text": [
            "/usr/local/lib/python3.7/dist-packages/ipykernel_launcher.py:33: UserWarning: To copy construct from a tensor, it is recommended to use sourceTensor.clone().detach() or sourceTensor.clone().detach().requires_grad_(True), rather than torch.tensor(sourceTensor).\n"
          ]
        },
        {
          "output_type": "stream",
          "name": "stdout",
          "text": [
            "Train_loss:  0.011629417077139286\n",
            "Valid_loss:  0.046922272886149585\n",
            "Validation accuracy 0.7606263982102909\n",
            "Validation f1 0.6197347003167798\n",
            "Epoch:  521\n"
          ]
        },
        {
          "output_type": "stream",
          "name": "stderr",
          "text": [
            "/usr/local/lib/python3.7/dist-packages/ipykernel_launcher.py:33: UserWarning: To copy construct from a tensor, it is recommended to use sourceTensor.clone().detach() or sourceTensor.clone().detach().requires_grad_(True), rather than torch.tensor(sourceTensor).\n"
          ]
        },
        {
          "output_type": "stream",
          "name": "stdout",
          "text": [
            "Train_loss:  0.011606198706431314\n",
            "Valid_loss:  0.046932932251365855\n",
            "Validation accuracy 0.7583892617449665\n",
            "Validation f1 0.6193390591520123\n",
            "Epoch:  522\n"
          ]
        },
        {
          "output_type": "stream",
          "name": "stderr",
          "text": [
            "/usr/local/lib/python3.7/dist-packages/ipykernel_launcher.py:33: UserWarning: To copy construct from a tensor, it is recommended to use sourceTensor.clone().detach() or sourceTensor.clone().detach().requires_grad_(True), rather than torch.tensor(sourceTensor).\n"
          ]
        },
        {
          "output_type": "stream",
          "name": "stdout",
          "text": [
            "Train_loss:  0.011583184914343292\n",
            "Valid_loss:  0.046944007073761895\n",
            "Validation accuracy 0.7583892617449665\n",
            "Validation f1 0.6193390591520123\n",
            "Epoch:  523\n"
          ]
        },
        {
          "output_type": "stream",
          "name": "stderr",
          "text": [
            "/usr/local/lib/python3.7/dist-packages/ipykernel_launcher.py:33: UserWarning: To copy construct from a tensor, it is recommended to use sourceTensor.clone().detach() or sourceTensor.clone().detach().requires_grad_(True), rather than torch.tensor(sourceTensor).\n"
          ]
        },
        {
          "output_type": "stream",
          "name": "stdout",
          "text": [
            "Train_loss:  0.01156025034548033\n",
            "Valid_loss:  0.046952572339380695\n",
            "Validation accuracy 0.7583892617449665\n",
            "Validation f1 0.6193390591520123\n",
            "Epoch:  524\n"
          ]
        },
        {
          "output_type": "stream",
          "name": "stderr",
          "text": [
            "/usr/local/lib/python3.7/dist-packages/ipykernel_launcher.py:33: UserWarning: To copy construct from a tensor, it is recommended to use sourceTensor.clone().detach() or sourceTensor.clone().detach().requires_grad_(True), rather than torch.tensor(sourceTensor).\n"
          ]
        },
        {
          "output_type": "stream",
          "name": "stdout",
          "text": [
            "Train_loss:  0.011537473128035864\n",
            "Valid_loss:  0.04696414515741968\n",
            "Validation accuracy 0.7583892617449665\n",
            "Validation f1 0.6193390591520123\n",
            "Epoch:  525\n"
          ]
        },
        {
          "output_type": "stream",
          "name": "stderr",
          "text": [
            "/usr/local/lib/python3.7/dist-packages/ipykernel_launcher.py:33: UserWarning: To copy construct from a tensor, it is recommended to use sourceTensor.clone().detach() or sourceTensor.clone().detach().requires_grad_(True), rather than torch.tensor(sourceTensor).\n"
          ]
        },
        {
          "output_type": "stream",
          "name": "stdout",
          "text": [
            "Train_loss:  0.011514608154746904\n",
            "Valid_loss:  0.04697426043484094\n",
            "Validation accuracy 0.7583892617449665\n",
            "Validation f1 0.6193390591520123\n",
            "Epoch:  526\n"
          ]
        },
        {
          "output_type": "stream",
          "name": "stderr",
          "text": [
            "/usr/local/lib/python3.7/dist-packages/ipykernel_launcher.py:33: UserWarning: To copy construct from a tensor, it is recommended to use sourceTensor.clone().detach() or sourceTensor.clone().detach().requires_grad_(True), rather than torch.tensor(sourceTensor).\n"
          ]
        },
        {
          "output_type": "stream",
          "name": "stdout",
          "text": [
            "Train_loss:  0.011491859790112358\n",
            "Valid_loss:  0.04698542445631964\n",
            "Validation accuracy 0.7583892617449665\n",
            "Validation f1 0.6193390591520123\n",
            "Epoch:  527\n"
          ]
        },
        {
          "output_type": "stream",
          "name": "stderr",
          "text": [
            "/usr/local/lib/python3.7/dist-packages/ipykernel_launcher.py:33: UserWarning: To copy construct from a tensor, it is recommended to use sourceTensor.clone().detach() or sourceTensor.clone().detach().requires_grad_(True), rather than torch.tensor(sourceTensor).\n"
          ]
        },
        {
          "output_type": "stream",
          "name": "stdout",
          "text": [
            "Train_loss:  0.01146934008543862\n",
            "Valid_loss:  0.046995478915050626\n",
            "Validation accuracy 0.7583892617449665\n",
            "Validation f1 0.6193390591520123\n",
            "Epoch:  528\n"
          ]
        },
        {
          "output_type": "stream",
          "name": "stderr",
          "text": [
            "/usr/local/lib/python3.7/dist-packages/ipykernel_launcher.py:33: UserWarning: To copy construct from a tensor, it is recommended to use sourceTensor.clone().detach() or sourceTensor.clone().detach().requires_grad_(True), rather than torch.tensor(sourceTensor).\n"
          ]
        },
        {
          "output_type": "stream",
          "name": "stdout",
          "text": [
            "Train_loss:  0.011446915244180542\n",
            "Valid_loss:  0.04700628461848412\n",
            "Validation accuracy 0.7583892617449665\n",
            "Validation f1 0.6202132699339452\n",
            "Epoch:  529\n"
          ]
        },
        {
          "output_type": "stream",
          "name": "stderr",
          "text": [
            "/usr/local/lib/python3.7/dist-packages/ipykernel_launcher.py:33: UserWarning: To copy construct from a tensor, it is recommended to use sourceTensor.clone().detach() or sourceTensor.clone().detach().requires_grad_(True), rather than torch.tensor(sourceTensor).\n"
          ]
        },
        {
          "output_type": "stream",
          "name": "stdout",
          "text": [
            "Train_loss:  0.011424435171128218\n",
            "Valid_loss:  0.0470162702799176\n",
            "Validation accuracy 0.7583892617449665\n",
            "Validation f1 0.6202132699339452\n",
            "Epoch:  530\n"
          ]
        },
        {
          "output_type": "stream",
          "name": "stderr",
          "text": [
            "/usr/local/lib/python3.7/dist-packages/ipykernel_launcher.py:33: UserWarning: To copy construct from a tensor, it is recommended to use sourceTensor.clone().detach() or sourceTensor.clone().detach().requires_grad_(True), rather than torch.tensor(sourceTensor).\n"
          ]
        },
        {
          "output_type": "stream",
          "name": "stdout",
          "text": [
            "Train_loss:  0.011402014829010503\n",
            "Valid_loss:  0.04702733425490026\n",
            "Validation accuracy 0.7583892617449665\n",
            "Validation f1 0.6202132699339452\n",
            "Epoch:  531\n"
          ]
        },
        {
          "output_type": "stream",
          "name": "stderr",
          "text": [
            "/usr/local/lib/python3.7/dist-packages/ipykernel_launcher.py:33: UserWarning: To copy construct from a tensor, it is recommended to use sourceTensor.clone().detach() or sourceTensor.clone().detach().requires_grad_(True), rather than torch.tensor(sourceTensor).\n"
          ]
        },
        {
          "output_type": "stream",
          "name": "stdout",
          "text": [
            "Train_loss:  0.011379806311327099\n",
            "Valid_loss:  0.04703835318131106\n",
            "Validation accuracy 0.7583892617449665\n",
            "Validation f1 0.6202132699339452\n",
            "Epoch:  532\n"
          ]
        },
        {
          "output_type": "stream",
          "name": "stderr",
          "text": [
            "/usr/local/lib/python3.7/dist-packages/ipykernel_launcher.py:33: UserWarning: To copy construct from a tensor, it is recommended to use sourceTensor.clone().detach() or sourceTensor.clone().detach().requires_grad_(True), rather than torch.tensor(sourceTensor).\n"
          ]
        },
        {
          "output_type": "stream",
          "name": "stdout",
          "text": [
            "Train_loss:  0.011357581865533055\n",
            "Valid_loss:  0.047049285424041694\n",
            "Validation accuracy 0.7583892617449665\n",
            "Validation f1 0.6202132699339452\n",
            "Epoch:  533\n"
          ]
        },
        {
          "output_type": "stream",
          "name": "stderr",
          "text": [
            "/usr/local/lib/python3.7/dist-packages/ipykernel_launcher.py:33: UserWarning: To copy construct from a tensor, it is recommended to use sourceTensor.clone().detach() or sourceTensor.clone().detach().requires_grad_(True), rather than torch.tensor(sourceTensor).\n"
          ]
        },
        {
          "output_type": "stream",
          "name": "stdout",
          "text": [
            "Train_loss:  0.011335511815039874\n",
            "Valid_loss:  0.0470591260652457\n",
            "Validation accuracy 0.7583892617449665\n",
            "Validation f1 0.6202132699339452\n",
            "Epoch:  534\n"
          ]
        },
        {
          "output_type": "stream",
          "name": "stderr",
          "text": [
            "/usr/local/lib/python3.7/dist-packages/ipykernel_launcher.py:33: UserWarning: To copy construct from a tensor, it is recommended to use sourceTensor.clone().detach() or sourceTensor.clone().detach().requires_grad_(True), rather than torch.tensor(sourceTensor).\n"
          ]
        },
        {
          "output_type": "stream",
          "name": "stdout",
          "text": [
            "Train_loss:  0.011313400512985286\n",
            "Valid_loss:  0.04707050609535405\n",
            "Validation accuracy 0.7583892617449665\n",
            "Validation f1 0.6202132699339452\n",
            "Epoch:  535\n"
          ]
        },
        {
          "output_type": "stream",
          "name": "stderr",
          "text": [
            "/usr/local/lib/python3.7/dist-packages/ipykernel_launcher.py:33: UserWarning: To copy construct from a tensor, it is recommended to use sourceTensor.clone().detach() or sourceTensor.clone().detach().requires_grad_(True), rather than torch.tensor(sourceTensor).\n"
          ]
        },
        {
          "output_type": "stream",
          "name": "stdout",
          "text": [
            "Train_loss:  0.01129155773846183\n",
            "Valid_loss:  0.04708141294291376\n",
            "Validation accuracy 0.7583892617449665\n",
            "Validation f1 0.6202132699339452\n",
            "Epoch:  536\n"
          ]
        },
        {
          "output_type": "stream",
          "name": "stderr",
          "text": [
            "/usr/local/lib/python3.7/dist-packages/ipykernel_launcher.py:33: UserWarning: To copy construct from a tensor, it is recommended to use sourceTensor.clone().detach() or sourceTensor.clone().detach().requires_grad_(True), rather than torch.tensor(sourceTensor).\n"
          ]
        },
        {
          "output_type": "stream",
          "name": "stdout",
          "text": [
            "Train_loss:  0.011269560690249949\n",
            "Valid_loss:  0.04709224314761481\n",
            "Validation accuracy 0.7583892617449665\n",
            "Validation f1 0.6202132699339452\n",
            "Epoch:  537\n"
          ]
        },
        {
          "output_type": "stream",
          "name": "stderr",
          "text": [
            "/usr/local/lib/python3.7/dist-packages/ipykernel_launcher.py:33: UserWarning: To copy construct from a tensor, it is recommended to use sourceTensor.clone().detach() or sourceTensor.clone().detach().requires_grad_(True), rather than torch.tensor(sourceTensor).\n"
          ]
        },
        {
          "output_type": "stream",
          "name": "stdout",
          "text": [
            "Train_loss:  0.011247977634151798\n",
            "Valid_loss:  0.04710300169452759\n",
            "Validation accuracy 0.7583892617449665\n",
            "Validation f1 0.6202132699339452\n",
            "Epoch:  538\n"
          ]
        },
        {
          "output_type": "stream",
          "name": "stderr",
          "text": [
            "/usr/local/lib/python3.7/dist-packages/ipykernel_launcher.py:33: UserWarning: To copy construct from a tensor, it is recommended to use sourceTensor.clone().detach() or sourceTensor.clone().detach().requires_grad_(True), rather than torch.tensor(sourceTensor).\n"
          ]
        },
        {
          "output_type": "stream",
          "name": "stdout",
          "text": [
            "Train_loss:  0.01122618459183806\n",
            "Valid_loss:  0.04711351221028183\n",
            "Validation accuracy 0.7583892617449665\n",
            "Validation f1 0.6202132699339452\n",
            "Epoch:  539\n"
          ]
        },
        {
          "output_type": "stream",
          "name": "stderr",
          "text": [
            "/usr/local/lib/python3.7/dist-packages/ipykernel_launcher.py:33: UserWarning: To copy construct from a tensor, it is recommended to use sourceTensor.clone().detach() or sourceTensor.clone().detach().requires_grad_(True), rather than torch.tensor(sourceTensor).\n"
          ]
        },
        {
          "output_type": "stream",
          "name": "stdout",
          "text": [
            "Train_loss:  0.01120451689764325\n",
            "Valid_loss:  0.047125060917876126\n",
            "Validation accuracy 0.7583892617449665\n",
            "Validation f1 0.6202132699339452\n",
            "Epoch:  540\n"
          ]
        },
        {
          "output_type": "stream",
          "name": "stderr",
          "text": [
            "/usr/local/lib/python3.7/dist-packages/ipykernel_launcher.py:33: UserWarning: To copy construct from a tensor, it is recommended to use sourceTensor.clone().detach() or sourceTensor.clone().detach().requires_grad_(True), rather than torch.tensor(sourceTensor).\n"
          ]
        },
        {
          "output_type": "stream",
          "name": "stdout",
          "text": [
            "Train_loss:  0.011182971401077728\n",
            "Valid_loss:  0.04713563019010637\n",
            "Validation accuracy 0.7583892617449665\n",
            "Validation f1 0.6202132699339452\n",
            "Epoch:  541\n"
          ]
        },
        {
          "output_type": "stream",
          "name": "stderr",
          "text": [
            "/usr/local/lib/python3.7/dist-packages/ipykernel_launcher.py:33: UserWarning: To copy construct from a tensor, it is recommended to use sourceTensor.clone().detach() or sourceTensor.clone().detach().requires_grad_(True), rather than torch.tensor(sourceTensor).\n"
          ]
        },
        {
          "output_type": "stream",
          "name": "stdout",
          "text": [
            "Train_loss:  0.011161512998244558\n",
            "Valid_loss:  0.04714795213242594\n",
            "Validation accuracy 0.7583892617449665\n",
            "Validation f1 0.6214776922509991\n",
            "Epoch:  542\n"
          ]
        },
        {
          "output_type": "stream",
          "name": "stderr",
          "text": [
            "/usr/local/lib/python3.7/dist-packages/ipykernel_launcher.py:33: UserWarning: To copy construct from a tensor, it is recommended to use sourceTensor.clone().detach() or sourceTensor.clone().detach().requires_grad_(True), rather than torch.tensor(sourceTensor).\n"
          ]
        },
        {
          "output_type": "stream",
          "name": "stdout",
          "text": [
            "Train_loss:  0.011140143644817206\n",
            "Valid_loss:  0.047158844369862764\n",
            "Validation accuracy 0.7583892617449665\n",
            "Validation f1 0.6214776922509991\n",
            "Epoch:  543\n"
          ]
        },
        {
          "output_type": "stream",
          "name": "stderr",
          "text": [
            "/usr/local/lib/python3.7/dist-packages/ipykernel_launcher.py:33: UserWarning: To copy construct from a tensor, it is recommended to use sourceTensor.clone().detach() or sourceTensor.clone().detach().requires_grad_(True), rather than torch.tensor(sourceTensor).\n"
          ]
        },
        {
          "output_type": "stream",
          "name": "stdout",
          "text": [
            "Train_loss:  0.011118809249247923\n",
            "Valid_loss:  0.04716896065760271\n",
            "Validation accuracy 0.7606263982102909\n",
            "Validation f1 0.6249864641808237\n",
            "Epoch:  544\n"
          ]
        },
        {
          "output_type": "stream",
          "name": "stderr",
          "text": [
            "/usr/local/lib/python3.7/dist-packages/ipykernel_launcher.py:33: UserWarning: To copy construct from a tensor, it is recommended to use sourceTensor.clone().detach() or sourceTensor.clone().detach().requires_grad_(True), rather than torch.tensor(sourceTensor).\n"
          ]
        },
        {
          "output_type": "stream",
          "name": "stdout",
          "text": [
            "Train_loss:  0.011097522325664093\n",
            "Valid_loss:  0.0471799106619853\n",
            "Validation accuracy 0.7606263982102909\n",
            "Validation f1 0.6249864641808237\n",
            "Epoch:  545\n"
          ]
        },
        {
          "output_type": "stream",
          "name": "stderr",
          "text": [
            "/usr/local/lib/python3.7/dist-packages/ipykernel_launcher.py:33: UserWarning: To copy construct from a tensor, it is recommended to use sourceTensor.clone().detach() or sourceTensor.clone().detach().requires_grad_(True), rather than torch.tensor(sourceTensor).\n"
          ]
        },
        {
          "output_type": "stream",
          "name": "stdout",
          "text": [
            "Train_loss:  0.01107637940575452\n",
            "Valid_loss:  0.04719212815481504\n",
            "Validation accuracy 0.7606263982102909\n",
            "Validation f1 0.6249864641808237\n",
            "Epoch:  546\n"
          ]
        },
        {
          "output_type": "stream",
          "name": "stderr",
          "text": [
            "/usr/local/lib/python3.7/dist-packages/ipykernel_launcher.py:33: UserWarning: To copy construct from a tensor, it is recommended to use sourceTensor.clone().detach() or sourceTensor.clone().detach().requires_grad_(True), rather than torch.tensor(sourceTensor).\n"
          ]
        },
        {
          "output_type": "stream",
          "name": "stdout",
          "text": [
            "Train_loss:  0.011055370684646602\n",
            "Valid_loss:  0.04720304450269656\n",
            "Validation accuracy 0.7606263982102909\n",
            "Validation f1 0.6249864641808237\n",
            "Epoch:  547\n"
          ]
        },
        {
          "output_type": "stream",
          "name": "stderr",
          "text": [
            "/usr/local/lib/python3.7/dist-packages/ipykernel_launcher.py:33: UserWarning: To copy construct from a tensor, it is recommended to use sourceTensor.clone().detach() or sourceTensor.clone().detach().requires_grad_(True), rather than torch.tensor(sourceTensor).\n"
          ]
        },
        {
          "output_type": "stream",
          "name": "stdout",
          "text": [
            "Train_loss:  0.01103429892620105\n",
            "Valid_loss:  0.04721430444624275\n",
            "Validation accuracy 0.7606263982102909\n",
            "Validation f1 0.6249864641808237\n",
            "Epoch:  548\n"
          ]
        },
        {
          "output_type": "stream",
          "name": "stderr",
          "text": [
            "/usr/local/lib/python3.7/dist-packages/ipykernel_launcher.py:33: UserWarning: To copy construct from a tensor, it is recommended to use sourceTensor.clone().detach() or sourceTensor.clone().detach().requires_grad_(True), rather than torch.tensor(sourceTensor).\n"
          ]
        },
        {
          "output_type": "stream",
          "name": "stdout",
          "text": [
            "Train_loss:  0.011013412115841805\n",
            "Valid_loss:  0.047225299993962314\n",
            "Validation accuracy 0.7606263982102909\n",
            "Validation f1 0.6249864641808237\n",
            "Epoch:  549\n"
          ]
        },
        {
          "output_type": "stream",
          "name": "stderr",
          "text": [
            "/usr/local/lib/python3.7/dist-packages/ipykernel_launcher.py:33: UserWarning: To copy construct from a tensor, it is recommended to use sourceTensor.clone().detach() or sourceTensor.clone().detach().requires_grad_(True), rather than torch.tensor(sourceTensor).\n"
          ]
        },
        {
          "output_type": "stream",
          "name": "stdout",
          "text": [
            "Train_loss:  0.010992492609407887\n",
            "Valid_loss:  0.04723661088168488\n",
            "Validation accuracy 0.7606263982102909\n",
            "Validation f1 0.6249864641808237\n",
            "Epoch:  550\n"
          ]
        },
        {
          "output_type": "stream",
          "name": "stderr",
          "text": [
            "/usr/local/lib/python3.7/dist-packages/ipykernel_launcher.py:33: UserWarning: To copy construct from a tensor, it is recommended to use sourceTensor.clone().detach() or sourceTensor.clone().detach().requires_grad_(True), rather than torch.tensor(sourceTensor).\n"
          ]
        },
        {
          "output_type": "stream",
          "name": "stdout",
          "text": [
            "Train_loss:  0.010971664309181506\n",
            "Valid_loss:  0.04724837668722363\n",
            "Validation accuracy 0.7606263982102909\n",
            "Validation f1 0.6249864641808237\n",
            "Epoch:  551\n"
          ]
        },
        {
          "output_type": "stream",
          "name": "stderr",
          "text": [
            "/usr/local/lib/python3.7/dist-packages/ipykernel_launcher.py:33: UserWarning: To copy construct from a tensor, it is recommended to use sourceTensor.clone().detach() or sourceTensor.clone().detach().requires_grad_(True), rather than torch.tensor(sourceTensor).\n"
          ]
        },
        {
          "output_type": "stream",
          "name": "stdout",
          "text": [
            "Train_loss:  0.010951038772223651\n",
            "Valid_loss:  0.047259912289778834\n",
            "Validation accuracy 0.7606263982102909\n",
            "Validation f1 0.6249864641808237\n",
            "Epoch:  552\n"
          ]
        },
        {
          "output_type": "stream",
          "name": "stderr",
          "text": [
            "/usr/local/lib/python3.7/dist-packages/ipykernel_launcher.py:33: UserWarning: To copy construct from a tensor, it is recommended to use sourceTensor.clone().detach() or sourceTensor.clone().detach().requires_grad_(True), rather than torch.tensor(sourceTensor).\n"
          ]
        },
        {
          "output_type": "stream",
          "name": "stdout",
          "text": [
            "Train_loss:  0.010930366500750617\n",
            "Valid_loss:  0.047271071130775714\n",
            "Validation accuracy 0.7606263982102909\n",
            "Validation f1 0.6249864641808237\n",
            "Epoch:  553\n"
          ]
        },
        {
          "output_type": "stream",
          "name": "stderr",
          "text": [
            "/usr/local/lib/python3.7/dist-packages/ipykernel_launcher.py:33: UserWarning: To copy construct from a tensor, it is recommended to use sourceTensor.clone().detach() or sourceTensor.clone().detach().requires_grad_(True), rather than torch.tensor(sourceTensor).\n"
          ]
        },
        {
          "output_type": "stream",
          "name": "stdout",
          "text": [
            "Train_loss:  0.010909650902509125\n",
            "Valid_loss:  0.04728157619164059\n",
            "Validation accuracy 0.7606263982102909\n",
            "Validation f1 0.6249864641808237\n",
            "Epoch:  554\n"
          ]
        },
        {
          "output_type": "stream",
          "name": "stderr",
          "text": [
            "/usr/local/lib/python3.7/dist-packages/ipykernel_launcher.py:33: UserWarning: To copy construct from a tensor, it is recommended to use sourceTensor.clone().detach() or sourceTensor.clone().detach().requires_grad_(True), rather than torch.tensor(sourceTensor).\n"
          ]
        },
        {
          "output_type": "stream",
          "name": "stdout",
          "text": [
            "Train_loss:  0.010889207070639324\n",
            "Valid_loss:  0.04729396087350324\n",
            "Validation accuracy 0.7606263982102909\n",
            "Validation f1 0.6249864641808237\n",
            "Epoch:  555\n"
          ]
        },
        {
          "output_type": "stream",
          "name": "stderr",
          "text": [
            "/usr/local/lib/python3.7/dist-packages/ipykernel_launcher.py:33: UserWarning: To copy construct from a tensor, it is recommended to use sourceTensor.clone().detach() or sourceTensor.clone().detach().requires_grad_(True), rather than torch.tensor(sourceTensor).\n"
          ]
        },
        {
          "output_type": "stream",
          "name": "stdout",
          "text": [
            "Train_loss:  0.010868881790104621\n",
            "Valid_loss:  0.047305979271186516\n",
            "Validation accuracy 0.7606263982102909\n",
            "Validation f1 0.6249864641808237\n",
            "Epoch:  556\n"
          ]
        },
        {
          "output_type": "stream",
          "name": "stderr",
          "text": [
            "/usr/local/lib/python3.7/dist-packages/ipykernel_launcher.py:33: UserWarning: To copy construct from a tensor, it is recommended to use sourceTensor.clone().detach() or sourceTensor.clone().detach().requires_grad_(True), rather than torch.tensor(sourceTensor).\n"
          ]
        },
        {
          "output_type": "stream",
          "name": "stdout",
          "text": [
            "Train_loss:  0.010848535778287831\n",
            "Valid_loss:  0.04731657188468879\n",
            "Validation accuracy 0.7606263982102909\n",
            "Validation f1 0.6249864641808237\n",
            "Epoch:  557\n"
          ]
        },
        {
          "output_type": "stream",
          "name": "stderr",
          "text": [
            "/usr/local/lib/python3.7/dist-packages/ipykernel_launcher.py:33: UserWarning: To copy construct from a tensor, it is recommended to use sourceTensor.clone().detach() or sourceTensor.clone().detach().requires_grad_(True), rather than torch.tensor(sourceTensor).\n"
          ]
        },
        {
          "output_type": "stream",
          "name": "stdout",
          "text": [
            "Train_loss:  0.010828056264082469\n",
            "Valid_loss:  0.04732910437659094\n",
            "Validation accuracy 0.7606263982102909\n",
            "Validation f1 0.6249864641808237\n",
            "Epoch:  558\n"
          ]
        },
        {
          "output_type": "stream",
          "name": "stderr",
          "text": [
            "/usr/local/lib/python3.7/dist-packages/ipykernel_launcher.py:33: UserWarning: To copy construct from a tensor, it is recommended to use sourceTensor.clone().detach() or sourceTensor.clone().detach().requires_grad_(True), rather than torch.tensor(sourceTensor).\n"
          ]
        },
        {
          "output_type": "stream",
          "name": "stdout",
          "text": [
            "Train_loss:  0.01080806499209887\n",
            "Valid_loss:  0.0473399617393235\n",
            "Validation accuracy 0.7606263982102909\n",
            "Validation f1 0.6249864641808237\n",
            "Epoch:  559\n"
          ]
        },
        {
          "output_type": "stream",
          "name": "stderr",
          "text": [
            "/usr/local/lib/python3.7/dist-packages/ipykernel_launcher.py:33: UserWarning: To copy construct from a tensor, it is recommended to use sourceTensor.clone().detach() or sourceTensor.clone().detach().requires_grad_(True), rather than torch.tensor(sourceTensor).\n"
          ]
        },
        {
          "output_type": "stream",
          "name": "stdout",
          "text": [
            "Train_loss:  0.01078783754928736\n",
            "Valid_loss:  0.04735125490697101\n",
            "Validation accuracy 0.7606263982102909\n",
            "Validation f1 0.6249864641808237\n",
            "Epoch:  560\n"
          ]
        },
        {
          "output_type": "stream",
          "name": "stderr",
          "text": [
            "/usr/local/lib/python3.7/dist-packages/ipykernel_launcher.py:33: UserWarning: To copy construct from a tensor, it is recommended to use sourceTensor.clone().detach() or sourceTensor.clone().detach().requires_grad_(True), rather than torch.tensor(sourceTensor).\n"
          ]
        },
        {
          "output_type": "stream",
          "name": "stdout",
          "text": [
            "Train_loss:  0.010767722341760029\n",
            "Valid_loss:  0.04736325742643593\n",
            "Validation accuracy 0.7606263982102909\n",
            "Validation f1 0.6249864641808237\n",
            "Epoch:  561\n"
          ]
        },
        {
          "output_type": "stream",
          "name": "stderr",
          "text": [
            "/usr/local/lib/python3.7/dist-packages/ipykernel_launcher.py:33: UserWarning: To copy construct from a tensor, it is recommended to use sourceTensor.clone().detach() or sourceTensor.clone().detach().requires_grad_(True), rather than torch.tensor(sourceTensor).\n"
          ]
        },
        {
          "output_type": "stream",
          "name": "stdout",
          "text": [
            "Train_loss:  0.01074790372253379\n",
            "Valid_loss:  0.04737381753511727\n",
            "Validation accuracy 0.7606263982102909\n",
            "Validation f1 0.6249864641808237\n",
            "Epoch:  562\n"
          ]
        },
        {
          "output_type": "stream",
          "name": "stderr",
          "text": [
            "/usr/local/lib/python3.7/dist-packages/ipykernel_launcher.py:33: UserWarning: To copy construct from a tensor, it is recommended to use sourceTensor.clone().detach() or sourceTensor.clone().detach().requires_grad_(True), rather than torch.tensor(sourceTensor).\n"
          ]
        },
        {
          "output_type": "stream",
          "name": "stdout",
          "text": [
            "Train_loss:  0.010727922509561592\n",
            "Valid_loss:  0.04738532456186866\n",
            "Validation accuracy 0.7606263982102909\n",
            "Validation f1 0.6249864641808237\n",
            "Epoch:  563\n"
          ]
        },
        {
          "output_type": "stream",
          "name": "stderr",
          "text": [
            "/usr/local/lib/python3.7/dist-packages/ipykernel_launcher.py:33: UserWarning: To copy construct from a tensor, it is recommended to use sourceTensor.clone().detach() or sourceTensor.clone().detach().requires_grad_(True), rather than torch.tensor(sourceTensor).\n"
          ]
        },
        {
          "output_type": "stream",
          "name": "stdout",
          "text": [
            "Train_loss:  0.010708007907981352\n",
            "Valid_loss:  0.04739795367848793\n",
            "Validation accuracy 0.7606263982102909\n",
            "Validation f1 0.6245395873243131\n",
            "Epoch:  564\n"
          ]
        },
        {
          "output_type": "stream",
          "name": "stderr",
          "text": [
            "/usr/local/lib/python3.7/dist-packages/ipykernel_launcher.py:33: UserWarning: To copy construct from a tensor, it is recommended to use sourceTensor.clone().detach() or sourceTensor.clone().detach().requires_grad_(True), rather than torch.tensor(sourceTensor).\n"
          ]
        },
        {
          "output_type": "stream",
          "name": "stdout",
          "text": [
            "Train_loss:  0.010688158933459948\n",
            "Valid_loss:  0.04740859359403008\n",
            "Validation accuracy 0.7606263982102909\n",
            "Validation f1 0.6245395873243131\n",
            "Epoch:  565\n"
          ]
        },
        {
          "output_type": "stream",
          "name": "stderr",
          "text": [
            "/usr/local/lib/python3.7/dist-packages/ipykernel_launcher.py:33: UserWarning: To copy construct from a tensor, it is recommended to use sourceTensor.clone().detach() or sourceTensor.clone().detach().requires_grad_(True), rather than torch.tensor(sourceTensor).\n"
          ]
        },
        {
          "output_type": "stream",
          "name": "stdout",
          "text": [
            "Train_loss:  0.010668423306404813\n",
            "Valid_loss:  0.047421219708797126\n",
            "Validation accuracy 0.7606263982102909\n",
            "Validation f1 0.6245395873243131\n",
            "Epoch:  566\n"
          ]
        },
        {
          "output_type": "stream",
          "name": "stderr",
          "text": [
            "/usr/local/lib/python3.7/dist-packages/ipykernel_launcher.py:33: UserWarning: To copy construct from a tensor, it is recommended to use sourceTensor.clone().detach() or sourceTensor.clone().detach().requires_grad_(True), rather than torch.tensor(sourceTensor).\n"
          ]
        },
        {
          "output_type": "stream",
          "name": "stdout",
          "text": [
            "Train_loss:  0.010648912575561553\n",
            "Valid_loss:  0.04743194692335757\n",
            "Validation accuracy 0.7606263982102909\n",
            "Validation f1 0.6245395873243131\n",
            "Epoch:  567\n"
          ]
        },
        {
          "output_type": "stream",
          "name": "stderr",
          "text": [
            "/usr/local/lib/python3.7/dist-packages/ipykernel_launcher.py:33: UserWarning: To copy construct from a tensor, it is recommended to use sourceTensor.clone().detach() or sourceTensor.clone().detach().requires_grad_(True), rather than torch.tensor(sourceTensor).\n"
          ]
        },
        {
          "output_type": "stream",
          "name": "stdout",
          "text": [
            "Train_loss:  0.01062919069642833\n",
            "Valid_loss:  0.0474443173817625\n",
            "Validation accuracy 0.7606263982102909\n",
            "Validation f1 0.6245395873243131\n",
            "Epoch:  568\n"
          ]
        },
        {
          "output_type": "stream",
          "name": "stderr",
          "text": [
            "/usr/local/lib/python3.7/dist-packages/ipykernel_launcher.py:33: UserWarning: To copy construct from a tensor, it is recommended to use sourceTensor.clone().detach() or sourceTensor.clone().detach().requires_grad_(True), rather than torch.tensor(sourceTensor).\n"
          ]
        },
        {
          "output_type": "stream",
          "name": "stdout",
          "text": [
            "Train_loss:  0.010609806627014353\n",
            "Valid_loss:  0.04745572348058756\n",
            "Validation accuracy 0.7606263982102909\n",
            "Validation f1 0.6245395873243131\n",
            "Epoch:  569\n"
          ]
        },
        {
          "output_type": "stream",
          "name": "stderr",
          "text": [
            "/usr/local/lib/python3.7/dist-packages/ipykernel_launcher.py:33: UserWarning: To copy construct from a tensor, it is recommended to use sourceTensor.clone().detach() or sourceTensor.clone().detach().requires_grad_(True), rather than torch.tensor(sourceTensor).\n"
          ]
        },
        {
          "output_type": "stream",
          "name": "stdout",
          "text": [
            "Train_loss:  0.01059028329629135\n",
            "Valid_loss:  0.047466905014256815\n",
            "Validation accuracy 0.7606263982102909\n",
            "Validation f1 0.6245395873243131\n",
            "Epoch:  570\n"
          ]
        },
        {
          "output_type": "stream",
          "name": "stderr",
          "text": [
            "/usr/local/lib/python3.7/dist-packages/ipykernel_launcher.py:33: UserWarning: To copy construct from a tensor, it is recommended to use sourceTensor.clone().detach() or sourceTensor.clone().detach().requires_grad_(True), rather than torch.tensor(sourceTensor).\n"
          ]
        },
        {
          "output_type": "stream",
          "name": "stdout",
          "text": [
            "Train_loss:  0.010570910270221898\n",
            "Valid_loss:  0.047479477390879765\n",
            "Validation accuracy 0.7606263982102909\n",
            "Validation f1 0.6245395873243131\n",
            "Epoch:  571\n"
          ]
        },
        {
          "output_type": "stream",
          "name": "stderr",
          "text": [
            "/usr/local/lib/python3.7/dist-packages/ipykernel_launcher.py:33: UserWarning: To copy construct from a tensor, it is recommended to use sourceTensor.clone().detach() or sourceTensor.clone().detach().requires_grad_(True), rather than torch.tensor(sourceTensor).\n"
          ]
        },
        {
          "output_type": "stream",
          "name": "stdout",
          "text": [
            "Train_loss:  0.010551613621438654\n",
            "Valid_loss:  0.0474913835641928\n",
            "Validation accuracy 0.7606263982102909\n",
            "Validation f1 0.6245395873243131\n",
            "Epoch:  572\n"
          ]
        },
        {
          "output_type": "stream",
          "name": "stderr",
          "text": [
            "/usr/local/lib/python3.7/dist-packages/ipykernel_launcher.py:33: UserWarning: To copy construct from a tensor, it is recommended to use sourceTensor.clone().detach() or sourceTensor.clone().detach().requires_grad_(True), rather than torch.tensor(sourceTensor).\n"
          ]
        },
        {
          "output_type": "stream",
          "name": "stdout",
          "text": [
            "Train_loss:  0.010532374702181966\n",
            "Valid_loss:  0.047502052571092336\n",
            "Validation accuracy 0.7606263982102909\n",
            "Validation f1 0.6245395873243131\n",
            "Epoch:  573\n"
          ]
        },
        {
          "output_type": "stream",
          "name": "stderr",
          "text": [
            "/usr/local/lib/python3.7/dist-packages/ipykernel_launcher.py:33: UserWarning: To copy construct from a tensor, it is recommended to use sourceTensor.clone().detach() or sourceTensor.clone().detach().requires_grad_(True), rather than torch.tensor(sourceTensor).\n"
          ]
        },
        {
          "output_type": "stream",
          "name": "stdout",
          "text": [
            "Train_loss:  0.010513213864344704\n",
            "Valid_loss:  0.047514685949343924\n",
            "Validation accuracy 0.7606263982102909\n",
            "Validation f1 0.6245395873243131\n",
            "Epoch:  574\n"
          ]
        },
        {
          "output_type": "stream",
          "name": "stderr",
          "text": [
            "/usr/local/lib/python3.7/dist-packages/ipykernel_launcher.py:33: UserWarning: To copy construct from a tensor, it is recommended to use sourceTensor.clone().detach() or sourceTensor.clone().detach().requires_grad_(True), rather than torch.tensor(sourceTensor).\n"
          ]
        },
        {
          "output_type": "stream",
          "name": "stdout",
          "text": [
            "Train_loss:  0.010493982031351021\n",
            "Valid_loss:  0.047525377615654306\n",
            "Validation accuracy 0.7606263982102909\n",
            "Validation f1 0.6245395873243131\n",
            "Epoch:  575\n"
          ]
        },
        {
          "output_type": "stream",
          "name": "stderr",
          "text": [
            "/usr/local/lib/python3.7/dist-packages/ipykernel_launcher.py:33: UserWarning: To copy construct from a tensor, it is recommended to use sourceTensor.clone().detach() or sourceTensor.clone().detach().requires_grad_(True), rather than torch.tensor(sourceTensor).\n"
          ]
        },
        {
          "output_type": "stream",
          "name": "stdout",
          "text": [
            "Train_loss:  0.01047500362359902\n",
            "Valid_loss:  0.04753821331541985\n",
            "Validation accuracy 0.7606263982102909\n",
            "Validation f1 0.6245395873243131\n",
            "Epoch:  576\n"
          ]
        },
        {
          "output_type": "stream",
          "name": "stderr",
          "text": [
            "/usr/local/lib/python3.7/dist-packages/ipykernel_launcher.py:33: UserWarning: To copy construct from a tensor, it is recommended to use sourceTensor.clone().detach() or sourceTensor.clone().detach().requires_grad_(True), rather than torch.tensor(sourceTensor).\n"
          ]
        },
        {
          "output_type": "stream",
          "name": "stdout",
          "text": [
            "Train_loss:  0.010455982924863097\n",
            "Valid_loss:  0.047549891630686555\n",
            "Validation accuracy 0.7606263982102909\n",
            "Validation f1 0.6245395873243131\n",
            "Epoch:  577\n"
          ]
        },
        {
          "output_type": "stream",
          "name": "stderr",
          "text": [
            "/usr/local/lib/python3.7/dist-packages/ipykernel_launcher.py:33: UserWarning: To copy construct from a tensor, it is recommended to use sourceTensor.clone().detach() or sourceTensor.clone().detach().requires_grad_(True), rather than torch.tensor(sourceTensor).\n"
          ]
        },
        {
          "output_type": "stream",
          "name": "stdout",
          "text": [
            "Train_loss:  0.010437151319430476\n",
            "Valid_loss:  0.047563298734270835\n",
            "Validation accuracy 0.7606263982102909\n",
            "Validation f1 0.6240863265127097\n",
            "Epoch:  578\n"
          ]
        },
        {
          "output_type": "stream",
          "name": "stderr",
          "text": [
            "/usr/local/lib/python3.7/dist-packages/ipykernel_launcher.py:33: UserWarning: To copy construct from a tensor, it is recommended to use sourceTensor.clone().detach() or sourceTensor.clone().detach().requires_grad_(True), rather than torch.tensor(sourceTensor).\n"
          ]
        },
        {
          "output_type": "stream",
          "name": "stdout",
          "text": [
            "Train_loss:  0.010418184090147926\n",
            "Valid_loss:  0.047573308556041284\n",
            "Validation accuracy 0.7606263982102909\n",
            "Validation f1 0.6240863265127097\n",
            "Epoch:  579\n"
          ]
        },
        {
          "output_type": "stream",
          "name": "stderr",
          "text": [
            "/usr/local/lib/python3.7/dist-packages/ipykernel_launcher.py:33: UserWarning: To copy construct from a tensor, it is recommended to use sourceTensor.clone().detach() or sourceTensor.clone().detach().requires_grad_(True), rather than torch.tensor(sourceTensor).\n"
          ]
        },
        {
          "output_type": "stream",
          "name": "stdout",
          "text": [
            "Train_loss:  0.010399333607762986\n",
            "Valid_loss:  0.04758512390877253\n",
            "Validation accuracy 0.7606263982102909\n",
            "Validation f1 0.6244720590559885\n",
            "Epoch:  580\n"
          ]
        },
        {
          "output_type": "stream",
          "name": "stderr",
          "text": [
            "/usr/local/lib/python3.7/dist-packages/ipykernel_launcher.py:33: UserWarning: To copy construct from a tensor, it is recommended to use sourceTensor.clone().detach() or sourceTensor.clone().detach().requires_grad_(True), rather than torch.tensor(sourceTensor).\n"
          ]
        },
        {
          "output_type": "stream",
          "name": "stdout",
          "text": [
            "Train_loss:  0.01038078882265836\n",
            "Valid_loss:  0.04759734029149903\n",
            "Validation accuracy 0.7606263982102909\n",
            "Validation f1 0.6244720590559885\n",
            "Epoch:  581\n"
          ]
        },
        {
          "output_type": "stream",
          "name": "stderr",
          "text": [
            "/usr/local/lib/python3.7/dist-packages/ipykernel_launcher.py:33: UserWarning: To copy construct from a tensor, it is recommended to use sourceTensor.clone().detach() or sourceTensor.clone().detach().requires_grad_(True), rather than torch.tensor(sourceTensor).\n"
          ]
        },
        {
          "output_type": "stream",
          "name": "stdout",
          "text": [
            "Train_loss:  0.010362002031927529\n",
            "Valid_loss:  0.04761008806443507\n",
            "Validation accuracy 0.7606263982102909\n",
            "Validation f1 0.6244720590559885\n",
            "Epoch:  582\n"
          ]
        },
        {
          "output_type": "stream",
          "name": "stderr",
          "text": [
            "/usr/local/lib/python3.7/dist-packages/ipykernel_launcher.py:33: UserWarning: To copy construct from a tensor, it is recommended to use sourceTensor.clone().detach() or sourceTensor.clone().detach().requires_grad_(True), rather than torch.tensor(sourceTensor).\n"
          ]
        },
        {
          "output_type": "stream",
          "name": "stdout",
          "text": [
            "Train_loss:  0.01034339328907663\n",
            "Valid_loss:  0.047622088342905045\n",
            "Validation accuracy 0.7606263982102909\n",
            "Validation f1 0.6244720590559885\n",
            "Epoch:  583\n"
          ]
        },
        {
          "output_type": "stream",
          "name": "stderr",
          "text": [
            "/usr/local/lib/python3.7/dist-packages/ipykernel_launcher.py:33: UserWarning: To copy construct from a tensor, it is recommended to use sourceTensor.clone().detach() or sourceTensor.clone().detach().requires_grad_(True), rather than torch.tensor(sourceTensor).\n"
          ]
        },
        {
          "output_type": "stream",
          "name": "stdout",
          "text": [
            "Train_loss:  0.010324731973274279\n",
            "Valid_loss:  0.04763303115032613\n",
            "Validation accuracy 0.7606263982102909\n",
            "Validation f1 0.6244720590559885\n",
            "Epoch:  584\n"
          ]
        },
        {
          "output_type": "stream",
          "name": "stderr",
          "text": [
            "/usr/local/lib/python3.7/dist-packages/ipykernel_launcher.py:33: UserWarning: To copy construct from a tensor, it is recommended to use sourceTensor.clone().detach() or sourceTensor.clone().detach().requires_grad_(True), rather than torch.tensor(sourceTensor).\n"
          ]
        },
        {
          "output_type": "stream",
          "name": "stdout",
          "text": [
            "Train_loss:  0.01030632001909128\n",
            "Valid_loss:  0.047647775670546774\n",
            "Validation accuracy 0.7606263982102909\n",
            "Validation f1 0.6244720590559885\n",
            "Epoch:  585\n"
          ]
        },
        {
          "output_type": "stream",
          "name": "stderr",
          "text": [
            "/usr/local/lib/python3.7/dist-packages/ipykernel_launcher.py:33: UserWarning: To copy construct from a tensor, it is recommended to use sourceTensor.clone().detach() or sourceTensor.clone().detach().requires_grad_(True), rather than torch.tensor(sourceTensor).\n"
          ]
        },
        {
          "output_type": "stream",
          "name": "stdout",
          "text": [
            "Train_loss:  0.010288043843112453\n",
            "Valid_loss:  0.04765802149527839\n",
            "Validation accuracy 0.7606263982102909\n",
            "Validation f1 0.6244720590559885\n",
            "Epoch:  586\n"
          ]
        },
        {
          "output_type": "stream",
          "name": "stderr",
          "text": [
            "/usr/local/lib/python3.7/dist-packages/ipykernel_launcher.py:33: UserWarning: To copy construct from a tensor, it is recommended to use sourceTensor.clone().detach() or sourceTensor.clone().detach().requires_grad_(True), rather than torch.tensor(sourceTensor).\n"
          ]
        },
        {
          "output_type": "stream",
          "name": "stdout",
          "text": [
            "Train_loss:  0.010269517860121726\n",
            "Valid_loss:  0.04767085559017557\n",
            "Validation accuracy 0.7606263982102909\n",
            "Validation f1 0.6244720590559885\n",
            "Epoch:  587\n"
          ]
        },
        {
          "output_type": "stream",
          "name": "stderr",
          "text": [
            "/usr/local/lib/python3.7/dist-packages/ipykernel_launcher.py:33: UserWarning: To copy construct from a tensor, it is recommended to use sourceTensor.clone().detach() or sourceTensor.clone().detach().requires_grad_(True), rather than torch.tensor(sourceTensor).\n"
          ]
        },
        {
          "output_type": "stream",
          "name": "stdout",
          "text": [
            "Train_loss:  0.010251191671808815\n",
            "Valid_loss:  0.047682892743198736\n",
            "Validation accuracy 0.7583892617449665\n",
            "Validation f1 0.6238323110182925\n",
            "Epoch:  588\n"
          ]
        },
        {
          "output_type": "stream",
          "name": "stderr",
          "text": [
            "/usr/local/lib/python3.7/dist-packages/ipykernel_launcher.py:33: UserWarning: To copy construct from a tensor, it is recommended to use sourceTensor.clone().detach() or sourceTensor.clone().detach().requires_grad_(True), rather than torch.tensor(sourceTensor).\n"
          ]
        },
        {
          "output_type": "stream",
          "name": "stdout",
          "text": [
            "Train_loss:  0.010232993227483738\n",
            "Valid_loss:  0.04769514516062502\n",
            "Validation accuracy 0.7583892617449665\n",
            "Validation f1 0.6238323110182925\n",
            "Epoch:  589\n"
          ]
        },
        {
          "output_type": "stream",
          "name": "stderr",
          "text": [
            "/usr/local/lib/python3.7/dist-packages/ipykernel_launcher.py:33: UserWarning: To copy construct from a tensor, it is recommended to use sourceTensor.clone().detach() or sourceTensor.clone().detach().requires_grad_(True), rather than torch.tensor(sourceTensor).\n"
          ]
        },
        {
          "output_type": "stream",
          "name": "stdout",
          "text": [
            "Train_loss:  0.010214745981232096\n",
            "Valid_loss:  0.047707693746945425\n",
            "Validation accuracy 0.7583892617449665\n",
            "Validation f1 0.6238323110182925\n",
            "Epoch:  590\n"
          ]
        },
        {
          "output_type": "stream",
          "name": "stderr",
          "text": [
            "/usr/local/lib/python3.7/dist-packages/ipykernel_launcher.py:33: UserWarning: To copy construct from a tensor, it is recommended to use sourceTensor.clone().detach() or sourceTensor.clone().detach().requires_grad_(True), rather than torch.tensor(sourceTensor).\n"
          ]
        },
        {
          "output_type": "stream",
          "name": "stdout",
          "text": [
            "Train_loss:  0.010196747241155078\n",
            "Valid_loss:  0.04771951638394967\n",
            "Validation accuracy 0.756152125279642\n",
            "Validation f1 0.6238323110182925\n",
            "Epoch:  591\n"
          ]
        },
        {
          "output_type": "stream",
          "name": "stderr",
          "text": [
            "/usr/local/lib/python3.7/dist-packages/ipykernel_launcher.py:33: UserWarning: To copy construct from a tensor, it is recommended to use sourceTensor.clone().detach() or sourceTensor.clone().detach().requires_grad_(True), rather than torch.tensor(sourceTensor).\n"
          ]
        },
        {
          "output_type": "stream",
          "name": "stdout",
          "text": [
            "Train_loss:  0.01017862809437377\n",
            "Valid_loss:  0.04773162949797032\n",
            "Validation accuracy 0.756152125279642\n",
            "Validation f1 0.6238323110182925\n",
            "Epoch:  592\n"
          ]
        },
        {
          "output_type": "stream",
          "name": "stderr",
          "text": [
            "/usr/local/lib/python3.7/dist-packages/ipykernel_launcher.py:33: UserWarning: To copy construct from a tensor, it is recommended to use sourceTensor.clone().detach() or sourceTensor.clone().detach().requires_grad_(True), rather than torch.tensor(sourceTensor).\n"
          ]
        },
        {
          "output_type": "stream",
          "name": "stdout",
          "text": [
            "Train_loss:  0.01016062288077332\n",
            "Valid_loss:  0.04774449584822703\n",
            "Validation accuracy 0.756152125279642\n",
            "Validation f1 0.6238323110182925\n",
            "Epoch:  593\n"
          ]
        },
        {
          "output_type": "stream",
          "name": "stderr",
          "text": [
            "/usr/local/lib/python3.7/dist-packages/ipykernel_launcher.py:33: UserWarning: To copy construct from a tensor, it is recommended to use sourceTensor.clone().detach() or sourceTensor.clone().detach().requires_grad_(True), rather than torch.tensor(sourceTensor).\n"
          ]
        },
        {
          "output_type": "stream",
          "name": "stdout",
          "text": [
            "Train_loss:  0.010142677646529461\n",
            "Valid_loss:  0.04775685058640582\n",
            "Validation accuracy 0.756152125279642\n",
            "Validation f1 0.6238323110182925\n",
            "Epoch:  594\n"
          ]
        },
        {
          "output_type": "stream",
          "name": "stderr",
          "text": [
            "/usr/local/lib/python3.7/dist-packages/ipykernel_launcher.py:33: UserWarning: To copy construct from a tensor, it is recommended to use sourceTensor.clone().detach() or sourceTensor.clone().detach().requires_grad_(True), rather than torch.tensor(sourceTensor).\n"
          ]
        },
        {
          "output_type": "stream",
          "name": "stdout",
          "text": [
            "Train_loss:  0.010125101758083994\n",
            "Valid_loss:  0.04776823019658748\n",
            "Validation accuracy 0.756152125279642\n",
            "Validation f1 0.6238323110182925\n",
            "Epoch:  595\n"
          ]
        },
        {
          "output_type": "stream",
          "name": "stderr",
          "text": [
            "/usr/local/lib/python3.7/dist-packages/ipykernel_launcher.py:33: UserWarning: To copy construct from a tensor, it is recommended to use sourceTensor.clone().detach() or sourceTensor.clone().detach().requires_grad_(True), rather than torch.tensor(sourceTensor).\n"
          ]
        },
        {
          "output_type": "stream",
          "name": "stdout",
          "text": [
            "Train_loss:  0.01010694059940371\n",
            "Valid_loss:  0.047781904776846726\n",
            "Validation accuracy 0.756152125279642\n",
            "Validation f1 0.6238323110182925\n",
            "Epoch:  596\n"
          ]
        },
        {
          "output_type": "stream",
          "name": "stderr",
          "text": [
            "/usr/local/lib/python3.7/dist-packages/ipykernel_launcher.py:33: UserWarning: To copy construct from a tensor, it is recommended to use sourceTensor.clone().detach() or sourceTensor.clone().detach().requires_grad_(True), rather than torch.tensor(sourceTensor).\n"
          ]
        },
        {
          "output_type": "stream",
          "name": "stdout",
          "text": [
            "Train_loss:  0.010089285153039132\n",
            "Valid_loss:  0.047793225081737285\n",
            "Validation accuracy 0.756152125279642\n",
            "Validation f1 0.6238323110182925\n",
            "Epoch:  597\n"
          ]
        },
        {
          "output_type": "stream",
          "name": "stderr",
          "text": [
            "/usr/local/lib/python3.7/dist-packages/ipykernel_launcher.py:33: UserWarning: To copy construct from a tensor, it is recommended to use sourceTensor.clone().detach() or sourceTensor.clone().detach().requires_grad_(True), rather than torch.tensor(sourceTensor).\n"
          ]
        },
        {
          "output_type": "stream",
          "name": "stdout",
          "text": [
            "Train_loss:  0.010071399782256256\n",
            "Valid_loss:  0.04780656202014403\n",
            "Validation accuracy 0.756152125279642\n",
            "Validation f1 0.6238323110182925\n",
            "Epoch:  598\n"
          ]
        },
        {
          "output_type": "stream",
          "name": "stderr",
          "text": [
            "/usr/local/lib/python3.7/dist-packages/ipykernel_launcher.py:33: UserWarning: To copy construct from a tensor, it is recommended to use sourceTensor.clone().detach() or sourceTensor.clone().detach().requires_grad_(True), rather than torch.tensor(sourceTensor).\n"
          ]
        },
        {
          "output_type": "stream",
          "name": "stdout",
          "text": [
            "Train_loss:  0.010053937530236519\n",
            "Valid_loss:  0.04781787519459613\n",
            "Validation accuracy 0.756152125279642\n",
            "Validation f1 0.6238323110182925\n",
            "Epoch:  599\n",
            "Train_loss:  0.010036111408096206\n",
            "Valid_loss:  0.0478309020524778\n",
            "Validation accuracy 0.756152125279642\n",
            "Validation f1 0.6238323110182925\n"
          ]
        },
        {
          "output_type": "stream",
          "name": "stderr",
          "text": [
            "/usr/local/lib/python3.7/dist-packages/ipykernel_launcher.py:33: UserWarning: To copy construct from a tensor, it is recommended to use sourceTensor.clone().detach() or sourceTensor.clone().detach().requires_grad_(True), rather than torch.tensor(sourceTensor).\n"
          ]
        }
      ],
      "source": [
        "epochs = 600\n",
        "batch_size = 8\n",
        "threshold = 0.14\n",
        "\n",
        "avg_train_loss = []\n",
        "avg_val_loss = []\n",
        "validation_accuracy = []\n",
        "validation_f1 = []\n",
        "\n",
        "patience = 0\n",
        "best_loss = 0\n",
        "\n",
        "for e in range(epochs):\n",
        "    print('Epoch: ',e)\n",
        "    model.train()\n",
        "    epoch_train_loss = []\n",
        "    for i in range(0, len(x_train), batch_size):\n",
        "        optimizer.zero_grad()\n",
        "        output = model(x_train[i:i+batch_size])\n",
        "        loss = criterion(output, y_train[i:i+batch_size].float())\n",
        "        loss.backward()\n",
        "        optimizer.step()\n",
        "        epoch_train_loss.append(loss.item())\n",
        "    avg_train_loss.append(sum(epoch_train_loss)/len(epoch_train_loss))\n",
        "\n",
        "    epoch_val_loss = []\n",
        "    epoch_val_pred = []\n",
        "    epoch_val_sig = []\n",
        "\n",
        "    model.eval()\n",
        "    for i in range(0, len(x_val), batch_size):\n",
        "        output_val = model(x_val[i:i+batch_size])\n",
        "        proc_val = torch.tensor(output_val)\n",
        "        pred = torch.sigmoid(proc_val)\n",
        "        epoch_val_sig.extend(pred.tolist())\n",
        "        pred = (pred>threshold).int()\n",
        "        epoch_val_pred.extend(pred.tolist())\n",
        "        val_loss = criterion(output_val, y_val[i:i+batch_size].float())\n",
        "        epoch_val_loss.append(val_loss.item())\n",
        "    \n",
        "    avg_val_loss.append(sum(epoch_val_loss)/len(epoch_val_loss))\n",
        "    \n",
        "    print('Train_loss: ', sum(epoch_train_loss)/len(epoch_train_loss))\n",
        "    print('Valid_loss: ', sum(epoch_val_loss)/len(epoch_val_loss))\n",
        "\n",
        "    # get accuracy and f1\n",
        "    acc, f1 = scoring_fn(y_val,epoch_val_pred)\n",
        "    validation_accuracy.append(acc)\n",
        "    validation_f1.append(f1)\n",
        "\n",
        "    print('Validation accuracy', acc)\n",
        "    print('Validation f1', f1)\n",
        "    "
      ]
    },
    {
      "cell_type": "code",
      "execution_count": null,
      "id": "n6YhH8b3GrwZ",
      "metadata": {
        "id": "n6YhH8b3GrwZ"
      },
      "outputs": [],
      "source": [
        "torch.save(model, f'Iteration-13.pkl')"
      ]
    },
    {
      "cell_type": "code",
      "execution_count": null,
      "id": "MEyGvkNQu9-l",
      "metadata": {
        "colab": {
          "base_uri": "https://localhost:8080/"
        },
        "id": "MEyGvkNQu9-l",
        "outputId": "1f4b3208-396a-4cec-9c84-20ce0f9db205"
      },
      "outputs": [
        {
          "output_type": "execute_result",
          "data": {
            "text/plain": [
              "<Figure size 432x288 with 0 Axes>"
            ]
          },
          "metadata": {},
          "execution_count": 66
        },
        {
          "output_type": "display_data",
          "data": {
            "text/plain": [
              "<Figure size 432x288 with 1 Axes>"
            ],
            "image/png": "[encoded data removed]"
          },
          "metadata": {
            "needs_background": "light"
          }
        },
        {
          "output_type": "display_data",
          "data": {
            "text/plain": [
              "<Figure size 432x288 with 0 Axes>"
            ]
          },
          "metadata": {}
        }
      ],
      "source": [
        "# Plot Training loss\n",
        "epoch_range = range(e+1)\n",
        "\n",
        "plt.plot(epoch_range, avg_train_loss, 'bo', label='Training loss')\n",
        "plt.legend()\n",
        "plt.figure()"
      ]
    },
    {
      "cell_type": "code",
      "execution_count": null,
      "id": "yCm8ZEisvNT-",
      "metadata": {
        "colab": {
          "base_uri": "https://localhost:8080/"
        },
        "id": "yCm8ZEisvNT-",
        "outputId": "ee6df5be-f149-441b-8adb-b5c072c332c2"
      },
      "outputs": [
        {
          "output_type": "execute_result",
          "data": {
            "text/plain": [
              "<Figure size 432x288 with 0 Axes>"
            ]
          },
          "metadata": {},
          "execution_count": 67
        }
      ],
      "source": [
        "# Plot Validation loss\n",
        "\n",
        "plt.plot(epoch_range, avg_val_loss, 'b', label='Validation loss')\n",
        "plt.title('Validation loss')\n",
        "plt.legend()\n",
        "\n",
        "plt.figure()"
      ]
    },
    {
      "cell_type": "code",
      "execution_count": null,
      "id": "5b48da7b-2200-4c41-b7dc-18cd21be04c8",
      "metadata": {
        "id": "5b48da7b-2200-4c41-b7dc-18cd21be04c8"
      },
      "outputs": [],
      "source": [
        "# plot validation accuracy\n",
        "\n",
        "plt.plot(epoch_range, validation_accuracy, 'b', label='Validation accuracy')\n",
        "plt.title('Validation accuracy')\n",
        "plt.legend()\n",
        "\n",
        "plt.figure()"
      ]
    },
    {
      "cell_type": "code",
      "execution_count": null,
      "id": "OP0FJ95PFzeC",
      "metadata": {
        "id": "OP0FJ95PFzeC"
      },
      "outputs": [],
      "source": [
        "# plot validation F1\n",
        "\n",
        "plt.plot(epoch_range, validation_f1, 'b', label='Validation F1 score')\n",
        "plt.title('Validation F1')\n",
        "plt.legend()\n",
        "\n",
        "plt.figure()"
      ]
    },
    {
      "cell_type": "code",
      "source": [],
      "metadata": {
        "id": "LxGQiM9lwqBX"
      },
      "id": "LxGQiM9lwqBX",
      "execution_count": null,
      "outputs": []
    }
  ],
  "metadata": {
    "accelerator": "GPU",
    "colab": {
      "collapsed_sections": [],
      "provenance": []
    },
    "kernelspec": {
      "display_name": "Python 3 (ipykernel)",
      "language": "python",
      "name": "python3"
    },
    "language_info": {
      "codemirror_mode": {
        "name": "ipython",
        "version": 3
      },
      "file_extension": ".py",
      "mimetype": "text/x-python",
      "name": "python",
      "nbconvert_exporter": "python",
      "pygments_lexer": "ipython3",
      "version": "3.10.5"
    }
  },
  "nbformat": 4,
  "nbformat_minor": 5
}