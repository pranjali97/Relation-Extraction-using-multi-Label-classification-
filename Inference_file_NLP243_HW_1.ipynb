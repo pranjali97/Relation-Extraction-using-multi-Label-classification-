{
 "cells": [
  {
   "cell_type": "markdown",
   "id": "GUhrIgZclDdM",
   "metadata": {
    "id": "GUhrIgZclDdM"
   },
   "source": [
    "### **Inference File**"
   ]
  },
  {
   "cell_type": "code",
   "execution_count": 1,
   "id": "_xV_CltWlBki",
   "metadata": {
    "id": "_xV_CltWlBki"
   },
   "outputs": [
    {
     "name": "stdout",
     "output_type": "stream",
     "text": [
      "fatal: destination path 'Relation-Extraction-using-multi-Label-classification-' already exists and is not an empty directory.\n"
     ]
    }
   ],
   "source": [
    "!git clone https://github.com/pranjali97/Relation-Extraction-using-multi-Label-classification-.git"
   ]
  },
  {
   "cell_type": "code",
   "execution_count": 2,
   "id": "IE2qrxWYW-dz",
   "metadata": {
    "id": "IE2qrxWYW-dz"
   },
   "outputs": [],
   "source": [
    "import pandas as pd\n",
    "import numpy as np\n",
    "from pickle import load\n",
    "import torch\n",
    "import scipy"
   ]
  },
  {
   "cell_type": "markdown",
   "id": "Ijfjer1NlL2F",
   "metadata": {
    "id": "Ijfjer1NlL2F"
   },
   "source": [
    "### Load Model Artifacts"
   ]
  },
  {
   "cell_type": "code",
   "execution_count": 3,
   "id": "5ACnGsqTTpdK",
   "metadata": {
    "id": "5ACnGsqTTpdK"
   },
   "outputs": [],
   "source": [
    "# load the model\n",
    "model = torch.load(open('Iteration-10.pkl', 'rb'))\n",
    "# load the binarizer\n",
    "binarizer = load(open('binarizer.pkl', 'rb'))\n",
    "#load tfidf vectorizer\n",
    "vectorizer = load(open('vectorizer.pk', 'rb'))"
   ]
  },
  {
   "cell_type": "code",
   "execution_count": 4,
   "id": "YH_abHGjJ3eS",
   "metadata": {
    "colab": {
     "base_uri": "https://localhost:8080/"
    },
    "id": "YH_abHGjJ3eS",
    "outputId": "caf0bebe-99a7-41f8-9c9b-075faa085872"
   },
   "outputs": [
    {
     "name": "stdout",
     "output_type": "stream",
     "text": [
      "Test data points:  (981, 2)\n"
     ]
    }
   ],
   "source": [
    "import pandas as pd\n",
    "import numpy as np\n",
    "\n",
    "test_data = pd.read_csv('Relation-Extraction-using-multi-Label-classification-/hw1_test-2.csv')\n",
    "print('Test data points: ', test_data.shape)"
   ]
  },
  {
   "cell_type": "code",
   "execution_count": 5,
   "id": "959e5d85-3b01-4373-b3cc-d5d7bb370ff3",
   "metadata": {
    "colab": {
     "base_uri": "https://localhost:8080/",
     "height": 424
    },
    "id": "959e5d85-3b01-4373-b3cc-d5d7bb370ff3",
    "outputId": "48a64ce2-9fb0-492d-995f-5b0182851851"
   },
   "outputs": [
    {
     "data": {
      "text/html": [
       "<div>\n",
       "<style scoped>\n",
       "    .dataframe tbody tr th:only-of-type {\n",
       "        vertical-align: middle;\n",
       "    }\n",
       "\n",
       "    .dataframe tbody tr th {\n",
       "        vertical-align: top;\n",
       "    }\n",
       "\n",
       "    .dataframe thead th {\n",
       "        text-align: right;\n",
       "    }\n",
       "</style>\n",
       "<table border=\"1\" class=\"dataframe\">\n",
       "  <thead>\n",
       "    <tr style=\"text-align: right;\">\n",
       "      <th></th>\n",
       "      <th>ID</th>\n",
       "      <th>UTTERANCES</th>\n",
       "    </tr>\n",
       "  </thead>\n",
       "  <tbody>\n",
       "    <tr>\n",
       "      <th>0</th>\n",
       "      <td>0</td>\n",
       "      <td>star of thor</td>\n",
       "    </tr>\n",
       "    <tr>\n",
       "      <th>1</th>\n",
       "      <td>1</td>\n",
       "      <td>who is in the movie the campaign</td>\n",
       "    </tr>\n",
       "    <tr>\n",
       "      <th>2</th>\n",
       "      <td>2</td>\n",
       "      <td>list the cast of the movie the campaign</td>\n",
       "    </tr>\n",
       "    <tr>\n",
       "      <th>3</th>\n",
       "      <td>3</td>\n",
       "      <td>who was in twilight</td>\n",
       "    </tr>\n",
       "    <tr>\n",
       "      <th>4</th>\n",
       "      <td>4</td>\n",
       "      <td>who is in vulguria</td>\n",
       "    </tr>\n",
       "    <tr>\n",
       "      <th>...</th>\n",
       "      <td>...</td>\n",
       "      <td>...</td>\n",
       "    </tr>\n",
       "    <tr>\n",
       "      <th>976</th>\n",
       "      <td>976</td>\n",
       "      <td>trailer for star wars a new hope</td>\n",
       "    </tr>\n",
       "    <tr>\n",
       "      <th>977</th>\n",
       "      <td>977</td>\n",
       "      <td>show resident evil movies with trailers</td>\n",
       "    </tr>\n",
       "    <tr>\n",
       "      <th>978</th>\n",
       "      <td>978</td>\n",
       "      <td>can i see previews for upcoming warner brother...</td>\n",
       "    </tr>\n",
       "    <tr>\n",
       "      <th>979</th>\n",
       "      <td>979</td>\n",
       "      <td>how many woody allen movies are set in new yor...</td>\n",
       "    </tr>\n",
       "    <tr>\n",
       "      <th>980</th>\n",
       "      <td>980</td>\n",
       "      <td>how many scorsese films were filmed in france</td>\n",
       "    </tr>\n",
       "  </tbody>\n",
       "</table>\n",
       "<p>981 rows × 2 columns</p>\n",
       "</div>"
      ],
      "text/plain": [
       "      ID                                         UTTERANCES\n",
       "0      0                                       star of thor\n",
       "1      1                   who is in the movie the campaign\n",
       "2      2            list the cast of the movie the campaign\n",
       "3      3                                who was in twilight\n",
       "4      4                                 who is in vulguria\n",
       "..   ...                                                ...\n",
       "976  976                   trailer for star wars a new hope\n",
       "977  977            show resident evil movies with trailers\n",
       "978  978  can i see previews for upcoming warner brother...\n",
       "979  979  how many woody allen movies are set in new yor...\n",
       "980  980      how many scorsese films were filmed in france\n",
       "\n",
       "[981 rows x 2 columns]"
      ]
     },
     "execution_count": 5,
     "metadata": {},
     "output_type": "execute_result"
    }
   ],
   "source": [
    "test_data"
   ]
  },
  {
   "cell_type": "markdown",
   "id": "Cg88-3dClTS3",
   "metadata": {
    "id": "Cg88-3dClTS3"
   },
   "source": [
    "### Process Text"
   ]
  },
  {
   "cell_type": "code",
   "execution_count": 6,
   "id": "5d22e9a2-06a2-4afb-b32f-40c5a02dfddf",
   "metadata": {
    "colab": {
     "base_uri": "https://localhost:8080/"
    },
    "id": "5d22e9a2-06a2-4afb-b32f-40c5a02dfddf",
    "outputId": "1c5fb6c0-df9b-49ef-d50f-699210b1a502"
   },
   "outputs": [
    {
     "name": "stderr",
     "output_type": "stream",
     "text": [
      "[nltk_data] Downloading package stopwords to /home/jovyan/nltk_data...\n",
      "[nltk_data]   Package stopwords is already up-to-date!\n",
      "[nltk_data] Downloading package omw-1.4 to /home/jovyan/nltk_data...\n",
      "[nltk_data]   Package omw-1.4 is already up-to-date!\n",
      "[nltk_data] Downloading package wordnet to /home/jovyan/nltk_data...\n",
      "[nltk_data]   Package wordnet is already up-to-date!\n"
     ]
    }
   ],
   "source": [
    "# text processing\n",
    "import nltk\n",
    "from nltk.corpus import stopwords\n",
    "nltk.download('stopwords')\n",
    "stop = stopwords.words('english')\n",
    "nltk.download('omw-1.4')\n",
    "nltk.download('wordnet')\n",
    "\n",
    "\n",
    "w_tokenizer = nltk.tokenize.WhitespaceTokenizer()\n",
    "lemmatizer = nltk.stem.WordNetLemmatizer()\n",
    "\n",
    "def lemmatize_text(text):\n",
    "    return \" \".join([lemmatizer.lemmatize(w, 'v') for w in w_tokenizer.tokenize(text)])\n",
    "\n",
    "\n",
    "# strip extra spaces\n",
    "test_data['processed_text'] = test_data.UTTERANCES.str.strip()\n",
    "#lower case data\n",
    "test_data['processed_text'] = test_data.processed_text.str.lower()\n",
    "\n",
    "# Remove stopwords\n",
    "test_data['processed_text'] = test_data['processed_text'].apply(lambda x: ' '.join([word for word in x.split() if word not in (stop)]))\n",
    "test_data['processed_text'] = test_data.processed_text.apply(lemmatize_text)"
   ]
  },
  {
   "cell_type": "code",
   "execution_count": 7,
   "id": "YoMXUF_STwYA",
   "metadata": {
    "colab": {
     "base_uri": "https://localhost:8080/"
    },
    "id": "YoMXUF_STwYA",
    "outputId": "f5ec8085-d54b-46d3-b70f-84354a90abff"
   },
   "outputs": [
    {
     "name": "stdout",
     "output_type": "stream",
     "text": [
      "      ID                                         UTTERANCES  \\\n",
      "0      0                                       star of thor   \n",
      "1      1                   who is in the movie the campaign   \n",
      "2      2            list the cast of the movie the campaign   \n",
      "3      3                                who was in twilight   \n",
      "4      4                                 who is in vulguria   \n",
      "..   ...                                                ...   \n",
      "976  976                   trailer for star wars a new hope   \n",
      "977  977            show resident evil movies with trailers   \n",
      "978  978  can i see previews for upcoming warner brother...   \n",
      "979  979  how many woody allen movies are set in new yor...   \n",
      "980  980      how many scorsese films were filmed in france   \n",
      "\n",
      "                                  processed_text  \n",
      "0                                      star thor  \n",
      "1                                 movie campaign  \n",
      "2                       list cast movie campaign  \n",
      "3                                       twilight  \n",
      "4                                       vulguria  \n",
      "..                                           ...  \n",
      "976                    trailer star war new hope  \n",
      "977           show resident evil movies trailers  \n",
      "978  see preview upcoming warner brothers movies  \n",
      "979    many woody allen movies set new york city  \n",
      "980               many scorsese film film france  \n",
      "\n",
      "[981 rows x 3 columns]\n"
     ]
    }
   ],
   "source": [
    "print(test_data)"
   ]
  },
  {
   "cell_type": "markdown",
   "id": "SIuFbQXGlZHF",
   "metadata": {
    "id": "SIuFbQXGlZHF"
   },
   "source": [
    "### Encode Data"
   ]
  },
  {
   "cell_type": "code",
   "execution_count": 8,
   "id": "joOKCjEJK2jF",
   "metadata": {
    "id": "joOKCjEJK2jF"
   },
   "outputs": [],
   "source": [
    "# vectorizer utterances\n",
    "\n",
    "x_test = vectorizer.transform(test_data['processed_text'])\n",
    "x_test = torch.tensor(scipy.sparse.csr_matrix.todense(x_test)).float()"
   ]
  },
  {
   "cell_type": "code",
   "execution_count": 9,
   "id": "F-Lv_M2IiHTF",
   "metadata": {
    "colab": {
     "base_uri": "https://localhost:8080/"
    },
    "id": "F-Lv_M2IiHTF",
    "outputId": "60893505-9d76-42eb-982a-b62172bdd451"
   },
   "outputs": [
    {
     "data": {
      "text/plain": [
       "torch.Size([981, 889])"
      ]
     },
     "execution_count": 9,
     "metadata": {},
     "output_type": "execute_result"
    }
   ],
   "source": [
    "x_test.shape"
   ]
  },
  {
   "cell_type": "markdown",
   "id": "SUmHkXiyl3s3",
   "metadata": {
    "id": "SUmHkXiyl3s3"
   },
   "source": [
    "### Infer data"
   ]
  },
  {
   "cell_type": "code",
   "execution_count": 10,
   "id": "b4960e57-e283-4be9-9a19-c4603a5bc4d0",
   "metadata": {
    "id": "b4960e57-e283-4be9-9a19-c4603a5bc4d0"
   },
   "outputs": [],
   "source": [
    "# load model\n",
    "threshold = 0.14\n",
    "with torch.no_grad():\n",
    "    model.eval()\n",
    "    log_ps = model(x_test)\n",
    "    pred = torch.sigmoid(log_ps)\n",
    "    pred = (pred>threshold).int().tolist()\n",
    "    \n"
   ]
  },
  {
   "cell_type": "code",
   "execution_count": 11,
   "id": "e5679790-cdc8-40ac-b329-84857a292710",
   "metadata": {
    "id": "e5679790-cdc8-40ac-b329-84857a292710"
   },
   "outputs": [],
   "source": [
    "labels_batch = []\n",
    "for i in range(len(pred)):\n",
    "  label = binarizer.inverse_transform(np.array([pred[i]]))\n",
    "  labels_batch.append(label)"
   ]
  },
  {
   "cell_type": "code",
   "execution_count": 12,
   "id": "BqRoSITo1NZi",
   "metadata": {
    "id": "BqRoSITo1NZi"
   },
   "outputs": [],
   "source": [
    "processed_labels = []\n",
    "for row in labels_batch:\n",
    "  label_list = ([' '.join(tups) for tups in row])\n",
    "  label_text = label_list[0].replace('none', '')\n",
    "  label_text = label_text.strip()\n",
    "  processed_labels.append(label_text)\n",
    "  # print(label_list[0].replace(''))\n",
    "  # labels = lable"
   ]
  },
  {
   "cell_type": "code",
   "execution_count": 13,
   "id": "y2y8xl1XZia7",
   "metadata": {
    "id": "y2y8xl1XZia7"
   },
   "outputs": [],
   "source": [
    "test_data['CORE RELATIONS'] = processed_labels"
   ]
  },
  {
   "cell_type": "code",
   "execution_count": 14,
   "id": "9hygVw_q1J-X",
   "metadata": {
    "colab": {
     "base_uri": "https://localhost:8080/",
     "height": 468
    },
    "id": "9hygVw_q1J-X",
    "outputId": "5076e3e3-76e7-45e2-bb53-715f9aa0551e"
   },
   "outputs": [
    {
     "data": {
      "text/html": [
       "<div>\n",
       "<style scoped>\n",
       "    .dataframe tbody tr th:only-of-type {\n",
       "        vertical-align: middle;\n",
       "    }\n",
       "\n",
       "    .dataframe tbody tr th {\n",
       "        vertical-align: top;\n",
       "    }\n",
       "\n",
       "    .dataframe thead th {\n",
       "        text-align: right;\n",
       "    }\n",
       "</style>\n",
       "<table border=\"1\" class=\"dataframe\">\n",
       "  <thead>\n",
       "    <tr style=\"text-align: right;\">\n",
       "      <th></th>\n",
       "      <th>ID</th>\n",
       "      <th>UTTERANCES</th>\n",
       "      <th>processed_text</th>\n",
       "      <th>CORE RELATIONS</th>\n",
       "    </tr>\n",
       "  </thead>\n",
       "  <tbody>\n",
       "    <tr>\n",
       "      <th>0</th>\n",
       "      <td>0</td>\n",
       "      <td>star of thor</td>\n",
       "      <td>star thor</td>\n",
       "      <td>movie.starring.actor</td>\n",
       "    </tr>\n",
       "    <tr>\n",
       "      <th>1</th>\n",
       "      <td>1</td>\n",
       "      <td>who is in the movie the campaign</td>\n",
       "      <td>movie campaign</td>\n",
       "      <td></td>\n",
       "    </tr>\n",
       "    <tr>\n",
       "      <th>2</th>\n",
       "      <td>2</td>\n",
       "      <td>list the cast of the movie the campaign</td>\n",
       "      <td>list cast movie campaign</td>\n",
       "      <td>movie.starring.actor</td>\n",
       "    </tr>\n",
       "    <tr>\n",
       "      <th>3</th>\n",
       "      <td>3</td>\n",
       "      <td>who was in twilight</td>\n",
       "      <td>twilight</td>\n",
       "      <td>movie.starring.actor</td>\n",
       "    </tr>\n",
       "    <tr>\n",
       "      <th>4</th>\n",
       "      <td>4</td>\n",
       "      <td>who is in vulguria</td>\n",
       "      <td>vulguria</td>\n",
       "      <td></td>\n",
       "    </tr>\n",
       "    <tr>\n",
       "      <th>...</th>\n",
       "      <td>...</td>\n",
       "      <td>...</td>\n",
       "      <td>...</td>\n",
       "      <td>...</td>\n",
       "    </tr>\n",
       "    <tr>\n",
       "      <th>976</th>\n",
       "      <td>976</td>\n",
       "      <td>trailer for star wars a new hope</td>\n",
       "      <td>trailer star war new hope</td>\n",
       "      <td></td>\n",
       "    </tr>\n",
       "    <tr>\n",
       "      <th>977</th>\n",
       "      <td>977</td>\n",
       "      <td>show resident evil movies with trailers</td>\n",
       "      <td>show resident evil movies trailers</td>\n",
       "      <td></td>\n",
       "    </tr>\n",
       "    <tr>\n",
       "      <th>978</th>\n",
       "      <td>978</td>\n",
       "      <td>can i see previews for upcoming warner brother...</td>\n",
       "      <td>see preview upcoming warner brothers movies</td>\n",
       "      <td>movie.production_companies</td>\n",
       "    </tr>\n",
       "    <tr>\n",
       "      <th>979</th>\n",
       "      <td>979</td>\n",
       "      <td>how many woody allen movies are set in new yor...</td>\n",
       "      <td>many woody allen movies set new york city</td>\n",
       "      <td>movie.directed_by movie.initial_release_date m...</td>\n",
       "    </tr>\n",
       "    <tr>\n",
       "      <th>980</th>\n",
       "      <td>980</td>\n",
       "      <td>how many scorsese films were filmed in france</td>\n",
       "      <td>many scorsese film film france</td>\n",
       "      <td>movie.country movie.directed_by</td>\n",
       "    </tr>\n",
       "  </tbody>\n",
       "</table>\n",
       "<p>981 rows × 4 columns</p>\n",
       "</div>"
      ],
      "text/plain": [
       "      ID                                         UTTERANCES  \\\n",
       "0      0                                       star of thor   \n",
       "1      1                   who is in the movie the campaign   \n",
       "2      2            list the cast of the movie the campaign   \n",
       "3      3                                who was in twilight   \n",
       "4      4                                 who is in vulguria   \n",
       "..   ...                                                ...   \n",
       "976  976                   trailer for star wars a new hope   \n",
       "977  977            show resident evil movies with trailers   \n",
       "978  978  can i see previews for upcoming warner brother...   \n",
       "979  979  how many woody allen movies are set in new yor...   \n",
       "980  980      how many scorsese films were filmed in france   \n",
       "\n",
       "                                  processed_text  \\\n",
       "0                                      star thor   \n",
       "1                                 movie campaign   \n",
       "2                       list cast movie campaign   \n",
       "3                                       twilight   \n",
       "4                                       vulguria   \n",
       "..                                           ...   \n",
       "976                    trailer star war new hope   \n",
       "977           show resident evil movies trailers   \n",
       "978  see preview upcoming warner brothers movies   \n",
       "979    many woody allen movies set new york city   \n",
       "980               many scorsese film film france   \n",
       "\n",
       "                                        CORE RELATIONS  \n",
       "0                                 movie.starring.actor  \n",
       "1                                                       \n",
       "2                                 movie.starring.actor  \n",
       "3                                 movie.starring.actor  \n",
       "4                                                       \n",
       "..                                                 ...  \n",
       "976                                                     \n",
       "977                                                     \n",
       "978                         movie.production_companies  \n",
       "979  movie.directed_by movie.initial_release_date m...  \n",
       "980                    movie.country movie.directed_by  \n",
       "\n",
       "[981 rows x 4 columns]"
      ]
     },
     "execution_count": 14,
     "metadata": {},
     "output_type": "execute_result"
    }
   ],
   "source": [
    "test_data"
   ]
  },
  {
   "cell_type": "code",
   "execution_count": 15,
   "id": "JHi1QtRJh_5l",
   "metadata": {
    "id": "JHi1QtRJh_5l"
   },
   "outputs": [],
   "source": [
    "submission_df = test_data[['ID', 'CORE RELATIONS']]"
   ]
  },
  {
   "cell_type": "code",
   "execution_count": 16,
   "id": "bl4E49vt3wEF",
   "metadata": {
    "id": "bl4E49vt3wEF"
   },
   "outputs": [],
   "source": [
    "submission_df.to_csv('submission.csv',index=False)"
   ]
  },
  {
   "cell_type": "code",
   "execution_count": null,
   "id": "6c887f28-9283-4a39-9c34-3bad2bed8aab",
   "metadata": {},
   "outputs": [],
   "source": []
  }
 ],
 "metadata": {
  "colab": {
   "provenance": []
  },
  "kernelspec": {
   "display_name": "Python 3 (ipykernel)",
   "language": "python",
   "name": "python3"
  },
  "language_info": {
   "codemirror_mode": {
    "name": "ipython",
    "version": 3
   },
   "file_extension": ".py",
   "mimetype": "text/x-python",
   "name": "python",
   "nbconvert_exporter": "python",
   "pygments_lexer": "ipython3",
   "version": "3.10.5"
  }
 },
 "nbformat": 4,
 "nbformat_minor": 5
}
